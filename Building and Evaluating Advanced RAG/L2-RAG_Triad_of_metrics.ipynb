{
 "cells": [
  {
   "cell_type": "markdown",
   "metadata": {
    "id": "X6-q-gTUaZU7",
    "tags": []
   },
   "source": [
    "# Lesson 2: RAG Triad of metrics"
   ]
  },
  {
   "cell_type": "code",
   "execution_count": 1,
   "metadata": {
    "height": 47
   },
   "outputs": [],
   "source": [
    "import warnings\n",
    "warnings.filterwarnings('ignore')"
   ]
  },
  {
   "cell_type": "code",
   "execution_count": 2,
   "metadata": {
    "height": 98
   },
   "outputs": [],
   "source": [
    "import utils\n",
    "\n",
    "import os\n",
    "import openai\n",
    "openai.api_key = utils.get_openai_api_key()"
   ]
  },
  {
   "cell_type": "code",
   "execution_count": 3,
   "metadata": {
    "height": 81,
    "id": "IBfdyn3MaZU9"
   },
   "outputs": [
    {
     "name": "stdout",
     "output_type": "stream",
     "text": [
      "🦑 Tru initialized with db url sqlite:///default.sqlite .\n",
      "🛑 Secret keys may be written to the database. See the `database_redact_keys` option of `Tru` to prevent this.\n"
     ]
    }
   ],
   "source": [
    "from trulens_eval import Tru\n",
    "\n",
    "tru = Tru()\n",
    "tru.reset_database()"
   ]
  },
  {
   "cell_type": "code",
   "execution_count": 4,
   "metadata": {
    "height": 98,
    "id": "wMvq1q8yaZU-"
   },
   "outputs": [],
   "source": [
    "from llama_index import SimpleDirectoryReader\n",
    "\n",
    "documents = SimpleDirectoryReader(\n",
    "    input_files=[\"./eBook-How-to-Build-a-Career-in-AI.pdf\"]\n",
    ").load_data()"
   ]
  },
  {
   "cell_type": "code",
   "execution_count": 5,
   "metadata": {
    "height": 81,
    "id": "sY8Oui4taZU-"
   },
   "outputs": [],
   "source": [
    "from llama_index import Document\n",
    "\n",
    "document = Document(text=\"\\n\\n\".\\\n",
    "                    join([doc.text for doc in documents]))"
   ]
  },
  {
   "cell_type": "code",
   "execution_count": 6,
   "metadata": {
    "height": 217
   },
   "outputs": [
    {
     "name": "stderr",
     "output_type": "stream",
     "text": [
      "[nltk_data] Downloading package punkt to /tmp/llama_index...\n",
      "[nltk_data]   Unzipping tokenizers/punkt.zip.\n"
     ]
    },
    {
     "data": {
      "application/vnd.jupyter.widget-view+json": {
       "model_id": "ad8bf9467ff7400783fb480b33355291",
       "version_major": 2,
       "version_minor": 0
      },
      "text/plain": [
       "config.json:   0%|          | 0.00/743 [00:00<?, ?B/s]"
      ]
     },
     "metadata": {},
     "output_type": "display_data"
    },
    {
     "data": {
      "application/vnd.jupyter.widget-view+json": {
       "model_id": "5c8ec04b93a4451598ed6e09bddae724",
       "version_major": 2,
       "version_minor": 0
      },
      "text/plain": [
       "model.safetensors:   0%|          | 0.00/133M [00:00<?, ?B/s]"
      ]
     },
     "metadata": {},
     "output_type": "display_data"
    },
    {
     "data": {
      "application/vnd.jupyter.widget-view+json": {
       "model_id": "01e4501a645a49c8a82c76e63076266a",
       "version_major": 2,
       "version_minor": 0
      },
      "text/plain": [
       "tokenizer_config.json:   0%|          | 0.00/366 [00:00<?, ?B/s]"
      ]
     },
     "metadata": {},
     "output_type": "display_data"
    },
    {
     "data": {
      "application/vnd.jupyter.widget-view+json": {
       "model_id": "1c15774ac6684c12bf92612a40547778",
       "version_major": 2,
       "version_minor": 0
      },
      "text/plain": [
       "vocab.txt:   0%|          | 0.00/232k [00:00<?, ?B/s]"
      ]
     },
     "metadata": {},
     "output_type": "display_data"
    },
    {
     "data": {
      "application/vnd.jupyter.widget-view+json": {
       "model_id": "2f7bf8f678b44cdbad0161f48c9d310b",
       "version_major": 2,
       "version_minor": 0
      },
      "text/plain": [
       "tokenizer.json:   0%|          | 0.00/711k [00:00<?, ?B/s]"
      ]
     },
     "metadata": {},
     "output_type": "display_data"
    },
    {
     "data": {
      "application/vnd.jupyter.widget-view+json": {
       "model_id": "33887ff344be491eb6ca0cc5967ee720",
       "version_major": 2,
       "version_minor": 0
      },
      "text/plain": [
       "special_tokens_map.json:   0%|          | 0.00/125 [00:00<?, ?B/s]"
      ]
     },
     "metadata": {},
     "output_type": "display_data"
    }
   ],
   "source": [
    "from utils import build_sentence_window_index\n",
    "\n",
    "from llama_index.llms import OpenAI\n",
    "\n",
    "llm = OpenAI(model=\"gpt-3.5-turbo\", temperature=0.1)\n",
    "\n",
    "sentence_index = build_sentence_window_index(\n",
    "    document,\n",
    "    llm,\n",
    "    embed_model=\"local:BAAI/bge-small-en-v1.5\",\n",
    "    save_dir=\"sentence_index\"\n",
    ")"
   ]
  },
  {
   "cell_type": "code",
   "execution_count": 7,
   "metadata": {
    "height": 81
   },
   "outputs": [
    {
     "data": {
      "application/vnd.jupyter.widget-view+json": {
       "model_id": "b345f80f0ee248b18b5e813acbaced61",
       "version_major": 2,
       "version_minor": 0
      },
      "text/plain": [
       "config.json:   0%|          | 0.00/799 [00:00<?, ?B/s]"
      ]
     },
     "metadata": {},
     "output_type": "display_data"
    },
    {
     "data": {
      "application/vnd.jupyter.widget-view+json": {
       "model_id": "b3e3639567f24810b12415536d6db439",
       "version_major": 2,
       "version_minor": 0
      },
      "text/plain": [
       "model.safetensors:   0%|          | 0.00/1.11G [00:00<?, ?B/s]"
      ]
     },
     "metadata": {},
     "output_type": "display_data"
    },
    {
     "data": {
      "application/vnd.jupyter.widget-view+json": {
       "model_id": "1269b5feba8941ca88b6fc8a4c5aa817",
       "version_major": 2,
       "version_minor": 0
      },
      "text/plain": [
       "tokenizer_config.json:   0%|          | 0.00/443 [00:00<?, ?B/s]"
      ]
     },
     "metadata": {},
     "output_type": "display_data"
    },
    {
     "data": {
      "application/vnd.jupyter.widget-view+json": {
       "model_id": "2db9c1e7bf9c40918918b084ba387d87",
       "version_major": 2,
       "version_minor": 0
      },
      "text/plain": [
       "sentencepiece.bpe.model:   0%|          | 0.00/5.07M [00:00<?, ?B/s]"
      ]
     },
     "metadata": {},
     "output_type": "display_data"
    },
    {
     "data": {
      "application/vnd.jupyter.widget-view+json": {
       "model_id": "7f564d7ad58c4b6f95d89b3b2b756c65",
       "version_major": 2,
       "version_minor": 0
      },
      "text/plain": [
       "tokenizer.json:   0%|          | 0.00/17.1M [00:00<?, ?B/s]"
      ]
     },
     "metadata": {},
     "output_type": "display_data"
    },
    {
     "data": {
      "application/vnd.jupyter.widget-view+json": {
       "model_id": "bb7a9a544dbb4fb992b7ea6e30db478d",
       "version_major": 2,
       "version_minor": 0
      },
      "text/plain": [
       "special_tokens_map.json:   0%|          | 0.00/279 [00:00<?, ?B/s]"
      ]
     },
     "metadata": {},
     "output_type": "display_data"
    }
   ],
   "source": [
    "from utils import get_sentence_window_query_engine\n",
    "\n",
    "sentence_window_engine = \\\n",
    "get_sentence_window_query_engine(sentence_index)"
   ]
  },
  {
   "cell_type": "code",
   "execution_count": 8,
   "metadata": {
    "height": 64
   },
   "outputs": [
    {
     "data": {
      "text/plain": [
       "'You create your AI portfolio by building a collection of projects that demonstrate a progression of skills in the field.'"
      ]
     },
     "execution_count": 8,
     "metadata": {},
     "output_type": "execute_result"
    }
   ],
   "source": [
    "output = sentence_window_engine.query(\n",
    "    \"How do you create your AI portfolio?\")\n",
    "output.response"
   ]
  },
  {
   "cell_type": "markdown",
   "metadata": {},
   "source": [
    "## Feedback functions"
   ]
  },
  {
   "cell_type": "code",
   "execution_count": 9,
   "metadata": {
    "height": 64,
    "id": "5KqV-IbQaZVB"
   },
   "outputs": [],
   "source": [
    "import nest_asyncio\n",
    "\n",
    "nest_asyncio.apply()"
   ]
  },
  {
   "cell_type": "code",
   "execution_count": 10,
   "metadata": {
    "height": 64
   },
   "outputs": [],
   "source": [
    "from trulens_eval import OpenAI as fOpenAI\n",
    "\n",
    "provider = fOpenAI()"
   ]
  },
  {
   "cell_type": "markdown",
   "metadata": {},
   "source": [
    "### 1. Answer Relevance"
   ]
  },
  {
   "cell_type": "code",
   "execution_count": 11,
   "metadata": {
    "height": 115
   },
   "outputs": [
    {
     "name": "stdout",
     "output_type": "stream",
     "text": [
      "✅ In Answer Relevance, input prompt will be set to __record__.main_input or `Select.RecordInput` .\n",
      "✅ In Answer Relevance, input response will be set to __record__.main_output or `Select.RecordOutput` .\n"
     ]
    }
   ],
   "source": [
    "from trulens_eval import Feedback\n",
    "\n",
    "f_qa_relevance = Feedback(\n",
    "    provider.relevance_with_cot_reasons,\n",
    "    name=\"Answer Relevance\"\n",
    ").on_input_output()"
   ]
  },
  {
   "cell_type": "markdown",
   "metadata": {},
   "source": [
    "### 2. Context Relevance"
   ]
  },
  {
   "cell_type": "code",
   "execution_count": 12,
   "metadata": {
    "height": 64
   },
   "outputs": [],
   "source": [
    "from trulens_eval import TruLlama\n",
    "\n",
    "context_selection = TruLlama.select_source_nodes().node.text"
   ]
  },
  {
   "cell_type": "code",
   "execution_count": 13,
   "metadata": {
    "height": 166
   },
   "outputs": [
    {
     "name": "stdout",
     "output_type": "stream",
     "text": [
      "✅ In Context Relevance, input question will be set to __record__.main_input or `Select.RecordInput` .\n",
      "✅ In Context Relevance, input statement will be set to __record__.app.query.rets.source_nodes[:].node.text .\n"
     ]
    }
   ],
   "source": [
    "import numpy as np\n",
    "\n",
    "f_qs_relevance = (\n",
    "    Feedback(provider.qs_relevance,\n",
    "             name=\"Context Relevance\")\n",
    "    .on_input()\n",
    "    .on(context_selection)\n",
    "    .aggregate(np.mean)\n",
    ")"
   ]
  },
  {
   "cell_type": "code",
   "execution_count": 14,
   "metadata": {
    "height": 166
   },
   "outputs": [
    {
     "name": "stdout",
     "output_type": "stream",
     "text": [
      "✅ In Context Relevance, input question will be set to __record__.main_input or `Select.RecordInput` .\n",
      "✅ In Context Relevance, input statement will be set to __record__.app.query.rets.source_nodes[:].node.text .\n"
     ]
    }
   ],
   "source": [
    "import numpy as np\n",
    "\n",
    "f_qs_relevance = (\n",
    "    Feedback(provider.qs_relevance_with_cot_reasons,\n",
    "             name=\"Context Relevance\")\n",
    "    .on_input()\n",
    "    .on(context_selection)\n",
    "    .aggregate(np.mean)\n",
    ")"
   ]
  },
  {
   "cell_type": "markdown",
   "metadata": {},
   "source": [
    "### 3. Groundedness"
   ]
  },
  {
   "cell_type": "code",
   "execution_count": 15,
   "metadata": {
    "height": 64
   },
   "outputs": [],
   "source": [
    "from trulens_eval.feedback import Groundedness\n",
    "\n",
    "grounded = Groundedness(groundedness_provider=provider)"
   ]
  },
  {
   "cell_type": "code",
   "execution_count": 16,
   "metadata": {
    "height": 149,
    "id": "kXJBD4gfaZVC"
   },
   "outputs": [
    {
     "name": "stdout",
     "output_type": "stream",
     "text": [
      "✅ In Groundedness, input source will be set to __record__.app.query.rets.source_nodes[:].node.text .\n",
      "✅ In Groundedness, input statement will be set to __record__.main_output or `Select.RecordOutput` .\n"
     ]
    }
   ],
   "source": [
    "f_groundedness = (\n",
    "    Feedback(grounded.groundedness_measure_with_cot_reasons,\n",
    "             name=\"Groundedness\"\n",
    "            )\n",
    "    .on(context_selection)\n",
    "    .on_output()\n",
    "    .aggregate(grounded.grounded_statements_aggregator)\n",
    ")"
   ]
  },
  {
   "cell_type": "markdown",
   "metadata": {},
   "source": [
    "## Evaluation of the RAG application"
   ]
  },
  {
   "cell_type": "code",
   "execution_count": 17,
   "metadata": {
    "height": 217,
    "id": "KUDHInR-aZVC"
   },
   "outputs": [],
   "source": [
    "from trulens_eval import TruLlama\n",
    "from trulens_eval import FeedbackMode\n",
    "\n",
    "tru_recorder = TruLlama(\n",
    "    sentence_window_engine,\n",
    "    app_id=\"App_1\",\n",
    "    feedbacks=[\n",
    "        f_qa_relevance,\n",
    "        f_qs_relevance,\n",
    "        f_groundedness\n",
    "    ]\n",
    ")"
   ]
  },
  {
   "cell_type": "code",
   "execution_count": 18,
   "metadata": {
    "height": 115,
    "id": "dsA3ziw1aZVD"
   },
   "outputs": [],
   "source": [
    "eval_questions = []\n",
    "with open('eval_questions.txt', 'r') as file:\n",
    "    for line in file:\n",
    "        # Remove newline character and convert to integer\n",
    "        item = line.strip()\n",
    "        eval_questions.append(item)"
   ]
  },
  {
   "cell_type": "code",
   "execution_count": 19,
   "metadata": {
    "height": 30
   },
   "outputs": [
    {
     "data": {
      "text/plain": [
       "['What are the keys to building a career in AI?',\n",
       " 'How can teamwork contribute to success in AI?',\n",
       " 'What is the importance of networking in AI?',\n",
       " 'What are some good habits to develop for a successful career?',\n",
       " 'How can altruism be beneficial in building a career?',\n",
       " 'What is imposter syndrome and how does it relate to AI?',\n",
       " 'Who are some accomplished individuals who have experienced imposter syndrome?',\n",
       " 'What is the first step to becoming good at AI?',\n",
       " 'What are some common challenges in AI?',\n",
       " 'Is it normal to find parts of AI challenging?']"
      ]
     },
     "execution_count": 19,
     "metadata": {},
     "output_type": "execute_result"
    }
   ],
   "source": [
    "eval_questions"
   ]
  },
  {
   "cell_type": "code",
   "execution_count": 20,
   "metadata": {
    "height": 30
   },
   "outputs": [],
   "source": [
    "eval_questions.append(\"How can I be successful in AI?\")"
   ]
  },
  {
   "cell_type": "code",
   "execution_count": 21,
   "metadata": {
    "height": 30
   },
   "outputs": [],
   "source": [
    "eval_questions.append(\"Will AI replace humans for all jobs?\")"
   ]
  },
  {
   "cell_type": "code",
   "execution_count": 22,
   "metadata": {
    "height": 30
   },
   "outputs": [
    {
     "data": {
      "text/plain": [
       "['What are the keys to building a career in AI?',\n",
       " 'How can teamwork contribute to success in AI?',\n",
       " 'What is the importance of networking in AI?',\n",
       " 'What are some good habits to develop for a successful career?',\n",
       " 'How can altruism be beneficial in building a career?',\n",
       " 'What is imposter syndrome and how does it relate to AI?',\n",
       " 'Who are some accomplished individuals who have experienced imposter syndrome?',\n",
       " 'What is the first step to becoming good at AI?',\n",
       " 'What are some common challenges in AI?',\n",
       " 'Is it normal to find parts of AI challenging?',\n",
       " 'How can I be successful in AI?',\n",
       " 'Will AI replace humans for all jobs?']"
      ]
     },
     "execution_count": 22,
     "metadata": {},
     "output_type": "execute_result"
    }
   ],
   "source": [
    "eval_questions"
   ]
  },
  {
   "cell_type": "code",
   "execution_count": 23,
   "metadata": {
    "height": 64,
    "id": "01_P6TxaaZVD"
   },
   "outputs": [],
   "source": [
    "for question in eval_questions:\n",
    "    with tru_recorder as recording:\n",
    "        sentence_window_engine.query(question)"
   ]
  },
  {
   "cell_type": "code",
   "execution_count": 24,
   "metadata": {
    "height": 47,
    "id": "sNPhDde6ZArq"
   },
   "outputs": [
    {
     "data": {
      "text/html": [
       "<div>\n",
       "<style scoped>\n",
       "    .dataframe tbody tr th:only-of-type {\n",
       "        vertical-align: middle;\n",
       "    }\n",
       "\n",
       "    .dataframe tbody tr th {\n",
       "        vertical-align: top;\n",
       "    }\n",
       "\n",
       "    .dataframe thead th {\n",
       "        text-align: right;\n",
       "    }\n",
       "</style>\n",
       "<table border=\"1\" class=\"dataframe\">\n",
       "  <thead>\n",
       "    <tr style=\"text-align: right;\">\n",
       "      <th></th>\n",
       "      <th>app_id</th>\n",
       "      <th>app_json</th>\n",
       "      <th>type</th>\n",
       "      <th>record_id</th>\n",
       "      <th>input</th>\n",
       "      <th>output</th>\n",
       "      <th>tags</th>\n",
       "      <th>record_json</th>\n",
       "      <th>cost_json</th>\n",
       "      <th>perf_json</th>\n",
       "      <th>ts</th>\n",
       "      <th>Answer Relevance</th>\n",
       "      <th>Groundedness</th>\n",
       "      <th>Context Relevance</th>\n",
       "      <th>Answer Relevance_calls</th>\n",
       "      <th>Groundedness_calls</th>\n",
       "      <th>Context Relevance_calls</th>\n",
       "      <th>latency</th>\n",
       "      <th>total_tokens</th>\n",
       "      <th>total_cost</th>\n",
       "    </tr>\n",
       "  </thead>\n",
       "  <tbody>\n",
       "    <tr>\n",
       "      <th>0</th>\n",
       "      <td>App_1</td>\n",
       "      <td>{\"app_id\": \"App_1\", \"tags\": \"-\", \"metadata\": {...</td>\n",
       "      <td>RetrieverQueryEngine(llama_index.query_engine....</td>\n",
       "      <td>record_hash_d44bf32f3ad59b2c960d9da8d4aced51</td>\n",
       "      <td>\"What are the keys to building a career in AI?\"</td>\n",
       "      <td>\"Learning foundational technical skills, worki...</td>\n",
       "      <td>-</td>\n",
       "      <td>{\"record_id\": \"record_hash_d44bf32f3ad59b2c960...</td>\n",
       "      <td>{\"n_requests\": 1, \"n_successful_requests\": 1, ...</td>\n",
       "      <td>{\"start_time\": \"2024-05-29T03:34:12.556337\", \"...</td>\n",
       "      <td>2024-05-29T03:34:16.977202</td>\n",
       "      <td>1.0</td>\n",
       "      <td>0.500000</td>\n",
       "      <td>0.65</td>\n",
       "      <td>[{'args': {'prompt': 'What are the keys to bui...</td>\n",
       "      <td>[{'args': {'source': 'Chapter 7: A Simple Fram...</td>\n",
       "      <td>[{'args': {'question': 'What are the keys to b...</td>\n",
       "      <td>4</td>\n",
       "      <td>509</td>\n",
       "      <td>0.000779</td>\n",
       "    </tr>\n",
       "    <tr>\n",
       "      <th>1</th>\n",
       "      <td>App_1</td>\n",
       "      <td>{\"app_id\": \"App_1\", \"tags\": \"-\", \"metadata\": {...</td>\n",
       "      <td>RetrieverQueryEngine(llama_index.query_engine....</td>\n",
       "      <td>record_hash_e39c0faf46d41dcb74ca0ec45309a2cb</td>\n",
       "      <td>\"How can teamwork contribute to success in AI?\"</td>\n",
       "      <td>\"Teamwork can contribute to success in AI by a...</td>\n",
       "      <td>-</td>\n",
       "      <td>{\"record_id\": \"record_hash_e39c0faf46d41dcb74c...</td>\n",
       "      <td>{\"n_requests\": 1, \"n_successful_requests\": 1, ...</td>\n",
       "      <td>{\"start_time\": \"2024-05-29T03:34:17.164804\", \"...</td>\n",
       "      <td>2024-05-29T03:34:23.084454</td>\n",
       "      <td>1.0</td>\n",
       "      <td>1.000000</td>\n",
       "      <td>0.80</td>\n",
       "      <td>[{'args': {'prompt': 'How can teamwork contrib...</td>\n",
       "      <td>[{'args': {'source': 'To get \n",
       "a project starte...</td>\n",
       "      <td>[{'args': {'question': 'How can teamwork contr...</td>\n",
       "      <td>5</td>\n",
       "      <td>627</td>\n",
       "      <td>0.000976</td>\n",
       "    </tr>\n",
       "    <tr>\n",
       "      <th>2</th>\n",
       "      <td>App_1</td>\n",
       "      <td>{\"app_id\": \"App_1\", \"tags\": \"-\", \"metadata\": {...</td>\n",
       "      <td>RetrieverQueryEngine(llama_index.query_engine....</td>\n",
       "      <td>record_hash_d6b47fea7298ba10fef2a2a248bd63c2</td>\n",
       "      <td>\"What is the importance of networking in AI?\"</td>\n",
       "      <td>\"Networking in AI is crucial as it can provide...</td>\n",
       "      <td>-</td>\n",
       "      <td>{\"record_id\": \"record_hash_d6b47fea7298ba10fef...</td>\n",
       "      <td>{\"n_requests\": 1, \"n_successful_requests\": 1, ...</td>\n",
       "      <td>{\"start_time\": \"2024-05-29T03:34:23.261960\", \"...</td>\n",
       "      <td>2024-05-29T03:34:28.706714</td>\n",
       "      <td>1.0</td>\n",
       "      <td>0.400000</td>\n",
       "      <td>0.80</td>\n",
       "      <td>[{'args': {'prompt': 'What is the importance o...</td>\n",
       "      <td>[{'args': {'source': 'What is the hiring proce...</td>\n",
       "      <td>[{'args': {'question': 'What is the importance...</td>\n",
       "      <td>5</td>\n",
       "      <td>509</td>\n",
       "      <td>0.000801</td>\n",
       "    </tr>\n",
       "    <tr>\n",
       "      <th>3</th>\n",
       "      <td>App_1</td>\n",
       "      <td>{\"app_id\": \"App_1\", \"tags\": \"-\", \"metadata\": {...</td>\n",
       "      <td>RetrieverQueryEngine(llama_index.query_engine....</td>\n",
       "      <td>record_hash_2b03e0d3d41ce9e947251be37b8cfc08</td>\n",
       "      <td>\"What are some good habits to develop for a su...</td>\n",
       "      <td>\"Developing good habits in areas such as eatin...</td>\n",
       "      <td>-</td>\n",
       "      <td>{\"record_id\": \"record_hash_2b03e0d3d41ce9e9472...</td>\n",
       "      <td>{\"n_requests\": 1, \"n_successful_requests\": 1, ...</td>\n",
       "      <td>{\"start_time\": \"2024-05-29T03:34:28.878624\", \"...</td>\n",
       "      <td>2024-05-29T03:34:32.695466</td>\n",
       "      <td>1.0</td>\n",
       "      <td>0.316667</td>\n",
       "      <td>0.80</td>\n",
       "      <td>[{'args': {'prompt': 'What are some good habit...</td>\n",
       "      <td>[{'args': {'source': '(For example, many \n",
       "arti...</td>\n",
       "      <td>[{'args': {'question': 'What are some good hab...</td>\n",
       "      <td>3</td>\n",
       "      <td>434</td>\n",
       "      <td>0.000669</td>\n",
       "    </tr>\n",
       "    <tr>\n",
       "      <th>4</th>\n",
       "      <td>App_1</td>\n",
       "      <td>{\"app_id\": \"App_1\", \"tags\": \"-\", \"metadata\": {...</td>\n",
       "      <td>RetrieverQueryEngine(llama_index.query_engine....</td>\n",
       "      <td>record_hash_a5714ecb92faad636d41bbec86a09136</td>\n",
       "      <td>\"How can altruism be beneficial in building a ...</td>\n",
       "      <td>\"Helping others during one's career journey ca...</td>\n",
       "      <td>-</td>\n",
       "      <td>{\"record_id\": \"record_hash_a5714ecb92faad636d4...</td>\n",
       "      <td>{\"n_requests\": 1, \"n_successful_requests\": 1, ...</td>\n",
       "      <td>{\"start_time\": \"2024-05-29T03:34:32.865648\", \"...</td>\n",
       "      <td>2024-05-29T03:34:36.468006</td>\n",
       "      <td>1.0</td>\n",
       "      <td>1.000000</td>\n",
       "      <td>0.55</td>\n",
       "      <td>[{'args': {'prompt': 'How can altruism be bene...</td>\n",
       "      <td>[{'args': {'source': 'Many successful people d...</td>\n",
       "      <td>[{'args': {'question': 'How can altruism be be...</td>\n",
       "      <td>3</td>\n",
       "      <td>477</td>\n",
       "      <td>0.000724</td>\n",
       "    </tr>\n",
       "  </tbody>\n",
       "</table>\n",
       "</div>"
      ],
      "text/plain": [
       "  app_id                                           app_json  \\\n",
       "0  App_1  {\"app_id\": \"App_1\", \"tags\": \"-\", \"metadata\": {...   \n",
       "1  App_1  {\"app_id\": \"App_1\", \"tags\": \"-\", \"metadata\": {...   \n",
       "2  App_1  {\"app_id\": \"App_1\", \"tags\": \"-\", \"metadata\": {...   \n",
       "3  App_1  {\"app_id\": \"App_1\", \"tags\": \"-\", \"metadata\": {...   \n",
       "4  App_1  {\"app_id\": \"App_1\", \"tags\": \"-\", \"metadata\": {...   \n",
       "\n",
       "                                                type  \\\n",
       "0  RetrieverQueryEngine(llama_index.query_engine....   \n",
       "1  RetrieverQueryEngine(llama_index.query_engine....   \n",
       "2  RetrieverQueryEngine(llama_index.query_engine....   \n",
       "3  RetrieverQueryEngine(llama_index.query_engine....   \n",
       "4  RetrieverQueryEngine(llama_index.query_engine....   \n",
       "\n",
       "                                      record_id  \\\n",
       "0  record_hash_d44bf32f3ad59b2c960d9da8d4aced51   \n",
       "1  record_hash_e39c0faf46d41dcb74ca0ec45309a2cb   \n",
       "2  record_hash_d6b47fea7298ba10fef2a2a248bd63c2   \n",
       "3  record_hash_2b03e0d3d41ce9e947251be37b8cfc08   \n",
       "4  record_hash_a5714ecb92faad636d41bbec86a09136   \n",
       "\n",
       "                                               input  \\\n",
       "0    \"What are the keys to building a career in AI?\"   \n",
       "1    \"How can teamwork contribute to success in AI?\"   \n",
       "2      \"What is the importance of networking in AI?\"   \n",
       "3  \"What are some good habits to develop for a su...   \n",
       "4  \"How can altruism be beneficial in building a ...   \n",
       "\n",
       "                                              output tags  \\\n",
       "0  \"Learning foundational technical skills, worki...    -   \n",
       "1  \"Teamwork can contribute to success in AI by a...    -   \n",
       "2  \"Networking in AI is crucial as it can provide...    -   \n",
       "3  \"Developing good habits in areas such as eatin...    -   \n",
       "4  \"Helping others during one's career journey ca...    -   \n",
       "\n",
       "                                         record_json  \\\n",
       "0  {\"record_id\": \"record_hash_d44bf32f3ad59b2c960...   \n",
       "1  {\"record_id\": \"record_hash_e39c0faf46d41dcb74c...   \n",
       "2  {\"record_id\": \"record_hash_d6b47fea7298ba10fef...   \n",
       "3  {\"record_id\": \"record_hash_2b03e0d3d41ce9e9472...   \n",
       "4  {\"record_id\": \"record_hash_a5714ecb92faad636d4...   \n",
       "\n",
       "                                           cost_json  \\\n",
       "0  {\"n_requests\": 1, \"n_successful_requests\": 1, ...   \n",
       "1  {\"n_requests\": 1, \"n_successful_requests\": 1, ...   \n",
       "2  {\"n_requests\": 1, \"n_successful_requests\": 1, ...   \n",
       "3  {\"n_requests\": 1, \"n_successful_requests\": 1, ...   \n",
       "4  {\"n_requests\": 1, \"n_successful_requests\": 1, ...   \n",
       "\n",
       "                                           perf_json  \\\n",
       "0  {\"start_time\": \"2024-05-29T03:34:12.556337\", \"...   \n",
       "1  {\"start_time\": \"2024-05-29T03:34:17.164804\", \"...   \n",
       "2  {\"start_time\": \"2024-05-29T03:34:23.261960\", \"...   \n",
       "3  {\"start_time\": \"2024-05-29T03:34:28.878624\", \"...   \n",
       "4  {\"start_time\": \"2024-05-29T03:34:32.865648\", \"...   \n",
       "\n",
       "                           ts  Answer Relevance  Groundedness  \\\n",
       "0  2024-05-29T03:34:16.977202               1.0      0.500000   \n",
       "1  2024-05-29T03:34:23.084454               1.0      1.000000   \n",
       "2  2024-05-29T03:34:28.706714               1.0      0.400000   \n",
       "3  2024-05-29T03:34:32.695466               1.0      0.316667   \n",
       "4  2024-05-29T03:34:36.468006               1.0      1.000000   \n",
       "\n",
       "   Context Relevance                             Answer Relevance_calls  \\\n",
       "0               0.65  [{'args': {'prompt': 'What are the keys to bui...   \n",
       "1               0.80  [{'args': {'prompt': 'How can teamwork contrib...   \n",
       "2               0.80  [{'args': {'prompt': 'What is the importance o...   \n",
       "3               0.80  [{'args': {'prompt': 'What are some good habit...   \n",
       "4               0.55  [{'args': {'prompt': 'How can altruism be bene...   \n",
       "\n",
       "                                  Groundedness_calls  \\\n",
       "0  [{'args': {'source': 'Chapter 7: A Simple Fram...   \n",
       "1  [{'args': {'source': 'To get \n",
       "a project starte...   \n",
       "2  [{'args': {'source': 'What is the hiring proce...   \n",
       "3  [{'args': {'source': '(For example, many \n",
       "arti...   \n",
       "4  [{'args': {'source': 'Many successful people d...   \n",
       "\n",
       "                             Context Relevance_calls  latency  total_tokens  \\\n",
       "0  [{'args': {'question': 'What are the keys to b...        4           509   \n",
       "1  [{'args': {'question': 'How can teamwork contr...        5           627   \n",
       "2  [{'args': {'question': 'What is the importance...        5           509   \n",
       "3  [{'args': {'question': 'What are some good hab...        3           434   \n",
       "4  [{'args': {'question': 'How can altruism be be...        3           477   \n",
       "\n",
       "   total_cost  \n",
       "0    0.000779  \n",
       "1    0.000976  \n",
       "2    0.000801  \n",
       "3    0.000669  \n",
       "4    0.000724  "
      ]
     },
     "execution_count": 24,
     "metadata": {},
     "output_type": "execute_result"
    }
   ],
   "source": [
    "records, feedback = tru.get_records_and_feedback(app_ids=[])\n",
    "records.head()"
   ]
  },
  {
   "cell_type": "code",
   "execution_count": 25,
   "metadata": {
    "height": 81
   },
   "outputs": [
    {
     "data": {
      "text/html": [
       "<div>\n",
       "<style scoped>\n",
       "    .dataframe tbody tr th:only-of-type {\n",
       "        vertical-align: middle;\n",
       "    }\n",
       "\n",
       "    .dataframe tbody tr th {\n",
       "        vertical-align: top;\n",
       "    }\n",
       "\n",
       "    .dataframe thead th {\n",
       "        text-align: right;\n",
       "    }\n",
       "</style>\n",
       "<table border=\"1\" class=\"dataframe\">\n",
       "  <thead>\n",
       "    <tr style=\"text-align: right;\">\n",
       "      <th></th>\n",
       "      <th>input</th>\n",
       "      <th>output</th>\n",
       "      <th>Groundedness</th>\n",
       "      <th>Answer Relevance</th>\n",
       "      <th>Context Relevance</th>\n",
       "    </tr>\n",
       "  </thead>\n",
       "  <tbody>\n",
       "    <tr>\n",
       "      <th>0</th>\n",
       "      <td>\"What are the keys to building a career in AI?\"</td>\n",
       "      <td>\"Learning foundational technical skills, working on projects, finding a job, and being part of a supportive community are the keys to building a career in AI.\"</td>\n",
       "      <td>0.500000</td>\n",
       "      <td>1.0</td>\n",
       "      <td>0.65</td>\n",
       "    </tr>\n",
       "    <tr>\n",
       "      <th>1</th>\n",
       "      <td>\"How can teamwork contribute to success in AI?\"</td>\n",
       "      <td>\"Teamwork can contribute to success in AI by allowing individuals to leverage the diverse skills and perspectives of their colleagues. Collaborating with teammates can lead to more innovative solutions, better problem-solving, and a more efficient project workflow. Additionally, working in a team can create a supportive environment that fosters continuous learning and growth, ultimately leading to improved project outcomes.\"</td>\n",
       "      <td>1.000000</td>\n",
       "      <td>1.0</td>\n",
       "      <td>0.80</td>\n",
       "    </tr>\n",
       "    <tr>\n",
       "      <th>2</th>\n",
       "      <td>\"What is the importance of networking in AI?\"</td>\n",
       "      <td>\"Networking in AI is crucial as it can provide valuable insights and guidance from experienced professionals in the field. By connecting with individuals who have already established themselves in AI, one can gain knowledge about the industry, potential career paths, and current trends. Networking also offers opportunities to learn about different job roles within AI companies and can help in building a strong professional network for future career growth.\"</td>\n",
       "      <td>0.400000</td>\n",
       "      <td>1.0</td>\n",
       "      <td>0.80</td>\n",
       "    </tr>\n",
       "    <tr>\n",
       "      <th>3</th>\n",
       "      <td>\"What are some good habits to develop for a successful career?\"</td>\n",
       "      <td>\"Developing good habits in areas such as eating, exercise, sleep, personal relationships, work, learning, and self-care can help individuals move forward in their careers while maintaining their health.\"</td>\n",
       "      <td>0.316667</td>\n",
       "      <td>1.0</td>\n",
       "      <td>0.80</td>\n",
       "    </tr>\n",
       "    <tr>\n",
       "      <th>4</th>\n",
       "      <td>\"How can altruism be beneficial in building a career?\"</td>\n",
       "      <td>\"Helping others during one's career journey can lead to better outcomes for oneself.\"</td>\n",
       "      <td>1.000000</td>\n",
       "      <td>1.0</td>\n",
       "      <td>0.55</td>\n",
       "    </tr>\n",
       "    <tr>\n",
       "      <th>5</th>\n",
       "      <td>\"What is imposter syndrome and how does it relate to AI?\"</td>\n",
       "      <td>\"Imposter syndrome is a phenomenon where individuals doubt their accomplishments and have a persistent fear of being exposed as a fraud. In the context of AI, newcomers to the field may experience imposter syndrome, feeling like they do not truly belong in the AI community despite their success. This can be discouraging for individuals trying to grow in AI, but it is a common experience with an estimated 70 percent of people facing some form of imposter syndrome at some point.\"</td>\n",
       "      <td>2.050000</td>\n",
       "      <td>1.0</td>\n",
       "      <td>0.15</td>\n",
       "    </tr>\n",
       "    <tr>\n",
       "      <th>6</th>\n",
       "      <td>\"Who are some accomplished individuals who have experienced imposter syndrome?\"</td>\n",
       "      <td>\"Former Facebook COO Sheryl Sandberg, U.S. first lady Michelle Obama, actor Tom Hanks, and Atlassian co-CEO Mike Cannon-Brookes are some accomplished individuals who have experienced imposter syndrome.\"</td>\n",
       "      <td>0.500000</td>\n",
       "      <td>1.0</td>\n",
       "      <td>0.20</td>\n",
       "    </tr>\n",
       "    <tr>\n",
       "      <th>7</th>\n",
       "      <td>\"What is the first step to becoming good at AI?\"</td>\n",
       "      <td>\"Identifying possible roles and conducting informational interviews.\"</td>\n",
       "      <td>0.666667</td>\n",
       "      <td>0.2</td>\n",
       "      <td>0.70</td>\n",
       "    </tr>\n",
       "    <tr>\n",
       "      <th>8</th>\n",
       "      <td>\"What are some common challenges in AI?\"</td>\n",
       "      <td>\"Common challenges in AI include the evolving nature of technologies, the need to stay updated with rapidly changing technology, the difficulty in estimating project timelines and returns on investment, the iterative nature of AI projects leading to uncertainties in project management, the challenge of collaborating with stakeholders lacking AI expertise, and the complexity of reading research papers and tuning neural network hyperparameters.\"</td>\n",
       "      <td>0.983333</td>\n",
       "      <td>1.0</td>\n",
       "      <td>0.85</td>\n",
       "    </tr>\n",
       "    <tr>\n",
       "      <th>9</th>\n",
       "      <td>\"Is it normal to find parts of AI challenging?\"</td>\n",
       "      <td>\"Yes, it is normal to find parts of AI challenging.\"</td>\n",
       "      <td>0.933333</td>\n",
       "      <td>1.0</td>\n",
       "      <td>NaN</td>\n",
       "    </tr>\n",
       "    <tr>\n",
       "      <th>10</th>\n",
       "      <td>\"How can I be successful in AI?\"</td>\n",
       "      <td>\"To be successful in AI, it is important to understand the problem you are trying to solve thoroughly, brainstorm potential solutions efficiently, determine milestones for the project, and focus on both machine learning metrics and business metrics. Additionally, having a basic intuitive understanding of calculus can be beneficial, as it can aid in grasping the math required for machine learning. Continuous learning and deepening technical knowledge in specific application or technology areas within AI can also contribute to success in the field.\"</td>\n",
       "      <td>NaN</td>\n",
       "      <td>1.0</td>\n",
       "      <td>NaN</td>\n",
       "    </tr>\n",
       "    <tr>\n",
       "      <th>11</th>\n",
       "      <td>\"Will AI replace humans for all jobs?\"</td>\n",
       "      <td>\"AI is not expected to replace humans for all jobs. While AI technology is advancing rapidly and creating new opportunities in various fields, there are certain tasks that still require human creativity, emotional intelligence, critical thinking, and decision-making abilities. Jobs that involve complex problem-solving, strategic planning, interpersonal skills, and creativity are less likely to be fully replaced by AI. Additionally, many roles may evolve with the integration of AI, leading to new types of jobs that require a combination of human and AI capabilities.\"</td>\n",
       "      <td>NaN</td>\n",
       "      <td>NaN</td>\n",
       "      <td>NaN</td>\n",
       "    </tr>\n",
       "  </tbody>\n",
       "</table>\n",
       "</div>"
      ],
      "text/plain": [
       "                                                                              input  \\\n",
       "0                                   \"What are the keys to building a career in AI?\"   \n",
       "1                                   \"How can teamwork contribute to success in AI?\"   \n",
       "2                                     \"What is the importance of networking in AI?\"   \n",
       "3                   \"What are some good habits to develop for a successful career?\"   \n",
       "4                            \"How can altruism be beneficial in building a career?\"   \n",
       "5                         \"What is imposter syndrome and how does it relate to AI?\"   \n",
       "6   \"Who are some accomplished individuals who have experienced imposter syndrome?\"   \n",
       "7                                  \"What is the first step to becoming good at AI?\"   \n",
       "8                                          \"What are some common challenges in AI?\"   \n",
       "9                                   \"Is it normal to find parts of AI challenging?\"   \n",
       "10                                                 \"How can I be successful in AI?\"   \n",
       "11                                           \"Will AI replace humans for all jobs?\"   \n",
       "\n",
       "                                                                                                                                                                                                                                                                                                                                                                                                                                                                                                                                                                                          output  \\\n",
       "0                                                                                                                                                                                                                                                                                                                                                                                                                                \"Learning foundational technical skills, working on projects, finding a job, and being part of a supportive community are the keys to building a career in AI.\"   \n",
       "1                                                                                                                                                   \"Teamwork can contribute to success in AI by allowing individuals to leverage the diverse skills and perspectives of their colleagues. Collaborating with teammates can lead to more innovative solutions, better problem-solving, and a more efficient project workflow. Additionally, working in a team can create a supportive environment that fosters continuous learning and growth, ultimately leading to improved project outcomes.\"   \n",
       "2                                                                                                                  \"Networking in AI is crucial as it can provide valuable insights and guidance from experienced professionals in the field. By connecting with individuals who have already established themselves in AI, one can gain knowledge about the industry, potential career paths, and current trends. Networking also offers opportunities to learn about different job roles within AI companies and can help in building a strong professional network for future career growth.\"   \n",
       "3                                                                                                                                                                                                                                                                                                                                                                                    \"Developing good habits in areas such as eating, exercise, sleep, personal relationships, work, learning, and self-care can help individuals move forward in their careers while maintaining their health.\"   \n",
       "4                                                                                                                                                                                                                                                                                                                                                                                                                                                                                                          \"Helping others during one's career journey can lead to better outcomes for oneself.\"   \n",
       "5                                                                                             \"Imposter syndrome is a phenomenon where individuals doubt their accomplishments and have a persistent fear of being exposed as a fraud. In the context of AI, newcomers to the field may experience imposter syndrome, feeling like they do not truly belong in the AI community despite their success. This can be discouraging for individuals trying to grow in AI, but it is a common experience with an estimated 70 percent of people facing some form of imposter syndrome at some point.\"   \n",
       "6                                                                                                                                                                                                                                                                                                                                                                                     \"Former Facebook COO Sheryl Sandberg, U.S. first lady Michelle Obama, actor Tom Hanks, and Atlassian co-CEO Mike Cannon-Brookes are some accomplished individuals who have experienced imposter syndrome.\"   \n",
       "7                                                                                                                                                                                                                                                                                                                                                                                                                                                                                                                          \"Identifying possible roles and conducting informational interviews.\"   \n",
       "8                                                                                                                                \"Common challenges in AI include the evolving nature of technologies, the need to stay updated with rapidly changing technology, the difficulty in estimating project timelines and returns on investment, the iterative nature of AI projects leading to uncertainties in project management, the challenge of collaborating with stakeholders lacking AI expertise, and the complexity of reading research papers and tuning neural network hyperparameters.\"   \n",
       "9                                                                                                                                                                                                                                                                                                                                                                                                                                                                                                                                           \"Yes, it is normal to find parts of AI challenging.\"   \n",
       "10                     \"To be successful in AI, it is important to understand the problem you are trying to solve thoroughly, brainstorm potential solutions efficiently, determine milestones for the project, and focus on both machine learning metrics and business metrics. Additionally, having a basic intuitive understanding of calculus can be beneficial, as it can aid in grasping the math required for machine learning. Continuous learning and deepening technical knowledge in specific application or technology areas within AI can also contribute to success in the field.\"   \n",
       "11  \"AI is not expected to replace humans for all jobs. While AI technology is advancing rapidly and creating new opportunities in various fields, there are certain tasks that still require human creativity, emotional intelligence, critical thinking, and decision-making abilities. Jobs that involve complex problem-solving, strategic planning, interpersonal skills, and creativity are less likely to be fully replaced by AI. Additionally, many roles may evolve with the integration of AI, leading to new types of jobs that require a combination of human and AI capabilities.\"   \n",
       "\n",
       "    Groundedness  Answer Relevance  Context Relevance  \n",
       "0       0.500000               1.0               0.65  \n",
       "1       1.000000               1.0               0.80  \n",
       "2       0.400000               1.0               0.80  \n",
       "3       0.316667               1.0               0.80  \n",
       "4       1.000000               1.0               0.55  \n",
       "5       2.050000               1.0               0.15  \n",
       "6       0.500000               1.0               0.20  \n",
       "7       0.666667               0.2               0.70  \n",
       "8       0.983333               1.0               0.85  \n",
       "9       0.933333               1.0                NaN  \n",
       "10           NaN               1.0                NaN  \n",
       "11           NaN               NaN                NaN  "
      ]
     },
     "execution_count": 25,
     "metadata": {},
     "output_type": "execute_result"
    }
   ],
   "source": [
    "import pandas as pd\n",
    "\n",
    "pd.set_option(\"display.max_colwidth\", None)\n",
    "records[[\"input\", \"output\"] + feedback]"
   ]
  },
  {
   "cell_type": "code",
   "execution_count": 26,
   "metadata": {
    "height": 30
   },
   "outputs": [
    {
     "data": {
      "text/html": [
       "<div>\n",
       "<style scoped>\n",
       "    .dataframe tbody tr th:only-of-type {\n",
       "        vertical-align: middle;\n",
       "    }\n",
       "\n",
       "    .dataframe tbody tr th {\n",
       "        vertical-align: top;\n",
       "    }\n",
       "\n",
       "    .dataframe thead th {\n",
       "        text-align: right;\n",
       "    }\n",
       "</style>\n",
       "<table border=\"1\" class=\"dataframe\">\n",
       "  <thead>\n",
       "    <tr style=\"text-align: right;\">\n",
       "      <th></th>\n",
       "      <th>Groundedness</th>\n",
       "      <th>Answer Relevance</th>\n",
       "      <th>Context Relevance</th>\n",
       "      <th>latency</th>\n",
       "      <th>total_cost</th>\n",
       "    </tr>\n",
       "    <tr>\n",
       "      <th>app_id</th>\n",
       "      <th></th>\n",
       "      <th></th>\n",
       "      <th></th>\n",
       "      <th></th>\n",
       "      <th></th>\n",
       "    </tr>\n",
       "  </thead>\n",
       "  <tbody>\n",
       "    <tr>\n",
       "      <th>App_1</th>\n",
       "      <td>0.765833</td>\n",
       "      <td>0.933333</td>\n",
       "      <td>0.629167</td>\n",
       "      <td>4.416667</td>\n",
       "      <td>0.000856</td>\n",
       "    </tr>\n",
       "  </tbody>\n",
       "</table>\n",
       "</div>"
      ],
      "text/plain": [
       "        Groundedness  Answer Relevance  Context Relevance   latency  \\\n",
       "app_id                                                                \n",
       "App_1       0.765833          0.933333           0.629167  4.416667   \n",
       "\n",
       "        total_cost  \n",
       "app_id              \n",
       "App_1     0.000856  "
      ]
     },
     "execution_count": 26,
     "metadata": {},
     "output_type": "execute_result"
    }
   ],
   "source": [
    "tru.get_leaderboard(app_ids=[])"
   ]
  },
  {
   "cell_type": "code",
   "execution_count": null,
   "metadata": {
    "height": 30,
    "id": "6Yp4_e4faZVD"
   },
   "outputs": [
    {
     "name": "stdout",
     "output_type": "stream",
     "text": [
      "Starting dashboard ...\n",
      "Config file already exists. Skipping writing process.\n",
      "Credentials file already exists. Skipping writing process.\n"
     ]
    },
    {
     "data": {
      "application/vnd.jupyter.widget-view+json": {
       "model_id": "2617c9006a8f4f8f9a7653f51b196cde",
       "version_major": 2,
       "version_minor": 0
      },
      "text/plain": [
       "Accordion(children=(VBox(children=(VBox(children=(Label(value='STDOUT'), Output())), VBox(children=(Label(valu…"
      ]
     },
     "metadata": {},
     "output_type": "display_data"
    }
   ],
   "source": [
    "tru.run_dashboard()"
   ]
  }
 ],
 "metadata": {
  "accelerator": "GPU",
  "colab": {
   "gpuType": "T4",
   "provenance": [
    {
     "file_id": "1ChKW1kEIUcUVDDTWjpA5Tf_ib3Hhp3uS",
     "timestamp": 1695164681916
    }
   ]
  },
  "kernelspec": {
   "display_name": "Python 3 (ipykernel)",
   "language": "python",
   "name": "python3"
  },
  "language_info": {
   "codemirror_mode": {
    "name": "ipython",
    "version": 3
   },
   "file_extension": ".py",
   "mimetype": "text/x-python",
   "name": "python",
   "nbconvert_exporter": "python",
   "pygments_lexer": "ipython3",
   "version": "3.10.13"
  }
 },
 "nbformat": 4,
 "nbformat_minor": 4
}
