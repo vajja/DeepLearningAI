{
 "cells": [
  {
   "cell_type": "markdown",
   "id": "669de8b0-7491-4c13-901d-38e2f8be0b26",
   "metadata": {},
   "source": [
    "# Lesson 9 - Adding MCP to the Hospital Server"
   ]
  },
  {
   "cell_type": "markdown",
   "id": "dcaf7e2c",
   "metadata": {},
   "source": [
    "In this final lesson, you will add another agent to the Hospital Server that uses MCP to get access to tools:\n",
    "- you will first define an MCP server using `FastMCP` that runs using the `stdio` transport (i.e., it runs locally) and exposes one tool;\n",
    "- you will then update the hospital server to include a second agent;\n",
    "- you will define the agent using the ToolCallingAgent of Smolagents and pass to it the tool exposed by the MCP server;\n",
    "- you will finally activate the agent and interact with it using an ACP client."
   ]
  },
  {
   "cell_type": "markdown",
   "id": "4a5c16d5-acb6-4a84-9ff5-72ce895723af",
   "metadata": {},
   "source": [
    "## 9.1. Output MCP Server"
   ]
  },
  {
   "cell_type": "markdown",
   "id": "a14506aa",
   "metadata": {},
   "source": [
    "Run this cell to create the file `mcpserver.py` inside the folder `my_acp_project`. The dependencies in the `my_acp_project` have been also updated so you can run this MCP server using `uv run`. Please check the note at the end of the lesson to learn more about these additional dependencies."
   ]
  },
  {
   "cell_type": "code",
   "execution_count": 1,
   "id": "d9358f8f-2156-4211-8b17-500bf2e699b9",
   "metadata": {},
   "outputs": [
    {
     "name": "stdout",
     "output_type": "stream",
     "text": [
      "Overwriting ../my_acp_project/mcpserver.py\n"
     ]
    }
   ],
   "source": [
    "%%writefile ../my_acp_project/mcpserver.py\n",
    "from colorama import Fore\n",
    "from mcp.server.fastmcp import FastMCP\n",
    "import json \n",
    "import requests\n",
    "\n",
    "mcp = FastMCP(\"doctorserver\")\n",
    "    \n",
    "# Build server function\n",
    "@mcp.tool()\n",
    "def list_doctors(state:str) -> str:\n",
    "    \"\"\"This tool returns doctors that may be near you.\n",
    "    Args:\n",
    "        state: the two letter state code that you live in. \n",
    "        Example payload: \"CA\"\n",
    "\n",
    "    Returns:\n",
    "        str: a list of doctors that may be near you\n",
    "        Example Response \"{\"DOC001\":{\"name\":\"Dr John James\", \"specialty\":\"Cardiology\"...}...}\" \n",
    "        \"\"\"\n",
    "    \n",
    "    url = 'https://raw.githubusercontent.com/nicknochnack/ACPWalkthrough/refs/heads/main/doctors.json'\n",
    "    resp = requests.get(url)\n",
    "    doctors = json.loads(resp.text)\n",
    "\n",
    "    matches = [doctor for doctor in doctors.values() if doctor['address']['state'] == state]    \n",
    "    return str(matches) \n",
    "\n",
    "# Kick off server if file is run \n",
    "if __name__ == \"__main__\":\n",
    "    mcp.run(transport=\"stdio\")"
   ]
  },
  {
   "cell_type": "markdown",
   "id": "c166cf82-bb16-4d89-9134-056c81775242",
   "metadata": {},
   "source": [
    "## 9.2. Updating the Hospital Server to use MCP"
   ]
  },
  {
   "cell_type": "markdown",
   "id": "a6b42fa3",
   "metadata": {},
   "source": [
    "You will add the definition of the second agent `doctor_agent` which helps users find doctors near them. Note that for the MCP server, the command is defined as `uv run`."
   ]
  },
  {
   "cell_type": "code",
   "execution_count": 2,
   "id": "48c1e3fe-f0c0-47d1-ad16-8902fe3af1a7",
   "metadata": {},
   "outputs": [
    {
     "name": "stdout",
     "output_type": "stream",
     "text": [
      "Overwriting ../my_acp_project/smolagents_server.py\n"
     ]
    }
   ],
   "source": [
    "%%writefile ../my_acp_project/smolagents_server.py\n",
    "from collections.abc import AsyncGenerator\n",
    "from acp_sdk.models import Message, MessagePart\n",
    "from acp_sdk.server import RunYield, RunYieldResume, Server\n",
    "from smolagents import CodeAgent, DuckDuckGoSearchTool, LiteLLMModel, VisitWebpageTool, ToolCallingAgent, ToolCollection\n",
    "from mcp import StdioServerParameters\n",
    "\n",
    "server = Server()\n",
    "\n",
    "model = LiteLLMModel(\n",
    "    model_id=\"openai/gpt-4\",  \n",
    "    max_tokens=2048\n",
    ")\n",
    "\n",
    "server_parameters = StdioServerParameters(\n",
    "    command=\"uv\",\n",
    "    args=[\"run\", \"mcpserver.py\"],\n",
    "    env=None,\n",
    ")\n",
    "\n",
    "@server.agent()\n",
    "async def health_agent(input: list[Message]) -> AsyncGenerator[RunYield, RunYieldResume]:\n",
    "    \"This is a CodeAgent which supports the hospital to handle health based questions for patients. Current or prospective patients can use it to find answers about their health and hospital treatments.\"\n",
    "    agent = CodeAgent(tools=[DuckDuckGoSearchTool(), VisitWebpageTool()], model=model)\n",
    "\n",
    "    prompt = input[0].parts[0].content\n",
    "    response = agent.run(prompt)\n",
    "\n",
    "    yield Message(parts=[MessagePart(content=str(response))])\n",
    "\n",
    "@server.agent()\n",
    "async def doctor_agent(input: list[Message]) -> AsyncGenerator[RunYield, RunYieldResume]:\n",
    "    \"This is a Doctor Agent which helps users find doctors near them.\"\n",
    "    with ToolCollection.from_mcp(server_parameters, trust_remote_code=True) as tool_collection:\n",
    "        agent = ToolCallingAgent(tools=[*tool_collection.tools], model=model)\n",
    "        prompt = input[0].parts[0].content\n",
    "        response = agent.run(prompt)\n",
    "\n",
    "    yield Message(parts=[MessagePart(content=str(response))])\n",
    "\n",
    "if __name__ == \"__main__\":\n",
    "    server.run(port=8000)"
   ]
  },
  {
   "cell_type": "markdown",
   "id": "733712a9-6817-4cbd-9f00-dd2ab595bc0c",
   "metadata": {},
   "source": [
    "## 9.3. Run the Hospital ACP x MCP Server"
   ]
  },
  {
   "cell_type": "markdown",
   "id": "98b60766",
   "metadata": {},
   "source": [
    "- Open the terminal by running the cell below.\n",
    "- If the agent is still running from the previous lessons, then you can stop it by typing `CTRL+C`.\n",
    "- Run the server again by typing:\n",
    "  - `uv run smolagents_server.py`"
   ]
  },
  {
   "cell_type": "code",
   "execution_count": 3,
   "id": "4dbaabb9-4090-4f9a-9b7e-3a1aaeec7f5c",
   "metadata": {},
   "outputs": [
    {
     "data": {
      "text/html": [
       "\n",
       "        <iframe\n",
       "            width=\"800\"\n",
       "            height=\"600\"\n",
       "            src=\"https://s172-29-17-135p8888.lab-aws-production.deeplearning.ai/terminals/2\"\n",
       "            frameborder=\"0\"\n",
       "            allowfullscreen\n",
       "            \n",
       "        ></iframe>\n",
       "        "
      ],
      "text/plain": [
       "<IPython.lib.display.IFrame at 0x7f3c70453690>"
      ]
     },
     "execution_count": 3,
     "metadata": {},
     "output_type": "execute_result"
    }
   ],
   "source": [
    "from IPython.display import IFrame\n",
    "import os\n",
    "url = os.environ.get('DLAI_LOCAL_URL').format(port=8888)\n",
    "IFrame(f\"{url}terminals/2\", width=800, height=600)"
   ]
  },
  {
   "cell_type": "markdown",
   "id": "89cd4177-2e6f-4206-a85c-3b4fd5ad6777",
   "metadata": {},
   "source": [
    "## 9.4. Call the ACPxMCP Server"
   ]
  },
  {
   "cell_type": "code",
   "execution_count": 4,
   "id": "19b70554-0102-4012-9648-9a19885ea401",
   "metadata": {},
   "outputs": [],
   "source": [
    "import asyncio\n",
    "import nest_asyncio\n",
    "from acp_sdk.client import Client\n",
    "from colorama import Fore \n",
    "\n",
    "nest_asyncio.apply() "
   ]
  },
  {
   "cell_type": "code",
   "execution_count": 5,
   "id": "c29c65f1-a51d-41d4-b4f1-a01e2e1f073d",
   "metadata": {},
   "outputs": [],
   "source": [
    "async def run_doctor_workflow() -> None:\n",
    "    async with Client(base_url=\"http://localhost:8000\") as hospital:\n",
    "        run1 = await hospital.run_sync(\n",
    "            agent=\"doctor_agent\", input=\"I'm based in Atlanta,GA. Are there any Cardiologists near me?\"\n",
    "        )\n",
    "        content = run1.output[0].parts[0].content\n",
    "        print(Fore.LIGHTMAGENTA_EX+ content + Fore.RESET)"
   ]
  },
  {
   "cell_type": "code",
   "execution_count": 6,
   "id": "cb1d5c81-1f19-4ab1-8e50-539b5d39d76c",
   "metadata": {},
   "outputs": [
    {
     "ename": "ACPError",
     "evalue": "Agent doctor_agent not found",
     "output_type": "error",
     "traceback": [
      "\u001b[31m---------------------------------------------------------------------------\u001b[39m",
      "\u001b[31mHTTPStatusError\u001b[39m                           Traceback (most recent call last)",
      "\u001b[36mFile \u001b[39m\u001b[32m/usr/local/lib/python3.11/site-packages/acp_sdk/client/client.py:231\u001b[39m, in \u001b[36mClient._raise_error\u001b[39m\u001b[34m(self, response)\u001b[39m\n\u001b[32m    230\u001b[39m \u001b[38;5;28;01mtry\u001b[39;00m:\n\u001b[32m--> \u001b[39m\u001b[32m231\u001b[39m     \u001b[43mresponse\u001b[49m\u001b[43m.\u001b[49m\u001b[43mraise_for_status\u001b[49m\u001b[43m(\u001b[49m\u001b[43m)\u001b[49m\n\u001b[32m    232\u001b[39m \u001b[38;5;28;01mexcept\u001b[39;00m httpx.HTTPError:\n",
      "\u001b[36mFile \u001b[39m\u001b[32m/usr/local/lib/python3.11/site-packages/httpx/_models.py:829\u001b[39m, in \u001b[36mResponse.raise_for_status\u001b[39m\u001b[34m(self)\u001b[39m\n\u001b[32m    828\u001b[39m message = message.format(\u001b[38;5;28mself\u001b[39m, error_type=error_type)\n\u001b[32m--> \u001b[39m\u001b[32m829\u001b[39m \u001b[38;5;28;01mraise\u001b[39;00m HTTPStatusError(message, request=request, response=\u001b[38;5;28mself\u001b[39m)\n",
      "\u001b[31mHTTPStatusError\u001b[39m: Client error '404 Not Found' for url 'http://localhost:8000/runs'\nFor more information check: https://developer.mozilla.org/en-US/docs/Web/HTTP/Status/404",
      "\nDuring handling of the above exception, another exception occurred:\n",
      "\u001b[31mACPError\u001b[39m                                  Traceback (most recent call last)",
      "\u001b[36mCell\u001b[39m\u001b[36m \u001b[39m\u001b[32mIn[6]\u001b[39m\u001b[32m, line 1\u001b[39m\n\u001b[32m----> \u001b[39m\u001b[32m1\u001b[39m \u001b[43masyncio\u001b[49m\u001b[43m.\u001b[49m\u001b[43mrun\u001b[49m\u001b[43m(\u001b[49m\u001b[43mrun_doctor_workflow\u001b[49m\u001b[43m(\u001b[49m\u001b[43m)\u001b[49m\u001b[43m)\u001b[49m\n",
      "\u001b[36mFile \u001b[39m\u001b[32m/usr/local/lib/python3.11/site-packages/nest_asyncio.py:30\u001b[39m, in \u001b[36m_patch_asyncio.<locals>.run\u001b[39m\u001b[34m(main, debug)\u001b[39m\n\u001b[32m     28\u001b[39m task = asyncio.ensure_future(main)\n\u001b[32m     29\u001b[39m \u001b[38;5;28;01mtry\u001b[39;00m:\n\u001b[32m---> \u001b[39m\u001b[32m30\u001b[39m     \u001b[38;5;28;01mreturn\u001b[39;00m \u001b[43mloop\u001b[49m\u001b[43m.\u001b[49m\u001b[43mrun_until_complete\u001b[49m\u001b[43m(\u001b[49m\u001b[43mtask\u001b[49m\u001b[43m)\u001b[49m\n\u001b[32m     31\u001b[39m \u001b[38;5;28;01mfinally\u001b[39;00m:\n\u001b[32m     32\u001b[39m     \u001b[38;5;28;01mif\u001b[39;00m \u001b[38;5;129;01mnot\u001b[39;00m task.done():\n",
      "\u001b[36mFile \u001b[39m\u001b[32m/usr/local/lib/python3.11/site-packages/nest_asyncio.py:98\u001b[39m, in \u001b[36m_patch_loop.<locals>.run_until_complete\u001b[39m\u001b[34m(self, future)\u001b[39m\n\u001b[32m     95\u001b[39m \u001b[38;5;28;01mif\u001b[39;00m \u001b[38;5;129;01mnot\u001b[39;00m f.done():\n\u001b[32m     96\u001b[39m     \u001b[38;5;28;01mraise\u001b[39;00m \u001b[38;5;167;01mRuntimeError\u001b[39;00m(\n\u001b[32m     97\u001b[39m         \u001b[33m'\u001b[39m\u001b[33mEvent loop stopped before Future completed.\u001b[39m\u001b[33m'\u001b[39m)\n\u001b[32m---> \u001b[39m\u001b[32m98\u001b[39m \u001b[38;5;28;01mreturn\u001b[39;00m \u001b[43mf\u001b[49m\u001b[43m.\u001b[49m\u001b[43mresult\u001b[49m\u001b[43m(\u001b[49m\u001b[43m)\u001b[49m\n",
      "\u001b[36mFile \u001b[39m\u001b[32m/usr/local/lib/python3.11/asyncio/futures.py:203\u001b[39m, in \u001b[36mFuture.result\u001b[39m\u001b[34m(self)\u001b[39m\n\u001b[32m    201\u001b[39m \u001b[38;5;28mself\u001b[39m.__log_traceback = \u001b[38;5;28;01mFalse\u001b[39;00m\n\u001b[32m    202\u001b[39m \u001b[38;5;28;01mif\u001b[39;00m \u001b[38;5;28mself\u001b[39m._exception \u001b[38;5;129;01mis\u001b[39;00m \u001b[38;5;129;01mnot\u001b[39;00m \u001b[38;5;28;01mNone\u001b[39;00m:\n\u001b[32m--> \u001b[39m\u001b[32m203\u001b[39m     \u001b[38;5;28;01mraise\u001b[39;00m \u001b[38;5;28mself\u001b[39m._exception.with_traceback(\u001b[38;5;28mself\u001b[39m._exception_tb)\n\u001b[32m    204\u001b[39m \u001b[38;5;28;01mreturn\u001b[39;00m \u001b[38;5;28mself\u001b[39m._result\n",
      "\u001b[36mFile \u001b[39m\u001b[32m/usr/local/lib/python3.11/asyncio/tasks.py:277\u001b[39m, in \u001b[36mTask.__step\u001b[39m\u001b[34m(***failed resolving arguments***)\u001b[39m\n\u001b[32m    273\u001b[39m \u001b[38;5;28;01mtry\u001b[39;00m:\n\u001b[32m    274\u001b[39m     \u001b[38;5;28;01mif\u001b[39;00m exc \u001b[38;5;129;01mis\u001b[39;00m \u001b[38;5;28;01mNone\u001b[39;00m:\n\u001b[32m    275\u001b[39m         \u001b[38;5;66;03m# We use the `send` method directly, because coroutines\u001b[39;00m\n\u001b[32m    276\u001b[39m         \u001b[38;5;66;03m# don't have `__iter__` and `__next__` methods.\u001b[39;00m\n\u001b[32m--> \u001b[39m\u001b[32m277\u001b[39m         result = coro.send(\u001b[38;5;28;01mNone\u001b[39;00m)\n\u001b[32m    278\u001b[39m     \u001b[38;5;28;01melse\u001b[39;00m:\n\u001b[32m    279\u001b[39m         result = coro.throw(exc)\n",
      "\u001b[36mCell\u001b[39m\u001b[36m \u001b[39m\u001b[32mIn[5]\u001b[39m\u001b[32m, line 3\u001b[39m, in \u001b[36mrun_doctor_workflow\u001b[39m\u001b[34m()\u001b[39m\n\u001b[32m      1\u001b[39m \u001b[38;5;28;01masync\u001b[39;00m \u001b[38;5;28;01mdef\u001b[39;00m\u001b[38;5;250m \u001b[39m\u001b[34mrun_doctor_workflow\u001b[39m() -> \u001b[38;5;28;01mNone\u001b[39;00m:\n\u001b[32m      2\u001b[39m     \u001b[38;5;28;01masync\u001b[39;00m \u001b[38;5;28;01mwith\u001b[39;00m Client(base_url=\u001b[33m\"\u001b[39m\u001b[33mhttp://localhost:8000\u001b[39m\u001b[33m\"\u001b[39m) \u001b[38;5;28;01mas\u001b[39;00m hospital:\n\u001b[32m----> \u001b[39m\u001b[32m3\u001b[39m         run1 = \u001b[38;5;28;01mawait\u001b[39;00m hospital.run_sync(\n\u001b[32m      4\u001b[39m             agent=\u001b[33m\"\u001b[39m\u001b[33mdoctor_agent\u001b[39m\u001b[33m\"\u001b[39m, \u001b[38;5;28minput\u001b[39m=\u001b[33m\"\u001b[39m\u001b[33mI\u001b[39m\u001b[33m'\u001b[39m\u001b[33mm based in Atlanta,GA. Are there any Cardiologists near me?\u001b[39m\u001b[33m\"\u001b[39m\n\u001b[32m      5\u001b[39m         )\n\u001b[32m      6\u001b[39m         content = run1.output[\u001b[32m0\u001b[39m].parts[\u001b[32m0\u001b[39m].content\n\u001b[32m      7\u001b[39m         \u001b[38;5;28mprint\u001b[39m(Fore.LIGHTMAGENTA_EX+ content + Fore.RESET)\n",
      "\u001b[36mFile \u001b[39m\u001b[32m/usr/local/lib/python3.11/site-packages/acp_sdk/client/client.py:137\u001b[39m, in \u001b[36mClient.run_sync\u001b[39m\u001b[34m(self, input, agent)\u001b[39m\n\u001b[32m    127\u001b[39m \u001b[38;5;28;01masync\u001b[39;00m \u001b[38;5;28;01mdef\u001b[39;00m\u001b[38;5;250m \u001b[39m\u001b[34mrun_sync\u001b[39m(\u001b[38;5;28mself\u001b[39m, \u001b[38;5;28minput\u001b[39m: Input, *, agent: AgentName) -> Run:\n\u001b[32m    128\u001b[39m     response = \u001b[38;5;28;01mawait\u001b[39;00m \u001b[38;5;28mself\u001b[39m._client.post(\n\u001b[32m    129\u001b[39m         \u001b[33m\"\u001b[39m\u001b[33m/runs\u001b[39m\u001b[33m\"\u001b[39m,\n\u001b[32m    130\u001b[39m         content=RunCreateRequest(\n\u001b[32m   (...)\u001b[39m\u001b[32m    135\u001b[39m         ).model_dump_json(),\n\u001b[32m    136\u001b[39m     )\n\u001b[32m--> \u001b[39m\u001b[32m137\u001b[39m     \u001b[38;5;28;43mself\u001b[39;49m\u001b[43m.\u001b[49m\u001b[43m_raise_error\u001b[49m\u001b[43m(\u001b[49m\u001b[43mresponse\u001b[49m\u001b[43m)\u001b[49m\n\u001b[32m    138\u001b[39m     response = RunCreateResponse.model_validate(response.json())\n\u001b[32m    139\u001b[39m     \u001b[38;5;28;01mreturn\u001b[39;00m Run(**response.model_dump())\n",
      "\u001b[36mFile \u001b[39m\u001b[32m/usr/local/lib/python3.11/site-packages/acp_sdk/client/client.py:233\u001b[39m, in \u001b[36mClient._raise_error\u001b[39m\u001b[34m(self, response)\u001b[39m\n\u001b[32m    231\u001b[39m     response.raise_for_status()\n\u001b[32m    232\u001b[39m \u001b[38;5;28;01mexcept\u001b[39;00m httpx.HTTPError:\n\u001b[32m--> \u001b[39m\u001b[32m233\u001b[39m     \u001b[38;5;28;01mraise\u001b[39;00m ACPError(Error.model_validate(response.json()))\n",
      "\u001b[31mACPError\u001b[39m: Agent doctor_agent not found"
     ]
    }
   ],
   "source": [
    "asyncio.run(run_doctor_workflow())"
   ]
  },
  {
   "cell_type": "markdown",
   "id": "1294ae55",
   "metadata": {},
   "source": [
    "**Note: How to update the `my_acp_project` locally on your machine so you can enable MCP?**\n",
    "- cd `my_acp_project`\n",
    "- `uv add mcp smolagents[mcp]`"
   ]
  },
  {
   "cell_type": "markdown",
   "id": "f1704644",
   "metadata": {},
   "source": [
    "## 9.4. Resources"
   ]
  },
  {
   "cell_type": "markdown",
   "id": "d84026d8",
   "metadata": {},
   "source": [
    "- [Smolagents from mcp tool](https://huggingface.co/docs/smolagents/en/reference/tools#smolagents.ToolCollection.from_mcp)\n",
    "- [MCP short course](https://www.deeplearning.ai/short-courses/mcp-build-rich-context-ai-apps-with-anthropic/)\n",
    "- [MCP and A2A](https://agentcommunicationprotocol.dev/about/mcp-and-a2a)\n",
    "- [The doctors json file used accessed through the MCP server](https://raw.githubusercontent.com/nicknochnack/ACPWalkthrough/refs/heads/main/doctors.json)"
   ]
  },
  {
   "cell_type": "markdown",
   "id": "b47f97df",
   "metadata": {},
   "source": [
    "<p style=\"background-color:#fff6ff; padding:15px; border-width:3px; border-color:#efe6ef; border-style:solid; border-radius:6px\"> 💻 &nbsp; <b>To access the <code>my_acp_project</code> folder:</b> 1) click on the <em>\"File\"</em> option on the top menu of the notebook and then 2) click on <em>\"Open\"</em>. "
   ]
  },
  {
   "cell_type": "markdown",
   "id": "aa43bb70",
   "metadata": {},
   "source": [
    "<div style=\"background-color:#fff6ff; padding:13px; border-width:3px; border-color:#efe6ef; border-style:solid; border-radius:6px\">\n",
    "<p> ⬇ &nbsp; <b>Download Notebooks:</b> 1) click on the <em>\"File\"</em> option on the top menu of the notebook and then 2) click on <em>\"Download as\"</em> and select <em>\"Notebook (.ipynb)\"</em>.</p>\n",
    "</div>"
   ]
  }
 ],
 "metadata": {
  "kernelspec": {
   "display_name": "Python 3 (ipykernel)",
   "language": "python",
   "name": "python3"
  },
  "language_info": {
   "codemirror_mode": {
    "name": "ipython",
    "version": 3
   },
   "file_extension": ".py",
   "mimetype": "text/x-python",
   "name": "python",
   "nbconvert_exporter": "python",
   "pygments_lexer": "ipython3",
   "version": "3.11.13"
  }
 },
 "nbformat": 4,
 "nbformat_minor": 5
}
