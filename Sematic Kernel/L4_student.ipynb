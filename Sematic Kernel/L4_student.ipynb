{
 "cells": [
  {
   "cell_type": "markdown",
   "metadata": {},
   "source": [
    "# 🧑‍🍳 L4 - Frozen dinner: \u000b",
    "The design thinking meal"
   ]
  },
  {
   "cell_type": "markdown",
   "metadata": {},
   "source": [
    "Inventory:\n",
    "\n",
    "1. Kernel\n",
    "2. Semantic (and Native) functions -- you can do a lot with these\n",
    "3. BusinessThinking plugin --> SWOTs in ways you could never imagine\n",
    "4. DesignThinking plugin ... Here you are"
   ]
  },
  {
   "cell_type": "markdown",
   "metadata": {},
   "source": [
    "# 🔥 Get a kernel ready"
   ]
  },
  {
   "cell_type": "code",
   "execution_count": 1,
   "metadata": {
    "height": 300
   },
   "outputs": [
    {
     "name": "stdout",
     "output_type": "stream",
     "text": [
      "A kernel is now ready.\n"
     ]
    }
   ],
   "source": [
    "import semantic_kernel as sk\n",
    "from semantic_kernel.connectors.ai.open_ai import AzureChatCompletion, OpenAIChatCompletion\n",
    "from IPython.display import display, Markdown\n",
    "\n",
    "kernel = sk.Kernel()\n",
    "\n",
    "useAzureOpenAI = False\n",
    "\n",
    "if useAzureOpenAI:\n",
    "    deployment, api_key, endpoint = sk.azure_openai_settings_from_dot_env()\n",
    "    kernel.add_text_completion_service(\"azureopenai\", AzureChatCompletion(deployment, endpoint, api_key))\n",
    "else:\n",
    "    api_key, org_id = sk.openai_settings_from_dot_env()\n",
    "    kernel.add_text_completion_service(\"openai\", OpenAIChatCompletion(\"gpt-3.5-turbo-0301\", api_key, org_id))\n",
    "\n",
    "print(\"A kernel is now ready.\")    "
   ]
  },
  {
   "cell_type": "markdown",
   "metadata": {},
   "source": [
    "## 🏁 Let's start backwards from the customer\n",
    "\n",
    "```directory\n",
    "plugins-sk/\n",
    "│\n",
    "└─── DesignThinking/\n",
    "     |\n",
    "     └─── Define/\n",
    "     |    └─── config.json\n",
    "     |    └─── skprompt.txt\n",
    "     |\n",
    "     └─── Empathize/\n",
    "          └─── config.json\n",
    "          └─── skprompt.txt\n",
    "\n",
    "```"
   ]
  },
  {
   "cell_type": "code",
   "execution_count": 2,
   "metadata": {
    "height": 589
   },
   "outputs": [
    {
     "data": {
      "text/markdown": [
       "## ✨ The categorized observations from the 'Empathize' phase of design thinking\n"
      ],
      "text/plain": [
       "<IPython.core.display.Markdown object>"
      ]
     },
     "metadata": {},
     "output_type": "display_data"
    },
    {
     "name": "stdout",
     "output_type": "stream",
     "text": [
      "[\n",
      "  {\n",
      "    \"sentiment\": \"Negative\",\n",
      "    \"summary\": \"Complaints about the condition of the seats and cleanliness of the restaurant.\"\n",
      "  },\n",
      "  {\n",
      "    \"sentiment\": \"Positive\",\n",
      "    \"summary\": \"Praise for the garlic pizza.\"\n",
      "  },\n",
      "  {\n",
      "    \"sentiment\": \"Negative\",\n",
      "    \"summary\": \"Frustration with the high turnover of servers and their lack of knowledge.\"\n",
      "  },\n",
      "  {\n",
      "    \"sentiment\": \"Neutral\",\n",
      "    \"summary\": \"Questioning the absence of calzones and the high cost of pizza.\"\n",
      "  },\n",
      "  {\n",
      "    \"sentiment\": \"Negative\",\n",
      "    \"summary\": \"Displeasure with the uncomfortable seating and lack of online ordering options.\"\n",
      "  }\n",
      "]\n"
     ]
    }
   ],
   "source": [
    "import json\n",
    "\n",
    "pluginsDirectory = \"./plugins-sk\"\n",
    "\n",
    "strength_questions = [\"What unique recipes or ingredients does the pizza shop use?\",\"What are the skills and experience of the staff?\",\"Does the pizza shop have a strong reputation in the local area?\",\"Are there any unique features of the shop or its location that attract customers?\", \"Does the pizza shop have a strong reputation in the local area?\", \"Are there any unique features of the shop or its location that attract customers?\"]\n",
    "weakness_questions = [\"What are the operational challenges of the pizza shop? (e.g., slow service, high staff turnover)\",\"Are there financial constraints that limit growth or improvements?\",\"Are there any gaps in the product offering?\",\"Are there customer complaints or negative reviews that need to be addressed?\"]\n",
    "opportunities_questions = [\"Is there potential for new products or services (e.g., catering, delivery)?\",\"Are there under-served customer segments or market areas?\",\"Can new technologies or systems enhance the business operations?\",\"Are there partnerships or local events that can be leveraged for marketing?\"]\n",
    "threats_questions = [\"Who are the major competitors and what are they offering?\",\"Are there potential negative impacts due to changes in the local area (e.g., construction, closure of nearby businesses)?\",\"Are there economic or industry trends that could impact the business negatively (e.g., increased ingredient costs)?\",\"Is there any risk due to changes in regulations or legislation (e.g., health and safety, employment)?\"]\n",
    "\n",
    "strengths = [ \"Unique garlic pizza recipe that wins top awards\",\"Owner trained in Sicily\",\"Strong local reputation\",\"Prime location on university campus\" ]\n",
    "weaknesses = [ \"High staff turnover\",\"Floods in the area damaged the seating areas that are in need of repair\",\"Absence of popular calzones from menu\",\"Negative reviews from younger demographic for lack of hip ingredients\" ]\n",
    "opportunities = [ \"Untapped catering potential\",\"Growing local tech startup community\",\"Unexplored online presence and order capabilities\",\"Upcoming annual food fair\" ]\n",
    "threats = [ \"Competition from cheaper pizza businesses nearby\",\"There's nearby street construction that will impact foot traffic\",\"Rising cost of cheese will increase the cost of pizzas\",\"No immediate local regulatory changes but it's election season\" ]\n",
    "\n",
    "customer_comments = \"\"\"\n",
    "Customer 1: The seats look really raggedy.\n",
    "Customer 2: The garlic pizza is the best on this earth.\n",
    "Customer 3: I've noticed that there's a new server every time I visit, and they're clueless.\n",
    "Customer 4: Why aren't there calzones?\n",
    "Customer 5: I love the garlic pizza and can't get it anywhere else.\n",
    "Customer 6: The garlic pizza is exceptional.\n",
    "Customer 7: I prefer a calzone's portable nature as compared with pizza.\n",
    "Customer 8: Why is the pizza so expensive?\n",
    "Customer 9: There's no way to do online ordering.\n",
    "Customer 10: Why is the seating so uncomfortable and dirty?\n",
    "\"\"\"\n",
    "\n",
    "pluginDT = kernel.import_semantic_skill_from_directory(pluginsDirectory, \"DesignThinking\");\n",
    "my_result = await kernel.run_async(pluginDT[\"Empathize\"], input_str=customer_comments)\n",
    "\n",
    "display(Markdown(\"## ✨ The categorized observations from the 'Empathize' phase of design thinking\\n\"))\n",
    "\n",
    "print(json.dumps(json.loads(str(my_result)), indent=2))"
   ]
  },
  {
   "cell_type": "markdown",
   "metadata": {},
   "source": [
    "![](./assets/designthinking.png)\n"
   ]
  },
  {
   "cell_type": "markdown",
   "metadata": {},
   "source": [
    "**Note:** LLMs do not necessarily produce the same result each time. Your results may be different than the video."
   ]
  },
  {
   "cell_type": "code",
   "execution_count": 3,
   "metadata": {
    "height": 79
   },
   "outputs": [
    {
     "data": {
      "text/markdown": [
       "## ✨ The categorized observations from the 'Empathize' + 'Define' phases of design thinking\n",
       "| Analysis | Definition | Possible Source |\n",
       "| --- | --- | --- |\n",
       "| Complaints about seat condition and inconsistent servers | Customers are unhappy with the state of the seats and the lack of consistency in servers | Poor maintenance of the restaurant and lack of training for servers |\n",
       "| Praise for garlic pizza | Customers are extremely satisfied with the garlic pizza and consider it exceptional | Unique recipe and high-quality ingredients |\n",
       "| Questioning absence of calzones and high pizza prices | Customers are unsure why calzones are not offered and are concerned about the high price of the pizza | Menu decisions and cost of ingredients |\n",
       "| Frustration with lack of online ordering and uncomfortable seating | Customers are annoyed by the lack of online ordering and uncomfortable seating | Outdated technology and poor seating design |\n",
       "| Love for garlic pizza and its uniqueness | Customers express their love for the garlic pizza and its uniqueness compared to other places | Unique recipe and high-quality ingredients |"
      ],
      "text/plain": [
       "<IPython.core.display.Markdown object>"
      ]
     },
     "metadata": {},
     "output_type": "display_data"
    }
   ],
   "source": [
    "my_result = await kernel.run_async(pluginDT[\"Empathize\"], pluginDT[\"Define\"], input_str = customer_comments)\n",
    "\n",
    "display(Markdown(\"## ✨ The categorized observations from the 'Empathize' + 'Define' phases of design thinking\\n\"+str(my_result)))"
   ]
  },
  {
   "cell_type": "code",
   "execution_count": 4,
   "metadata": {
    "height": 79
   },
   "outputs": [
    {
     "data": {
      "text/markdown": [
       "## ✨ The categorized observations from the 'Empathize' + 'Define' + 'Ideate' + 'Prototype' + phases of design thinking\n",
       "1. Replace outdated furniture with more comfortable and visually appealing seating options: Create a paper prototype by drawing a rough sketch of the restaurant's seating area and adding new furniture options such as comfortable chairs, sofas, and tables. Show the prototype to another party and ask for their feedback on the new seating options.\n",
       "\n",
       "2. Offer a garlic pizza special or promotion to capitalize on customer satisfaction: Create a paper prototype by designing a flyer or menu insert that advertises the garlic pizza special or promotion. Show the prototype to another party and ask for their feedback on the design and messaging.\n",
       "\n",
       "3. Implement a customer feedback system to address complaints and improve overall satisfaction: Create a paper prototype by designing a feedback form or survey that customers can fill out. Show the prototype to another party and ask for their feedback on the questions and format of the form or survey.\n",
       "\n",
       "4. Train staff on proper cleaning procedures to improve seating cleanliness: Create a paper prototype by designing a cleaning checklist or guide for staff to follow. Show the prototype to another party and ask for their feedback on the clarity and effectiveness of the checklist or guide.\n",
       "\n",
       "5. Offer a loyalty program or rewards system to incentivize repeat business: Create a paper prototype by designing a loyalty card or rewards program brochure. Show the prototype to another party and ask for their feedback on the design and incentives offered.\n",
       "\n",
       "6. Create a social media presence to engage with customers and promote the restaurant: Create a paper prototype by designing a social media post or ad for the restaurant. Show the prototype to another party and ask for their feedback on the content and messaging.\n",
       "\n",
       "7. Offer a variety of seating options, such as booths, tables, and outdoor seating: Create a paper prototype by drawing a rough sketch of the restaurant's seating area and adding different seating options. Show the prototype to another party and ask for their feedback on the layout and variety of seating options.\n",
       "\n",
       "8. Provide customers with a mobile app for easy online ordering and reservations: Create a paper prototype by designing a mock-up of the mobile app's interface and features. Show the prototype to another party and ask for their feedback on the usability and functionality of the app.\n",
       "\n",
       "9. Host events or themed nights to attract new customers and increase revenue: Create a paper prototype by designing a flyer or poster for the event or themed night. Show the prototype to another party and ask for their feedback on the design and messaging.\n",
       "\n",
       "10. Offer a takeout or delivery service to expand the restaurant's reach and revenue: Create a paper prototype by designing a takeout or delivery menu and packaging. Show the prototype to another party and ask for their feedback on the menu options and packaging design."
      ],
      "text/plain": [
       "<IPython.core.display.Markdown object>"
      ]
     },
     "metadata": {},
     "output_type": "display_data"
    }
   ],
   "source": [
    "my_result = await kernel.run_async(pluginDT[\"Empathize\"], pluginDT[\"Define\"], pluginDT[\"Ideate\"], pluginDT[\"PrototypeWithPaper\"], input_str=customer_comments)\n",
    "\n",
    "display(Markdown(\"## ✨ The categorized observations from the 'Empathize' + 'Define' + 'Ideate' + 'Prototype' + phases of design thinking\\n\"+str(my_result)))"
   ]
  },
  {
   "cell_type": "code",
   "execution_count": 5,
   "metadata": {
    "height": 368
   },
   "outputs": [
    {
     "data": {
      "text/markdown": [
       "### ✨ As an AI language model, I cannot predict the exact reactions of the 40-year old man in this scenario. However, some possible reactions could be:\n",
       "\n",
       "- They might feel indifferent and not care about the loyalty card.\n",
       "- They might feel annoyed or frustrated that they have to keep track of points and rewards.\n",
       "- They might feel intrigued and motivated to earn rewards by visiting the bar more often.\n",
       "- They might feel grateful and appreciated for being offered a loyalty program, which could improve their mood."
      ],
      "text/plain": [
       "<IPython.core.display.Markdown object>"
      ]
     },
     "metadata": {},
     "output_type": "display_data"
    }
   ],
   "source": [
    "sk_prompt = \"\"\"\n",
    "A 40-year old man who has just finished his shift at work and comes into the bar. They are in a bad mood.\n",
    "\n",
    "They are given an experience like:\n",
    "{{$input}}\n",
    "\n",
    "Summarize their possible reactions to this experience.\n",
    "\"\"\"\n",
    "test_function = kernel.create_semantic_function(prompt_template=sk_prompt,\n",
    "                                                    description=\"Simulates reaction to an experience.\",\n",
    "                                                    max_tokens=1000,\n",
    "                                                    temperature=0.1,\n",
    "                                                    top_p=0.5)\n",
    "sk_input=\"\"\"\n",
    "A simple loyalty card that includes details such as the rewards for each level of loyalty, how to earn points, and how to redeem rewards is given to every person visiting the bar.\n",
    "\"\"\"\n",
    "\n",
    "test_result = await kernel.run_async(test_function, input_str=sk_input) \n",
    "\n",
    "display(Markdown(\"### ✨ \" + str(test_result)))"
   ]
  },
  {
   "cell_type": "markdown",
   "metadata": {},
   "source": [
    "## 🔖 Reminder: We haven't explicitly used the 🧲 similarity engine — we'll be doing that next! \n",
    "\n",
    "![](./assets/twodimensions.png)"
   ]
  },
  {
   "cell_type": "code",
   "execution_count": null,
   "metadata": {
    "height": 30
   },
   "outputs": [],
   "source": []
  },
  {
   "cell_type": "code",
   "execution_count": null,
   "metadata": {
    "height": 30
   },
   "outputs": [],
   "source": []
  }
 ],
 "metadata": {
  "kernelspec": {
   "display_name": "Python 3 (ipykernel)",
   "language": "python",
   "name": "python3"
  },
  "language_info": {
   "codemirror_mode": {
    "name": "ipython",
    "version": 3
   },
   "file_extension": ".py",
   "mimetype": "text/x-python",
   "name": "python",
   "nbconvert_exporter": "python",
   "pygments_lexer": "ipython3",
   "version": "3.9.19"
  }
 },
 "nbformat": 4,
 "nbformat_minor": 4
}
