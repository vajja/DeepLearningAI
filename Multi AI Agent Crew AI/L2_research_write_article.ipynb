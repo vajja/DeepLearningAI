{
 "cells": [
  {
   "cell_type": "markdown",
   "metadata": {},
   "source": [
    "You can download the `requirements.txt` for this course from the workspace of this lab. `File --> Open...`"
   ]
  },
  {
   "cell_type": "markdown",
   "metadata": {},
   "source": [
    "# L2: Create Agents to Research and Write an Article\n",
    "\n",
    "In this lesson, you will be introduced to the foundational concepts of multi-agent systems and get an overview of the crewAI framework."
   ]
  },
  {
   "cell_type": "markdown",
   "metadata": {},
   "source": [
    "The libraries are already installed in the classroom. If you're running this notebook on your own machine, you can install the following:\n",
    "```Python\n",
    "!pip install crewai==0.28.8 crewai_tools==0.1.6 langchain_community==0.0.29\n",
    "```"
   ]
  },
  {
   "cell_type": "code",
   "execution_count": 1,
   "metadata": {
    "height": 64
   },
   "outputs": [],
   "source": [
    "# Warning control\n",
    "import warnings\n",
    "warnings.filterwarnings('ignore')"
   ]
  },
  {
   "cell_type": "markdown",
   "metadata": {},
   "source": [
    "- Import from the crewAI libray."
   ]
  },
  {
   "cell_type": "code",
   "execution_count": 2,
   "metadata": {
    "height": 30
   },
   "outputs": [],
   "source": [
    "from crewai import Agent, Task, Crew"
   ]
  },
  {
   "cell_type": "markdown",
   "metadata": {},
   "source": [
    "- As a LLM for your agents, you'll be using OpenAI's `gpt-3.5-turbo`.\n",
    "\n",
    "**Optional Note:** crewAI also allow other popular models to be used as a LLM for your Agents. You can see some of the examples at the [bottom of the notebook](#1)."
   ]
  },
  {
   "cell_type": "code",
   "execution_count": 3,
   "metadata": {
    "height": 98
   },
   "outputs": [],
   "source": [
    "import os\n",
    "from utils import get_openai_api_key\n",
    "\n",
    "openai_api_key = get_openai_api_key()\n",
    "os.environ[\"OPENAI_MODEL_NAME\"] = 'gpt-3.5-turbo'"
   ]
  },
  {
   "cell_type": "markdown",
   "metadata": {},
   "source": [
    "## Creating Agents\n",
    "\n",
    "- Define your Agents, and provide them a `role`, `goal` and `backstory`.\n",
    "- It has been seen that LLMs perform better when they are role playing."
   ]
  },
  {
   "cell_type": "markdown",
   "metadata": {},
   "source": [
    "### Agent: Planner\n",
    "\n",
    "**Note**: The benefit of using _multiple strings_ :\n",
    "```Python\n",
    "varname = \"line 1 of text\"\n",
    "          \"line 2 of text\"\n",
    "```\n",
    "\n",
    "versus the _triple quote docstring_:\n",
    "```Python\n",
    "varname = \"\"\"line 1 of text\n",
    "             line 2 of text\n",
    "          \"\"\"\n",
    "```\n",
    "is that it can avoid adding those whitespaces and newline characters, making it better formatted to be passed to the LLM."
   ]
  },
  {
   "cell_type": "code",
   "execution_count": 4,
   "metadata": {
    "height": 385
   },
   "outputs": [],
   "source": [
    "planner = Agent(\n",
    "    # What is the role it's playing\n",
    "    role=\"Content Planner\",\n",
    "    \n",
    "    # What we want to do using the prompt\n",
    "    goal=\"Plan engaging and factually accurate content on {topic}\",\n",
    "    \n",
    "    # prompt engineering kind of conveying it as a blogger or a writer, etc\n",
    "    backstory=\"You're working on planning a blog article \"\n",
    "              \"about the topic: {topic}.\"\n",
    "              \"You collect information that helps the \"\n",
    "              \"audience learn something \"\n",
    "              \"and make informed decisions. \"\n",
    "              \"Your work is the basis for \"\n",
    "              \"the Content Writer to write an article on this topic.\",\n",
    "    allow_delegation=False,\n",
    "    \n",
    "    # to see how it runs, should be disable in real-time\n",
    "    # it's only for use to understand log stream output\n",
    "\tverbose=True\n",
    ")"
   ]
  },
  {
   "cell_type": "markdown",
   "metadata": {},
   "source": [
    "### Agent: Writer"
   ]
  },
  {
   "cell_type": "code",
   "execution_count": 5,
   "metadata": {
    "height": 438
   },
   "outputs": [],
   "source": [
    "writer = Agent(\n",
    "    role=\"Content Writer\",\n",
    "    \n",
    "    # goal\n",
    "    goal=\"Write insightful and factually accurate \"\n",
    "         \"opinion piece about the topic: {topic}\",\n",
    "    \n",
    "    # prompt\n",
    "    backstory=\"You're working on a writing \"\n",
    "              \"a new opinion piece about the topic: {topic}. \"\n",
    "              \"You base your writing on the work of \"\n",
    "              \"the Content Planner, who provides an outline \"\n",
    "              \"and relevant context about the topic. \"\n",
    "              \"You follow the main objectives and \"\n",
    "              \"direction of the outline, \"\n",
    "              \"as provide by the Content Planner. \"\n",
    "              \"You also provide objective and impartial insights \"\n",
    "              \"and back them up with information \"\n",
    "              \"provide by the Content Planner. \"\n",
    "              \"You acknowledge in your opinion piece \"\n",
    "              \"when your statements are opinions \"\n",
    "              \"as opposed to objective statements.\",\n",
    "    allow_delegation=False,\n",
    "    verbose=True\n",
    ")"
   ]
  },
  {
   "cell_type": "markdown",
   "metadata": {},
   "source": [
    "### Agent: Editor"
   ]
  },
  {
   "cell_type": "code",
   "execution_count": 6,
   "metadata": {
    "height": 336
   },
   "outputs": [],
   "source": [
    "editor = Agent(\n",
    "    role=\"Editor\",\n",
    "    \n",
    "    # What we want to do\n",
    "    goal=\"Edit a given blog post to align with \"\n",
    "         \"the writing style of the organization. \",\n",
    "    \n",
    "    # prompt to further edit the content generate from above two\n",
    "    backstory=\"You are an editor who receives a blog post \"\n",
    "              \"from the Content Writer. \"\n",
    "              \"Your goal is to review the blog post \"\n",
    "              \"to ensure that it follows journalistic best practices,\"\n",
    "              \"provides balanced viewpoints \"\n",
    "              \"when providing opinions or assertions, \"\n",
    "              \"and also avoids major controversial topics \"\n",
    "              \"or opinions when possible.\",\n",
    "    allow_delegation=False,\n",
    "    verbose=True\n",
    ")"
   ]
  },
  {
   "cell_type": "markdown",
   "metadata": {},
   "source": [
    "## Creating Tasks\n",
    "\n",
    "- Define your Tasks, and provide them a `description`, `expected_output` and `agent`."
   ]
  },
  {
   "cell_type": "markdown",
   "metadata": {},
   "source": [
    "### Task: Plan"
   ]
  },
  {
   "cell_type": "code",
   "execution_count": 7,
   "metadata": {
    "height": 404
   },
   "outputs": [],
   "source": [
    "\n",
    "\n",
    "plan = Task(\n",
    "    \n",
    "    # What we expect the task to do or agent to do\n",
    "    description=(\n",
    "        \"1. Prioritize the latest trends, key players, \"\n",
    "            \"and noteworthy news on {topic}.\\n\"\n",
    "        \"2. Identify the target audience, considering \"\n",
    "            \"their interests and pain points.\\n\"\n",
    "        \"3. Develop a detailed content outline including \"\n",
    "            \"an introduction, key points, and a call to action.\\n\"\n",
    "        \"4. Include SEO keywords and relevant data or sources.\"\n",
    "    ),\n",
    "    \n",
    "    # Output of task\n",
    "    expected_output=\"A comprehensive content plan document \"\n",
    "        \"with an outline, audience analysis, \"\n",
    "        \"SEO keywords, and resources.\",\n",
    "    \n",
    "    # assign a agent\n",
    "    agent=planner,\n",
    ")"
   ]
  },
  {
   "cell_type": "markdown",
   "metadata": {},
   "source": [
    "### Task: Write"
   ]
  },
  {
   "cell_type": "code",
   "execution_count": 8,
   "metadata": {
    "height": 421
   },
   "outputs": [],
   "source": [
    "write = Task(\n",
    "    \n",
    "    # What we expect the task to do or agent to do\n",
    "    description=(\n",
    "        \"1. Use the content plan to craft a compelling \"\n",
    "            \"blog post on {topic}.\\n\"\n",
    "        \"2. Incorporate SEO keywords naturally.\\n\"\n",
    "\t\t\"3. Sections/Subtitles are properly named \"\n",
    "            \"in an engaging manner.\\n\"\n",
    "        \"4. Ensure the post is structured with an \"\n",
    "            \"engaging introduction, insightful body, \"\n",
    "            \"and a summarizing conclusion.\\n\"\n",
    "        \"5. Proofread for grammatical errors and \"\n",
    "            \"alignment with the brand's voice.\\n\"\n",
    "    ),\n",
    "    \n",
    "    # Output of task\n",
    "    expected_output=\"A well-written blog post \"\n",
    "        \"in markdown format, ready for publication, \"\n",
    "        \"each section should have 2 or 3 paragraphs.\",\n",
    "    \n",
    "    # Assignt an agent\n",
    "    agent=writer,\n",
    ")"
   ]
  },
  {
   "cell_type": "markdown",
   "metadata": {},
   "source": [
    "### Task: Edit"
   ]
  },
  {
   "cell_type": "code",
   "execution_count": 9,
   "metadata": {
    "height": 268
   },
   "outputs": [],
   "source": [
    "edit = Task(\n",
    "    \n",
    "    # What we expect the task to do or agent to do\n",
    "    description=(\"Proofread the given blog post for \"\n",
    "                 \"grammatical errors and \"\n",
    "                 \"alignment with the brand's voice.\"),\n",
    "    \n",
    "    # Output of task\n",
    "    expected_output=\"A well-written blog post in markdown format, \"\n",
    "                    \"ready for publication, \"\n",
    "                    \"each section should have 2 or 3 paragraphs.\",\n",
    "    \n",
    "    # Assignt an agent\n",
    "    agent=editor\n",
    ")"
   ]
  },
  {
   "cell_type": "markdown",
   "metadata": {},
   "source": [
    "## Creating the Crew\n",
    "\n",
    "- Create your crew of Agents\n",
    "- Pass the tasks to be performed by those agents.\n",
    "    - **Note**: *For this simple example*, the tasks will be performed sequentially (i.e they are dependent on each other), so the _order_ of the task in the list _matters_.\n",
    "- `verbose=2` allows you to see all the logs of the execution. "
   ]
  },
  {
   "cell_type": "code",
   "execution_count": 10,
   "metadata": {
    "height": 266
   },
   "outputs": [],
   "source": [
    "\n",
    "# Crew operates sequentially the order in which you assign tasks is important\n",
    "crew = Crew(\n",
    "    \n",
    "    # List of Agents\n",
    "    agents=[planner, writer, editor],\n",
    "    \n",
    "    # List of Tasks\n",
    "    # the order in which you assign tasks is important as it operates sequentially\n",
    "    tasks=[plan, write, edit],\n",
    "    \n",
    "    # verbose mode which would help us see who it's running explore logs\n",
    "    verbose=2\n",
    ")"
   ]
  },
  {
   "cell_type": "markdown",
   "metadata": {},
   "source": [
    "## Running the Crew"
   ]
  },
  {
   "cell_type": "markdown",
   "metadata": {},
   "source": [
    "**Note**: LLMs can provide different outputs for they same input, so what you get might be different than what you see in the video."
   ]
  },
  {
   "cell_type": "code",
   "execution_count": 11,
   "metadata": {
    "height": 30
   },
   "outputs": [
    {
     "name": "stdout",
     "output_type": "stream",
     "text": [
      "\u001b[1m\u001b[95m [DEBUG]: == Working Agent: Content Planner\u001b[00m\n",
      "\u001b[1m\u001b[95m [INFO]: == Starting Task: 1. Prioritize the latest trends, key players, and noteworthy news on Artificial Intelligence.\n",
      "2. Identify the target audience, considering their interests and pain points.\n",
      "3. Develop a detailed content outline including an introduction, key points, and a call to action.\n",
      "4. Include SEO keywords and relevant data or sources.\u001b[00m\n",
      "\n",
      "\n",
      "\u001b[1m> Entering new CrewAgentExecutor chain...\u001b[0m\n",
      "\u001b[32;1m\u001b[1;3mI now can give a great answer\n",
      "\n",
      "Final Answer: \n",
      "\n",
      "Content Plan Document:\n",
      "\n",
      "Title: The Future of Artificial Intelligence: Latest Trends, Key Players, and Noteworthy News\n",
      "\n",
      "Outline:\n",
      "I. Introduction\n",
      "- Brief overview of artificial intelligence\n",
      "- Importance of staying updated on the latest trends and news in AI\n",
      "\n",
      "II. Latest Trends in Artificial Intelligence\n",
      "- Evolution of deep learning and neural networks\n",
      "- Advancements in natural language processing\n",
      "- Growth of AI in healthcare, finance, and autonomous vehicles\n",
      "\n",
      "III. Key Players in the AI Industry\n",
      "- Google, Amazon, Microsoft\n",
      "- Startups disrupting the AI landscape\n",
      "- Research institutions leading AI innovation\n",
      "\n",
      "IV. Noteworthy News in Artificial Intelligence\n",
      "- Recent breakthroughs in AI research\n",
      "- Ethical considerations in AI development\n",
      "- Impact of AI on jobs and society\n",
      "\n",
      "V. Target Audience Analysis\n",
      "- Tech enthusiasts, researchers, and professionals in AI-related fields\n",
      "- Individuals interested in the future of technology and innovation\n",
      "- Businesses looking to leverage AI for growth and efficiency\n",
      "\n",
      "VI. SEO Keywords\n",
      "- Artificial intelligence trends\n",
      "- Leading AI companies\n",
      "- Latest news in artificial intelligence\n",
      "- Future of AI technology\n",
      "\n",
      "VII. Resources\n",
      "- Research papers and articles on AI trends\n",
      "- Industry reports on key players in the AI market\n",
      "- News sources covering the latest developments in artificial intelligence\n",
      "\n",
      "Call to Action:\n",
      "Stay informed about the latest trends and advancements in artificial intelligence by following reputable sources and industry leaders. Join the conversation on social media and engage with others interested in the future of AI technology.\n",
      "\n",
      "This content plan provides a comprehensive outline for an engaging and informative blog article on artificial intelligence. It prioritizes the latest trends, key players, and noteworthy news in the AI industry, while also considering the interests and pain points of the target audience. By incorporating relevant SEO keywords and credible resources, the article will offer valuable insights and help readers make informed decisions about the future of artificial intelligence.\u001b[0m\n",
      "\n",
      "\u001b[1m> Finished chain.\u001b[0m\n",
      "\u001b[1m\u001b[92m [DEBUG]: == [Content Planner] Task output: Content Plan Document:\n",
      "\n",
      "Title: The Future of Artificial Intelligence: Latest Trends, Key Players, and Noteworthy News\n",
      "\n",
      "Outline:\n",
      "I. Introduction\n",
      "- Brief overview of artificial intelligence\n",
      "- Importance of staying updated on the latest trends and news in AI\n",
      "\n",
      "II. Latest Trends in Artificial Intelligence\n",
      "- Evolution of deep learning and neural networks\n",
      "- Advancements in natural language processing\n",
      "- Growth of AI in healthcare, finance, and autonomous vehicles\n",
      "\n",
      "III. Key Players in the AI Industry\n",
      "- Google, Amazon, Microsoft\n",
      "- Startups disrupting the AI landscape\n",
      "- Research institutions leading AI innovation\n",
      "\n",
      "IV. Noteworthy News in Artificial Intelligence\n",
      "- Recent breakthroughs in AI research\n",
      "- Ethical considerations in AI development\n",
      "- Impact of AI on jobs and society\n",
      "\n",
      "V. Target Audience Analysis\n",
      "- Tech enthusiasts, researchers, and professionals in AI-related fields\n",
      "- Individuals interested in the future of technology and innovation\n",
      "- Businesses looking to leverage AI for growth and efficiency\n",
      "\n",
      "VI. SEO Keywords\n",
      "- Artificial intelligence trends\n",
      "- Leading AI companies\n",
      "- Latest news in artificial intelligence\n",
      "- Future of AI technology\n",
      "\n",
      "VII. Resources\n",
      "- Research papers and articles on AI trends\n",
      "- Industry reports on key players in the AI market\n",
      "- News sources covering the latest developments in artificial intelligence\n",
      "\n",
      "Call to Action:\n",
      "Stay informed about the latest trends and advancements in artificial intelligence by following reputable sources and industry leaders. Join the conversation on social media and engage with others interested in the future of AI technology.\n",
      "\n",
      "This content plan provides a comprehensive outline for an engaging and informative blog article on artificial intelligence. It prioritizes the latest trends, key players, and noteworthy news in the AI industry, while also considering the interests and pain points of the target audience. By incorporating relevant SEO keywords and credible resources, the article will offer valuable insights and help readers make informed decisions about the future of artificial intelligence.\n",
      "\n",
      "\u001b[00m\n",
      "\u001b[1m\u001b[95m [DEBUG]: == Working Agent: Content Writer\u001b[00m\n",
      "\u001b[1m\u001b[95m [INFO]: == Starting Task: 1. Use the content plan to craft a compelling blog post on Artificial Intelligence.\n",
      "2. Incorporate SEO keywords naturally.\n",
      "3. Sections/Subtitles are properly named in an engaging manner.\n",
      "4. Ensure the post is structured with an engaging introduction, insightful body, and a summarizing conclusion.\n",
      "5. Proofread for grammatical errors and alignment with the brand's voice.\n",
      "\u001b[00m\n",
      "\n",
      "\n",
      "\u001b[1m> Entering new CrewAgentExecutor chain...\u001b[0m\n",
      "\u001b[32;1m\u001b[1;3mI now can give a great answer\n",
      "\n",
      "Final Answer: \n",
      "\n",
      "# The Future of Artificial Intelligence: Latest Trends, Key Players, and Noteworthy News\n",
      "\n",
      "## Introduction\n",
      "\n",
      "Artificial intelligence (AI) has become a prominent topic in today's technological landscape, revolutionizing various industries and shaping the future of innovation. As the field of AI continues to evolve rapidly, staying updated on the latest trends and news is crucial for individuals and businesses alike. The continuous advancements in AI have the potential to transform the way we live and work, making it essential to understand the key players driving innovation in this space.\n",
      "\n",
      "## Latest Trends in Artificial Intelligence\n",
      "\n",
      "The evolution of deep learning and neural networks has been a significant trend in artificial intelligence, enabling machines to learn from data and perform complex tasks with human-like capabilities. Natural language processing has also seen remarkable advancements, allowing AI systems to understand and generate human language effectively. Moreover, AI applications in healthcare, finance, and autonomous vehicles have witnessed substantial growth, showcasing the diverse range of possibilities AI offers across various sectors.\n",
      "\n",
      "## Key Players in the AI Industry\n",
      "\n",
      "Leading tech giants such as Google, Amazon, and Microsoft have been at the forefront of AI innovation, developing cutting-edge technologies and solutions that push the boundaries of what AI can achieve. Additionally, startups disrupting the AI landscape with innovative ideas and approaches play a crucial role in shaping the future of the industry. Research institutions dedicated to AI research and development are also key players, driving innovation and pushing the boundaries of what is possible in artificial intelligence.\n",
      "\n",
      "## Noteworthy News in Artificial Intelligence\n",
      "\n",
      "Recent breakthroughs in AI research, such as advancements in machine learning algorithms and AI ethics, have made headlines in the industry. Ethical considerations in AI development, including issues of bias and fairness, have sparked important conversations about the responsible use of AI technologies. The impact of AI on jobs and society is another key area of focus, with discussions on how AI will shape the future of work and the broader implications for society as a whole.\n",
      "\n",
      "## Conclusion\n",
      "\n",
      "As the field of artificial intelligence continues to evolve, it is essential for tech enthusiasts, researchers, professionals, and businesses to stay informed about the latest trends and advancements. By following reputable sources and industry leaders, engaging in conversations on social media, and leveraging credible resources, individuals can gain valuable insights and make informed decisions about the future of AI technology. The future of artificial intelligence holds immense potential, and by staying informed and actively participating in the dialogue, we can shape a future where AI benefits society as a whole.\u001b[0m\n",
      "\n",
      "\u001b[1m> Finished chain.\u001b[0m\n",
      "\u001b[1m\u001b[92m [DEBUG]: == [Content Writer] Task output: # The Future of Artificial Intelligence: Latest Trends, Key Players, and Noteworthy News\n",
      "\n",
      "## Introduction\n",
      "\n",
      "Artificial intelligence (AI) has become a prominent topic in today's technological landscape, revolutionizing various industries and shaping the future of innovation. As the field of AI continues to evolve rapidly, staying updated on the latest trends and news is crucial for individuals and businesses alike. The continuous advancements in AI have the potential to transform the way we live and work, making it essential to understand the key players driving innovation in this space.\n",
      "\n",
      "## Latest Trends in Artificial Intelligence\n",
      "\n",
      "The evolution of deep learning and neural networks has been a significant trend in artificial intelligence, enabling machines to learn from data and perform complex tasks with human-like capabilities. Natural language processing has also seen remarkable advancements, allowing AI systems to understand and generate human language effectively. Moreover, AI applications in healthcare, finance, and autonomous vehicles have witnessed substantial growth, showcasing the diverse range of possibilities AI offers across various sectors.\n",
      "\n",
      "## Key Players in the AI Industry\n",
      "\n",
      "Leading tech giants such as Google, Amazon, and Microsoft have been at the forefront of AI innovation, developing cutting-edge technologies and solutions that push the boundaries of what AI can achieve. Additionally, startups disrupting the AI landscape with innovative ideas and approaches play a crucial role in shaping the future of the industry. Research institutions dedicated to AI research and development are also key players, driving innovation and pushing the boundaries of what is possible in artificial intelligence.\n",
      "\n",
      "## Noteworthy News in Artificial Intelligence\n",
      "\n",
      "Recent breakthroughs in AI research, such as advancements in machine learning algorithms and AI ethics, have made headlines in the industry. Ethical considerations in AI development, including issues of bias and fairness, have sparked important conversations about the responsible use of AI technologies. The impact of AI on jobs and society is another key area of focus, with discussions on how AI will shape the future of work and the broader implications for society as a whole.\n",
      "\n",
      "## Conclusion\n",
      "\n",
      "As the field of artificial intelligence continues to evolve, it is essential for tech enthusiasts, researchers, professionals, and businesses to stay informed about the latest trends and advancements. By following reputable sources and industry leaders, engaging in conversations on social media, and leveraging credible resources, individuals can gain valuable insights and make informed decisions about the future of AI technology. The future of artificial intelligence holds immense potential, and by staying informed and actively participating in the dialogue, we can shape a future where AI benefits society as a whole.\n",
      "\n",
      "\u001b[00m\n",
      "\u001b[1m\u001b[95m [DEBUG]: == Working Agent: Editor\u001b[00m\n",
      "\u001b[1m\u001b[95m [INFO]: == Starting Task: Proofread the given blog post for grammatical errors and alignment with the brand's voice.\u001b[00m\n",
      "\n",
      "\n",
      "\u001b[1m> Entering new CrewAgentExecutor chain...\u001b[0m\n"
     ]
    },
    {
     "name": "stdout",
     "output_type": "stream",
     "text": [
      "\u001b[32;1m\u001b[1;3mI now can give a great answer\n",
      "\n",
      "Final Answer:\n",
      "# The Future of Artificial Intelligence: Latest Trends, Key Players, and Noteworthy News\n",
      "\n",
      "Artificial intelligence (AI) has undoubtedly become a focal point in today's technological world, reshaping industries and paving the way for future innovations. Staying abreast of the latest trends and developments in the AI realm is essential for both individuals and businesses looking to capitalize on the potential that AI holds. The rapid evolution of AI has the power to revolutionize how we live and work, underscoring the importance of understanding the key players driving this technological advancement.\n",
      "\n",
      "In the realm of artificial intelligence, deep learning and neural networks have emerged as significant trends, empowering machines to learn from data and execute complex tasks akin to human capabilities. Furthermore, the progress in natural language processing has been remarkable, enabling AI systems to comprehend and generate human language with remarkable proficiency. The application of AI in critical sectors such as healthcare, finance, and autonomous vehicles has seen substantial growth, showcasing the diverse and far-reaching possibilities that AI presents across various industries.\n",
      "\n",
      "The landscape of the AI industry is largely shaped by tech giants like Google, Amazon, and Microsoft, who are at the forefront of driving AI innovation with cutting-edge technologies and solutions that redefine the boundaries of AI capabilities. In addition to these industry leaders, startups with inventive ideas and novel approaches are disrupting the AI space and playing a pivotal role in shaping the future of the industry. Research institutions dedicated to AI research and development also play a crucial part in propelling innovation and exploring the full potential of artificial intelligence.\n",
      "\n",
      "Recent breakthroughs in AI research, particularly advancements in machine learning algorithms and ethical considerations in AI development, have dominated headlines within the industry. Discussions surrounding ethical issues such as bias, fairness, and the responsible use of AI technologies have sparked critical conversations. The impact of AI on employment and society has also been a key focal point, with ongoing dialogues about how AI will redefine the workforce and the broader implications for society as a whole.\n",
      "\n",
      "As the field of artificial intelligence continues to progress at a rapid pace, it is imperative for tech enthusiasts, researchers, professionals, and businesses to remain informed about the latest trends and advancements. By engaging with reputable sources, industry leaders, and credible resources, individuals can gather valuable insights and make well-informed decisions regarding the future of AI technology. The potential of artificial intelligence is vast, and through active participation in discussions and staying informed, we can collectively shape a future where AI enhances society on the whole.\u001b[0m\n",
      "\n",
      "\u001b[1m> Finished chain.\u001b[0m\n",
      "\u001b[1m\u001b[92m [DEBUG]: == [Editor] Task output: # The Future of Artificial Intelligence: Latest Trends, Key Players, and Noteworthy News\n",
      "\n",
      "Artificial intelligence (AI) has undoubtedly become a focal point in today's technological world, reshaping industries and paving the way for future innovations. Staying abreast of the latest trends and developments in the AI realm is essential for both individuals and businesses looking to capitalize on the potential that AI holds. The rapid evolution of AI has the power to revolutionize how we live and work, underscoring the importance of understanding the key players driving this technological advancement.\n",
      "\n",
      "In the realm of artificial intelligence, deep learning and neural networks have emerged as significant trends, empowering machines to learn from data and execute complex tasks akin to human capabilities. Furthermore, the progress in natural language processing has been remarkable, enabling AI systems to comprehend and generate human language with remarkable proficiency. The application of AI in critical sectors such as healthcare, finance, and autonomous vehicles has seen substantial growth, showcasing the diverse and far-reaching possibilities that AI presents across various industries.\n",
      "\n",
      "The landscape of the AI industry is largely shaped by tech giants like Google, Amazon, and Microsoft, who are at the forefront of driving AI innovation with cutting-edge technologies and solutions that redefine the boundaries of AI capabilities. In addition to these industry leaders, startups with inventive ideas and novel approaches are disrupting the AI space and playing a pivotal role in shaping the future of the industry. Research institutions dedicated to AI research and development also play a crucial part in propelling innovation and exploring the full potential of artificial intelligence.\n",
      "\n",
      "Recent breakthroughs in AI research, particularly advancements in machine learning algorithms and ethical considerations in AI development, have dominated headlines within the industry. Discussions surrounding ethical issues such as bias, fairness, and the responsible use of AI technologies have sparked critical conversations. The impact of AI on employment and society has also been a key focal point, with ongoing dialogues about how AI will redefine the workforce and the broader implications for society as a whole.\n",
      "\n",
      "As the field of artificial intelligence continues to progress at a rapid pace, it is imperative for tech enthusiasts, researchers, professionals, and businesses to remain informed about the latest trends and advancements. By engaging with reputable sources, industry leaders, and credible resources, individuals can gather valuable insights and make well-informed decisions regarding the future of AI technology. The potential of artificial intelligence is vast, and through active participation in discussions and staying informed, we can collectively shape a future where AI enhances society on the whole.\n",
      "\n",
      "\u001b[00m\n"
     ]
    }
   ],
   "source": [
    "result = crew.kickoff(inputs={\"topic\": \"Artificial Intelligence\"})"
   ]
  },
  {
   "cell_type": "markdown",
   "metadata": {},
   "source": [
    "- Display the results of your execution as markdown in the notebook."
   ]
  },
  {
   "cell_type": "code",
   "execution_count": 12,
   "metadata": {
    "height": 47
   },
   "outputs": [
    {
     "data": {
      "text/markdown": [
       "# The Future of Artificial Intelligence: Latest Trends, Key Players, and Noteworthy News\n",
       "\n",
       "Artificial intelligence (AI) has undoubtedly become a focal point in today's technological world, reshaping industries and paving the way for future innovations. Staying abreast of the latest trends and developments in the AI realm is essential for both individuals and businesses looking to capitalize on the potential that AI holds. The rapid evolution of AI has the power to revolutionize how we live and work, underscoring the importance of understanding the key players driving this technological advancement.\n",
       "\n",
       "In the realm of artificial intelligence, deep learning and neural networks have emerged as significant trends, empowering machines to learn from data and execute complex tasks akin to human capabilities. Furthermore, the progress in natural language processing has been remarkable, enabling AI systems to comprehend and generate human language with remarkable proficiency. The application of AI in critical sectors such as healthcare, finance, and autonomous vehicles has seen substantial growth, showcasing the diverse and far-reaching possibilities that AI presents across various industries.\n",
       "\n",
       "The landscape of the AI industry is largely shaped by tech giants like Google, Amazon, and Microsoft, who are at the forefront of driving AI innovation with cutting-edge technologies and solutions that redefine the boundaries of AI capabilities. In addition to these industry leaders, startups with inventive ideas and novel approaches are disrupting the AI space and playing a pivotal role in shaping the future of the industry. Research institutions dedicated to AI research and development also play a crucial part in propelling innovation and exploring the full potential of artificial intelligence.\n",
       "\n",
       "Recent breakthroughs in AI research, particularly advancements in machine learning algorithms and ethical considerations in AI development, have dominated headlines within the industry. Discussions surrounding ethical issues such as bias, fairness, and the responsible use of AI technologies have sparked critical conversations. The impact of AI on employment and society has also been a key focal point, with ongoing dialogues about how AI will redefine the workforce and the broader implications for society as a whole.\n",
       "\n",
       "As the field of artificial intelligence continues to progress at a rapid pace, it is imperative for tech enthusiasts, researchers, professionals, and businesses to remain informed about the latest trends and advancements. By engaging with reputable sources, industry leaders, and credible resources, individuals can gather valuable insights and make well-informed decisions regarding the future of AI technology. The potential of artificial intelligence is vast, and through active participation in discussions and staying informed, we can collectively shape a future where AI enhances society on the whole."
      ],
      "text/plain": [
       "<IPython.core.display.Markdown object>"
      ]
     },
     "execution_count": 12,
     "metadata": {},
     "output_type": "execute_result"
    }
   ],
   "source": [
    "from IPython.display import Markdown\n",
    "Markdown(result)"
   ]
  },
  {
   "cell_type": "markdown",
   "metadata": {},
   "source": [
    "## Try it Yourself\n",
    "\n",
    "- Pass in a topic of your choice and see what the agents come up with!"
   ]
  },
  {
   "cell_type": "code",
   "execution_count": 13,
   "metadata": {
    "height": 47
   },
   "outputs": [
    {
     "name": "stdout",
     "output_type": "stream",
     "text": [
      "\u001b[1m\u001b[95m [DEBUG]: == Working Agent: Content Planner\u001b[00m\n",
      "\u001b[1m\u001b[95m [INFO]: == Starting Task: 1. Prioritize the latest trends, key players, and noteworthy news on Meditation.\n",
      "2. Identify the target audience, considering their interests and pain points.\n",
      "3. Develop a detailed content outline including an introduction, key points, and a call to action.\n",
      "4. Include SEO keywords and relevant data or sources.\u001b[00m\n",
      "\n",
      "\n",
      "\u001b[1m> Entering new CrewAgentExecutor chain...\u001b[0m\n",
      "\u001b[32;1m\u001b[1;3mI now can give a great answer\n",
      "\n",
      "Final Answer: \n",
      "\n",
      "Content Plan: \n",
      "\n",
      "Title: The Power of Meditation: A Guide to Finding Inner Peace\n",
      "\n",
      "Outline:\n",
      "\n",
      "I. Introduction\n",
      "- Brief explanation of what meditation is\n",
      "- Importance of incorporating meditation into daily routine\n",
      "\n",
      "II. Latest Trends in Meditation\n",
      "- Rise of meditation apps and online platforms\n",
      "- Integration of meditation in workplace wellness programs\n",
      "- Research studies on the benefits of meditation\n",
      "\n",
      "III. Key Players in the Meditation Industry\n",
      "- Insight Timer\n",
      "- Headspace\n",
      "- Calm\n",
      "- Deepak Chopra\n",
      "\n",
      "IV. Noteworthy News on Meditation\n",
      "- Recent studies on the impact of meditation on mental health\n",
      "- Celebrities advocating for meditation practices\n",
      "- Events and workshops focused on meditation and mindfulness\n",
      "\n",
      "V. Target Audience Analysis\n",
      "- Young professionals looking to reduce stress and improve focus\n",
      "- Stay-at-home parents seeking moments of relaxation\n",
      "- Individuals dealing with anxiety or depression\n",
      "- Health and wellness enthusiasts interested in holistic practices\n",
      "\n",
      "VI. SEO Keywords\n",
      "- Meditation benefits\n",
      "- Mindfulness practices\n",
      "- Guided meditation techniques\n",
      "- Meditation for beginners\n",
      "- Meditation apps and tools\n",
      "\n",
      "VII. Call to Action\n",
      "- Encourage readers to start incorporating meditation into their daily routine\n",
      "- Provide links to resources for guided meditation sessions and meditation apps\n",
      "- Invite readers to share their meditation experiences in the comments section\n",
      "\n",
      "VIII. Resources\n",
      "- Scientific studies on the benefits of meditation\n",
      "- Meditation apps and online platforms for guided sessions\n",
      "- Books and articles by industry experts on mindfulness and meditation\n",
      "\n",
      "Overall, this content plan aims to provide a comprehensive guide to meditation for individuals looking to find inner peace and improve their overall well-being. By incorporating the latest trends, key players, and noteworthy news in the meditation industry, along with targeting specific audiences and including relevant SEO keywords, this article will serve as a valuable resource for anyone interested in starting or enhancing their meditation practice.\u001b[0m\n",
      "\n",
      "\u001b[1m> Finished chain.\u001b[0m\n",
      "\u001b[1m\u001b[92m [DEBUG]: == [Content Planner] Task output: Content Plan: \n",
      "\n",
      "Title: The Power of Meditation: A Guide to Finding Inner Peace\n",
      "\n",
      "Outline:\n",
      "\n",
      "I. Introduction\n",
      "- Brief explanation of what meditation is\n",
      "- Importance of incorporating meditation into daily routine\n",
      "\n",
      "II. Latest Trends in Meditation\n",
      "- Rise of meditation apps and online platforms\n",
      "- Integration of meditation in workplace wellness programs\n",
      "- Research studies on the benefits of meditation\n",
      "\n",
      "III. Key Players in the Meditation Industry\n",
      "- Insight Timer\n",
      "- Headspace\n",
      "- Calm\n",
      "- Deepak Chopra\n",
      "\n",
      "IV. Noteworthy News on Meditation\n",
      "- Recent studies on the impact of meditation on mental health\n",
      "- Celebrities advocating for meditation practices\n",
      "- Events and workshops focused on meditation and mindfulness\n",
      "\n",
      "V. Target Audience Analysis\n",
      "- Young professionals looking to reduce stress and improve focus\n",
      "- Stay-at-home parents seeking moments of relaxation\n",
      "- Individuals dealing with anxiety or depression\n",
      "- Health and wellness enthusiasts interested in holistic practices\n",
      "\n",
      "VI. SEO Keywords\n",
      "- Meditation benefits\n",
      "- Mindfulness practices\n",
      "- Guided meditation techniques\n",
      "- Meditation for beginners\n",
      "- Meditation apps and tools\n",
      "\n",
      "VII. Call to Action\n",
      "- Encourage readers to start incorporating meditation into their daily routine\n",
      "- Provide links to resources for guided meditation sessions and meditation apps\n",
      "- Invite readers to share their meditation experiences in the comments section\n",
      "\n",
      "VIII. Resources\n",
      "- Scientific studies on the benefits of meditation\n",
      "- Meditation apps and online platforms for guided sessions\n",
      "- Books and articles by industry experts on mindfulness and meditation\n",
      "\n",
      "Overall, this content plan aims to provide a comprehensive guide to meditation for individuals looking to find inner peace and improve their overall well-being. By incorporating the latest trends, key players, and noteworthy news in the meditation industry, along with targeting specific audiences and including relevant SEO keywords, this article will serve as a valuable resource for anyone interested in starting or enhancing their meditation practice.\n",
      "\n",
      "\u001b[00m\n",
      "\u001b[1m\u001b[95m [DEBUG]: == Working Agent: Content Writer\u001b[00m\n",
      "\u001b[1m\u001b[95m [INFO]: == Starting Task: 1. Use the content plan to craft a compelling blog post on Meditation.\n",
      "2. Incorporate SEO keywords naturally.\n",
      "3. Sections/Subtitles are properly named in an engaging manner.\n",
      "4. Ensure the post is structured with an engaging introduction, insightful body, and a summarizing conclusion.\n",
      "5. Proofread for grammatical errors and alignment with the brand's voice.\n",
      "\u001b[00m\n",
      "\n",
      "\n",
      "\u001b[1m> Entering new CrewAgentExecutor chain...\u001b[0m\n",
      "\u001b[32;1m\u001b[1;3mI now can give a great answer\n",
      "\n",
      "Final Answer:\n",
      "# The Power of Meditation: A Guide to Finding Inner Peace\n",
      "\n",
      "## Introduction\n",
      "\n",
      "Meditation is a practice that has been around for centuries, with roots in various spiritual and cultural traditions. At its core, meditation involves focusing the mind and cultivating a sense of awareness and inner peace. Incorporating meditation into your daily routine can have numerous benefits for your mental, emotional, and physical well-being. It provides a moment of stillness in a fast-paced world, allowing you to find a sense of calm and clarity amidst the chaos.\n",
      "\n",
      "## Latest Trends in Meditation\n",
      "\n",
      "In recent years, there has been a significant rise in the popularity of meditation, with the emergence of meditation apps and online platforms making it more accessible to a wider audience. Companies are also integrating meditation into their workplace wellness programs, recognizing the positive impact it can have on employee productivity and satisfaction. Research studies continue to demonstrate the benefits of meditation, showing its effectiveness in reducing stress, improving focus, and enhancing overall well-being.\n",
      "\n",
      "## Key Players in the Meditation Industry\n",
      "\n",
      "Some of the key players in the meditation industry include Insight Timer, Headspace, Calm, and Deepak Chopra. These platforms offer a variety of guided meditation sessions, mindfulness practices, and tools to support individuals in their meditation journey. Whether you're a beginner or a seasoned meditator, these resources can help you deepen your practice and experience the transformative power of meditation.\n",
      "\n",
      "## Noteworthy News on Meditation\n",
      "\n",
      "Recent studies have highlighted the impact of meditation on mental health, showing its effectiveness in reducing symptoms of anxiety and depression. Celebrities have also been vocal about their advocacy for meditation practices, sharing how it has positively impacted their lives. Events and workshops focused on meditation and mindfulness continue to attract individuals seeking to cultivate a sense of inner peace and well-being.\n",
      "\n",
      "## Target Audience Analysis\n",
      "\n",
      "Meditation appeals to a wide range of individuals, including young professionals looking to reduce stress and improve focus, stay-at-home parents seeking moments of relaxation, individuals dealing with anxiety or depression, and health and wellness enthusiasts interested in holistic practices. Whether you're new to meditation or have been practicing for years, there are resources and tools available to support you on your journey towards greater well-being.\n",
      "\n",
      "## SEO Keywords\n",
      "\n",
      "When it comes to meditation, keywords such as \"meditation benefits,\" \"mindfulness practices,\" \"guided meditation techniques,\" \"meditation for beginners,\" and \"meditation apps and tools\" can help individuals find valuable resources and information to enhance their practice. By incorporating these keywords into your search queries, you can discover a wealth of resources to support your meditation journey.\n",
      "\n",
      "## Call to Action\n",
      "\n",
      "As you explore the world of meditation, I encourage you to start incorporating meditation into your daily routine. Whether you prefer guided meditation sessions or mindfulness practices, there are resources available to support you on your journey towards inner peace and well-being. I invite you to share your meditation experiences in the comments section below and connect with others who are also seeking to find stillness and clarity in their lives.\n",
      "\n",
      "## Resources\n",
      "\n",
      "For those looking to dive deeper into the benefits of meditation, scientific studies, meditation apps, online platforms, and books and articles by industry experts can provide valuable insights and guidance. By exploring these resources, you can enhance your meditation practice and experience the transformative power of mindfulness in your daily life.\u001b[0m\n",
      "\n",
      "\u001b[1m> Finished chain.\u001b[0m\n",
      "\u001b[1m\u001b[92m [DEBUG]: == [Content Writer] Task output: # The Power of Meditation: A Guide to Finding Inner Peace\n",
      "\n",
      "## Introduction\n",
      "\n",
      "Meditation is a practice that has been around for centuries, with roots in various spiritual and cultural traditions. At its core, meditation involves focusing the mind and cultivating a sense of awareness and inner peace. Incorporating meditation into your daily routine can have numerous benefits for your mental, emotional, and physical well-being. It provides a moment of stillness in a fast-paced world, allowing you to find a sense of calm and clarity amidst the chaos.\n",
      "\n",
      "## Latest Trends in Meditation\n",
      "\n",
      "In recent years, there has been a significant rise in the popularity of meditation, with the emergence of meditation apps and online platforms making it more accessible to a wider audience. Companies are also integrating meditation into their workplace wellness programs, recognizing the positive impact it can have on employee productivity and satisfaction. Research studies continue to demonstrate the benefits of meditation, showing its effectiveness in reducing stress, improving focus, and enhancing overall well-being.\n",
      "\n",
      "## Key Players in the Meditation Industry\n",
      "\n",
      "Some of the key players in the meditation industry include Insight Timer, Headspace, Calm, and Deepak Chopra. These platforms offer a variety of guided meditation sessions, mindfulness practices, and tools to support individuals in their meditation journey. Whether you're a beginner or a seasoned meditator, these resources can help you deepen your practice and experience the transformative power of meditation.\n",
      "\n",
      "## Noteworthy News on Meditation\n",
      "\n",
      "Recent studies have highlighted the impact of meditation on mental health, showing its effectiveness in reducing symptoms of anxiety and depression. Celebrities have also been vocal about their advocacy for meditation practices, sharing how it has positively impacted their lives. Events and workshops focused on meditation and mindfulness continue to attract individuals seeking to cultivate a sense of inner peace and well-being.\n",
      "\n",
      "## Target Audience Analysis\n",
      "\n",
      "Meditation appeals to a wide range of individuals, including young professionals looking to reduce stress and improve focus, stay-at-home parents seeking moments of relaxation, individuals dealing with anxiety or depression, and health and wellness enthusiasts interested in holistic practices. Whether you're new to meditation or have been practicing for years, there are resources and tools available to support you on your journey towards greater well-being.\n",
      "\n",
      "## SEO Keywords\n",
      "\n",
      "When it comes to meditation, keywords such as \"meditation benefits,\" \"mindfulness practices,\" \"guided meditation techniques,\" \"meditation for beginners,\" and \"meditation apps and tools\" can help individuals find valuable resources and information to enhance their practice. By incorporating these keywords into your search queries, you can discover a wealth of resources to support your meditation journey.\n",
      "\n",
      "## Call to Action\n",
      "\n",
      "As you explore the world of meditation, I encourage you to start incorporating meditation into your daily routine. Whether you prefer guided meditation sessions or mindfulness practices, there are resources available to support you on your journey towards inner peace and well-being. I invite you to share your meditation experiences in the comments section below and connect with others who are also seeking to find stillness and clarity in their lives.\n",
      "\n",
      "## Resources\n",
      "\n",
      "For those looking to dive deeper into the benefits of meditation, scientific studies, meditation apps, online platforms, and books and articles by industry experts can provide valuable insights and guidance. By exploring these resources, you can enhance your meditation practice and experience the transformative power of mindfulness in your daily life.\n",
      "\n",
      "\u001b[00m\n",
      "\u001b[1m\u001b[95m [DEBUG]: == Working Agent: Editor\u001b[00m\n",
      "\u001b[1m\u001b[95m [INFO]: == Starting Task: Proofread the given blog post for grammatical errors and alignment with the brand's voice.\u001b[00m\n",
      "\n",
      "\n",
      "\u001b[1m> Entering new CrewAgentExecutor chain...\u001b[0m\n"
     ]
    },
    {
     "name": "stdout",
     "output_type": "stream",
     "text": [
      "\u001b[32;1m\u001b[1;3mI now can give a great answer\n",
      "\n",
      "Final Answer:\n",
      "\n",
      "# The Power of Meditation: A Guide to Finding Inner Peace\n",
      "\n",
      "Meditation, a practice steeped in centuries of tradition and spirituality, offers individuals a path to inner peace and self-awareness. By honing the mind and fostering mindfulness, meditation serves as a sanctuary of calm in a world characterized by chaos and incessant activity. Integrating meditation into your daily routine can yield a myriad of benefits for your mental, emotional, and physical well-being, providing a refuge for moments of tranquility and clarity amidst the hustle and bustle of modern life.\n",
      "\n",
      "In the realm of meditation, recent years have witnessed a surge in popularity, buoyed by the advent of meditation apps and online platforms that have democratised access to this ancient practice. Moreover, corporations are increasingly incorporating meditation into their wellness initiatives, recognising its capacity to bolster employee productivity and satisfaction. Research substantiates the efficacy of meditation in stress reduction, focus enhancement, and overall well-being, underscoring its transformative potential in fostering a balanced and harmonious existence.\n",
      "\n",
      "In the landscape of the meditation industry, prominent players such as Insight Timer, Headspace, Calm, and Deepak Chopra have emerged as purveyors of guided meditation sessions, mindfulness practices, and tools designed to support individuals on their meditative odyssey. Whether you are a neophyte or a seasoned practitioner, these resources are invaluable in deepening your meditation practice and harnessing its profound therapeutic effects.\n",
      "\n",
      "## Latest Trends in Meditation\n",
      "\n",
      "In recent years, there has been a significant rise in the popularity of meditation, with the emergence of meditation apps and online platforms making it more accessible to a wider audience. Companies are also integrating meditation into their workplace wellness programs, recognizing the positive impact it can have on employee productivity and satisfaction. Research studies continue to demonstrate the benefits of meditation, showing its effectiveness in reducing stress, improving focus, and enhancing overall well-being.\n",
      "\n",
      "## Key Players in the Meditation Industry\n",
      "\n",
      "Some of the key players in the meditation industry include Insight Timer, Headspace, Calm, and Deepak Chopra. These platforms offer a variety of guided meditation sessions, mindfulness practices, and tools to support individuals in their meditation journey. Whether you're a beginner or a seasoned meditator, these resources can help you deepen your practice and experience the transformative power of meditation.\n",
      "\n",
      "## Noteworthy News on Meditation\n",
      "\n",
      "Recent studies have highlighted the impact of meditation on mental health, showing its effectiveness in reducing symptoms of anxiety and depression. Celebrities have also been vocal about their advocacy for meditation practices, sharing how it has positively impacted their lives. Events and workshops focused on meditation and mindfulness continue to attract individuals seeking to cultivate a sense of inner peace and well-being.\n",
      "\n",
      "## Target Audience Analysis\n",
      "\n",
      "Meditation appeals to a wide range of individuals, including young professionals looking to reduce stress and improve focus, stay-at-home parents seeking moments of relaxation, individuals dealing with anxiety or depression, and health and wellness enthusiasts interested in holistic practices. Whether you're new to meditation or have been practicing for years, there are resources and tools available to support you on your journey towards greater well-being.\n",
      "\n",
      "## SEO Keywords\n",
      "\n",
      "When it comes to meditation, keywords such as \"meditation benefits,\" \"mindfulness practices,\" \"guided meditation techniques,\" \"meditation for beginners,\" and \"meditation apps and tools\" can help individuals find valuable resources and information to enhance their practice. By incorporating these keywords into your search queries, you can discover a wealth of resources to support your meditation journey.\n",
      "\n",
      "## Call to Action\n",
      "\n",
      "As you explore the world of meditation, I encourage you to start incorporating meditation into your daily routine. Whether you prefer guided meditation sessions or mindfulness practices, there are resources available to support you on your journey towards inner peace and well-being. I invite you to share your meditation experiences in the comments section below and connect with others who are also seeking to find stillness and clarity in their lives.\n",
      "\n",
      "## Resources\n",
      "\n",
      "For those looking to dive deeper into the benefits of meditation, scientific studies, meditation apps, online platforms, and books and articles by industry experts can provide valuable insights and guidance. By exploring these resources, you can enhance your meditation practice and experience the transformative power of mindfulness in your daily life.\u001b[0m\n",
      "\n",
      "\u001b[1m> Finished chain.\u001b[0m\n",
      "\u001b[1m\u001b[92m [DEBUG]: == [Editor] Task output: # The Power of Meditation: A Guide to Finding Inner Peace\n",
      "\n",
      "Meditation, a practice steeped in centuries of tradition and spirituality, offers individuals a path to inner peace and self-awareness. By honing the mind and fostering mindfulness, meditation serves as a sanctuary of calm in a world characterized by chaos and incessant activity. Integrating meditation into your daily routine can yield a myriad of benefits for your mental, emotional, and physical well-being, providing a refuge for moments of tranquility and clarity amidst the hustle and bustle of modern life.\n",
      "\n",
      "In the realm of meditation, recent years have witnessed a surge in popularity, buoyed by the advent of meditation apps and online platforms that have democratised access to this ancient practice. Moreover, corporations are increasingly incorporating meditation into their wellness initiatives, recognising its capacity to bolster employee productivity and satisfaction. Research substantiates the efficacy of meditation in stress reduction, focus enhancement, and overall well-being, underscoring its transformative potential in fostering a balanced and harmonious existence.\n",
      "\n",
      "In the landscape of the meditation industry, prominent players such as Insight Timer, Headspace, Calm, and Deepak Chopra have emerged as purveyors of guided meditation sessions, mindfulness practices, and tools designed to support individuals on their meditative odyssey. Whether you are a neophyte or a seasoned practitioner, these resources are invaluable in deepening your meditation practice and harnessing its profound therapeutic effects.\n",
      "\n",
      "## Latest Trends in Meditation\n",
      "\n",
      "In recent years, there has been a significant rise in the popularity of meditation, with the emergence of meditation apps and online platforms making it more accessible to a wider audience. Companies are also integrating meditation into their workplace wellness programs, recognizing the positive impact it can have on employee productivity and satisfaction. Research studies continue to demonstrate the benefits of meditation, showing its effectiveness in reducing stress, improving focus, and enhancing overall well-being.\n",
      "\n",
      "## Key Players in the Meditation Industry\n",
      "\n",
      "Some of the key players in the meditation industry include Insight Timer, Headspace, Calm, and Deepak Chopra. These platforms offer a variety of guided meditation sessions, mindfulness practices, and tools to support individuals in their meditation journey. Whether you're a beginner or a seasoned meditator, these resources can help you deepen your practice and experience the transformative power of meditation.\n",
      "\n",
      "## Noteworthy News on Meditation\n",
      "\n",
      "Recent studies have highlighted the impact of meditation on mental health, showing its effectiveness in reducing symptoms of anxiety and depression. Celebrities have also been vocal about their advocacy for meditation practices, sharing how it has positively impacted their lives. Events and workshops focused on meditation and mindfulness continue to attract individuals seeking to cultivate a sense of inner peace and well-being.\n",
      "\n",
      "## Target Audience Analysis\n",
      "\n",
      "Meditation appeals to a wide range of individuals, including young professionals looking to reduce stress and improve focus, stay-at-home parents seeking moments of relaxation, individuals dealing with anxiety or depression, and health and wellness enthusiasts interested in holistic practices. Whether you're new to meditation or have been practicing for years, there are resources and tools available to support you on your journey towards greater well-being.\n",
      "\n",
      "## SEO Keywords\n",
      "\n",
      "When it comes to meditation, keywords such as \"meditation benefits,\" \"mindfulness practices,\" \"guided meditation techniques,\" \"meditation for beginners,\" and \"meditation apps and tools\" can help individuals find valuable resources and information to enhance their practice. By incorporating these keywords into your search queries, you can discover a wealth of resources to support your meditation journey.\n",
      "\n",
      "## Call to Action\n",
      "\n",
      "As you explore the world of meditation, I encourage you to start incorporating meditation into your daily routine. Whether you prefer guided meditation sessions or mindfulness practices, there are resources available to support you on your journey towards inner peace and well-being. I invite you to share your meditation experiences in the comments section below and connect with others who are also seeking to find stillness and clarity in their lives.\n",
      "\n",
      "## Resources\n",
      "\n",
      "For those looking to dive deeper into the benefits of meditation, scientific studies, meditation apps, online platforms, and books and articles by industry experts can provide valuable insights and guidance. By exploring these resources, you can enhance your meditation practice and experience the transformative power of mindfulness in your daily life.\n",
      "\n",
      "\u001b[00m\n"
     ]
    }
   ],
   "source": [
    "topic = \"Meditation\"\n",
    "result = crew.kickoff(inputs={\"topic\": topic})"
   ]
  },
  {
   "cell_type": "code",
   "execution_count": 14,
   "metadata": {
    "height": 30
   },
   "outputs": [
    {
     "data": {
      "text/markdown": [
       "# The Power of Meditation: A Guide to Finding Inner Peace\n",
       "\n",
       "Meditation, a practice steeped in centuries of tradition and spirituality, offers individuals a path to inner peace and self-awareness. By honing the mind and fostering mindfulness, meditation serves as a sanctuary of calm in a world characterized by chaos and incessant activity. Integrating meditation into your daily routine can yield a myriad of benefits for your mental, emotional, and physical well-being, providing a refuge for moments of tranquility and clarity amidst the hustle and bustle of modern life.\n",
       "\n",
       "In the realm of meditation, recent years have witnessed a surge in popularity, buoyed by the advent of meditation apps and online platforms that have democratised access to this ancient practice. Moreover, corporations are increasingly incorporating meditation into their wellness initiatives, recognising its capacity to bolster employee productivity and satisfaction. Research substantiates the efficacy of meditation in stress reduction, focus enhancement, and overall well-being, underscoring its transformative potential in fostering a balanced and harmonious existence.\n",
       "\n",
       "In the landscape of the meditation industry, prominent players such as Insight Timer, Headspace, Calm, and Deepak Chopra have emerged as purveyors of guided meditation sessions, mindfulness practices, and tools designed to support individuals on their meditative odyssey. Whether you are a neophyte or a seasoned practitioner, these resources are invaluable in deepening your meditation practice and harnessing its profound therapeutic effects.\n",
       "\n",
       "## Latest Trends in Meditation\n",
       "\n",
       "In recent years, there has been a significant rise in the popularity of meditation, with the emergence of meditation apps and online platforms making it more accessible to a wider audience. Companies are also integrating meditation into their workplace wellness programs, recognizing the positive impact it can have on employee productivity and satisfaction. Research studies continue to demonstrate the benefits of meditation, showing its effectiveness in reducing stress, improving focus, and enhancing overall well-being.\n",
       "\n",
       "## Key Players in the Meditation Industry\n",
       "\n",
       "Some of the key players in the meditation industry include Insight Timer, Headspace, Calm, and Deepak Chopra. These platforms offer a variety of guided meditation sessions, mindfulness practices, and tools to support individuals in their meditation journey. Whether you're a beginner or a seasoned meditator, these resources can help you deepen your practice and experience the transformative power of meditation.\n",
       "\n",
       "## Noteworthy News on Meditation\n",
       "\n",
       "Recent studies have highlighted the impact of meditation on mental health, showing its effectiveness in reducing symptoms of anxiety and depression. Celebrities have also been vocal about their advocacy for meditation practices, sharing how it has positively impacted their lives. Events and workshops focused on meditation and mindfulness continue to attract individuals seeking to cultivate a sense of inner peace and well-being.\n",
       "\n",
       "## Target Audience Analysis\n",
       "\n",
       "Meditation appeals to a wide range of individuals, including young professionals looking to reduce stress and improve focus, stay-at-home parents seeking moments of relaxation, individuals dealing with anxiety or depression, and health and wellness enthusiasts interested in holistic practices. Whether you're new to meditation or have been practicing for years, there are resources and tools available to support you on your journey towards greater well-being.\n",
       "\n",
       "## SEO Keywords\n",
       "\n",
       "When it comes to meditation, keywords such as \"meditation benefits,\" \"mindfulness practices,\" \"guided meditation techniques,\" \"meditation for beginners,\" and \"meditation apps and tools\" can help individuals find valuable resources and information to enhance their practice. By incorporating these keywords into your search queries, you can discover a wealth of resources to support your meditation journey.\n",
       "\n",
       "## Call to Action\n",
       "\n",
       "As you explore the world of meditation, I encourage you to start incorporating meditation into your daily routine. Whether you prefer guided meditation sessions or mindfulness practices, there are resources available to support you on your journey towards inner peace and well-being. I invite you to share your meditation experiences in the comments section below and connect with others who are also seeking to find stillness and clarity in their lives.\n",
       "\n",
       "## Resources\n",
       "\n",
       "For those looking to dive deeper into the benefits of meditation, scientific studies, meditation apps, online platforms, and books and articles by industry experts can provide valuable insights and guidance. By exploring these resources, you can enhance your meditation practice and experience the transformative power of mindfulness in your daily life."
      ],
      "text/plain": [
       "<IPython.core.display.Markdown object>"
      ]
     },
     "execution_count": 14,
     "metadata": {},
     "output_type": "execute_result"
    }
   ],
   "source": [
    "Markdown(result)"
   ]
  },
  {
   "cell_type": "markdown",
   "metadata": {},
   "source": [
    "<a name='1'></a>\n",
    " ## Other Popular Models as LLM for your Agents"
   ]
  },
  {
   "cell_type": "markdown",
   "metadata": {},
   "source": [
    "#### Hugging Face (HuggingFaceHub endpoint)\n",
    "\n",
    "```Python\n",
    "from langchain_community.llms import HuggingFaceHub\n",
    "\n",
    "llm = HuggingFaceHub(\n",
    "    repo_id=\"HuggingFaceH4/zephyr-7b-beta\",\n",
    "    huggingfacehub_api_token=\"<HF_TOKEN_HERE>\",\n",
    "    task=\"text-generation\",\n",
    ")\n",
    "\n",
    "### you will pass \"llm\" to your agent function\n",
    "```"
   ]
  },
  {
   "cell_type": "markdown",
   "metadata": {},
   "source": [
    "#### Mistral API\n",
    "\n",
    "```Python\n",
    "OPENAI_API_KEY=your-mistral-api-key\n",
    "OPENAI_API_BASE=https://api.mistral.ai/v1\n",
    "OPENAI_MODEL_NAME=\"mistral-small\"\n",
    "```"
   ]
  },
  {
   "cell_type": "markdown",
   "metadata": {},
   "source": [
    "#### Cohere\n",
    "\n",
    "```Python\n",
    "from langchain_community.chat_models import ChatCohere\n",
    "# Initialize language model\n",
    "os.environ[\"COHERE_API_KEY\"] = \"your-cohere-api-key\"\n",
    "llm = ChatCohere()\n",
    "\n",
    "### you will pass \"llm\" to your agent function\n",
    "```"
   ]
  },
  {
   "cell_type": "markdown",
   "metadata": {},
   "source": [
    "### For using Llama locally with Ollama and more, checkout the crewAI documentation on [Connecting to any LLM](https://docs.crewai.com/how-to/LLM-Connections/)."
   ]
  },
  {
   "cell_type": "code",
   "execution_count": null,
   "metadata": {
    "height": 30
   },
   "outputs": [],
   "source": []
  },
  {
   "cell_type": "code",
   "execution_count": null,
   "metadata": {
    "height": 30
   },
   "outputs": [],
   "source": []
  },
  {
   "cell_type": "code",
   "execution_count": null,
   "metadata": {
    "height": 30
   },
   "outputs": [],
   "source": []
  }
 ],
 "metadata": {
  "colab": {
   "gpuType": "T4",
   "provenance": []
  },
  "kernelspec": {
   "display_name": "Python 3 (ipykernel)",
   "language": "python",
   "name": "python3"
  },
  "language_info": {
   "codemirror_mode": {
    "name": "ipython",
    "version": 3
   },
   "file_extension": ".py",
   "mimetype": "text/x-python",
   "name": "python",
   "nbconvert_exporter": "python",
   "pygments_lexer": "ipython3",
   "version": "3.11.9"
  }
 },
 "nbformat": 4,
 "nbformat_minor": 4
}
