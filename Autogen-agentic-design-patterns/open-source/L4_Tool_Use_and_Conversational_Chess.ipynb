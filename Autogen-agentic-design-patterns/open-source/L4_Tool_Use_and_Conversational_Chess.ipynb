{
 "cells": [
  {
   "cell_type": "markdown",
   "id": "9a6dd449",
   "metadata": {},
   "source": [
    "# Lesson 4: Tool Use and Conversational Chess"
   ]
  },
  {
   "cell_type": "markdown",
   "id": "75bcfd3c",
   "metadata": {},
   "source": [
    "## Setup"
   ]
  },
  {
   "cell_type": "code",
   "id": "6032c971-8934-4018-8743-eace0553578c",
   "metadata": {
    "height": 30,
    "ExecuteTime": {
     "end_time": "2024-07-21T07:26:03.046462Z",
     "start_time": "2024-07-21T07:26:03.043321Z"
    }
   },
   "source": [
    "llm_config = {\n",
    "        \"model\": \"qwen2\",\n",
    "        \"base_url\": \"http://localhost:11434/v1\",\n",
    "        \"api_key\": \"ollama\",\n",
    "    }"
   ],
   "outputs": [],
   "execution_count": 1
  },
  {
   "metadata": {},
   "cell_type": "code",
   "outputs": [],
   "execution_count": null,
   "source": "",
   "id": "dd9ddb66c98d35da"
  },
  {
   "metadata": {},
   "cell_type": "markdown",
   "source": [
    "Reference: <br>\n",
    "<a href=\"https://github.com/vajja/DeepLearningAI/blob/main/Autogen-agentic-design-patterns/Images/3.jpg\">link1</a><br>\n",
    "Chess: <a href=\"https://github.com/vajja/DeepLearningAI/blob/main/Autogen-agentic-design-patterns/Images/3_1.jpg\">link2</a>"
   ],
   "id": "fb2de7cbd9030075"
  },
  {
   "cell_type": "code",
   "id": "086cb574-1299-43ce-90b4-79e089a76a11",
   "metadata": {
    "height": 64,
    "ExecuteTime": {
     "end_time": "2024-07-21T07:26:05.439080Z",
     "start_time": "2024-07-21T07:26:05.403049Z"
    }
   },
   "source": [
    "import chess\n",
    "import chess.svg\n",
    "from typing_extensions import Annotated"
   ],
   "outputs": [],
   "execution_count": 2
  },
  {
   "cell_type": "markdown",
   "id": "f4406540",
   "metadata": {},
   "source": [
    "## Initialize the chess board"
   ]
  },
  {
   "cell_type": "code",
   "id": "10161c38-0fe6-4a03-a5ff-069e8374a1d8",
   "metadata": {
    "height": 30,
    "ExecuteTime": {
     "end_time": "2024-07-21T07:26:08.371067Z",
     "start_time": "2024-07-21T07:26:08.369351Z"
    }
   },
   "source": [
    "board = chess.Board()"
   ],
   "outputs": [],
   "execution_count": 3
  },
  {
   "metadata": {},
   "cell_type": "markdown",
   "source": "Updating if move has been made",
   "id": "2c0e35359f532152"
  },
  {
   "cell_type": "code",
   "id": "c799e0a9-be62-4c20-b524-7a39d125f46d",
   "metadata": {
    "height": 30,
    "ExecuteTime": {
     "end_time": "2024-07-21T07:26:17.378333Z",
     "start_time": "2024-07-21T07:26:17.375297Z"
    }
   },
   "source": [
    "made_move = False"
   ],
   "outputs": [],
   "execution_count": 4
  },
  {
   "cell_type": "markdown",
   "id": "22d38427",
   "metadata": {},
   "source": [
    "## Define the needed tools\n",
    "\n",
    "### 1. Tool for getting legal moves"
   ]
  },
  {
   "cell_type": "code",
   "id": "78607e9f-47b0-419e-b652-dd6b5b0390c1",
   "metadata": {
    "height": 132,
    "ExecuteTime": {
     "end_time": "2024-07-21T07:26:20.564261Z",
     "start_time": "2024-07-21T07:26:20.561350Z"
    }
   },
   "source": [
    "def get_legal_moves(\n",
    "    \n",
    ") -> Annotated[str, \"A list of legal moves in UCI format\"]:\n",
    "    # UCI format helps agent what moves are made\n",
    "    return \"Possible moves are: \" + \",\".join(\n",
    "        [str(move) for move in board.legal_moves]\n",
    "    )"
   ],
   "outputs": [],
   "execution_count": 5
  },
  {
   "cell_type": "markdown",
   "id": "0be25bc8",
   "metadata": {},
   "source": [
    "### 2. Tool for making a move on the board"
   ]
  },
  {
   "cell_type": "code",
   "id": "08a09854-dfd4-495c-84c1-8ea1dd8cacdb",
   "metadata": {
    "height": 727,
    "ExecuteTime": {
     "end_time": "2024-07-21T07:26:23.350221Z",
     "start_time": "2024-07-21T07:26:23.346302Z"
    }
   },
   "source": [
    "def make_move(\n",
    "    move: Annotated[str, \"A move in UCI format.\"]\n",
    ") -> Annotated[str, \"Result of the move.\"]:\n",
    "    \"\"\"\n",
    "    \"\"\"\n",
    "    \n",
    "    # retrieving move from chess board\n",
    "    move = chess.Move.from_uci(move)\n",
    "    \n",
    "    # push that move to the board\n",
    "    board.push_uci(str(move))\n",
    "    global made_move\n",
    "    made_move = True\n",
    "    \n",
    "    # Display the board.\n",
    "    display(\n",
    "        # to create the board\n",
    "        chess.svg.board(\n",
    "            board,\n",
    "            arrows=[(move.from_square, move.to_square)],\n",
    "            fill={move.from_square: \"gray\"},\n",
    "            size=200\n",
    "        )\n",
    "    )\n",
    "    \n",
    "    # Get the piece name.\n",
    "    piece = board.piece_at(move.to_square)\n",
    "    \n",
    "    # get symbol of the piece\n",
    "    piece_symbol = piece.unicode_symbol()\n",
    "    \n",
    "    # create piece name\n",
    "    piece_name = (\n",
    "        chess.piece_name(piece.piece_type).capitalize()\n",
    "        if piece_symbol.isupper()\n",
    "        else chess.piece_name(piece.piece_type)\n",
    "    )\n",
    "    \n",
    "    # return the move content moved original location to new location\n",
    "    return f\"Moved {piece_name} ({piece_symbol}) from \"\\\n",
    "    f\"{chess.SQUARE_NAMES[move.from_square]} to \"\\\n",
    "    f\"{chess.SQUARE_NAMES[move.to_square]}.\""
   ],
   "outputs": [],
   "execution_count": 6
  },
  {
   "cell_type": "markdown",
   "id": "a06e6f41",
   "metadata": {},
   "source": [
    "## Create agents\n",
    "\n",
    "You will create the player agents and a board proxy agents for the chess board."
   ]
  },
  {
   "cell_type": "code",
   "id": "3055679f-5f69-4d32-aff6-076925a36174",
   "metadata": {
    "height": 30,
    "ExecuteTime": {
     "end_time": "2024-07-21T07:26:26.929072Z",
     "start_time": "2024-07-21T07:26:25.598409Z"
    }
   },
   "source": [
    "from autogen import ConversableAgent"
   ],
   "outputs": [],
   "execution_count": 7
  },
  {
   "cell_type": "code",
   "id": "9466949c-c2cf-4bba-8307-d7ff4b70a948",
   "metadata": {
    "height": 149,
    "ExecuteTime": {
     "end_time": "2024-07-21T07:26:27.680552Z",
     "start_time": "2024-07-21T07:26:27.656640Z"
    }
   },
   "source": [
    "# Player white agent\n",
    "player_white = ConversableAgent(\n",
    "    name=\"Player White\",\n",
    "    system_message=\"You are a chess player and you play as white. \"\n",
    "    \"First call get_legal_moves(), to get a list of legal moves. \"\n",
    "    \"Then call make_move(move) to make a move.\",\n",
    "    llm_config=llm_config,\n",
    ")"
   ],
   "outputs": [],
   "execution_count": 8
  },
  {
   "cell_type": "code",
   "id": "dcb6a474-2691-425c-8558-beb3363cd2bb",
   "metadata": {
    "height": 149,
    "ExecuteTime": {
     "end_time": "2024-07-21T07:26:30.991448Z",
     "start_time": "2024-07-21T07:26:30.969471Z"
    }
   },
   "source": [
    "# Player black agent\n",
    "player_black = ConversableAgent(\n",
    "    name=\"Player Black\",\n",
    "    system_message=\"You are a chess player and you play as black. \"\n",
    "    \"First call get_legal_moves(), to get a list of legal moves. \"\n",
    "    \"Then call make_move(move) to make a move.\",\n",
    "    llm_config=llm_config,\n",
    ")"
   ],
   "outputs": [],
   "execution_count": 9
  },
  {
   "cell_type": "code",
   "id": "6b69ac38-6399-425a-9681-4a2b7403a4bf",
   "metadata": {
    "height": 166,
    "ExecuteTime": {
     "end_time": "2024-07-21T07:26:38.409159Z",
     "start_time": "2024-07-21T07:26:38.406252Z"
    }
   },
   "source": [
    "# stopping condition\n",
    "def check_made_move(msg):\n",
    "    global made_move\n",
    "    if made_move:\n",
    "        made_move = False\n",
    "        return True\n",
    "    else:\n",
    "        return False\n"
   ],
   "outputs": [],
   "execution_count": 10
  },
  {
   "cell_type": "code",
   "id": "c3eaa260-422c-4e44-a355-42f0d885e9bc",
   "metadata": {
    "height": 149,
    "ExecuteTime": {
     "end_time": "2024-07-21T07:26:39.835771Z",
     "start_time": "2024-07-21T07:26:39.833343Z"
    }
   },
   "source": [
    "# board agent\n",
    "board_proxy = ConversableAgent(\n",
    "    name=\"Board Proxy\",\n",
    "    llm_config=False,\n",
    "    is_termination_msg=check_made_move,\n",
    "    default_auto_reply=\"Please make a move.\",\n",
    "    human_input_mode=\"NEVER\",\n",
    ")"
   ],
   "outputs": [],
   "execution_count": 11
  },
  {
   "cell_type": "markdown",
   "id": "3cd1c45d",
   "metadata": {},
   "source": [
    "## Register the tools\n",
    "\n",
    "A tool must be registered for the agent that calls the tool and the agent that executes the tool."
   ]
  },
  {
   "cell_type": "code",
   "id": "5caf8ae1-4b39-4be5-89fa-0d57b4595841",
   "metadata": {
    "height": 30,
    "ExecuteTime": {
     "end_time": "2024-07-21T07:27:38.927957Z",
     "start_time": "2024-07-21T07:27:38.925680Z"
    }
   },
   "source": [
    "from autogen import register_function"
   ],
   "outputs": [],
   "execution_count": 13
  },
  {
   "cell_type": "code",
   "id": "880a9926-d76b-4322-872c-b691d933506e",
   "metadata": {
    "height": 421,
    "ExecuteTime": {
     "end_time": "2024-07-21T07:27:39.485593Z",
     "start_time": "2024-07-21T07:27:39.409651Z"
    }
   },
   "source": [
    "# moves for each player\n",
    "for caller in [player_white, player_black]:\n",
    "    \n",
    "    register_function(\n",
    "        # checking legal moves\n",
    "        get_legal_moves,\n",
    "        \n",
    "        # set caller \n",
    "        caller=caller,\n",
    "        \n",
    "        # board agent\n",
    "        executor=board_proxy,\n",
    "        name=\"get_legal_moves\",\n",
    "        description=\"Get legal moves.\",\n",
    "    )\n",
    "    \n",
    "    # second function\n",
    "    register_function(\n",
    "        # make move\n",
    "        make_move,\n",
    "        caller=caller,\n",
    "        executor=board_proxy,\n",
    "        name=\"make_move\",\n",
    "        description=\"Call this tool to make a move.\",\n",
    "    )"
   ],
   "outputs": [],
   "execution_count": 14
  },
  {
   "cell_type": "code",
   "id": "dd487d3e-9226-4764-bd25-b452c1993388",
   "metadata": {
    "height": 30,
    "ExecuteTime": {
     "end_time": "2024-07-21T07:28:08.607495Z",
     "start_time": "2024-07-21T07:28:08.603036Z"
    }
   },
   "source": [
    "player_black.llm_config[\"tools\"]"
   ],
   "outputs": [
    {
     "data": {
      "text/plain": [
       "[{'type': 'function',\n",
       "  'function': {'description': 'Get legal moves.',\n",
       "   'name': 'get_legal_moves',\n",
       "   'parameters': {'type': 'object', 'properties': {}, 'required': []}}},\n",
       " {'type': 'function',\n",
       "  'function': {'description': 'Call this tool to make a move.',\n",
       "   'name': 'make_move',\n",
       "   'parameters': {'type': 'object',\n",
       "    'properties': {'move': {'type': 'string',\n",
       "      'description': 'A move in UCI format.'}},\n",
       "    'required': ['move']}}}]"
      ]
     },
     "execution_count": 15,
     "metadata": {},
     "output_type": "execute_result"
    }
   ],
   "execution_count": 15
  },
  {
   "metadata": {},
   "cell_type": "code",
   "outputs": [],
   "execution_count": null,
   "source": "",
   "id": "5604c08506a11a54"
  },
  {
   "cell_type": "markdown",
   "id": "1a7fa1f0",
   "metadata": {},
   "source": [
    "## Register the nested chats\n",
    "\n",
    "Each player agent will have a nested chat with the board proxy agent to\n",
    "make moves on the chess board."
   ]
  },
  {
   "cell_type": "code",
   "id": "3230f945-f302-4f39-bc37-766ca082fb28",
   "metadata": {
    "height": 489,
    "ExecuteTime": {
     "end_time": "2024-07-21T07:32:24.950386Z",
     "start_time": "2024-07-21T07:32:24.947638Z"
    }
   },
   "source": [
    "# to make sure the move is legal\n",
    "\n",
    "# for play white the trigger is player black and vice versa\n",
    "player_white.register_nested_chats(\n",
    "    \n",
    "    # whenever please white receives message from player back\n",
    "    # message chant will be performed\n",
    "    trigger=player_black,\n",
    "    \n",
    "    # in message chat\n",
    "    chat_queue=[\n",
    "        {\n",
    "            # proxy\n",
    "            \"sender\": board_proxy,\n",
    "            # receiver\n",
    "            \"recipient\": player_white,\n",
    "            # last message as summarizer\n",
    "            \"summary_method\": \"last_msg\",\n",
    "        }\n",
    "    ],\n",
    ")\n",
    "\n",
    "# similarly for play white the trigger is player black and vice versa\n",
    "player_black.register_nested_chats(\n",
    "    trigger=player_white,\n",
    "    chat_queue=[\n",
    "        {\n",
    "            \"sender\": board_proxy,\n",
    "            \"recipient\": player_black,\n",
    "            \"summary_method\": \"last_msg\",\n",
    "        }\n",
    "    ],\n",
    ")"
   ],
   "outputs": [],
   "execution_count": 16
  },
  {
   "cell_type": "markdown",
   "id": "d371ce02",
   "metadata": {},
   "source": [
    "## Start the Game\n",
    "\n",
    "The game will start with the first message."
   ]
  },
  {
   "cell_type": "markdown",
   "id": "ceb2b874",
   "metadata": {},
   "source": [
    "<p style=\"background-color:#ECECEC; padding:15px; \"> <b>Note:</b> In this lesson, you will use GPT 4 for better results. Please note that the lesson has a quota limit. If you want to explore the code in this lesson further, we recommend trying it locally with your own API key."
   ]
  },
  {
   "cell_type": "markdown",
   "id": "5f445154",
   "metadata": {},
   "source": [
    "**Note**: You might get a slightly different moves than what's shown in the video."
   ]
  },
  {
   "cell_type": "code",
   "id": "5595758f-7ae1-467f-bad9-79c6c7cd0b25",
   "metadata": {
    "height": 166,
    "ExecuteTime": {
     "end_time": "2024-07-21T07:36:39.281785Z",
     "start_time": "2024-07-21T07:36:39.092941Z"
    }
   },
   "source": [
    "# create new board\n",
    "board = chess.Board()\n",
    "\n",
    "# initiage message\n",
    "chat_result = player_black.initiate_chat(\n",
    "    player_white,\n",
    "    message=\"Let's play chess! Your move.\",\n",
    "    max_turns=2,\n",
    "    # llm_config=llm_config\n",
    ")"
   ],
   "outputs": [
    {
     "name": "stdout",
     "output_type": "stream",
     "text": [
      "\u001B[33mPlayer Black\u001B[0m (to Player White):\n",
      "\n",
      "Let's play chess! Your move.\n",
      "\n",
      "--------------------------------------------------------------------------------\n",
      "\u001B[31m\n",
      ">>>>>>>> USING AUTO REPLY...\u001B[0m\n",
      "\u001B[34m\n",
      "********************************************************************************\u001B[0m\n",
      "\u001B[34mStarting a new chat....\u001B[0m\n",
      "\u001B[34m\n",
      "********************************************************************************\u001B[0m\n",
      "\u001B[31m\n",
      ">>>>>>>> USING AUTO REPLY...\u001B[0m\n"
     ]
    },
    {
     "ename": "BadRequestError",
     "evalue": "Error code: 400 - {'error': {'message': 'qwen2 does not support tools', 'type': 'api_error', 'param': None, 'code': None}}",
     "output_type": "error",
     "traceback": [
      "\u001B[0;31m---------------------------------------------------------------------------\u001B[0m",
      "\u001B[0;31mBadRequestError\u001B[0m                           Traceback (most recent call last)",
      "Cell \u001B[0;32mIn[23], line 5\u001B[0m\n\u001B[1;32m      2\u001B[0m board \u001B[38;5;241m=\u001B[39m chess\u001B[38;5;241m.\u001B[39mBoard()\n\u001B[1;32m      4\u001B[0m \u001B[38;5;66;03m# initiage message\u001B[39;00m\n\u001B[0;32m----> 5\u001B[0m chat_result \u001B[38;5;241m=\u001B[39m \u001B[43mplayer_black\u001B[49m\u001B[38;5;241;43m.\u001B[39;49m\u001B[43minitiate_chat\u001B[49m\u001B[43m(\u001B[49m\n\u001B[1;32m      6\u001B[0m \u001B[43m    \u001B[49m\u001B[43mplayer_white\u001B[49m\u001B[43m,\u001B[49m\n\u001B[1;32m      7\u001B[0m \u001B[43m    \u001B[49m\u001B[43mmessage\u001B[49m\u001B[38;5;241;43m=\u001B[39;49m\u001B[38;5;124;43m\"\u001B[39;49m\u001B[38;5;124;43mLet\u001B[39;49m\u001B[38;5;124;43m'\u001B[39;49m\u001B[38;5;124;43ms play chess! Your move.\u001B[39;49m\u001B[38;5;124;43m\"\u001B[39;49m\u001B[43m,\u001B[49m\n\u001B[1;32m      8\u001B[0m \u001B[43m    \u001B[49m\u001B[43mmax_turns\u001B[49m\u001B[38;5;241;43m=\u001B[39;49m\u001B[38;5;241;43m2\u001B[39;49m\u001B[43m,\u001B[49m\n\u001B[1;32m      9\u001B[0m \u001B[43m    \u001B[49m\u001B[43mllm_config\u001B[49m\u001B[38;5;241;43m=\u001B[39;49m\u001B[43mllm_config\u001B[49m\n\u001B[1;32m     10\u001B[0m \u001B[43m)\u001B[49m\n",
      "File \u001B[0;32m~/PycharmProjects/Experiments/.venv/lib/python3.12/site-packages/autogen/agentchat/conversable_agent.py:984\u001B[0m, in \u001B[0;36mConversableAgent.initiate_chat\u001B[0;34m(self, recipient, clear_history, silent, cache, max_turns, summary_method, summary_args, message, **kwargs)\u001B[0m\n\u001B[1;32m    982\u001B[0m         \u001B[38;5;28;01mif\u001B[39;00m msg2send \u001B[38;5;129;01mis\u001B[39;00m \u001B[38;5;28;01mNone\u001B[39;00m:\n\u001B[1;32m    983\u001B[0m             \u001B[38;5;28;01mbreak\u001B[39;00m\n\u001B[0;32m--> 984\u001B[0m         \u001B[38;5;28;43mself\u001B[39;49m\u001B[38;5;241;43m.\u001B[39;49m\u001B[43msend\u001B[49m\u001B[43m(\u001B[49m\u001B[43mmsg2send\u001B[49m\u001B[43m,\u001B[49m\u001B[43m \u001B[49m\u001B[43mrecipient\u001B[49m\u001B[43m,\u001B[49m\u001B[43m \u001B[49m\u001B[43mrequest_reply\u001B[49m\u001B[38;5;241;43m=\u001B[39;49m\u001B[38;5;28;43;01mTrue\u001B[39;49;00m\u001B[43m,\u001B[49m\u001B[43m \u001B[49m\u001B[43msilent\u001B[49m\u001B[38;5;241;43m=\u001B[39;49m\u001B[43msilent\u001B[49m\u001B[43m)\u001B[49m\n\u001B[1;32m    985\u001B[0m \u001B[38;5;28;01melse\u001B[39;00m:\n\u001B[1;32m    986\u001B[0m     \u001B[38;5;28mself\u001B[39m\u001B[38;5;241m.\u001B[39m_prepare_chat(recipient, clear_history)\n",
      "File \u001B[0;32m~/PycharmProjects/Experiments/.venv/lib/python3.12/site-packages/autogen/agentchat/conversable_agent.py:632\u001B[0m, in \u001B[0;36mConversableAgent.send\u001B[0;34m(self, message, recipient, request_reply, silent)\u001B[0m\n\u001B[1;32m    630\u001B[0m valid \u001B[38;5;241m=\u001B[39m \u001B[38;5;28mself\u001B[39m\u001B[38;5;241m.\u001B[39m_append_oai_message(message, \u001B[38;5;124m\"\u001B[39m\u001B[38;5;124massistant\u001B[39m\u001B[38;5;124m\"\u001B[39m, recipient)\n\u001B[1;32m    631\u001B[0m \u001B[38;5;28;01mif\u001B[39;00m valid:\n\u001B[0;32m--> 632\u001B[0m     \u001B[43mrecipient\u001B[49m\u001B[38;5;241;43m.\u001B[39;49m\u001B[43mreceive\u001B[49m\u001B[43m(\u001B[49m\u001B[43mmessage\u001B[49m\u001B[43m,\u001B[49m\u001B[43m \u001B[49m\u001B[38;5;28;43mself\u001B[39;49m\u001B[43m,\u001B[49m\u001B[43m \u001B[49m\u001B[43mrequest_reply\u001B[49m\u001B[43m,\u001B[49m\u001B[43m \u001B[49m\u001B[43msilent\u001B[49m\u001B[43m)\u001B[49m\n\u001B[1;32m    633\u001B[0m \u001B[38;5;28;01melse\u001B[39;00m:\n\u001B[1;32m    634\u001B[0m     \u001B[38;5;28;01mraise\u001B[39;00m \u001B[38;5;167;01mValueError\u001B[39;00m(\n\u001B[1;32m    635\u001B[0m         \u001B[38;5;124m\"\u001B[39m\u001B[38;5;124mMessage can\u001B[39m\u001B[38;5;124m'\u001B[39m\u001B[38;5;124mt be converted into a valid ChatCompletion message. Either content or function_call must be provided.\u001B[39m\u001B[38;5;124m\"\u001B[39m\n\u001B[1;32m    636\u001B[0m     )\n",
      "File \u001B[0;32m~/PycharmProjects/Experiments/.venv/lib/python3.12/site-packages/autogen/agentchat/conversable_agent.py:792\u001B[0m, in \u001B[0;36mConversableAgent.receive\u001B[0;34m(self, message, sender, request_reply, silent)\u001B[0m\n\u001B[1;32m    790\u001B[0m \u001B[38;5;28;01mif\u001B[39;00m request_reply \u001B[38;5;129;01mis\u001B[39;00m \u001B[38;5;28;01mFalse\u001B[39;00m \u001B[38;5;129;01mor\u001B[39;00m request_reply \u001B[38;5;129;01mis\u001B[39;00m \u001B[38;5;28;01mNone\u001B[39;00m \u001B[38;5;129;01mand\u001B[39;00m \u001B[38;5;28mself\u001B[39m\u001B[38;5;241m.\u001B[39mreply_at_receive[sender] \u001B[38;5;129;01mis\u001B[39;00m \u001B[38;5;28;01mFalse\u001B[39;00m:\n\u001B[1;32m    791\u001B[0m     \u001B[38;5;28;01mreturn\u001B[39;00m\n\u001B[0;32m--> 792\u001B[0m reply \u001B[38;5;241m=\u001B[39m \u001B[38;5;28;43mself\u001B[39;49m\u001B[38;5;241;43m.\u001B[39;49m\u001B[43mgenerate_reply\u001B[49m\u001B[43m(\u001B[49m\u001B[43mmessages\u001B[49m\u001B[38;5;241;43m=\u001B[39;49m\u001B[38;5;28;43mself\u001B[39;49m\u001B[38;5;241;43m.\u001B[39;49m\u001B[43mchat_messages\u001B[49m\u001B[43m[\u001B[49m\u001B[43msender\u001B[49m\u001B[43m]\u001B[49m\u001B[43m,\u001B[49m\u001B[43m \u001B[49m\u001B[43msender\u001B[49m\u001B[38;5;241;43m=\u001B[39;49m\u001B[43msender\u001B[49m\u001B[43m)\u001B[49m\n\u001B[1;32m    793\u001B[0m \u001B[38;5;28;01mif\u001B[39;00m reply \u001B[38;5;129;01mis\u001B[39;00m \u001B[38;5;129;01mnot\u001B[39;00m \u001B[38;5;28;01mNone\u001B[39;00m:\n\u001B[1;32m    794\u001B[0m     \u001B[38;5;28mself\u001B[39m\u001B[38;5;241m.\u001B[39msend(reply, sender, silent\u001B[38;5;241m=\u001B[39msilent)\n",
      "File \u001B[0;32m~/PycharmProjects/Experiments/.venv/lib/python3.12/site-packages/autogen/agentchat/conversable_agent.py:1921\u001B[0m, in \u001B[0;36mConversableAgent.generate_reply\u001B[0;34m(self, messages, sender, **kwargs)\u001B[0m\n\u001B[1;32m   1919\u001B[0m     \u001B[38;5;28;01mcontinue\u001B[39;00m\n\u001B[1;32m   1920\u001B[0m \u001B[38;5;28;01mif\u001B[39;00m \u001B[38;5;28mself\u001B[39m\u001B[38;5;241m.\u001B[39m_match_trigger(reply_func_tuple[\u001B[38;5;124m\"\u001B[39m\u001B[38;5;124mtrigger\u001B[39m\u001B[38;5;124m\"\u001B[39m], sender):\n\u001B[0;32m-> 1921\u001B[0m     final, reply \u001B[38;5;241m=\u001B[39m \u001B[43mreply_func\u001B[49m\u001B[43m(\u001B[49m\u001B[38;5;28;43mself\u001B[39;49m\u001B[43m,\u001B[49m\u001B[43m \u001B[49m\u001B[43mmessages\u001B[49m\u001B[38;5;241;43m=\u001B[39;49m\u001B[43mmessages\u001B[49m\u001B[43m,\u001B[49m\u001B[43m \u001B[49m\u001B[43msender\u001B[49m\u001B[38;5;241;43m=\u001B[39;49m\u001B[43msender\u001B[49m\u001B[43m,\u001B[49m\u001B[43m \u001B[49m\u001B[43mconfig\u001B[49m\u001B[38;5;241;43m=\u001B[39;49m\u001B[43mreply_func_tuple\u001B[49m\u001B[43m[\u001B[49m\u001B[38;5;124;43m\"\u001B[39;49m\u001B[38;5;124;43mconfig\u001B[39;49m\u001B[38;5;124;43m\"\u001B[39;49m\u001B[43m]\u001B[49m\u001B[43m)\u001B[49m\n\u001B[1;32m   1922\u001B[0m     \u001B[38;5;28;01mif\u001B[39;00m final:\n\u001B[1;32m   1923\u001B[0m         \u001B[38;5;28;01mreturn\u001B[39;00m reply\n",
      "File \u001B[0;32m~/PycharmProjects/Experiments/.venv/lib/python3.12/site-packages/autogen/agentchat/conversable_agent.py:389\u001B[0m, in \u001B[0;36mConversableAgent._summary_from_nested_chats\u001B[0;34m(chat_queue, recipient, messages, sender, config)\u001B[0m\n\u001B[1;32m    387\u001B[0m \u001B[38;5;28;01mif\u001B[39;00m \u001B[38;5;129;01mnot\u001B[39;00m chat_to_run:\n\u001B[1;32m    388\u001B[0m     \u001B[38;5;28;01mreturn\u001B[39;00m \u001B[38;5;28;01mTrue\u001B[39;00m, \u001B[38;5;28;01mNone\u001B[39;00m\n\u001B[0;32m--> 389\u001B[0m res \u001B[38;5;241m=\u001B[39m \u001B[43minitiate_chats\u001B[49m\u001B[43m(\u001B[49m\u001B[43mchat_to_run\u001B[49m\u001B[43m)\u001B[49m\n\u001B[1;32m    390\u001B[0m \u001B[38;5;28;01mreturn\u001B[39;00m \u001B[38;5;28;01mTrue\u001B[39;00m, res[\u001B[38;5;241m-\u001B[39m\u001B[38;5;241m1\u001B[39m]\u001B[38;5;241m.\u001B[39msummary\n",
      "File \u001B[0;32m~/PycharmProjects/Experiments/.venv/lib/python3.12/site-packages/autogen/agentchat/chat.py:190\u001B[0m, in \u001B[0;36minitiate_chats\u001B[0;34m(chat_queue)\u001B[0m\n\u001B[1;32m    188\u001B[0m     __post_carryover_processing(chat_info)\n\u001B[1;32m    189\u001B[0m     sender \u001B[38;5;241m=\u001B[39m chat_info[\u001B[38;5;124m\"\u001B[39m\u001B[38;5;124msender\u001B[39m\u001B[38;5;124m\"\u001B[39m]\n\u001B[0;32m--> 190\u001B[0m     chat_res \u001B[38;5;241m=\u001B[39m \u001B[43msender\u001B[49m\u001B[38;5;241;43m.\u001B[39;49m\u001B[43minitiate_chat\u001B[49m\u001B[43m(\u001B[49m\u001B[38;5;241;43m*\u001B[39;49m\u001B[38;5;241;43m*\u001B[39;49m\u001B[43mchat_info\u001B[49m\u001B[43m)\u001B[49m\n\u001B[1;32m    191\u001B[0m     finished_chats\u001B[38;5;241m.\u001B[39mappend(chat_res)\n\u001B[1;32m    192\u001B[0m \u001B[38;5;28;01mreturn\u001B[39;00m finished_chats\n",
      "File \u001B[0;32m~/PycharmProjects/Experiments/.venv/lib/python3.12/site-packages/autogen/agentchat/conversable_agent.py:991\u001B[0m, in \u001B[0;36mConversableAgent.initiate_chat\u001B[0;34m(self, recipient, clear_history, silent, cache, max_turns, summary_method, summary_args, message, **kwargs)\u001B[0m\n\u001B[1;32m    989\u001B[0m     \u001B[38;5;28;01melse\u001B[39;00m:\n\u001B[1;32m    990\u001B[0m         msg2send \u001B[38;5;241m=\u001B[39m \u001B[38;5;28mself\u001B[39m\u001B[38;5;241m.\u001B[39mgenerate_init_message(message, \u001B[38;5;241m*\u001B[39m\u001B[38;5;241m*\u001B[39mkwargs)\n\u001B[0;32m--> 991\u001B[0m     \u001B[38;5;28;43mself\u001B[39;49m\u001B[38;5;241;43m.\u001B[39;49m\u001B[43msend\u001B[49m\u001B[43m(\u001B[49m\u001B[43mmsg2send\u001B[49m\u001B[43m,\u001B[49m\u001B[43m \u001B[49m\u001B[43mrecipient\u001B[49m\u001B[43m,\u001B[49m\u001B[43m \u001B[49m\u001B[43msilent\u001B[49m\u001B[38;5;241;43m=\u001B[39;49m\u001B[43msilent\u001B[49m\u001B[43m)\u001B[49m\n\u001B[1;32m    992\u001B[0m summary \u001B[38;5;241m=\u001B[39m \u001B[38;5;28mself\u001B[39m\u001B[38;5;241m.\u001B[39m_summarize_chat(\n\u001B[1;32m    993\u001B[0m     summary_method,\n\u001B[1;32m    994\u001B[0m     summary_args,\n\u001B[1;32m    995\u001B[0m     recipient,\n\u001B[1;32m    996\u001B[0m     cache\u001B[38;5;241m=\u001B[39mcache,\n\u001B[1;32m    997\u001B[0m )\n\u001B[1;32m    998\u001B[0m \u001B[38;5;28;01mfor\u001B[39;00m agent \u001B[38;5;129;01min\u001B[39;00m [\u001B[38;5;28mself\u001B[39m, recipient]:\n",
      "File \u001B[0;32m~/PycharmProjects/Experiments/.venv/lib/python3.12/site-packages/autogen/agentchat/conversable_agent.py:632\u001B[0m, in \u001B[0;36mConversableAgent.send\u001B[0;34m(self, message, recipient, request_reply, silent)\u001B[0m\n\u001B[1;32m    630\u001B[0m valid \u001B[38;5;241m=\u001B[39m \u001B[38;5;28mself\u001B[39m\u001B[38;5;241m.\u001B[39m_append_oai_message(message, \u001B[38;5;124m\"\u001B[39m\u001B[38;5;124massistant\u001B[39m\u001B[38;5;124m\"\u001B[39m, recipient)\n\u001B[1;32m    631\u001B[0m \u001B[38;5;28;01mif\u001B[39;00m valid:\n\u001B[0;32m--> 632\u001B[0m     \u001B[43mrecipient\u001B[49m\u001B[38;5;241;43m.\u001B[39;49m\u001B[43mreceive\u001B[49m\u001B[43m(\u001B[49m\u001B[43mmessage\u001B[49m\u001B[43m,\u001B[49m\u001B[43m \u001B[49m\u001B[38;5;28;43mself\u001B[39;49m\u001B[43m,\u001B[49m\u001B[43m \u001B[49m\u001B[43mrequest_reply\u001B[49m\u001B[43m,\u001B[49m\u001B[43m \u001B[49m\u001B[43msilent\u001B[49m\u001B[43m)\u001B[49m\n\u001B[1;32m    633\u001B[0m \u001B[38;5;28;01melse\u001B[39;00m:\n\u001B[1;32m    634\u001B[0m     \u001B[38;5;28;01mraise\u001B[39;00m \u001B[38;5;167;01mValueError\u001B[39;00m(\n\u001B[1;32m    635\u001B[0m         \u001B[38;5;124m\"\u001B[39m\u001B[38;5;124mMessage can\u001B[39m\u001B[38;5;124m'\u001B[39m\u001B[38;5;124mt be converted into a valid ChatCompletion message. Either content or function_call must be provided.\u001B[39m\u001B[38;5;124m\"\u001B[39m\n\u001B[1;32m    636\u001B[0m     )\n",
      "File \u001B[0;32m~/PycharmProjects/Experiments/.venv/lib/python3.12/site-packages/autogen/agentchat/conversable_agent.py:792\u001B[0m, in \u001B[0;36mConversableAgent.receive\u001B[0;34m(self, message, sender, request_reply, silent)\u001B[0m\n\u001B[1;32m    790\u001B[0m \u001B[38;5;28;01mif\u001B[39;00m request_reply \u001B[38;5;129;01mis\u001B[39;00m \u001B[38;5;28;01mFalse\u001B[39;00m \u001B[38;5;129;01mor\u001B[39;00m request_reply \u001B[38;5;129;01mis\u001B[39;00m \u001B[38;5;28;01mNone\u001B[39;00m \u001B[38;5;129;01mand\u001B[39;00m \u001B[38;5;28mself\u001B[39m\u001B[38;5;241m.\u001B[39mreply_at_receive[sender] \u001B[38;5;129;01mis\u001B[39;00m \u001B[38;5;28;01mFalse\u001B[39;00m:\n\u001B[1;32m    791\u001B[0m     \u001B[38;5;28;01mreturn\u001B[39;00m\n\u001B[0;32m--> 792\u001B[0m reply \u001B[38;5;241m=\u001B[39m \u001B[38;5;28;43mself\u001B[39;49m\u001B[38;5;241;43m.\u001B[39;49m\u001B[43mgenerate_reply\u001B[49m\u001B[43m(\u001B[49m\u001B[43mmessages\u001B[49m\u001B[38;5;241;43m=\u001B[39;49m\u001B[38;5;28;43mself\u001B[39;49m\u001B[38;5;241;43m.\u001B[39;49m\u001B[43mchat_messages\u001B[49m\u001B[43m[\u001B[49m\u001B[43msender\u001B[49m\u001B[43m]\u001B[49m\u001B[43m,\u001B[49m\u001B[43m \u001B[49m\u001B[43msender\u001B[49m\u001B[38;5;241;43m=\u001B[39;49m\u001B[43msender\u001B[49m\u001B[43m)\u001B[49m\n\u001B[1;32m    793\u001B[0m \u001B[38;5;28;01mif\u001B[39;00m reply \u001B[38;5;129;01mis\u001B[39;00m \u001B[38;5;129;01mnot\u001B[39;00m \u001B[38;5;28;01mNone\u001B[39;00m:\n\u001B[1;32m    794\u001B[0m     \u001B[38;5;28mself\u001B[39m\u001B[38;5;241m.\u001B[39msend(reply, sender, silent\u001B[38;5;241m=\u001B[39msilent)\n",
      "File \u001B[0;32m~/PycharmProjects/Experiments/.venv/lib/python3.12/site-packages/autogen/agentchat/conversable_agent.py:1921\u001B[0m, in \u001B[0;36mConversableAgent.generate_reply\u001B[0;34m(self, messages, sender, **kwargs)\u001B[0m\n\u001B[1;32m   1919\u001B[0m     \u001B[38;5;28;01mcontinue\u001B[39;00m\n\u001B[1;32m   1920\u001B[0m \u001B[38;5;28;01mif\u001B[39;00m \u001B[38;5;28mself\u001B[39m\u001B[38;5;241m.\u001B[39m_match_trigger(reply_func_tuple[\u001B[38;5;124m\"\u001B[39m\u001B[38;5;124mtrigger\u001B[39m\u001B[38;5;124m\"\u001B[39m], sender):\n\u001B[0;32m-> 1921\u001B[0m     final, reply \u001B[38;5;241m=\u001B[39m \u001B[43mreply_func\u001B[49m\u001B[43m(\u001B[49m\u001B[38;5;28;43mself\u001B[39;49m\u001B[43m,\u001B[49m\u001B[43m \u001B[49m\u001B[43mmessages\u001B[49m\u001B[38;5;241;43m=\u001B[39;49m\u001B[43mmessages\u001B[49m\u001B[43m,\u001B[49m\u001B[43m \u001B[49m\u001B[43msender\u001B[49m\u001B[38;5;241;43m=\u001B[39;49m\u001B[43msender\u001B[49m\u001B[43m,\u001B[49m\u001B[43m \u001B[49m\u001B[43mconfig\u001B[49m\u001B[38;5;241;43m=\u001B[39;49m\u001B[43mreply_func_tuple\u001B[49m\u001B[43m[\u001B[49m\u001B[38;5;124;43m\"\u001B[39;49m\u001B[38;5;124;43mconfig\u001B[39;49m\u001B[38;5;124;43m\"\u001B[39;49m\u001B[43m]\u001B[49m\u001B[43m)\u001B[49m\n\u001B[1;32m   1922\u001B[0m     \u001B[38;5;28;01mif\u001B[39;00m final:\n\u001B[1;32m   1923\u001B[0m         \u001B[38;5;28;01mreturn\u001B[39;00m reply\n",
      "File \u001B[0;32m~/PycharmProjects/Experiments/.venv/lib/python3.12/site-packages/autogen/agentchat/conversable_agent.py:1287\u001B[0m, in \u001B[0;36mConversableAgent.generate_oai_reply\u001B[0;34m(self, messages, sender, config)\u001B[0m\n\u001B[1;32m   1285\u001B[0m \u001B[38;5;28;01mif\u001B[39;00m messages \u001B[38;5;129;01mis\u001B[39;00m \u001B[38;5;28;01mNone\u001B[39;00m:\n\u001B[1;32m   1286\u001B[0m     messages \u001B[38;5;241m=\u001B[39m \u001B[38;5;28mself\u001B[39m\u001B[38;5;241m.\u001B[39m_oai_messages[sender]\n\u001B[0;32m-> 1287\u001B[0m extracted_response \u001B[38;5;241m=\u001B[39m \u001B[38;5;28;43mself\u001B[39;49m\u001B[38;5;241;43m.\u001B[39;49m\u001B[43m_generate_oai_reply_from_client\u001B[49m\u001B[43m(\u001B[49m\n\u001B[1;32m   1288\u001B[0m \u001B[43m    \u001B[49m\u001B[43mclient\u001B[49m\u001B[43m,\u001B[49m\u001B[43m \u001B[49m\u001B[38;5;28;43mself\u001B[39;49m\u001B[38;5;241;43m.\u001B[39;49m\u001B[43m_oai_system_message\u001B[49m\u001B[43m \u001B[49m\u001B[38;5;241;43m+\u001B[39;49m\u001B[43m \u001B[49m\u001B[43mmessages\u001B[49m\u001B[43m,\u001B[49m\u001B[43m \u001B[49m\u001B[38;5;28;43mself\u001B[39;49m\u001B[38;5;241;43m.\u001B[39;49m\u001B[43mclient_cache\u001B[49m\n\u001B[1;32m   1289\u001B[0m \u001B[43m\u001B[49m\u001B[43m)\u001B[49m\n\u001B[1;32m   1290\u001B[0m \u001B[38;5;28;01mreturn\u001B[39;00m (\u001B[38;5;28;01mFalse\u001B[39;00m, \u001B[38;5;28;01mNone\u001B[39;00m) \u001B[38;5;28;01mif\u001B[39;00m extracted_response \u001B[38;5;129;01mis\u001B[39;00m \u001B[38;5;28;01mNone\u001B[39;00m \u001B[38;5;28;01melse\u001B[39;00m (\u001B[38;5;28;01mTrue\u001B[39;00m, extracted_response)\n",
      "File \u001B[0;32m~/PycharmProjects/Experiments/.venv/lib/python3.12/site-packages/autogen/agentchat/conversable_agent.py:1306\u001B[0m, in \u001B[0;36mConversableAgent._generate_oai_reply_from_client\u001B[0;34m(self, llm_client, messages, cache)\u001B[0m\n\u001B[1;32m   1303\u001B[0m         all_messages\u001B[38;5;241m.\u001B[39mappend(message)\n\u001B[1;32m   1305\u001B[0m \u001B[38;5;66;03m# TODO: #1143 handle token limit exceeded error\u001B[39;00m\n\u001B[0;32m-> 1306\u001B[0m response \u001B[38;5;241m=\u001B[39m \u001B[43mllm_client\u001B[49m\u001B[38;5;241;43m.\u001B[39;49m\u001B[43mcreate\u001B[49m\u001B[43m(\u001B[49m\n\u001B[1;32m   1307\u001B[0m \u001B[43m    \u001B[49m\u001B[43mcontext\u001B[49m\u001B[38;5;241;43m=\u001B[39;49m\u001B[43mmessages\u001B[49m\u001B[43m[\u001B[49m\u001B[38;5;241;43m-\u001B[39;49m\u001B[38;5;241;43m1\u001B[39;49m\u001B[43m]\u001B[49m\u001B[38;5;241;43m.\u001B[39;49m\u001B[43mpop\u001B[49m\u001B[43m(\u001B[49m\u001B[38;5;124;43m\"\u001B[39;49m\u001B[38;5;124;43mcontext\u001B[39;49m\u001B[38;5;124;43m\"\u001B[39;49m\u001B[43m,\u001B[49m\u001B[43m \u001B[49m\u001B[38;5;28;43;01mNone\u001B[39;49;00m\u001B[43m)\u001B[49m\u001B[43m,\u001B[49m\n\u001B[1;32m   1308\u001B[0m \u001B[43m    \u001B[49m\u001B[43mmessages\u001B[49m\u001B[38;5;241;43m=\u001B[39;49m\u001B[43mall_messages\u001B[49m\u001B[43m,\u001B[49m\n\u001B[1;32m   1309\u001B[0m \u001B[43m    \u001B[49m\u001B[43mcache\u001B[49m\u001B[38;5;241;43m=\u001B[39;49m\u001B[43mcache\u001B[49m\u001B[43m,\u001B[49m\n\u001B[1;32m   1310\u001B[0m \u001B[43m\u001B[49m\u001B[43m)\u001B[49m\n\u001B[1;32m   1311\u001B[0m extracted_response \u001B[38;5;241m=\u001B[39m llm_client\u001B[38;5;241m.\u001B[39mextract_text_or_completion_object(response)[\u001B[38;5;241m0\u001B[39m]\n\u001B[1;32m   1313\u001B[0m \u001B[38;5;28;01mif\u001B[39;00m extracted_response \u001B[38;5;129;01mis\u001B[39;00m \u001B[38;5;28;01mNone\u001B[39;00m:\n",
      "File \u001B[0;32m~/PycharmProjects/Experiments/.venv/lib/python3.12/site-packages/autogen/oai/client.py:638\u001B[0m, in \u001B[0;36mOpenAIWrapper.create\u001B[0;34m(self, **config)\u001B[0m\n\u001B[1;32m    636\u001B[0m \u001B[38;5;28;01mtry\u001B[39;00m:\n\u001B[1;32m    637\u001B[0m     request_ts \u001B[38;5;241m=\u001B[39m get_current_ts()\n\u001B[0;32m--> 638\u001B[0m     response \u001B[38;5;241m=\u001B[39m \u001B[43mclient\u001B[49m\u001B[38;5;241;43m.\u001B[39;49m\u001B[43mcreate\u001B[49m\u001B[43m(\u001B[49m\u001B[43mparams\u001B[49m\u001B[43m)\u001B[49m\n\u001B[1;32m    639\u001B[0m \u001B[38;5;28;01mexcept\u001B[39;00m APITimeoutError \u001B[38;5;28;01mas\u001B[39;00m err:\n\u001B[1;32m    640\u001B[0m     logger\u001B[38;5;241m.\u001B[39mdebug(\u001B[38;5;124mf\u001B[39m\u001B[38;5;124m\"\u001B[39m\u001B[38;5;124mconfig \u001B[39m\u001B[38;5;132;01m{\u001B[39;00mi\u001B[38;5;132;01m}\u001B[39;00m\u001B[38;5;124m timed out\u001B[39m\u001B[38;5;124m\"\u001B[39m, exc_info\u001B[38;5;241m=\u001B[39m\u001B[38;5;28;01mTrue\u001B[39;00m)\n",
      "File \u001B[0;32m~/PycharmProjects/Experiments/.venv/lib/python3.12/site-packages/autogen/oai/client.py:285\u001B[0m, in \u001B[0;36mOpenAIClient.create\u001B[0;34m(self, params)\u001B[0m\n\u001B[1;32m    283\u001B[0m     params \u001B[38;5;241m=\u001B[39m params\u001B[38;5;241m.\u001B[39mcopy()\n\u001B[1;32m    284\u001B[0m     params[\u001B[38;5;124m\"\u001B[39m\u001B[38;5;124mstream\u001B[39m\u001B[38;5;124m\"\u001B[39m] \u001B[38;5;241m=\u001B[39m \u001B[38;5;28;01mFalse\u001B[39;00m\n\u001B[0;32m--> 285\u001B[0m     response \u001B[38;5;241m=\u001B[39m \u001B[43mcompletions\u001B[49m\u001B[38;5;241;43m.\u001B[39;49m\u001B[43mcreate\u001B[49m\u001B[43m(\u001B[49m\u001B[38;5;241;43m*\u001B[39;49m\u001B[38;5;241;43m*\u001B[39;49m\u001B[43mparams\u001B[49m\u001B[43m)\u001B[49m\n\u001B[1;32m    287\u001B[0m \u001B[38;5;28;01mreturn\u001B[39;00m response\n",
      "File \u001B[0;32m~/PycharmProjects/Experiments/.venv/lib/python3.12/site-packages/openai/_utils/_utils.py:277\u001B[0m, in \u001B[0;36mrequired_args.<locals>.inner.<locals>.wrapper\u001B[0;34m(*args, **kwargs)\u001B[0m\n\u001B[1;32m    275\u001B[0m             msg \u001B[38;5;241m=\u001B[39m \u001B[38;5;124mf\u001B[39m\u001B[38;5;124m\"\u001B[39m\u001B[38;5;124mMissing required argument: \u001B[39m\u001B[38;5;132;01m{\u001B[39;00mquote(missing[\u001B[38;5;241m0\u001B[39m])\u001B[38;5;132;01m}\u001B[39;00m\u001B[38;5;124m\"\u001B[39m\n\u001B[1;32m    276\u001B[0m     \u001B[38;5;28;01mraise\u001B[39;00m \u001B[38;5;167;01mTypeError\u001B[39;00m(msg)\n\u001B[0;32m--> 277\u001B[0m \u001B[38;5;28;01mreturn\u001B[39;00m \u001B[43mfunc\u001B[49m\u001B[43m(\u001B[49m\u001B[38;5;241;43m*\u001B[39;49m\u001B[43margs\u001B[49m\u001B[43m,\u001B[49m\u001B[43m \u001B[49m\u001B[38;5;241;43m*\u001B[39;49m\u001B[38;5;241;43m*\u001B[39;49m\u001B[43mkwargs\u001B[49m\u001B[43m)\u001B[49m\n",
      "File \u001B[0;32m~/PycharmProjects/Experiments/.venv/lib/python3.12/site-packages/openai/resources/chat/completions.py:643\u001B[0m, in \u001B[0;36mCompletions.create\u001B[0;34m(self, messages, model, frequency_penalty, function_call, functions, logit_bias, logprobs, max_tokens, n, parallel_tool_calls, presence_penalty, response_format, seed, service_tier, stop, stream, stream_options, temperature, tool_choice, tools, top_logprobs, top_p, user, extra_headers, extra_query, extra_body, timeout)\u001B[0m\n\u001B[1;32m    609\u001B[0m \u001B[38;5;129m@required_args\u001B[39m([\u001B[38;5;124m\"\u001B[39m\u001B[38;5;124mmessages\u001B[39m\u001B[38;5;124m\"\u001B[39m, \u001B[38;5;124m\"\u001B[39m\u001B[38;5;124mmodel\u001B[39m\u001B[38;5;124m\"\u001B[39m], [\u001B[38;5;124m\"\u001B[39m\u001B[38;5;124mmessages\u001B[39m\u001B[38;5;124m\"\u001B[39m, \u001B[38;5;124m\"\u001B[39m\u001B[38;5;124mmodel\u001B[39m\u001B[38;5;124m\"\u001B[39m, \u001B[38;5;124m\"\u001B[39m\u001B[38;5;124mstream\u001B[39m\u001B[38;5;124m\"\u001B[39m])\n\u001B[1;32m    610\u001B[0m \u001B[38;5;28;01mdef\u001B[39;00m \u001B[38;5;21mcreate\u001B[39m(\n\u001B[1;32m    611\u001B[0m     \u001B[38;5;28mself\u001B[39m,\n\u001B[0;32m   (...)\u001B[0m\n\u001B[1;32m    641\u001B[0m     timeout: \u001B[38;5;28mfloat\u001B[39m \u001B[38;5;241m|\u001B[39m httpx\u001B[38;5;241m.\u001B[39mTimeout \u001B[38;5;241m|\u001B[39m \u001B[38;5;28;01mNone\u001B[39;00m \u001B[38;5;241m|\u001B[39m NotGiven \u001B[38;5;241m=\u001B[39m NOT_GIVEN,\n\u001B[1;32m    642\u001B[0m ) \u001B[38;5;241m-\u001B[39m\u001B[38;5;241m>\u001B[39m ChatCompletion \u001B[38;5;241m|\u001B[39m Stream[ChatCompletionChunk]:\n\u001B[0;32m--> 643\u001B[0m     \u001B[38;5;28;01mreturn\u001B[39;00m \u001B[38;5;28;43mself\u001B[39;49m\u001B[38;5;241;43m.\u001B[39;49m\u001B[43m_post\u001B[49m\u001B[43m(\u001B[49m\n\u001B[1;32m    644\u001B[0m \u001B[43m        \u001B[49m\u001B[38;5;124;43m\"\u001B[39;49m\u001B[38;5;124;43m/chat/completions\u001B[39;49m\u001B[38;5;124;43m\"\u001B[39;49m\u001B[43m,\u001B[49m\n\u001B[1;32m    645\u001B[0m \u001B[43m        \u001B[49m\u001B[43mbody\u001B[49m\u001B[38;5;241;43m=\u001B[39;49m\u001B[43mmaybe_transform\u001B[49m\u001B[43m(\u001B[49m\n\u001B[1;32m    646\u001B[0m \u001B[43m            \u001B[49m\u001B[43m{\u001B[49m\n\u001B[1;32m    647\u001B[0m \u001B[43m                \u001B[49m\u001B[38;5;124;43m\"\u001B[39;49m\u001B[38;5;124;43mmessages\u001B[39;49m\u001B[38;5;124;43m\"\u001B[39;49m\u001B[43m:\u001B[49m\u001B[43m \u001B[49m\u001B[43mmessages\u001B[49m\u001B[43m,\u001B[49m\n\u001B[1;32m    648\u001B[0m \u001B[43m                \u001B[49m\u001B[38;5;124;43m\"\u001B[39;49m\u001B[38;5;124;43mmodel\u001B[39;49m\u001B[38;5;124;43m\"\u001B[39;49m\u001B[43m:\u001B[49m\u001B[43m \u001B[49m\u001B[43mmodel\u001B[49m\u001B[43m,\u001B[49m\n\u001B[1;32m    649\u001B[0m \u001B[43m                \u001B[49m\u001B[38;5;124;43m\"\u001B[39;49m\u001B[38;5;124;43mfrequency_penalty\u001B[39;49m\u001B[38;5;124;43m\"\u001B[39;49m\u001B[43m:\u001B[49m\u001B[43m \u001B[49m\u001B[43mfrequency_penalty\u001B[49m\u001B[43m,\u001B[49m\n\u001B[1;32m    650\u001B[0m \u001B[43m                \u001B[49m\u001B[38;5;124;43m\"\u001B[39;49m\u001B[38;5;124;43mfunction_call\u001B[39;49m\u001B[38;5;124;43m\"\u001B[39;49m\u001B[43m:\u001B[49m\u001B[43m \u001B[49m\u001B[43mfunction_call\u001B[49m\u001B[43m,\u001B[49m\n\u001B[1;32m    651\u001B[0m \u001B[43m                \u001B[49m\u001B[38;5;124;43m\"\u001B[39;49m\u001B[38;5;124;43mfunctions\u001B[39;49m\u001B[38;5;124;43m\"\u001B[39;49m\u001B[43m:\u001B[49m\u001B[43m \u001B[49m\u001B[43mfunctions\u001B[49m\u001B[43m,\u001B[49m\n\u001B[1;32m    652\u001B[0m \u001B[43m                \u001B[49m\u001B[38;5;124;43m\"\u001B[39;49m\u001B[38;5;124;43mlogit_bias\u001B[39;49m\u001B[38;5;124;43m\"\u001B[39;49m\u001B[43m:\u001B[49m\u001B[43m \u001B[49m\u001B[43mlogit_bias\u001B[49m\u001B[43m,\u001B[49m\n\u001B[1;32m    653\u001B[0m \u001B[43m                \u001B[49m\u001B[38;5;124;43m\"\u001B[39;49m\u001B[38;5;124;43mlogprobs\u001B[39;49m\u001B[38;5;124;43m\"\u001B[39;49m\u001B[43m:\u001B[49m\u001B[43m \u001B[49m\u001B[43mlogprobs\u001B[49m\u001B[43m,\u001B[49m\n\u001B[1;32m    654\u001B[0m \u001B[43m                \u001B[49m\u001B[38;5;124;43m\"\u001B[39;49m\u001B[38;5;124;43mmax_tokens\u001B[39;49m\u001B[38;5;124;43m\"\u001B[39;49m\u001B[43m:\u001B[49m\u001B[43m \u001B[49m\u001B[43mmax_tokens\u001B[49m\u001B[43m,\u001B[49m\n\u001B[1;32m    655\u001B[0m \u001B[43m                \u001B[49m\u001B[38;5;124;43m\"\u001B[39;49m\u001B[38;5;124;43mn\u001B[39;49m\u001B[38;5;124;43m\"\u001B[39;49m\u001B[43m:\u001B[49m\u001B[43m \u001B[49m\u001B[43mn\u001B[49m\u001B[43m,\u001B[49m\n\u001B[1;32m    656\u001B[0m \u001B[43m                \u001B[49m\u001B[38;5;124;43m\"\u001B[39;49m\u001B[38;5;124;43mparallel_tool_calls\u001B[39;49m\u001B[38;5;124;43m\"\u001B[39;49m\u001B[43m:\u001B[49m\u001B[43m \u001B[49m\u001B[43mparallel_tool_calls\u001B[49m\u001B[43m,\u001B[49m\n\u001B[1;32m    657\u001B[0m \u001B[43m                \u001B[49m\u001B[38;5;124;43m\"\u001B[39;49m\u001B[38;5;124;43mpresence_penalty\u001B[39;49m\u001B[38;5;124;43m\"\u001B[39;49m\u001B[43m:\u001B[49m\u001B[43m \u001B[49m\u001B[43mpresence_penalty\u001B[49m\u001B[43m,\u001B[49m\n\u001B[1;32m    658\u001B[0m \u001B[43m                \u001B[49m\u001B[38;5;124;43m\"\u001B[39;49m\u001B[38;5;124;43mresponse_format\u001B[39;49m\u001B[38;5;124;43m\"\u001B[39;49m\u001B[43m:\u001B[49m\u001B[43m \u001B[49m\u001B[43mresponse_format\u001B[49m\u001B[43m,\u001B[49m\n\u001B[1;32m    659\u001B[0m \u001B[43m                \u001B[49m\u001B[38;5;124;43m\"\u001B[39;49m\u001B[38;5;124;43mseed\u001B[39;49m\u001B[38;5;124;43m\"\u001B[39;49m\u001B[43m:\u001B[49m\u001B[43m \u001B[49m\u001B[43mseed\u001B[49m\u001B[43m,\u001B[49m\n\u001B[1;32m    660\u001B[0m \u001B[43m                \u001B[49m\u001B[38;5;124;43m\"\u001B[39;49m\u001B[38;5;124;43mservice_tier\u001B[39;49m\u001B[38;5;124;43m\"\u001B[39;49m\u001B[43m:\u001B[49m\u001B[43m \u001B[49m\u001B[43mservice_tier\u001B[49m\u001B[43m,\u001B[49m\n\u001B[1;32m    661\u001B[0m \u001B[43m                \u001B[49m\u001B[38;5;124;43m\"\u001B[39;49m\u001B[38;5;124;43mstop\u001B[39;49m\u001B[38;5;124;43m\"\u001B[39;49m\u001B[43m:\u001B[49m\u001B[43m \u001B[49m\u001B[43mstop\u001B[49m\u001B[43m,\u001B[49m\n\u001B[1;32m    662\u001B[0m \u001B[43m                \u001B[49m\u001B[38;5;124;43m\"\u001B[39;49m\u001B[38;5;124;43mstream\u001B[39;49m\u001B[38;5;124;43m\"\u001B[39;49m\u001B[43m:\u001B[49m\u001B[43m \u001B[49m\u001B[43mstream\u001B[49m\u001B[43m,\u001B[49m\n\u001B[1;32m    663\u001B[0m \u001B[43m                \u001B[49m\u001B[38;5;124;43m\"\u001B[39;49m\u001B[38;5;124;43mstream_options\u001B[39;49m\u001B[38;5;124;43m\"\u001B[39;49m\u001B[43m:\u001B[49m\u001B[43m \u001B[49m\u001B[43mstream_options\u001B[49m\u001B[43m,\u001B[49m\n\u001B[1;32m    664\u001B[0m \u001B[43m                \u001B[49m\u001B[38;5;124;43m\"\u001B[39;49m\u001B[38;5;124;43mtemperature\u001B[39;49m\u001B[38;5;124;43m\"\u001B[39;49m\u001B[43m:\u001B[49m\u001B[43m \u001B[49m\u001B[43mtemperature\u001B[49m\u001B[43m,\u001B[49m\n\u001B[1;32m    665\u001B[0m \u001B[43m                \u001B[49m\u001B[38;5;124;43m\"\u001B[39;49m\u001B[38;5;124;43mtool_choice\u001B[39;49m\u001B[38;5;124;43m\"\u001B[39;49m\u001B[43m:\u001B[49m\u001B[43m \u001B[49m\u001B[43mtool_choice\u001B[49m\u001B[43m,\u001B[49m\n\u001B[1;32m    666\u001B[0m \u001B[43m                \u001B[49m\u001B[38;5;124;43m\"\u001B[39;49m\u001B[38;5;124;43mtools\u001B[39;49m\u001B[38;5;124;43m\"\u001B[39;49m\u001B[43m:\u001B[49m\u001B[43m \u001B[49m\u001B[43mtools\u001B[49m\u001B[43m,\u001B[49m\n\u001B[1;32m    667\u001B[0m \u001B[43m                \u001B[49m\u001B[38;5;124;43m\"\u001B[39;49m\u001B[38;5;124;43mtop_logprobs\u001B[39;49m\u001B[38;5;124;43m\"\u001B[39;49m\u001B[43m:\u001B[49m\u001B[43m \u001B[49m\u001B[43mtop_logprobs\u001B[49m\u001B[43m,\u001B[49m\n\u001B[1;32m    668\u001B[0m \u001B[43m                \u001B[49m\u001B[38;5;124;43m\"\u001B[39;49m\u001B[38;5;124;43mtop_p\u001B[39;49m\u001B[38;5;124;43m\"\u001B[39;49m\u001B[43m:\u001B[49m\u001B[43m \u001B[49m\u001B[43mtop_p\u001B[49m\u001B[43m,\u001B[49m\n\u001B[1;32m    669\u001B[0m \u001B[43m                \u001B[49m\u001B[38;5;124;43m\"\u001B[39;49m\u001B[38;5;124;43muser\u001B[39;49m\u001B[38;5;124;43m\"\u001B[39;49m\u001B[43m:\u001B[49m\u001B[43m \u001B[49m\u001B[43muser\u001B[49m\u001B[43m,\u001B[49m\n\u001B[1;32m    670\u001B[0m \u001B[43m            \u001B[49m\u001B[43m}\u001B[49m\u001B[43m,\u001B[49m\n\u001B[1;32m    671\u001B[0m \u001B[43m            \u001B[49m\u001B[43mcompletion_create_params\u001B[49m\u001B[38;5;241;43m.\u001B[39;49m\u001B[43mCompletionCreateParams\u001B[49m\u001B[43m,\u001B[49m\n\u001B[1;32m    672\u001B[0m \u001B[43m        \u001B[49m\u001B[43m)\u001B[49m\u001B[43m,\u001B[49m\n\u001B[1;32m    673\u001B[0m \u001B[43m        \u001B[49m\u001B[43moptions\u001B[49m\u001B[38;5;241;43m=\u001B[39;49m\u001B[43mmake_request_options\u001B[49m\u001B[43m(\u001B[49m\n\u001B[1;32m    674\u001B[0m \u001B[43m            \u001B[49m\u001B[43mextra_headers\u001B[49m\u001B[38;5;241;43m=\u001B[39;49m\u001B[43mextra_headers\u001B[49m\u001B[43m,\u001B[49m\u001B[43m \u001B[49m\u001B[43mextra_query\u001B[49m\u001B[38;5;241;43m=\u001B[39;49m\u001B[43mextra_query\u001B[49m\u001B[43m,\u001B[49m\u001B[43m \u001B[49m\u001B[43mextra_body\u001B[49m\u001B[38;5;241;43m=\u001B[39;49m\u001B[43mextra_body\u001B[49m\u001B[43m,\u001B[49m\u001B[43m \u001B[49m\u001B[43mtimeout\u001B[49m\u001B[38;5;241;43m=\u001B[39;49m\u001B[43mtimeout\u001B[49m\n\u001B[1;32m    675\u001B[0m \u001B[43m        \u001B[49m\u001B[43m)\u001B[49m\u001B[43m,\u001B[49m\n\u001B[1;32m    676\u001B[0m \u001B[43m        \u001B[49m\u001B[43mcast_to\u001B[49m\u001B[38;5;241;43m=\u001B[39;49m\u001B[43mChatCompletion\u001B[49m\u001B[43m,\u001B[49m\n\u001B[1;32m    677\u001B[0m \u001B[43m        \u001B[49m\u001B[43mstream\u001B[49m\u001B[38;5;241;43m=\u001B[39;49m\u001B[43mstream\u001B[49m\u001B[43m \u001B[49m\u001B[38;5;129;43;01mor\u001B[39;49;00m\u001B[43m \u001B[49m\u001B[38;5;28;43;01mFalse\u001B[39;49;00m\u001B[43m,\u001B[49m\n\u001B[1;32m    678\u001B[0m \u001B[43m        \u001B[49m\u001B[43mstream_cls\u001B[49m\u001B[38;5;241;43m=\u001B[39;49m\u001B[43mStream\u001B[49m\u001B[43m[\u001B[49m\u001B[43mChatCompletionChunk\u001B[49m\u001B[43m]\u001B[49m\u001B[43m,\u001B[49m\n\u001B[1;32m    679\u001B[0m \u001B[43m    \u001B[49m\u001B[43m)\u001B[49m\n",
      "File \u001B[0;32m~/PycharmProjects/Experiments/.venv/lib/python3.12/site-packages/openai/_base_client.py:1266\u001B[0m, in \u001B[0;36mSyncAPIClient.post\u001B[0;34m(self, path, cast_to, body, options, files, stream, stream_cls)\u001B[0m\n\u001B[1;32m   1252\u001B[0m \u001B[38;5;28;01mdef\u001B[39;00m \u001B[38;5;21mpost\u001B[39m(\n\u001B[1;32m   1253\u001B[0m     \u001B[38;5;28mself\u001B[39m,\n\u001B[1;32m   1254\u001B[0m     path: \u001B[38;5;28mstr\u001B[39m,\n\u001B[0;32m   (...)\u001B[0m\n\u001B[1;32m   1261\u001B[0m     stream_cls: \u001B[38;5;28mtype\u001B[39m[_StreamT] \u001B[38;5;241m|\u001B[39m \u001B[38;5;28;01mNone\u001B[39;00m \u001B[38;5;241m=\u001B[39m \u001B[38;5;28;01mNone\u001B[39;00m,\n\u001B[1;32m   1262\u001B[0m ) \u001B[38;5;241m-\u001B[39m\u001B[38;5;241m>\u001B[39m ResponseT \u001B[38;5;241m|\u001B[39m _StreamT:\n\u001B[1;32m   1263\u001B[0m     opts \u001B[38;5;241m=\u001B[39m FinalRequestOptions\u001B[38;5;241m.\u001B[39mconstruct(\n\u001B[1;32m   1264\u001B[0m         method\u001B[38;5;241m=\u001B[39m\u001B[38;5;124m\"\u001B[39m\u001B[38;5;124mpost\u001B[39m\u001B[38;5;124m\"\u001B[39m, url\u001B[38;5;241m=\u001B[39mpath, json_data\u001B[38;5;241m=\u001B[39mbody, files\u001B[38;5;241m=\u001B[39mto_httpx_files(files), \u001B[38;5;241m*\u001B[39m\u001B[38;5;241m*\u001B[39moptions\n\u001B[1;32m   1265\u001B[0m     )\n\u001B[0;32m-> 1266\u001B[0m     \u001B[38;5;28;01mreturn\u001B[39;00m cast(ResponseT, \u001B[38;5;28;43mself\u001B[39;49m\u001B[38;5;241;43m.\u001B[39;49m\u001B[43mrequest\u001B[49m\u001B[43m(\u001B[49m\u001B[43mcast_to\u001B[49m\u001B[43m,\u001B[49m\u001B[43m \u001B[49m\u001B[43mopts\u001B[49m\u001B[43m,\u001B[49m\u001B[43m \u001B[49m\u001B[43mstream\u001B[49m\u001B[38;5;241;43m=\u001B[39;49m\u001B[43mstream\u001B[49m\u001B[43m,\u001B[49m\u001B[43m \u001B[49m\u001B[43mstream_cls\u001B[49m\u001B[38;5;241;43m=\u001B[39;49m\u001B[43mstream_cls\u001B[49m\u001B[43m)\u001B[49m)\n",
      "File \u001B[0;32m~/PycharmProjects/Experiments/.venv/lib/python3.12/site-packages/openai/_base_client.py:942\u001B[0m, in \u001B[0;36mSyncAPIClient.request\u001B[0;34m(self, cast_to, options, remaining_retries, stream, stream_cls)\u001B[0m\n\u001B[1;32m    933\u001B[0m \u001B[38;5;28;01mdef\u001B[39;00m \u001B[38;5;21mrequest\u001B[39m(\n\u001B[1;32m    934\u001B[0m     \u001B[38;5;28mself\u001B[39m,\n\u001B[1;32m    935\u001B[0m     cast_to: Type[ResponseT],\n\u001B[0;32m   (...)\u001B[0m\n\u001B[1;32m    940\u001B[0m     stream_cls: \u001B[38;5;28mtype\u001B[39m[_StreamT] \u001B[38;5;241m|\u001B[39m \u001B[38;5;28;01mNone\u001B[39;00m \u001B[38;5;241m=\u001B[39m \u001B[38;5;28;01mNone\u001B[39;00m,\n\u001B[1;32m    941\u001B[0m ) \u001B[38;5;241m-\u001B[39m\u001B[38;5;241m>\u001B[39m ResponseT \u001B[38;5;241m|\u001B[39m _StreamT:\n\u001B[0;32m--> 942\u001B[0m     \u001B[38;5;28;01mreturn\u001B[39;00m \u001B[38;5;28;43mself\u001B[39;49m\u001B[38;5;241;43m.\u001B[39;49m\u001B[43m_request\u001B[49m\u001B[43m(\u001B[49m\n\u001B[1;32m    943\u001B[0m \u001B[43m        \u001B[49m\u001B[43mcast_to\u001B[49m\u001B[38;5;241;43m=\u001B[39;49m\u001B[43mcast_to\u001B[49m\u001B[43m,\u001B[49m\n\u001B[1;32m    944\u001B[0m \u001B[43m        \u001B[49m\u001B[43moptions\u001B[49m\u001B[38;5;241;43m=\u001B[39;49m\u001B[43moptions\u001B[49m\u001B[43m,\u001B[49m\n\u001B[1;32m    945\u001B[0m \u001B[43m        \u001B[49m\u001B[43mstream\u001B[49m\u001B[38;5;241;43m=\u001B[39;49m\u001B[43mstream\u001B[49m\u001B[43m,\u001B[49m\n\u001B[1;32m    946\u001B[0m \u001B[43m        \u001B[49m\u001B[43mstream_cls\u001B[49m\u001B[38;5;241;43m=\u001B[39;49m\u001B[43mstream_cls\u001B[49m\u001B[43m,\u001B[49m\n\u001B[1;32m    947\u001B[0m \u001B[43m        \u001B[49m\u001B[43mremaining_retries\u001B[49m\u001B[38;5;241;43m=\u001B[39;49m\u001B[43mremaining_retries\u001B[49m\u001B[43m,\u001B[49m\n\u001B[1;32m    948\u001B[0m \u001B[43m    \u001B[49m\u001B[43m)\u001B[49m\n",
      "File \u001B[0;32m~/PycharmProjects/Experiments/.venv/lib/python3.12/site-packages/openai/_base_client.py:1046\u001B[0m, in \u001B[0;36mSyncAPIClient._request\u001B[0;34m(self, cast_to, options, remaining_retries, stream, stream_cls)\u001B[0m\n\u001B[1;32m   1043\u001B[0m         err\u001B[38;5;241m.\u001B[39mresponse\u001B[38;5;241m.\u001B[39mread()\n\u001B[1;32m   1045\u001B[0m     log\u001B[38;5;241m.\u001B[39mdebug(\u001B[38;5;124m\"\u001B[39m\u001B[38;5;124mRe-raising status error\u001B[39m\u001B[38;5;124m\"\u001B[39m)\n\u001B[0;32m-> 1046\u001B[0m     \u001B[38;5;28;01mraise\u001B[39;00m \u001B[38;5;28mself\u001B[39m\u001B[38;5;241m.\u001B[39m_make_status_error_from_response(err\u001B[38;5;241m.\u001B[39mresponse) \u001B[38;5;28;01mfrom\u001B[39;00m \u001B[38;5;28;01mNone\u001B[39;00m\n\u001B[1;32m   1048\u001B[0m \u001B[38;5;28;01mreturn\u001B[39;00m \u001B[38;5;28mself\u001B[39m\u001B[38;5;241m.\u001B[39m_process_response(\n\u001B[1;32m   1049\u001B[0m     cast_to\u001B[38;5;241m=\u001B[39mcast_to,\n\u001B[1;32m   1050\u001B[0m     options\u001B[38;5;241m=\u001B[39moptions,\n\u001B[0;32m   (...)\u001B[0m\n\u001B[1;32m   1053\u001B[0m     stream_cls\u001B[38;5;241m=\u001B[39mstream_cls,\n\u001B[1;32m   1054\u001B[0m )\n",
      "\u001B[0;31mBadRequestError\u001B[0m: Error code: 400 - {'error': {'message': 'qwen2 does not support tools', 'type': 'api_error', 'param': None, 'code': None}}"
     ]
    }
   ],
   "execution_count": 23
  },
  {
   "cell_type": "markdown",
   "id": "ad9cf403",
   "metadata": {},
   "source": [
    "## Adding a fun chitchat to the game!"
   ]
  },
  {
   "cell_type": "code",
   "id": "dc6c2ef8-4807-4b9e-9eff-0da219ac6381",
   "metadata": {
    "height": 149,
    "ExecuteTime": {
     "end_time": "2024-07-21T07:36:13.803450Z",
     "start_time": "2024-07-21T07:36:13.776825Z"
    }
   },
   "source": [
    "player_white = ConversableAgent(\n",
    "    name=\"Player White\",\n",
    "    system_message=\"You are a chess player and you play as white. \"\n",
    "    \"First call get_legal_moves(), to get a list of legal moves. \"\n",
    "    \"Then call make_move(move) to make a move. \"\n",
    "    \"After a move is made, chitchat to make the game fun.\",\n",
    "    llm_config=llm_config,\n",
    ")"
   ],
   "outputs": [],
   "execution_count": 18
  },
  {
   "cell_type": "code",
   "id": "1da2db96-83d1-4b75-aa05-3840913a46ac",
   "metadata": {
    "height": 149,
    "ExecuteTime": {
     "end_time": "2024-07-21T07:36:14.384844Z",
     "start_time": "2024-07-21T07:36:14.360512Z"
    }
   },
   "source": [
    "player_black = ConversableAgent(\n",
    "    name=\"Player Black\",\n",
    "    system_message=\"You are a chess player and you play as black. \"\n",
    "    \"First call get_legal_moves(), to get a list of legal moves. \"\n",
    "    \"Then call make_move(move) to make a move. \"\n",
    "    \"After a move is made, chitchat to make the game fun.\",\n",
    "    llm_config=llm_config,\n",
    ")"
   ],
   "outputs": [],
   "execution_count": 19
  },
  {
   "cell_type": "code",
   "id": "489e5258-a48d-4745-9cf8-6d530ce1162c",
   "metadata": {
    "height": 710,
    "ExecuteTime": {
     "end_time": "2024-07-21T07:36:15.122710Z",
     "start_time": "2024-07-21T07:36:15.044954Z"
    }
   },
   "source": [
    "for caller in [player_white, player_black]:\n",
    "    register_function(\n",
    "        get_legal_moves,\n",
    "        caller=caller,\n",
    "        executor=board_proxy,\n",
    "        name=\"get_legal_moves\",\n",
    "        description=\"Get legal moves.\",\n",
    "    )\n",
    "\n",
    "    register_function(\n",
    "        make_move,\n",
    "        caller=caller,\n",
    "        executor=board_proxy,\n",
    "        name=\"make_move\",\n",
    "        description=\"Call this tool to make a move.\",\n",
    "    )\n",
    "\n",
    "player_white.register_nested_chats(\n",
    "    trigger=player_black,\n",
    "    chat_queue=[\n",
    "        {\n",
    "            \"sender\": board_proxy,\n",
    "            \"recipient\": player_white,\n",
    "            \"summary_method\": \"last_msg\",\n",
    "            # outer conversation\n",
    "            \"silent\": True,\n",
    "        }\n",
    "    ],\n",
    ")\n",
    "\n",
    "player_black.register_nested_chats(\n",
    "    trigger=player_white,\n",
    "    chat_queue=[\n",
    "        {\n",
    "            \"sender\": board_proxy,\n",
    "            \"recipient\": player_black,\n",
    "            \"summary_method\": \"last_msg\",\n",
    "            \"silent\": True,\n",
    "        }\n",
    "    ],\n",
    ")"
   ],
   "outputs": [],
   "execution_count": 20
  },
  {
   "cell_type": "code",
   "id": "723edd10-e0c6-4205-8e9b-db4cef7a464f",
   "metadata": {
    "height": 132,
    "ExecuteTime": {
     "end_time": "2024-07-21T07:36:16.008406Z",
     "start_time": "2024-07-21T07:36:15.879342Z"
    }
   },
   "source": [
    "board = chess.Board()\n",
    "\n",
    "chat_result = player_black.initiate_chat(\n",
    "    player_white,\n",
    "    message=\"Let's play chess! Your move.\",\n",
    "    max_turns=2,\n",
    ")"
   ],
   "outputs": [
    {
     "name": "stdout",
     "output_type": "stream",
     "text": [
      "\u001B[33mPlayer Black\u001B[0m (to Player White):\n",
      "\n",
      "Let's play chess! Your move.\n",
      "\n",
      "--------------------------------------------------------------------------------\n",
      "\u001B[31m\n",
      ">>>>>>>> USING AUTO REPLY...\u001B[0m\n",
      "\u001B[34m\n",
      "********************************************************************************\u001B[0m\n",
      "\u001B[34mStarting a new chat....\u001B[0m\n",
      "\u001B[34m\n",
      "********************************************************************************\u001B[0m\n",
      "\u001B[31m\n",
      ">>>>>>>> USING AUTO REPLY...\u001B[0m\n"
     ]
    },
    {
     "ename": "BadRequestError",
     "evalue": "Error code: 400 - {'error': {'message': 'qwen2 does not support tools', 'type': 'api_error', 'param': None, 'code': None}}",
     "output_type": "error",
     "traceback": [
      "\u001B[0;31m---------------------------------------------------------------------------\u001B[0m",
      "\u001B[0;31mBadRequestError\u001B[0m                           Traceback (most recent call last)",
      "Cell \u001B[0;32mIn[21], line 3\u001B[0m\n\u001B[1;32m      1\u001B[0m board \u001B[38;5;241m=\u001B[39m chess\u001B[38;5;241m.\u001B[39mBoard()\n\u001B[0;32m----> 3\u001B[0m chat_result \u001B[38;5;241m=\u001B[39m \u001B[43mplayer_black\u001B[49m\u001B[38;5;241;43m.\u001B[39;49m\u001B[43minitiate_chat\u001B[49m\u001B[43m(\u001B[49m\n\u001B[1;32m      4\u001B[0m \u001B[43m    \u001B[49m\u001B[43mplayer_white\u001B[49m\u001B[43m,\u001B[49m\n\u001B[1;32m      5\u001B[0m \u001B[43m    \u001B[49m\u001B[43mmessage\u001B[49m\u001B[38;5;241;43m=\u001B[39;49m\u001B[38;5;124;43m\"\u001B[39;49m\u001B[38;5;124;43mLet\u001B[39;49m\u001B[38;5;124;43m'\u001B[39;49m\u001B[38;5;124;43ms play chess! Your move.\u001B[39;49m\u001B[38;5;124;43m\"\u001B[39;49m\u001B[43m,\u001B[49m\n\u001B[1;32m      6\u001B[0m \u001B[43m    \u001B[49m\u001B[43mmax_turns\u001B[49m\u001B[38;5;241;43m=\u001B[39;49m\u001B[38;5;241;43m2\u001B[39;49m\u001B[43m,\u001B[49m\n\u001B[1;32m      7\u001B[0m \u001B[43m)\u001B[49m\n",
      "File \u001B[0;32m~/PycharmProjects/Experiments/.venv/lib/python3.12/site-packages/autogen/agentchat/conversable_agent.py:984\u001B[0m, in \u001B[0;36mConversableAgent.initiate_chat\u001B[0;34m(self, recipient, clear_history, silent, cache, max_turns, summary_method, summary_args, message, **kwargs)\u001B[0m\n\u001B[1;32m    982\u001B[0m         \u001B[38;5;28;01mif\u001B[39;00m msg2send \u001B[38;5;129;01mis\u001B[39;00m \u001B[38;5;28;01mNone\u001B[39;00m:\n\u001B[1;32m    983\u001B[0m             \u001B[38;5;28;01mbreak\u001B[39;00m\n\u001B[0;32m--> 984\u001B[0m         \u001B[38;5;28;43mself\u001B[39;49m\u001B[38;5;241;43m.\u001B[39;49m\u001B[43msend\u001B[49m\u001B[43m(\u001B[49m\u001B[43mmsg2send\u001B[49m\u001B[43m,\u001B[49m\u001B[43m \u001B[49m\u001B[43mrecipient\u001B[49m\u001B[43m,\u001B[49m\u001B[43m \u001B[49m\u001B[43mrequest_reply\u001B[49m\u001B[38;5;241;43m=\u001B[39;49m\u001B[38;5;28;43;01mTrue\u001B[39;49;00m\u001B[43m,\u001B[49m\u001B[43m \u001B[49m\u001B[43msilent\u001B[49m\u001B[38;5;241;43m=\u001B[39;49m\u001B[43msilent\u001B[49m\u001B[43m)\u001B[49m\n\u001B[1;32m    985\u001B[0m \u001B[38;5;28;01melse\u001B[39;00m:\n\u001B[1;32m    986\u001B[0m     \u001B[38;5;28mself\u001B[39m\u001B[38;5;241m.\u001B[39m_prepare_chat(recipient, clear_history)\n",
      "File \u001B[0;32m~/PycharmProjects/Experiments/.venv/lib/python3.12/site-packages/autogen/agentchat/conversable_agent.py:632\u001B[0m, in \u001B[0;36mConversableAgent.send\u001B[0;34m(self, message, recipient, request_reply, silent)\u001B[0m\n\u001B[1;32m    630\u001B[0m valid \u001B[38;5;241m=\u001B[39m \u001B[38;5;28mself\u001B[39m\u001B[38;5;241m.\u001B[39m_append_oai_message(message, \u001B[38;5;124m\"\u001B[39m\u001B[38;5;124massistant\u001B[39m\u001B[38;5;124m\"\u001B[39m, recipient)\n\u001B[1;32m    631\u001B[0m \u001B[38;5;28;01mif\u001B[39;00m valid:\n\u001B[0;32m--> 632\u001B[0m     \u001B[43mrecipient\u001B[49m\u001B[38;5;241;43m.\u001B[39;49m\u001B[43mreceive\u001B[49m\u001B[43m(\u001B[49m\u001B[43mmessage\u001B[49m\u001B[43m,\u001B[49m\u001B[43m \u001B[49m\u001B[38;5;28;43mself\u001B[39;49m\u001B[43m,\u001B[49m\u001B[43m \u001B[49m\u001B[43mrequest_reply\u001B[49m\u001B[43m,\u001B[49m\u001B[43m \u001B[49m\u001B[43msilent\u001B[49m\u001B[43m)\u001B[49m\n\u001B[1;32m    633\u001B[0m \u001B[38;5;28;01melse\u001B[39;00m:\n\u001B[1;32m    634\u001B[0m     \u001B[38;5;28;01mraise\u001B[39;00m \u001B[38;5;167;01mValueError\u001B[39;00m(\n\u001B[1;32m    635\u001B[0m         \u001B[38;5;124m\"\u001B[39m\u001B[38;5;124mMessage can\u001B[39m\u001B[38;5;124m'\u001B[39m\u001B[38;5;124mt be converted into a valid ChatCompletion message. Either content or function_call must be provided.\u001B[39m\u001B[38;5;124m\"\u001B[39m\n\u001B[1;32m    636\u001B[0m     )\n",
      "File \u001B[0;32m~/PycharmProjects/Experiments/.venv/lib/python3.12/site-packages/autogen/agentchat/conversable_agent.py:792\u001B[0m, in \u001B[0;36mConversableAgent.receive\u001B[0;34m(self, message, sender, request_reply, silent)\u001B[0m\n\u001B[1;32m    790\u001B[0m \u001B[38;5;28;01mif\u001B[39;00m request_reply \u001B[38;5;129;01mis\u001B[39;00m \u001B[38;5;28;01mFalse\u001B[39;00m \u001B[38;5;129;01mor\u001B[39;00m request_reply \u001B[38;5;129;01mis\u001B[39;00m \u001B[38;5;28;01mNone\u001B[39;00m \u001B[38;5;129;01mand\u001B[39;00m \u001B[38;5;28mself\u001B[39m\u001B[38;5;241m.\u001B[39mreply_at_receive[sender] \u001B[38;5;129;01mis\u001B[39;00m \u001B[38;5;28;01mFalse\u001B[39;00m:\n\u001B[1;32m    791\u001B[0m     \u001B[38;5;28;01mreturn\u001B[39;00m\n\u001B[0;32m--> 792\u001B[0m reply \u001B[38;5;241m=\u001B[39m \u001B[38;5;28;43mself\u001B[39;49m\u001B[38;5;241;43m.\u001B[39;49m\u001B[43mgenerate_reply\u001B[49m\u001B[43m(\u001B[49m\u001B[43mmessages\u001B[49m\u001B[38;5;241;43m=\u001B[39;49m\u001B[38;5;28;43mself\u001B[39;49m\u001B[38;5;241;43m.\u001B[39;49m\u001B[43mchat_messages\u001B[49m\u001B[43m[\u001B[49m\u001B[43msender\u001B[49m\u001B[43m]\u001B[49m\u001B[43m,\u001B[49m\u001B[43m \u001B[49m\u001B[43msender\u001B[49m\u001B[38;5;241;43m=\u001B[39;49m\u001B[43msender\u001B[49m\u001B[43m)\u001B[49m\n\u001B[1;32m    793\u001B[0m \u001B[38;5;28;01mif\u001B[39;00m reply \u001B[38;5;129;01mis\u001B[39;00m \u001B[38;5;129;01mnot\u001B[39;00m \u001B[38;5;28;01mNone\u001B[39;00m:\n\u001B[1;32m    794\u001B[0m     \u001B[38;5;28mself\u001B[39m\u001B[38;5;241m.\u001B[39msend(reply, sender, silent\u001B[38;5;241m=\u001B[39msilent)\n",
      "File \u001B[0;32m~/PycharmProjects/Experiments/.venv/lib/python3.12/site-packages/autogen/agentchat/conversable_agent.py:1921\u001B[0m, in \u001B[0;36mConversableAgent.generate_reply\u001B[0;34m(self, messages, sender, **kwargs)\u001B[0m\n\u001B[1;32m   1919\u001B[0m     \u001B[38;5;28;01mcontinue\u001B[39;00m\n\u001B[1;32m   1920\u001B[0m \u001B[38;5;28;01mif\u001B[39;00m \u001B[38;5;28mself\u001B[39m\u001B[38;5;241m.\u001B[39m_match_trigger(reply_func_tuple[\u001B[38;5;124m\"\u001B[39m\u001B[38;5;124mtrigger\u001B[39m\u001B[38;5;124m\"\u001B[39m], sender):\n\u001B[0;32m-> 1921\u001B[0m     final, reply \u001B[38;5;241m=\u001B[39m \u001B[43mreply_func\u001B[49m\u001B[43m(\u001B[49m\u001B[38;5;28;43mself\u001B[39;49m\u001B[43m,\u001B[49m\u001B[43m \u001B[49m\u001B[43mmessages\u001B[49m\u001B[38;5;241;43m=\u001B[39;49m\u001B[43mmessages\u001B[49m\u001B[43m,\u001B[49m\u001B[43m \u001B[49m\u001B[43msender\u001B[49m\u001B[38;5;241;43m=\u001B[39;49m\u001B[43msender\u001B[49m\u001B[43m,\u001B[49m\u001B[43m \u001B[49m\u001B[43mconfig\u001B[49m\u001B[38;5;241;43m=\u001B[39;49m\u001B[43mreply_func_tuple\u001B[49m\u001B[43m[\u001B[49m\u001B[38;5;124;43m\"\u001B[39;49m\u001B[38;5;124;43mconfig\u001B[39;49m\u001B[38;5;124;43m\"\u001B[39;49m\u001B[43m]\u001B[49m\u001B[43m)\u001B[49m\n\u001B[1;32m   1922\u001B[0m     \u001B[38;5;28;01mif\u001B[39;00m final:\n\u001B[1;32m   1923\u001B[0m         \u001B[38;5;28;01mreturn\u001B[39;00m reply\n",
      "File \u001B[0;32m~/PycharmProjects/Experiments/.venv/lib/python3.12/site-packages/autogen/agentchat/conversable_agent.py:389\u001B[0m, in \u001B[0;36mConversableAgent._summary_from_nested_chats\u001B[0;34m(chat_queue, recipient, messages, sender, config)\u001B[0m\n\u001B[1;32m    387\u001B[0m \u001B[38;5;28;01mif\u001B[39;00m \u001B[38;5;129;01mnot\u001B[39;00m chat_to_run:\n\u001B[1;32m    388\u001B[0m     \u001B[38;5;28;01mreturn\u001B[39;00m \u001B[38;5;28;01mTrue\u001B[39;00m, \u001B[38;5;28;01mNone\u001B[39;00m\n\u001B[0;32m--> 389\u001B[0m res \u001B[38;5;241m=\u001B[39m \u001B[43minitiate_chats\u001B[49m\u001B[43m(\u001B[49m\u001B[43mchat_to_run\u001B[49m\u001B[43m)\u001B[49m\n\u001B[1;32m    390\u001B[0m \u001B[38;5;28;01mreturn\u001B[39;00m \u001B[38;5;28;01mTrue\u001B[39;00m, res[\u001B[38;5;241m-\u001B[39m\u001B[38;5;241m1\u001B[39m]\u001B[38;5;241m.\u001B[39msummary\n",
      "File \u001B[0;32m~/PycharmProjects/Experiments/.venv/lib/python3.12/site-packages/autogen/agentchat/chat.py:190\u001B[0m, in \u001B[0;36minitiate_chats\u001B[0;34m(chat_queue)\u001B[0m\n\u001B[1;32m    188\u001B[0m     __post_carryover_processing(chat_info)\n\u001B[1;32m    189\u001B[0m     sender \u001B[38;5;241m=\u001B[39m chat_info[\u001B[38;5;124m\"\u001B[39m\u001B[38;5;124msender\u001B[39m\u001B[38;5;124m\"\u001B[39m]\n\u001B[0;32m--> 190\u001B[0m     chat_res \u001B[38;5;241m=\u001B[39m \u001B[43msender\u001B[49m\u001B[38;5;241;43m.\u001B[39;49m\u001B[43minitiate_chat\u001B[49m\u001B[43m(\u001B[49m\u001B[38;5;241;43m*\u001B[39;49m\u001B[38;5;241;43m*\u001B[39;49m\u001B[43mchat_info\u001B[49m\u001B[43m)\u001B[49m\n\u001B[1;32m    191\u001B[0m     finished_chats\u001B[38;5;241m.\u001B[39mappend(chat_res)\n\u001B[1;32m    192\u001B[0m \u001B[38;5;28;01mreturn\u001B[39;00m finished_chats\n",
      "File \u001B[0;32m~/PycharmProjects/Experiments/.venv/lib/python3.12/site-packages/autogen/agentchat/conversable_agent.py:991\u001B[0m, in \u001B[0;36mConversableAgent.initiate_chat\u001B[0;34m(self, recipient, clear_history, silent, cache, max_turns, summary_method, summary_args, message, **kwargs)\u001B[0m\n\u001B[1;32m    989\u001B[0m     \u001B[38;5;28;01melse\u001B[39;00m:\n\u001B[1;32m    990\u001B[0m         msg2send \u001B[38;5;241m=\u001B[39m \u001B[38;5;28mself\u001B[39m\u001B[38;5;241m.\u001B[39mgenerate_init_message(message, \u001B[38;5;241m*\u001B[39m\u001B[38;5;241m*\u001B[39mkwargs)\n\u001B[0;32m--> 991\u001B[0m     \u001B[38;5;28;43mself\u001B[39;49m\u001B[38;5;241;43m.\u001B[39;49m\u001B[43msend\u001B[49m\u001B[43m(\u001B[49m\u001B[43mmsg2send\u001B[49m\u001B[43m,\u001B[49m\u001B[43m \u001B[49m\u001B[43mrecipient\u001B[49m\u001B[43m,\u001B[49m\u001B[43m \u001B[49m\u001B[43msilent\u001B[49m\u001B[38;5;241;43m=\u001B[39;49m\u001B[43msilent\u001B[49m\u001B[43m)\u001B[49m\n\u001B[1;32m    992\u001B[0m summary \u001B[38;5;241m=\u001B[39m \u001B[38;5;28mself\u001B[39m\u001B[38;5;241m.\u001B[39m_summarize_chat(\n\u001B[1;32m    993\u001B[0m     summary_method,\n\u001B[1;32m    994\u001B[0m     summary_args,\n\u001B[1;32m    995\u001B[0m     recipient,\n\u001B[1;32m    996\u001B[0m     cache\u001B[38;5;241m=\u001B[39mcache,\n\u001B[1;32m    997\u001B[0m )\n\u001B[1;32m    998\u001B[0m \u001B[38;5;28;01mfor\u001B[39;00m agent \u001B[38;5;129;01min\u001B[39;00m [\u001B[38;5;28mself\u001B[39m, recipient]:\n",
      "File \u001B[0;32m~/PycharmProjects/Experiments/.venv/lib/python3.12/site-packages/autogen/agentchat/conversable_agent.py:632\u001B[0m, in \u001B[0;36mConversableAgent.send\u001B[0;34m(self, message, recipient, request_reply, silent)\u001B[0m\n\u001B[1;32m    630\u001B[0m valid \u001B[38;5;241m=\u001B[39m \u001B[38;5;28mself\u001B[39m\u001B[38;5;241m.\u001B[39m_append_oai_message(message, \u001B[38;5;124m\"\u001B[39m\u001B[38;5;124massistant\u001B[39m\u001B[38;5;124m\"\u001B[39m, recipient)\n\u001B[1;32m    631\u001B[0m \u001B[38;5;28;01mif\u001B[39;00m valid:\n\u001B[0;32m--> 632\u001B[0m     \u001B[43mrecipient\u001B[49m\u001B[38;5;241;43m.\u001B[39;49m\u001B[43mreceive\u001B[49m\u001B[43m(\u001B[49m\u001B[43mmessage\u001B[49m\u001B[43m,\u001B[49m\u001B[43m \u001B[49m\u001B[38;5;28;43mself\u001B[39;49m\u001B[43m,\u001B[49m\u001B[43m \u001B[49m\u001B[43mrequest_reply\u001B[49m\u001B[43m,\u001B[49m\u001B[43m \u001B[49m\u001B[43msilent\u001B[49m\u001B[43m)\u001B[49m\n\u001B[1;32m    633\u001B[0m \u001B[38;5;28;01melse\u001B[39;00m:\n\u001B[1;32m    634\u001B[0m     \u001B[38;5;28;01mraise\u001B[39;00m \u001B[38;5;167;01mValueError\u001B[39;00m(\n\u001B[1;32m    635\u001B[0m         \u001B[38;5;124m\"\u001B[39m\u001B[38;5;124mMessage can\u001B[39m\u001B[38;5;124m'\u001B[39m\u001B[38;5;124mt be converted into a valid ChatCompletion message. Either content or function_call must be provided.\u001B[39m\u001B[38;5;124m\"\u001B[39m\n\u001B[1;32m    636\u001B[0m     )\n",
      "File \u001B[0;32m~/PycharmProjects/Experiments/.venv/lib/python3.12/site-packages/autogen/agentchat/conversable_agent.py:792\u001B[0m, in \u001B[0;36mConversableAgent.receive\u001B[0;34m(self, message, sender, request_reply, silent)\u001B[0m\n\u001B[1;32m    790\u001B[0m \u001B[38;5;28;01mif\u001B[39;00m request_reply \u001B[38;5;129;01mis\u001B[39;00m \u001B[38;5;28;01mFalse\u001B[39;00m \u001B[38;5;129;01mor\u001B[39;00m request_reply \u001B[38;5;129;01mis\u001B[39;00m \u001B[38;5;28;01mNone\u001B[39;00m \u001B[38;5;129;01mand\u001B[39;00m \u001B[38;5;28mself\u001B[39m\u001B[38;5;241m.\u001B[39mreply_at_receive[sender] \u001B[38;5;129;01mis\u001B[39;00m \u001B[38;5;28;01mFalse\u001B[39;00m:\n\u001B[1;32m    791\u001B[0m     \u001B[38;5;28;01mreturn\u001B[39;00m\n\u001B[0;32m--> 792\u001B[0m reply \u001B[38;5;241m=\u001B[39m \u001B[38;5;28;43mself\u001B[39;49m\u001B[38;5;241;43m.\u001B[39;49m\u001B[43mgenerate_reply\u001B[49m\u001B[43m(\u001B[49m\u001B[43mmessages\u001B[49m\u001B[38;5;241;43m=\u001B[39;49m\u001B[38;5;28;43mself\u001B[39;49m\u001B[38;5;241;43m.\u001B[39;49m\u001B[43mchat_messages\u001B[49m\u001B[43m[\u001B[49m\u001B[43msender\u001B[49m\u001B[43m]\u001B[49m\u001B[43m,\u001B[49m\u001B[43m \u001B[49m\u001B[43msender\u001B[49m\u001B[38;5;241;43m=\u001B[39;49m\u001B[43msender\u001B[49m\u001B[43m)\u001B[49m\n\u001B[1;32m    793\u001B[0m \u001B[38;5;28;01mif\u001B[39;00m reply \u001B[38;5;129;01mis\u001B[39;00m \u001B[38;5;129;01mnot\u001B[39;00m \u001B[38;5;28;01mNone\u001B[39;00m:\n\u001B[1;32m    794\u001B[0m     \u001B[38;5;28mself\u001B[39m\u001B[38;5;241m.\u001B[39msend(reply, sender, silent\u001B[38;5;241m=\u001B[39msilent)\n",
      "File \u001B[0;32m~/PycharmProjects/Experiments/.venv/lib/python3.12/site-packages/autogen/agentchat/conversable_agent.py:1921\u001B[0m, in \u001B[0;36mConversableAgent.generate_reply\u001B[0;34m(self, messages, sender, **kwargs)\u001B[0m\n\u001B[1;32m   1919\u001B[0m     \u001B[38;5;28;01mcontinue\u001B[39;00m\n\u001B[1;32m   1920\u001B[0m \u001B[38;5;28;01mif\u001B[39;00m \u001B[38;5;28mself\u001B[39m\u001B[38;5;241m.\u001B[39m_match_trigger(reply_func_tuple[\u001B[38;5;124m\"\u001B[39m\u001B[38;5;124mtrigger\u001B[39m\u001B[38;5;124m\"\u001B[39m], sender):\n\u001B[0;32m-> 1921\u001B[0m     final, reply \u001B[38;5;241m=\u001B[39m \u001B[43mreply_func\u001B[49m\u001B[43m(\u001B[49m\u001B[38;5;28;43mself\u001B[39;49m\u001B[43m,\u001B[49m\u001B[43m \u001B[49m\u001B[43mmessages\u001B[49m\u001B[38;5;241;43m=\u001B[39;49m\u001B[43mmessages\u001B[49m\u001B[43m,\u001B[49m\u001B[43m \u001B[49m\u001B[43msender\u001B[49m\u001B[38;5;241;43m=\u001B[39;49m\u001B[43msender\u001B[49m\u001B[43m,\u001B[49m\u001B[43m \u001B[49m\u001B[43mconfig\u001B[49m\u001B[38;5;241;43m=\u001B[39;49m\u001B[43mreply_func_tuple\u001B[49m\u001B[43m[\u001B[49m\u001B[38;5;124;43m\"\u001B[39;49m\u001B[38;5;124;43mconfig\u001B[39;49m\u001B[38;5;124;43m\"\u001B[39;49m\u001B[43m]\u001B[49m\u001B[43m)\u001B[49m\n\u001B[1;32m   1922\u001B[0m     \u001B[38;5;28;01mif\u001B[39;00m final:\n\u001B[1;32m   1923\u001B[0m         \u001B[38;5;28;01mreturn\u001B[39;00m reply\n",
      "File \u001B[0;32m~/PycharmProjects/Experiments/.venv/lib/python3.12/site-packages/autogen/agentchat/conversable_agent.py:1287\u001B[0m, in \u001B[0;36mConversableAgent.generate_oai_reply\u001B[0;34m(self, messages, sender, config)\u001B[0m\n\u001B[1;32m   1285\u001B[0m \u001B[38;5;28;01mif\u001B[39;00m messages \u001B[38;5;129;01mis\u001B[39;00m \u001B[38;5;28;01mNone\u001B[39;00m:\n\u001B[1;32m   1286\u001B[0m     messages \u001B[38;5;241m=\u001B[39m \u001B[38;5;28mself\u001B[39m\u001B[38;5;241m.\u001B[39m_oai_messages[sender]\n\u001B[0;32m-> 1287\u001B[0m extracted_response \u001B[38;5;241m=\u001B[39m \u001B[38;5;28;43mself\u001B[39;49m\u001B[38;5;241;43m.\u001B[39;49m\u001B[43m_generate_oai_reply_from_client\u001B[49m\u001B[43m(\u001B[49m\n\u001B[1;32m   1288\u001B[0m \u001B[43m    \u001B[49m\u001B[43mclient\u001B[49m\u001B[43m,\u001B[49m\u001B[43m \u001B[49m\u001B[38;5;28;43mself\u001B[39;49m\u001B[38;5;241;43m.\u001B[39;49m\u001B[43m_oai_system_message\u001B[49m\u001B[43m \u001B[49m\u001B[38;5;241;43m+\u001B[39;49m\u001B[43m \u001B[49m\u001B[43mmessages\u001B[49m\u001B[43m,\u001B[49m\u001B[43m \u001B[49m\u001B[38;5;28;43mself\u001B[39;49m\u001B[38;5;241;43m.\u001B[39;49m\u001B[43mclient_cache\u001B[49m\n\u001B[1;32m   1289\u001B[0m \u001B[43m\u001B[49m\u001B[43m)\u001B[49m\n\u001B[1;32m   1290\u001B[0m \u001B[38;5;28;01mreturn\u001B[39;00m (\u001B[38;5;28;01mFalse\u001B[39;00m, \u001B[38;5;28;01mNone\u001B[39;00m) \u001B[38;5;28;01mif\u001B[39;00m extracted_response \u001B[38;5;129;01mis\u001B[39;00m \u001B[38;5;28;01mNone\u001B[39;00m \u001B[38;5;28;01melse\u001B[39;00m (\u001B[38;5;28;01mTrue\u001B[39;00m, extracted_response)\n",
      "File \u001B[0;32m~/PycharmProjects/Experiments/.venv/lib/python3.12/site-packages/autogen/agentchat/conversable_agent.py:1306\u001B[0m, in \u001B[0;36mConversableAgent._generate_oai_reply_from_client\u001B[0;34m(self, llm_client, messages, cache)\u001B[0m\n\u001B[1;32m   1303\u001B[0m         all_messages\u001B[38;5;241m.\u001B[39mappend(message)\n\u001B[1;32m   1305\u001B[0m \u001B[38;5;66;03m# TODO: #1143 handle token limit exceeded error\u001B[39;00m\n\u001B[0;32m-> 1306\u001B[0m response \u001B[38;5;241m=\u001B[39m \u001B[43mllm_client\u001B[49m\u001B[38;5;241;43m.\u001B[39;49m\u001B[43mcreate\u001B[49m\u001B[43m(\u001B[49m\n\u001B[1;32m   1307\u001B[0m \u001B[43m    \u001B[49m\u001B[43mcontext\u001B[49m\u001B[38;5;241;43m=\u001B[39;49m\u001B[43mmessages\u001B[49m\u001B[43m[\u001B[49m\u001B[38;5;241;43m-\u001B[39;49m\u001B[38;5;241;43m1\u001B[39;49m\u001B[43m]\u001B[49m\u001B[38;5;241;43m.\u001B[39;49m\u001B[43mpop\u001B[49m\u001B[43m(\u001B[49m\u001B[38;5;124;43m\"\u001B[39;49m\u001B[38;5;124;43mcontext\u001B[39;49m\u001B[38;5;124;43m\"\u001B[39;49m\u001B[43m,\u001B[49m\u001B[43m \u001B[49m\u001B[38;5;28;43;01mNone\u001B[39;49;00m\u001B[43m)\u001B[49m\u001B[43m,\u001B[49m\n\u001B[1;32m   1308\u001B[0m \u001B[43m    \u001B[49m\u001B[43mmessages\u001B[49m\u001B[38;5;241;43m=\u001B[39;49m\u001B[43mall_messages\u001B[49m\u001B[43m,\u001B[49m\n\u001B[1;32m   1309\u001B[0m \u001B[43m    \u001B[49m\u001B[43mcache\u001B[49m\u001B[38;5;241;43m=\u001B[39;49m\u001B[43mcache\u001B[49m\u001B[43m,\u001B[49m\n\u001B[1;32m   1310\u001B[0m \u001B[43m\u001B[49m\u001B[43m)\u001B[49m\n\u001B[1;32m   1311\u001B[0m extracted_response \u001B[38;5;241m=\u001B[39m llm_client\u001B[38;5;241m.\u001B[39mextract_text_or_completion_object(response)[\u001B[38;5;241m0\u001B[39m]\n\u001B[1;32m   1313\u001B[0m \u001B[38;5;28;01mif\u001B[39;00m extracted_response \u001B[38;5;129;01mis\u001B[39;00m \u001B[38;5;28;01mNone\u001B[39;00m:\n",
      "File \u001B[0;32m~/PycharmProjects/Experiments/.venv/lib/python3.12/site-packages/autogen/oai/client.py:638\u001B[0m, in \u001B[0;36mOpenAIWrapper.create\u001B[0;34m(self, **config)\u001B[0m\n\u001B[1;32m    636\u001B[0m \u001B[38;5;28;01mtry\u001B[39;00m:\n\u001B[1;32m    637\u001B[0m     request_ts \u001B[38;5;241m=\u001B[39m get_current_ts()\n\u001B[0;32m--> 638\u001B[0m     response \u001B[38;5;241m=\u001B[39m \u001B[43mclient\u001B[49m\u001B[38;5;241;43m.\u001B[39;49m\u001B[43mcreate\u001B[49m\u001B[43m(\u001B[49m\u001B[43mparams\u001B[49m\u001B[43m)\u001B[49m\n\u001B[1;32m    639\u001B[0m \u001B[38;5;28;01mexcept\u001B[39;00m APITimeoutError \u001B[38;5;28;01mas\u001B[39;00m err:\n\u001B[1;32m    640\u001B[0m     logger\u001B[38;5;241m.\u001B[39mdebug(\u001B[38;5;124mf\u001B[39m\u001B[38;5;124m\"\u001B[39m\u001B[38;5;124mconfig \u001B[39m\u001B[38;5;132;01m{\u001B[39;00mi\u001B[38;5;132;01m}\u001B[39;00m\u001B[38;5;124m timed out\u001B[39m\u001B[38;5;124m\"\u001B[39m, exc_info\u001B[38;5;241m=\u001B[39m\u001B[38;5;28;01mTrue\u001B[39;00m)\n",
      "File \u001B[0;32m~/PycharmProjects/Experiments/.venv/lib/python3.12/site-packages/autogen/oai/client.py:285\u001B[0m, in \u001B[0;36mOpenAIClient.create\u001B[0;34m(self, params)\u001B[0m\n\u001B[1;32m    283\u001B[0m     params \u001B[38;5;241m=\u001B[39m params\u001B[38;5;241m.\u001B[39mcopy()\n\u001B[1;32m    284\u001B[0m     params[\u001B[38;5;124m\"\u001B[39m\u001B[38;5;124mstream\u001B[39m\u001B[38;5;124m\"\u001B[39m] \u001B[38;5;241m=\u001B[39m \u001B[38;5;28;01mFalse\u001B[39;00m\n\u001B[0;32m--> 285\u001B[0m     response \u001B[38;5;241m=\u001B[39m \u001B[43mcompletions\u001B[49m\u001B[38;5;241;43m.\u001B[39;49m\u001B[43mcreate\u001B[49m\u001B[43m(\u001B[49m\u001B[38;5;241;43m*\u001B[39;49m\u001B[38;5;241;43m*\u001B[39;49m\u001B[43mparams\u001B[49m\u001B[43m)\u001B[49m\n\u001B[1;32m    287\u001B[0m \u001B[38;5;28;01mreturn\u001B[39;00m response\n",
      "File \u001B[0;32m~/PycharmProjects/Experiments/.venv/lib/python3.12/site-packages/openai/_utils/_utils.py:277\u001B[0m, in \u001B[0;36mrequired_args.<locals>.inner.<locals>.wrapper\u001B[0;34m(*args, **kwargs)\u001B[0m\n\u001B[1;32m    275\u001B[0m             msg \u001B[38;5;241m=\u001B[39m \u001B[38;5;124mf\u001B[39m\u001B[38;5;124m\"\u001B[39m\u001B[38;5;124mMissing required argument: \u001B[39m\u001B[38;5;132;01m{\u001B[39;00mquote(missing[\u001B[38;5;241m0\u001B[39m])\u001B[38;5;132;01m}\u001B[39;00m\u001B[38;5;124m\"\u001B[39m\n\u001B[1;32m    276\u001B[0m     \u001B[38;5;28;01mraise\u001B[39;00m \u001B[38;5;167;01mTypeError\u001B[39;00m(msg)\n\u001B[0;32m--> 277\u001B[0m \u001B[38;5;28;01mreturn\u001B[39;00m \u001B[43mfunc\u001B[49m\u001B[43m(\u001B[49m\u001B[38;5;241;43m*\u001B[39;49m\u001B[43margs\u001B[49m\u001B[43m,\u001B[49m\u001B[43m \u001B[49m\u001B[38;5;241;43m*\u001B[39;49m\u001B[38;5;241;43m*\u001B[39;49m\u001B[43mkwargs\u001B[49m\u001B[43m)\u001B[49m\n",
      "File \u001B[0;32m~/PycharmProjects/Experiments/.venv/lib/python3.12/site-packages/openai/resources/chat/completions.py:643\u001B[0m, in \u001B[0;36mCompletions.create\u001B[0;34m(self, messages, model, frequency_penalty, function_call, functions, logit_bias, logprobs, max_tokens, n, parallel_tool_calls, presence_penalty, response_format, seed, service_tier, stop, stream, stream_options, temperature, tool_choice, tools, top_logprobs, top_p, user, extra_headers, extra_query, extra_body, timeout)\u001B[0m\n\u001B[1;32m    609\u001B[0m \u001B[38;5;129m@required_args\u001B[39m([\u001B[38;5;124m\"\u001B[39m\u001B[38;5;124mmessages\u001B[39m\u001B[38;5;124m\"\u001B[39m, \u001B[38;5;124m\"\u001B[39m\u001B[38;5;124mmodel\u001B[39m\u001B[38;5;124m\"\u001B[39m], [\u001B[38;5;124m\"\u001B[39m\u001B[38;5;124mmessages\u001B[39m\u001B[38;5;124m\"\u001B[39m, \u001B[38;5;124m\"\u001B[39m\u001B[38;5;124mmodel\u001B[39m\u001B[38;5;124m\"\u001B[39m, \u001B[38;5;124m\"\u001B[39m\u001B[38;5;124mstream\u001B[39m\u001B[38;5;124m\"\u001B[39m])\n\u001B[1;32m    610\u001B[0m \u001B[38;5;28;01mdef\u001B[39;00m \u001B[38;5;21mcreate\u001B[39m(\n\u001B[1;32m    611\u001B[0m     \u001B[38;5;28mself\u001B[39m,\n\u001B[0;32m   (...)\u001B[0m\n\u001B[1;32m    641\u001B[0m     timeout: \u001B[38;5;28mfloat\u001B[39m \u001B[38;5;241m|\u001B[39m httpx\u001B[38;5;241m.\u001B[39mTimeout \u001B[38;5;241m|\u001B[39m \u001B[38;5;28;01mNone\u001B[39;00m \u001B[38;5;241m|\u001B[39m NotGiven \u001B[38;5;241m=\u001B[39m NOT_GIVEN,\n\u001B[1;32m    642\u001B[0m ) \u001B[38;5;241m-\u001B[39m\u001B[38;5;241m>\u001B[39m ChatCompletion \u001B[38;5;241m|\u001B[39m Stream[ChatCompletionChunk]:\n\u001B[0;32m--> 643\u001B[0m     \u001B[38;5;28;01mreturn\u001B[39;00m \u001B[38;5;28;43mself\u001B[39;49m\u001B[38;5;241;43m.\u001B[39;49m\u001B[43m_post\u001B[49m\u001B[43m(\u001B[49m\n\u001B[1;32m    644\u001B[0m \u001B[43m        \u001B[49m\u001B[38;5;124;43m\"\u001B[39;49m\u001B[38;5;124;43m/chat/completions\u001B[39;49m\u001B[38;5;124;43m\"\u001B[39;49m\u001B[43m,\u001B[49m\n\u001B[1;32m    645\u001B[0m \u001B[43m        \u001B[49m\u001B[43mbody\u001B[49m\u001B[38;5;241;43m=\u001B[39;49m\u001B[43mmaybe_transform\u001B[49m\u001B[43m(\u001B[49m\n\u001B[1;32m    646\u001B[0m \u001B[43m            \u001B[49m\u001B[43m{\u001B[49m\n\u001B[1;32m    647\u001B[0m \u001B[43m                \u001B[49m\u001B[38;5;124;43m\"\u001B[39;49m\u001B[38;5;124;43mmessages\u001B[39;49m\u001B[38;5;124;43m\"\u001B[39;49m\u001B[43m:\u001B[49m\u001B[43m \u001B[49m\u001B[43mmessages\u001B[49m\u001B[43m,\u001B[49m\n\u001B[1;32m    648\u001B[0m \u001B[43m                \u001B[49m\u001B[38;5;124;43m\"\u001B[39;49m\u001B[38;5;124;43mmodel\u001B[39;49m\u001B[38;5;124;43m\"\u001B[39;49m\u001B[43m:\u001B[49m\u001B[43m \u001B[49m\u001B[43mmodel\u001B[49m\u001B[43m,\u001B[49m\n\u001B[1;32m    649\u001B[0m \u001B[43m                \u001B[49m\u001B[38;5;124;43m\"\u001B[39;49m\u001B[38;5;124;43mfrequency_penalty\u001B[39;49m\u001B[38;5;124;43m\"\u001B[39;49m\u001B[43m:\u001B[49m\u001B[43m \u001B[49m\u001B[43mfrequency_penalty\u001B[49m\u001B[43m,\u001B[49m\n\u001B[1;32m    650\u001B[0m \u001B[43m                \u001B[49m\u001B[38;5;124;43m\"\u001B[39;49m\u001B[38;5;124;43mfunction_call\u001B[39;49m\u001B[38;5;124;43m\"\u001B[39;49m\u001B[43m:\u001B[49m\u001B[43m \u001B[49m\u001B[43mfunction_call\u001B[49m\u001B[43m,\u001B[49m\n\u001B[1;32m    651\u001B[0m \u001B[43m                \u001B[49m\u001B[38;5;124;43m\"\u001B[39;49m\u001B[38;5;124;43mfunctions\u001B[39;49m\u001B[38;5;124;43m\"\u001B[39;49m\u001B[43m:\u001B[49m\u001B[43m \u001B[49m\u001B[43mfunctions\u001B[49m\u001B[43m,\u001B[49m\n\u001B[1;32m    652\u001B[0m \u001B[43m                \u001B[49m\u001B[38;5;124;43m\"\u001B[39;49m\u001B[38;5;124;43mlogit_bias\u001B[39;49m\u001B[38;5;124;43m\"\u001B[39;49m\u001B[43m:\u001B[49m\u001B[43m \u001B[49m\u001B[43mlogit_bias\u001B[49m\u001B[43m,\u001B[49m\n\u001B[1;32m    653\u001B[0m \u001B[43m                \u001B[49m\u001B[38;5;124;43m\"\u001B[39;49m\u001B[38;5;124;43mlogprobs\u001B[39;49m\u001B[38;5;124;43m\"\u001B[39;49m\u001B[43m:\u001B[49m\u001B[43m \u001B[49m\u001B[43mlogprobs\u001B[49m\u001B[43m,\u001B[49m\n\u001B[1;32m    654\u001B[0m \u001B[43m                \u001B[49m\u001B[38;5;124;43m\"\u001B[39;49m\u001B[38;5;124;43mmax_tokens\u001B[39;49m\u001B[38;5;124;43m\"\u001B[39;49m\u001B[43m:\u001B[49m\u001B[43m \u001B[49m\u001B[43mmax_tokens\u001B[49m\u001B[43m,\u001B[49m\n\u001B[1;32m    655\u001B[0m \u001B[43m                \u001B[49m\u001B[38;5;124;43m\"\u001B[39;49m\u001B[38;5;124;43mn\u001B[39;49m\u001B[38;5;124;43m\"\u001B[39;49m\u001B[43m:\u001B[49m\u001B[43m \u001B[49m\u001B[43mn\u001B[49m\u001B[43m,\u001B[49m\n\u001B[1;32m    656\u001B[0m \u001B[43m                \u001B[49m\u001B[38;5;124;43m\"\u001B[39;49m\u001B[38;5;124;43mparallel_tool_calls\u001B[39;49m\u001B[38;5;124;43m\"\u001B[39;49m\u001B[43m:\u001B[49m\u001B[43m \u001B[49m\u001B[43mparallel_tool_calls\u001B[49m\u001B[43m,\u001B[49m\n\u001B[1;32m    657\u001B[0m \u001B[43m                \u001B[49m\u001B[38;5;124;43m\"\u001B[39;49m\u001B[38;5;124;43mpresence_penalty\u001B[39;49m\u001B[38;5;124;43m\"\u001B[39;49m\u001B[43m:\u001B[49m\u001B[43m \u001B[49m\u001B[43mpresence_penalty\u001B[49m\u001B[43m,\u001B[49m\n\u001B[1;32m    658\u001B[0m \u001B[43m                \u001B[49m\u001B[38;5;124;43m\"\u001B[39;49m\u001B[38;5;124;43mresponse_format\u001B[39;49m\u001B[38;5;124;43m\"\u001B[39;49m\u001B[43m:\u001B[49m\u001B[43m \u001B[49m\u001B[43mresponse_format\u001B[49m\u001B[43m,\u001B[49m\n\u001B[1;32m    659\u001B[0m \u001B[43m                \u001B[49m\u001B[38;5;124;43m\"\u001B[39;49m\u001B[38;5;124;43mseed\u001B[39;49m\u001B[38;5;124;43m\"\u001B[39;49m\u001B[43m:\u001B[49m\u001B[43m \u001B[49m\u001B[43mseed\u001B[49m\u001B[43m,\u001B[49m\n\u001B[1;32m    660\u001B[0m \u001B[43m                \u001B[49m\u001B[38;5;124;43m\"\u001B[39;49m\u001B[38;5;124;43mservice_tier\u001B[39;49m\u001B[38;5;124;43m\"\u001B[39;49m\u001B[43m:\u001B[49m\u001B[43m \u001B[49m\u001B[43mservice_tier\u001B[49m\u001B[43m,\u001B[49m\n\u001B[1;32m    661\u001B[0m \u001B[43m                \u001B[49m\u001B[38;5;124;43m\"\u001B[39;49m\u001B[38;5;124;43mstop\u001B[39;49m\u001B[38;5;124;43m\"\u001B[39;49m\u001B[43m:\u001B[49m\u001B[43m \u001B[49m\u001B[43mstop\u001B[49m\u001B[43m,\u001B[49m\n\u001B[1;32m    662\u001B[0m \u001B[43m                \u001B[49m\u001B[38;5;124;43m\"\u001B[39;49m\u001B[38;5;124;43mstream\u001B[39;49m\u001B[38;5;124;43m\"\u001B[39;49m\u001B[43m:\u001B[49m\u001B[43m \u001B[49m\u001B[43mstream\u001B[49m\u001B[43m,\u001B[49m\n\u001B[1;32m    663\u001B[0m \u001B[43m                \u001B[49m\u001B[38;5;124;43m\"\u001B[39;49m\u001B[38;5;124;43mstream_options\u001B[39;49m\u001B[38;5;124;43m\"\u001B[39;49m\u001B[43m:\u001B[49m\u001B[43m \u001B[49m\u001B[43mstream_options\u001B[49m\u001B[43m,\u001B[49m\n\u001B[1;32m    664\u001B[0m \u001B[43m                \u001B[49m\u001B[38;5;124;43m\"\u001B[39;49m\u001B[38;5;124;43mtemperature\u001B[39;49m\u001B[38;5;124;43m\"\u001B[39;49m\u001B[43m:\u001B[49m\u001B[43m \u001B[49m\u001B[43mtemperature\u001B[49m\u001B[43m,\u001B[49m\n\u001B[1;32m    665\u001B[0m \u001B[43m                \u001B[49m\u001B[38;5;124;43m\"\u001B[39;49m\u001B[38;5;124;43mtool_choice\u001B[39;49m\u001B[38;5;124;43m\"\u001B[39;49m\u001B[43m:\u001B[49m\u001B[43m \u001B[49m\u001B[43mtool_choice\u001B[49m\u001B[43m,\u001B[49m\n\u001B[1;32m    666\u001B[0m \u001B[43m                \u001B[49m\u001B[38;5;124;43m\"\u001B[39;49m\u001B[38;5;124;43mtools\u001B[39;49m\u001B[38;5;124;43m\"\u001B[39;49m\u001B[43m:\u001B[49m\u001B[43m \u001B[49m\u001B[43mtools\u001B[49m\u001B[43m,\u001B[49m\n\u001B[1;32m    667\u001B[0m \u001B[43m                \u001B[49m\u001B[38;5;124;43m\"\u001B[39;49m\u001B[38;5;124;43mtop_logprobs\u001B[39;49m\u001B[38;5;124;43m\"\u001B[39;49m\u001B[43m:\u001B[49m\u001B[43m \u001B[49m\u001B[43mtop_logprobs\u001B[49m\u001B[43m,\u001B[49m\n\u001B[1;32m    668\u001B[0m \u001B[43m                \u001B[49m\u001B[38;5;124;43m\"\u001B[39;49m\u001B[38;5;124;43mtop_p\u001B[39;49m\u001B[38;5;124;43m\"\u001B[39;49m\u001B[43m:\u001B[49m\u001B[43m \u001B[49m\u001B[43mtop_p\u001B[49m\u001B[43m,\u001B[49m\n\u001B[1;32m    669\u001B[0m \u001B[43m                \u001B[49m\u001B[38;5;124;43m\"\u001B[39;49m\u001B[38;5;124;43muser\u001B[39;49m\u001B[38;5;124;43m\"\u001B[39;49m\u001B[43m:\u001B[49m\u001B[43m \u001B[49m\u001B[43muser\u001B[49m\u001B[43m,\u001B[49m\n\u001B[1;32m    670\u001B[0m \u001B[43m            \u001B[49m\u001B[43m}\u001B[49m\u001B[43m,\u001B[49m\n\u001B[1;32m    671\u001B[0m \u001B[43m            \u001B[49m\u001B[43mcompletion_create_params\u001B[49m\u001B[38;5;241;43m.\u001B[39;49m\u001B[43mCompletionCreateParams\u001B[49m\u001B[43m,\u001B[49m\n\u001B[1;32m    672\u001B[0m \u001B[43m        \u001B[49m\u001B[43m)\u001B[49m\u001B[43m,\u001B[49m\n\u001B[1;32m    673\u001B[0m \u001B[43m        \u001B[49m\u001B[43moptions\u001B[49m\u001B[38;5;241;43m=\u001B[39;49m\u001B[43mmake_request_options\u001B[49m\u001B[43m(\u001B[49m\n\u001B[1;32m    674\u001B[0m \u001B[43m            \u001B[49m\u001B[43mextra_headers\u001B[49m\u001B[38;5;241;43m=\u001B[39;49m\u001B[43mextra_headers\u001B[49m\u001B[43m,\u001B[49m\u001B[43m \u001B[49m\u001B[43mextra_query\u001B[49m\u001B[38;5;241;43m=\u001B[39;49m\u001B[43mextra_query\u001B[49m\u001B[43m,\u001B[49m\u001B[43m \u001B[49m\u001B[43mextra_body\u001B[49m\u001B[38;5;241;43m=\u001B[39;49m\u001B[43mextra_body\u001B[49m\u001B[43m,\u001B[49m\u001B[43m \u001B[49m\u001B[43mtimeout\u001B[49m\u001B[38;5;241;43m=\u001B[39;49m\u001B[43mtimeout\u001B[49m\n\u001B[1;32m    675\u001B[0m \u001B[43m        \u001B[49m\u001B[43m)\u001B[49m\u001B[43m,\u001B[49m\n\u001B[1;32m    676\u001B[0m \u001B[43m        \u001B[49m\u001B[43mcast_to\u001B[49m\u001B[38;5;241;43m=\u001B[39;49m\u001B[43mChatCompletion\u001B[49m\u001B[43m,\u001B[49m\n\u001B[1;32m    677\u001B[0m \u001B[43m        \u001B[49m\u001B[43mstream\u001B[49m\u001B[38;5;241;43m=\u001B[39;49m\u001B[43mstream\u001B[49m\u001B[43m \u001B[49m\u001B[38;5;129;43;01mor\u001B[39;49;00m\u001B[43m \u001B[49m\u001B[38;5;28;43;01mFalse\u001B[39;49;00m\u001B[43m,\u001B[49m\n\u001B[1;32m    678\u001B[0m \u001B[43m        \u001B[49m\u001B[43mstream_cls\u001B[49m\u001B[38;5;241;43m=\u001B[39;49m\u001B[43mStream\u001B[49m\u001B[43m[\u001B[49m\u001B[43mChatCompletionChunk\u001B[49m\u001B[43m]\u001B[49m\u001B[43m,\u001B[49m\n\u001B[1;32m    679\u001B[0m \u001B[43m    \u001B[49m\u001B[43m)\u001B[49m\n",
      "File \u001B[0;32m~/PycharmProjects/Experiments/.venv/lib/python3.12/site-packages/openai/_base_client.py:1266\u001B[0m, in \u001B[0;36mSyncAPIClient.post\u001B[0;34m(self, path, cast_to, body, options, files, stream, stream_cls)\u001B[0m\n\u001B[1;32m   1252\u001B[0m \u001B[38;5;28;01mdef\u001B[39;00m \u001B[38;5;21mpost\u001B[39m(\n\u001B[1;32m   1253\u001B[0m     \u001B[38;5;28mself\u001B[39m,\n\u001B[1;32m   1254\u001B[0m     path: \u001B[38;5;28mstr\u001B[39m,\n\u001B[0;32m   (...)\u001B[0m\n\u001B[1;32m   1261\u001B[0m     stream_cls: \u001B[38;5;28mtype\u001B[39m[_StreamT] \u001B[38;5;241m|\u001B[39m \u001B[38;5;28;01mNone\u001B[39;00m \u001B[38;5;241m=\u001B[39m \u001B[38;5;28;01mNone\u001B[39;00m,\n\u001B[1;32m   1262\u001B[0m ) \u001B[38;5;241m-\u001B[39m\u001B[38;5;241m>\u001B[39m ResponseT \u001B[38;5;241m|\u001B[39m _StreamT:\n\u001B[1;32m   1263\u001B[0m     opts \u001B[38;5;241m=\u001B[39m FinalRequestOptions\u001B[38;5;241m.\u001B[39mconstruct(\n\u001B[1;32m   1264\u001B[0m         method\u001B[38;5;241m=\u001B[39m\u001B[38;5;124m\"\u001B[39m\u001B[38;5;124mpost\u001B[39m\u001B[38;5;124m\"\u001B[39m, url\u001B[38;5;241m=\u001B[39mpath, json_data\u001B[38;5;241m=\u001B[39mbody, files\u001B[38;5;241m=\u001B[39mto_httpx_files(files), \u001B[38;5;241m*\u001B[39m\u001B[38;5;241m*\u001B[39moptions\n\u001B[1;32m   1265\u001B[0m     )\n\u001B[0;32m-> 1266\u001B[0m     \u001B[38;5;28;01mreturn\u001B[39;00m cast(ResponseT, \u001B[38;5;28;43mself\u001B[39;49m\u001B[38;5;241;43m.\u001B[39;49m\u001B[43mrequest\u001B[49m\u001B[43m(\u001B[49m\u001B[43mcast_to\u001B[49m\u001B[43m,\u001B[49m\u001B[43m \u001B[49m\u001B[43mopts\u001B[49m\u001B[43m,\u001B[49m\u001B[43m \u001B[49m\u001B[43mstream\u001B[49m\u001B[38;5;241;43m=\u001B[39;49m\u001B[43mstream\u001B[49m\u001B[43m,\u001B[49m\u001B[43m \u001B[49m\u001B[43mstream_cls\u001B[49m\u001B[38;5;241;43m=\u001B[39;49m\u001B[43mstream_cls\u001B[49m\u001B[43m)\u001B[49m)\n",
      "File \u001B[0;32m~/PycharmProjects/Experiments/.venv/lib/python3.12/site-packages/openai/_base_client.py:942\u001B[0m, in \u001B[0;36mSyncAPIClient.request\u001B[0;34m(self, cast_to, options, remaining_retries, stream, stream_cls)\u001B[0m\n\u001B[1;32m    933\u001B[0m \u001B[38;5;28;01mdef\u001B[39;00m \u001B[38;5;21mrequest\u001B[39m(\n\u001B[1;32m    934\u001B[0m     \u001B[38;5;28mself\u001B[39m,\n\u001B[1;32m    935\u001B[0m     cast_to: Type[ResponseT],\n\u001B[0;32m   (...)\u001B[0m\n\u001B[1;32m    940\u001B[0m     stream_cls: \u001B[38;5;28mtype\u001B[39m[_StreamT] \u001B[38;5;241m|\u001B[39m \u001B[38;5;28;01mNone\u001B[39;00m \u001B[38;5;241m=\u001B[39m \u001B[38;5;28;01mNone\u001B[39;00m,\n\u001B[1;32m    941\u001B[0m ) \u001B[38;5;241m-\u001B[39m\u001B[38;5;241m>\u001B[39m ResponseT \u001B[38;5;241m|\u001B[39m _StreamT:\n\u001B[0;32m--> 942\u001B[0m     \u001B[38;5;28;01mreturn\u001B[39;00m \u001B[38;5;28;43mself\u001B[39;49m\u001B[38;5;241;43m.\u001B[39;49m\u001B[43m_request\u001B[49m\u001B[43m(\u001B[49m\n\u001B[1;32m    943\u001B[0m \u001B[43m        \u001B[49m\u001B[43mcast_to\u001B[49m\u001B[38;5;241;43m=\u001B[39;49m\u001B[43mcast_to\u001B[49m\u001B[43m,\u001B[49m\n\u001B[1;32m    944\u001B[0m \u001B[43m        \u001B[49m\u001B[43moptions\u001B[49m\u001B[38;5;241;43m=\u001B[39;49m\u001B[43moptions\u001B[49m\u001B[43m,\u001B[49m\n\u001B[1;32m    945\u001B[0m \u001B[43m        \u001B[49m\u001B[43mstream\u001B[49m\u001B[38;5;241;43m=\u001B[39;49m\u001B[43mstream\u001B[49m\u001B[43m,\u001B[49m\n\u001B[1;32m    946\u001B[0m \u001B[43m        \u001B[49m\u001B[43mstream_cls\u001B[49m\u001B[38;5;241;43m=\u001B[39;49m\u001B[43mstream_cls\u001B[49m\u001B[43m,\u001B[49m\n\u001B[1;32m    947\u001B[0m \u001B[43m        \u001B[49m\u001B[43mremaining_retries\u001B[49m\u001B[38;5;241;43m=\u001B[39;49m\u001B[43mremaining_retries\u001B[49m\u001B[43m,\u001B[49m\n\u001B[1;32m    948\u001B[0m \u001B[43m    \u001B[49m\u001B[43m)\u001B[49m\n",
      "File \u001B[0;32m~/PycharmProjects/Experiments/.venv/lib/python3.12/site-packages/openai/_base_client.py:1046\u001B[0m, in \u001B[0;36mSyncAPIClient._request\u001B[0;34m(self, cast_to, options, remaining_retries, stream, stream_cls)\u001B[0m\n\u001B[1;32m   1043\u001B[0m         err\u001B[38;5;241m.\u001B[39mresponse\u001B[38;5;241m.\u001B[39mread()\n\u001B[1;32m   1045\u001B[0m     log\u001B[38;5;241m.\u001B[39mdebug(\u001B[38;5;124m\"\u001B[39m\u001B[38;5;124mRe-raising status error\u001B[39m\u001B[38;5;124m\"\u001B[39m)\n\u001B[0;32m-> 1046\u001B[0m     \u001B[38;5;28;01mraise\u001B[39;00m \u001B[38;5;28mself\u001B[39m\u001B[38;5;241m.\u001B[39m_make_status_error_from_response(err\u001B[38;5;241m.\u001B[39mresponse) \u001B[38;5;28;01mfrom\u001B[39;00m \u001B[38;5;28;01mNone\u001B[39;00m\n\u001B[1;32m   1048\u001B[0m \u001B[38;5;28;01mreturn\u001B[39;00m \u001B[38;5;28mself\u001B[39m\u001B[38;5;241m.\u001B[39m_process_response(\n\u001B[1;32m   1049\u001B[0m     cast_to\u001B[38;5;241m=\u001B[39mcast_to,\n\u001B[1;32m   1050\u001B[0m     options\u001B[38;5;241m=\u001B[39moptions,\n\u001B[0;32m   (...)\u001B[0m\n\u001B[1;32m   1053\u001B[0m     stream_cls\u001B[38;5;241m=\u001B[39mstream_cls,\n\u001B[1;32m   1054\u001B[0m )\n",
      "\u001B[0;31mBadRequestError\u001B[0m: Error code: 400 - {'error': {'message': 'qwen2 does not support tools', 'type': 'api_error', 'param': None, 'code': None}}"
     ]
    }
   ],
   "execution_count": 21
  },
  {
   "cell_type": "code",
   "id": "3cae2cae",
   "metadata": {
    "height": 30,
    "ExecuteTime": {
     "end_time": "2024-07-21T07:36:18.528586Z",
     "start_time": "2024-07-21T07:36:18.517689Z"
    }
   },
   "source": [
    "chat_result.cost"
   ],
   "outputs": [
    {
     "ename": "NameError",
     "evalue": "name 'chat_result' is not defined",
     "output_type": "error",
     "traceback": [
      "\u001B[0;31m---------------------------------------------------------------------------\u001B[0m",
      "\u001B[0;31mNameError\u001B[0m                                 Traceback (most recent call last)",
      "Cell \u001B[0;32mIn[22], line 1\u001B[0m\n\u001B[0;32m----> 1\u001B[0m \u001B[43mchat_result\u001B[49m\u001B[38;5;241m.\u001B[39mcost\n",
      "\u001B[0;31mNameError\u001B[0m: name 'chat_result' is not defined"
     ]
    }
   ],
   "execution_count": 22
  },
  {
   "cell_type": "code",
   "execution_count": null,
   "id": "6eca7099",
   "metadata": {
    "height": 30
   },
   "outputs": [],
   "source": []
  },
  {
   "cell_type": "markdown",
   "id": "4e8ca3c3",
   "metadata": {},
   "source": [
    "**Note:** \n",
    "To add human input to this game, add **human_input_mode=\"ALWAYS\"** for both player agents."
   ]
  }
 ],
 "metadata": {
  "kernelspec": {
   "display_name": "Python 3 (ipykernel)",
   "language": "python",
   "name": "python3"
  },
  "language_info": {
   "codemirror_mode": {
    "name": "ipython",
    "version": 3
   },
   "file_extension": ".py",
   "mimetype": "text/x-python",
   "name": "python",
   "nbconvert_exporter": "python",
   "pygments_lexer": "ipython3",
   "version": "3.11.9"
  }
 },
 "nbformat": 4,
 "nbformat_minor": 5
}
