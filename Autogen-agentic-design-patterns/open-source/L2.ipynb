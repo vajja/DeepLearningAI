{
 "cells": [
  {
   "metadata": {},
   "cell_type": "markdown",
   "source": "# Lesson 2: Sequential Chats and Customer Onboarding",
   "id": "3c2ab39112fd1c2"
  },
  {
   "metadata": {},
   "cell_type": "markdown",
   "source": "## Setup",
   "id": "649d2abada88e2e3"
  },
  {
   "metadata": {
    "ExecuteTime": {
     "end_time": "2024-07-21T05:48:17.926417Z",
     "start_time": "2024-07-21T05:48:17.923569Z"
    }
   },
   "cell_type": "code",
   "source": [
    "llm_config = {\n",
    "        \"model\": \"qwen2\",\n",
    "        \"base_url\": \"http://localhost:11434/v1\",\n",
    "        \"api_key\": \"ollama\",\n",
    "    }"
   ],
   "id": "initial_id",
   "outputs": [],
   "execution_count": 1
  },
  {
   "metadata": {
    "ExecuteTime": {
     "end_time": "2024-07-21T05:48:22.448744Z",
     "start_time": "2024-07-21T05:48:17.930604Z"
    }
   },
   "cell_type": "code",
   "source": "from autogen import ConversableAgent",
   "id": "8f8a0356b056c27d",
   "outputs": [],
   "execution_count": 2
  },
  {
   "metadata": {},
   "cell_type": "code",
   "outputs": [],
   "execution_count": null,
   "source": "",
   "id": "2e9568f36d469dac"
  },
  {
   "metadata": {},
   "cell_type": "markdown",
   "source": "## Creating the needed agents",
   "id": "bd6894b1c7d46c53"
  },
  {
   "metadata": {},
   "cell_type": "code",
   "outputs": [],
   "execution_count": null,
   "source": "",
   "id": "a9f88f9dd6686"
  },
  {
   "metadata": {},
   "cell_type": "markdown",
   "source": "##### Optimize the system message as per the model, Using OpenAI it's working great",
   "id": "f6cbc6d7789cba19"
  },
  {
   "metadata": {
    "ExecuteTime": {
     "end_time": "2024-07-21T05:48:22.466590Z",
     "start_time": "2024-07-21T05:48:22.449797Z"
    }
   },
   "cell_type": "code",
   "source": [
    "onboarding_personal_information_agent = ConversableAgent(\n",
    "    name=\"Onboarding Personal Information Agent\",\n",
    "    system_message='''You are a helpful customer onboarding agent,\n",
    "    you are here to help new customers get started with our product.\n",
    "    Your job is to gather customer's name and location.\n",
    "    Do not ask for other information. Return 'TERMINATE' \n",
    "    when you have gathered all the information.''',\n",
    "    llm_config=llm_config,\n",
    "    code_execution_config=False,\n",
    "    human_input_mode=\"NEVER\",\n",
    ")"
   ],
   "id": "2d96b7593735831c",
   "outputs": [],
   "execution_count": 3
  },
  {
   "metadata": {},
   "cell_type": "code",
   "outputs": [],
   "execution_count": null,
   "source": "",
   "id": "d221ba756e34b84e"
  },
  {
   "metadata": {},
   "cell_type": "markdown",
   "source": [
    "##### Asking customer's interest on the topic\n",
    " We will use human_input_mode=\"NEVER\": we used LLM as human_input_mode=\"NEVER\"<br>\n",
    " Update it as per the requirement as per the use case "
   ],
   "id": "330e5ade8dab1079"
  },
  {
   "metadata": {
    "ExecuteTime": {
     "end_time": "2024-07-21T05:48:47.435675Z",
     "start_time": "2024-07-21T05:48:47.412756Z"
    }
   },
   "cell_type": "code",
   "source": [
    "onboarding_topic_preference_agent = ConversableAgent(\n",
    "    name=\"Onboarding Topic preference Agent\",\n",
    "    system_message='''You are a helpful customer onboarding agent,\n",
    "    you are here to help new customers get started with our product.\n",
    "    Your job is to gather customer's preferences on news topics.\n",
    "    Do not ask for other information.\n",
    "    Return 'TERMINATE' when you have gathered all the information.''',\n",
    "    llm_config=llm_config,\n",
    "    code_execution_config=False,\n",
    "    human_input_mode=\"NEVER\",\n",
    ")"
   ],
   "id": "9806ed2c4712e8aa",
   "outputs": [],
   "execution_count": 4
  },
  {
   "metadata": {},
   "cell_type": "code",
   "outputs": [],
   "execution_count": null,
   "source": "",
   "id": "2ee26e272011590d"
  },
  {
   "metadata": {},
   "cell_type": "markdown",
   "source": "Responds jokes or information as per the customer interest",
   "id": "5b68446ac02ade61"
  },
  {
   "metadata": {
    "ExecuteTime": {
     "end_time": "2024-07-21T06:03:34.694165Z",
     "start_time": "2024-07-21T06:03:34.662805Z"
    }
   },
   "cell_type": "code",
   "source": [
    "customer_engagement_agent = ConversableAgent(\n",
    "    name=\"Customer Engagement Agent\",\n",
    "    system_message='''You are a helpful customer service agent\n",
    "    here to provide fun for the customer based on the user's\n",
    "    personal information and topic preferences.\n",
    "    This could include fun facts, jokes, or interesting stories.\n",
    "    Make sure to make it engaging and fun!\n",
    "    Return 'TERMINATE' when you are done.''',\n",
    "    llm_config=llm_config,\n",
    "    code_execution_config=False,\n",
    "    human_input_mode=\"NEVER\",\n",
    "    is_termination_msg=lambda msg: \"terminate\" in msg.get(\"content\").lower(),\n",
    ")"
   ],
   "id": "42fbd3d0cdb96a21",
   "outputs": [],
   "execution_count": 6
  },
  {
   "metadata": {},
   "cell_type": "code",
   "outputs": [],
   "execution_count": null,
   "source": "",
   "id": "74dff5c9971f2317"
  },
  {
   "metadata": {},
   "cell_type": "markdown",
   "source": "Human input as Always it will take human feedback",
   "id": "dabb52ccc94cf86e"
  },
  {
   "metadata": {
    "ExecuteTime": {
     "end_time": "2024-07-21T06:03:36.656504Z",
     "start_time": "2024-07-21T06:03:36.653368Z"
    }
   },
   "cell_type": "code",
   "source": [
    "customer_proxy_agent = ConversableAgent(\n",
    "    name=\"customer_proxy_agent\",\n",
    "    llm_config=False,\n",
    "    code_execution_config=False,\n",
    "    human_input_mode=\"ALWAYS\",\n",
    "    is_termination_msg=lambda msg: \"terminate\" in msg.get(\"content\").lower(),\n",
    ")"
   ],
   "id": "f233a49ca63e1fca",
   "outputs": [],
   "execution_count": 7
  },
  {
   "metadata": {},
   "cell_type": "code",
   "outputs": [],
   "execution_count": null,
   "source": "",
   "id": "1c5ec5540755dfdd"
  },
  {
   "metadata": {},
   "cell_type": "markdown",
   "source": [
    "## Creating tasks\n",
    "\n",
    "Now, you can craft a series of tasks to facilitate the onboarding process."
   ],
   "id": "a8a2547113684a1e"
  },
  {
   "metadata": {
    "ExecuteTime": {
     "end_time": "2024-07-21T06:12:22.665331Z",
     "start_time": "2024-07-21T06:12:22.660516Z"
    }
   },
   "cell_type": "code",
   "source": [
    "chats = [\n",
    "    {\n",
    "        # sends initial message to kick of the agent\n",
    "        \"sender\": onboarding_personal_information_agent,\n",
    "        \n",
    "        # receives sends response to the recipient\n",
    "        \"recipient\": customer_proxy_agent,\n",
    "        \"message\": \n",
    "            \"Hello, I'm here to help you get started with our product.\"\n",
    "            \"Could you tell me your name and location?\",\n",
    "        # In sequential chat we may want to sequential message\n",
    "        # in here we are using reflection_with_llm to summary the message from 1st to previous\n",
    "        \"summary_method\": \"reflection_with_llm\",\n",
    "        \n",
    "        # retrieving the name and location from history\n",
    "        \"summary_args\": {\n",
    "            \"summary_prompt\" : \"Return the customer information \"\n",
    "                             \"into as JSON object only: \"\n",
    "                             \"{'name': '', 'location': ''}\",\n",
    "        },\n",
    "        \n",
    "        # runs till max_tuns reached\n",
    "        \"max_turns\": 2,\n",
    "        \"clear_history\" : True\n",
    "    },\n",
    "    {\n",
    "        # sending message from onboarding top agent to customer proxy agent\n",
    "        \"sender\": onboarding_topic_preference_agent,\n",
    "        \"recipient\": customer_proxy_agent,\n",
    "        \"message\": \n",
    "                \"Great! Could you tell me what topics you are \"\n",
    "                \"interested in reading about?\",\n",
    "        \"summary_method\": \"reflection_with_llm\",\n",
    "        # you can increase as per your requirements\n",
    "        \"max_turns\": 1,\n",
    "        \"clear_history\" : False\n",
    "    },\n",
    "    {\n",
    "        \"sender\": customer_proxy_agent,\n",
    "        \"recipient\": customer_engagement_agent,\n",
    "        \"message\": \"Let's find something fun to read.\",\n",
    "        \"max_turns\": 1,\n",
    "        \"summary_method\": \"reflection_with_llm\",\n",
    "    },\n",
    "]"
   ],
   "id": "4eaffca825fcf505",
   "outputs": [],
   "execution_count": 8
  },
  {
   "metadata": {},
   "cell_type": "code",
   "outputs": [],
   "execution_count": null,
   "source": "",
   "id": "a530fe89f96bd124"
  },
  {
   "metadata": {},
   "cell_type": "markdown",
   "source": [
    "## Start the onboarding process\n",
    "**Note**: You might get a slightly different response than what's shown in the video. Feel free to try different inputs, such as name, location, and preferences."
   ],
   "id": "214749e3aa184139"
  },
  {
   "metadata": {
    "ExecuteTime": {
     "end_time": "2024-07-21T06:17:13.237715Z",
     "start_time": "2024-07-21T06:16:06.284347Z"
    }
   },
   "cell_type": "code",
   "source": [
    "from autogen import initiate_chats\n",
    "# starting first chat\n",
    "# it would ask for name and location\n",
    "chat_results = initiate_chats(chats)"
   ],
   "id": "966dadbe7e15285",
   "outputs": [
    {
     "name": "stdout",
     "output_type": "stream",
     "text": [
      "\u001B[34m\n",
      "********************************************************************************\u001B[0m\n",
      "\u001B[34mStarting a new chat....\u001B[0m\n",
      "\u001B[34m\n",
      "********************************************************************************\u001B[0m\n",
      "\u001B[33mOnboarding Personal Information Agent\u001B[0m (to customer_proxy_agent):\n",
      "\n",
      "Hello, I'm here to help you get started with our product.Could you tell me your name and location?\n",
      "\n",
      "--------------------------------------------------------------------------------\n"
     ]
    },
    {
     "name": "stderr",
     "output_type": "stream",
     "text": [
      "/Users/rajagopalvajja/PycharmProjects/Experiments/.venv/lib/python3.12/site-packages/autogen/agentchat/chat.py:47: UserWarning: Repetitive recipients detected: The chat history will be cleared by default if a recipient appears more than once. To retain the chat history, please set 'clear_history=False' in the configuration of the repeating agent.\n",
      "  warnings.warn(\n"
     ]
    },
    {
     "name": "stdout",
     "output_type": "stream",
     "text": [
      "\u001B[33mcustomer_proxy_agent\u001B[0m (to Onboarding Personal Information Agent):\n",
      "\n",
      "Tom\n",
      "\n",
      "--------------------------------------------------------------------------------\n",
      "\u001B[33mOnboarding Personal Information Agent\u001B[0m (to customer_proxy_agent):\n",
      "\n",
      "Could you please share your location as well, Tom?\n",
      "\n",
      "--------------------------------------------------------------------------------\n",
      "\u001B[33mcustomer_proxy_agent\u001B[0m (to Onboarding Personal Information Agent):\n",
      "\n",
      "Los Angeles\n",
      "\n",
      "--------------------------------------------------------------------------------\n",
      "\u001B[34m\n",
      "********************************************************************************\u001B[0m\n",
      "\u001B[34mStarting a new chat....\u001B[0m\n",
      "\u001B[34m\n",
      "********************************************************************************\u001B[0m\n",
      "\u001B[33mOnboarding Topic preference Agent\u001B[0m (to customer_proxy_agent):\n",
      "\n",
      "Great! Could you tell me what topics you are interested in reading about?\n",
      "Context: \n",
      "{\"name\": \"Tom\", \"location\": \"Los Angeles\"}\n",
      "{\"name\": \"Tom\", \"location\": \"Los Angeles\"}\n",
      "\n",
      "--------------------------------------------------------------------------------\n",
      "\u001B[33mcustomer_proxy_agent\u001B[0m (to Onboarding Topic preference Agent):\n",
      "\n",
      "Disney\n",
      "\n",
      "--------------------------------------------------------------------------------\n",
      "\u001B[34m\n",
      "********************************************************************************\u001B[0m\n",
      "\u001B[34mStarting a new chat....\u001B[0m\n",
      "\u001B[34m\n",
      "********************************************************************************\u001B[0m\n",
      "\u001B[33mcustomer_proxy_agent\u001B[0m (to Customer Engagement Agent):\n",
      "\n",
      "Let's find something fun to read.\n",
      "Context: \n",
      "{\"name\": \"Tom\", \"location\": \"Los Angeles\"}\n",
      "The provided context mentions a person named Tom, who is located in Los Angeles. However, there is no specific conversation or topics of interest to summarize since only basic information about Tom's identity and location is given. More details are needed to extract insights on what he might be interested in reading about.\n",
      "{\"name\": \"Tom\", \"location\": \"Los Angeles\"}\n",
      "The user, Tom from Los Angeles, is interested in reading about topics related to Disney.\n",
      "\n",
      "--------------------------------------------------------------------------------\n",
      "\u001B[33mCustomer Engagement Agent\u001B[0m (to customer_proxy_agent):\n",
      "\n",
      "Tom from sunny Los Angeles must love the magic that Disney brings! Here's a fun fact for you: The iconic Disney castle at Disneyland Resort Paris was inspired by the Château de Chenonceau in Amboise, France. It's not just any old castle - it was designed to look as if it was floating over the River Cher!\n",
      "\n",
      "Let’s brighten your day with a playful joke:\n",
      "Why did Mickey Mouse never share his cheese with Pluto?\n",
      "\n",
      "Because he knew Pluto would ‘Paw’-licy everything!\n",
      "  \n",
      "\n",
      "Now imagine, you're strolling through the Magic Kingdom at Disney World in Florida. Can't you hear the laughter echoing from Adventureland to Fantasyland? It's like stepping into a world where imagination reigns and every day is filled with wonder.\n",
      "\n",
      "So, whether it's exploring thrilling rides or enjoying classic tales under the stars, there's always something enchanting about Disney that can make your spirits soar.\n",
      "\n",
      "How does this sound, Tom?\n",
      "\n",
      "---TERMINATE---\n",
      "\n",
      "--------------------------------------------------------------------------------\n"
     ]
    }
   ],
   "execution_count": 10
  },
  {
   "metadata": {},
   "cell_type": "code",
   "outputs": [],
   "execution_count": null,
   "source": "",
   "id": "edb82d7b06a6b500"
  },
  {
   "metadata": {},
   "cell_type": "markdown",
   "source": "## Print out the summary",
   "id": "377d9cfa8ad196fd"
  },
  {
   "metadata": {
    "ExecuteTime": {
     "end_time": "2024-07-21T06:18:43.530229Z",
     "start_time": "2024-07-21T06:18:43.526265Z"
    }
   },
   "cell_type": "code",
   "source": [
    "for chat_result in chat_results:\n",
    "    print(chat_result.summary)\n",
    "    print(\"\\n\")"
   ],
   "id": "1c948258663b744d",
   "outputs": [
    {
     "name": "stdout",
     "output_type": "stream",
     "text": [
      "{\"name\": \"Tom\", \"location\": \"Los Angeles\"}\n",
      "\n",
      "\n",
      "The user, Tom from Los Angeles, is interested in reading about topics related to Disney.\n",
      "\n",
      "\n",
      "The conversation summary focuses on recommendations tailored to a Disney enthusiast named Tom in Los Angeles, including fun facts about Disneyland Paris, a playful joke related to Mickey Mouse and Pluto, and an image of experiencing Disney magic at Walt Disney World.\n",
      "\n",
      "\n"
     ]
    }
   ],
   "execution_count": 11
  },
  {
   "metadata": {},
   "cell_type": "code",
   "outputs": [],
   "execution_count": null,
   "source": "",
   "id": "e4ef7a45c2a50aa5"
  },
  {
   "metadata": {},
   "cell_type": "markdown",
   "source": "## Print out the cost",
   "id": "c66461c5e876ecf4"
  },
  {
   "metadata": {
    "ExecuteTime": {
     "end_time": "2024-07-21T06:18:50.789526Z",
     "start_time": "2024-07-21T06:18:50.786505Z"
    }
   },
   "cell_type": "code",
   "source": [
    "for chat_result in chat_results:\n",
    "    print(chat_result.cost)\n",
    "    print(\"\\n\")"
   ],
   "id": "3759ed3b761e3153",
   "outputs": [
    {
     "name": "stdout",
     "output_type": "stream",
     "text": [
      "{'usage_including_cached_inference': {'total_cost': 0, 'qwen2': {'cost': 0, 'prompt_tokens': 370, 'completion_tokens': 52, 'total_tokens': 422}}, 'usage_excluding_cached_inference': {'total_cost': 0, 'qwen2': {'cost': 0, 'prompt_tokens': 185, 'completion_tokens': 26, 'total_tokens': 211}}}\n",
      "\n",
      "\n",
      "{'usage_including_cached_inference': {'total_cost': 0, 'qwen2': {'cost': 0, 'prompt_tokens': 175, 'completion_tokens': 79, 'total_tokens': 254}}, 'usage_excluding_cached_inference': {'total_cost': 0, 'qwen2': {'cost': 0, 'prompt_tokens': 175, 'completion_tokens': 79, 'total_tokens': 254}}}\n",
      "\n",
      "\n",
      "{'usage_including_cached_inference': {'total_cost': 0, 'qwen2': {'cost': 0, 'prompt_tokens': 945, 'completion_tokens': 452, 'total_tokens': 1397}}, 'usage_excluding_cached_inference': {'total_cost': 0, 'qwen2': {'cost': 0, 'prompt_tokens': 945, 'completion_tokens': 452, 'total_tokens': 1397}}}\n",
      "\n",
      "\n"
     ]
    }
   ],
   "execution_count": 12
  },
  {
   "metadata": {},
   "cell_type": "code",
   "outputs": [],
   "execution_count": null,
   "source": "",
   "id": "3274870ff804b59a"
  }
 ],
 "metadata": {
  "kernelspec": {
   "display_name": "Python 3",
   "language": "python",
   "name": "python3"
  },
  "language_info": {
   "codemirror_mode": {
    "name": "ipython",
    "version": 2
   },
   "file_extension": ".py",
   "mimetype": "text/x-python",
   "name": "python",
   "nbconvert_exporter": "python",
   "pygments_lexer": "ipython2",
   "version": "2.7.6"
  }
 },
 "nbformat": 4,
 "nbformat_minor": 5
}
