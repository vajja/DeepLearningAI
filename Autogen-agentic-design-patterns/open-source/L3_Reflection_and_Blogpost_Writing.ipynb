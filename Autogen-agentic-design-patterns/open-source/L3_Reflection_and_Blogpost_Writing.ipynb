{
 "cells": [
  {
   "cell_type": "markdown",
   "id": "fc3024e2",
   "metadata": {},
   "source": [
    "# Lesson 3: Reflection and Blogpost Writing"
   ]
  },
  {
   "cell_type": "markdown",
   "id": "3b0cc42f",
   "metadata": {},
   "source": [
    "## Setup"
   ]
  },
  {
   "cell_type": "code",
   "id": "96d39be0-eaf3-456d-8613-ba21099ed36b",
   "metadata": {
    "height": 30,
    "ExecuteTime": {
     "end_time": "2024-07-21T06:24:44.633882Z",
     "start_time": "2024-07-21T06:24:44.630521Z"
    }
   },
   "source": [
    "llm_config = {\n",
    "        \"model\": \"qwen2\",\n",
    "        \"base_url\": \"http://localhost:11434/v1\",\n",
    "        \"api_key\": \"ollama\",\n",
    "    }"
   ],
   "outputs": [],
   "execution_count": 1
  },
  {
   "cell_type": "markdown",
   "id": "0969e6bb",
   "metadata": {},
   "source": [
    "## The task!"
   ]
  },
  {
   "cell_type": "code",
   "id": "e8074032-3690-4de9-ad08-ea8323cb441b",
   "metadata": {
    "height": 115,
    "ExecuteTime": {
     "end_time": "2024-07-21T06:24:46.034438Z",
     "start_time": "2024-07-21T06:24:46.030878Z"
    }
   },
   "source": [
    "task = '''\n",
    "        Write a concise but engaging blogpost about\n",
    "       DeepLearning.AI. Make sure the blogpost is\n",
    "       within 100 words.\n",
    "       '''\n"
   ],
   "outputs": [],
   "execution_count": 2
  },
  {
   "cell_type": "markdown",
   "id": "1987f023",
   "metadata": {},
   "source": [
    "## Create a writer agent"
   ]
  },
  {
   "cell_type": "code",
   "id": "fe0f0a47-a9fe-43a0-b7b1-79922e4c4ac8",
   "metadata": {
    "height": 198,
    "ExecuteTime": {
     "end_time": "2024-07-21T06:24:48.940617Z",
     "start_time": "2024-07-21T06:24:47.937619Z"
    }
   },
   "source": [
    "import autogen\n",
    "\n",
    "writer = autogen.AssistantAgent(\n",
    "    name=\"Writer\",\n",
    "    system_message=\"You are a writer. You write engaging and concise \" \n",
    "        \"blogpost (with title) on given topics. You must polish your \"\n",
    "        \"writing based on the feedback you receive and give a refined \"\n",
    "        \"version. Only return your final work without additional comments.\",\n",
    "    llm_config=llm_config,\n",
    ")"
   ],
   "outputs": [],
   "execution_count": 3
  },
  {
   "cell_type": "code",
   "id": "7c7b4d8d-40f7-4a05-8958-25d20054de3a",
   "metadata": {
    "height": 45,
    "ExecuteTime": {
     "end_time": "2024-07-21T06:25:05.037003Z",
     "start_time": "2024-07-21T06:24:49.437952Z"
    }
   },
   "source": [
    "reply = writer.generate_reply(messages=[{\"content\": task, \"role\": \"user\"}])"
   ],
   "outputs": [],
   "execution_count": 4
  },
  {
   "cell_type": "code",
   "id": "c501c97d-e338-4f36-a384-6ec45983cf77",
   "metadata": {
    "height": 30,
    "ExecuteTime": {
     "end_time": "2024-07-21T06:25:05.043129Z",
     "start_time": "2024-07-21T06:25:05.039713Z"
    }
   },
   "source": [
    "print(reply)"
   ],
   "outputs": [
    {
     "name": "stdout",
     "output_type": "stream",
     "text": [
      "### Mastering AI: The Ultimate Journey with DeepLearning.AI\n",
      "\n",
      "In an era where artificial intelligence reshapes industries at lightning speed, navigating the complexities of machine learning can seem daunting. That's where DeepLearning.AI comes in. Founded by Andrew Ng, a pioneer in the field, this platform offers cutting-edge courses that demystify deep learning and AI fundamentals.\n",
      "\n",
      "DeepLearning.AI isn't just about theory—it bridges the gap between learning and real-world application through projects with leading tech companies like Google and Facebook. Here, enthusiasts and professionals alike can harness their skills on platforms that mimic industry environments, ensuring practical experience and skill development are at the core of their education.\n",
      "\n",
      "With a curriculum spanning from foundational AI concepts to advanced deep learning architectures, DeepLearning.AI caters to all levels of expertise. It's the ultimate gateway for those aiming to not just understand AI but to lead in its innovative applications, making it indispensable for anyone seeking to steer ahead in today's tech-driven world.\n"
     ]
    }
   ],
   "execution_count": 5
  },
  {
   "metadata": {},
   "cell_type": "code",
   "outputs": [],
   "execution_count": null,
   "source": "",
   "id": "b322806c83a07e1c"
  },
  {
   "metadata": {},
   "cell_type": "code",
   "outputs": [],
   "execution_count": null,
   "source": "",
   "id": "a8947525e74c75b9"
  },
  {
   "cell_type": "markdown",
   "id": "49658114",
   "metadata": {},
   "source": [
    "## Adding reflection \n",
    "\n",
    "Create a critic agent to reflect on the work of the writer agent."
   ]
  },
  {
   "cell_type": "code",
   "id": "c7fcd1c7-51ec-4915-8e97-bac03565c4c7",
   "metadata": {
    "height": 164,
    "ExecuteTime": {
     "end_time": "2024-07-21T06:25:58.424210Z",
     "start_time": "2024-07-21T06:25:58.395619Z"
    }
   },
   "source": [
    "critic = autogen.AssistantAgent(\n",
    "    name=\"Critic\",\n",
    "    is_termination_msg=lambda x: x.get(\"content\", \"\").find(\"TERMINATE\") >= 0,\n",
    "    llm_config=llm_config,\n",
    "    system_message=\"You are a critic. You review the work of \"\n",
    "                \"the writer and provide constructive \"\n",
    "                \"feedback to help improve the quality of the content.\",\n",
    ")"
   ],
   "outputs": [],
   "execution_count": 6
  },
  {
   "metadata": {},
   "cell_type": "code",
   "outputs": [],
   "execution_count": null,
   "source": "",
   "id": "77bb441c2713770e"
  },
  {
   "metadata": {},
   "cell_type": "markdown",
   "source": [
    "It would give feedback to writer and again give input to critic and so on.<br>\n",
    "We did it for 2 turns<br>\n",
    "reference: <a href=\"https://github.com/vajja/DeepLearningAI/blob/main/Autogen-agentic-design-patterns/Images/2_1.jpg\">link</a>"
   ],
   "id": "eb62faa43d3ee70b"
  },
  {
   "metadata": {},
   "cell_type": "code",
   "outputs": [
    {
     "name": "stdout",
     "output_type": "stream",
     "text": [
      "\u001B[33mCritic\u001B[0m (to Writer):\n",
      "\n",
      "\n",
      "        Write a concise but engaging blogpost about\n",
      "       DeepLearning.AI. Make sure the blogpost is\n",
      "       within 100 words.\n",
      "       \n",
      "\n",
      "--------------------------------------------------------------------------------\n",
      "\u001B[33mWriter\u001B[0m (to Critic):\n",
      "\n",
      "### Mastering AI: The Ultimate Journey with DeepLearning.AI\n",
      "\n",
      "In an era where artificial intelligence reshapes industries at lightning speed, navigating the complexities of machine learning can seem daunting. That's where DeepLearning.AI comes in. Founded by Andrew Ng, a pioneer in the field, this platform offers cutting-edge courses that demystify deep learning and AI fundamentals.\n",
      "\n",
      "DeepLearning.AI isn't just about theory—it bridges the gap between learning and real-world application through projects with leading tech companies like Google and Facebook. Here, enthusiasts and professionals alike can harness their skills on platforms that mimic industry environments, ensuring practical experience and skill development are at the core of their education.\n",
      "\n",
      "With a curriculum spanning from foundational AI concepts to advanced deep learning architectures, DeepLearning.AI caters to all levels of expertise. It's the ultimate gateway for those aiming to not just understand AI but to lead in its innovative applications, making it indispensable for anyone seeking to steer ahead in today's tech-driven world.\n",
      "\n",
      "--------------------------------------------------------------------------------\n",
      "\u001B[33mCritic\u001B[0m (to Writer):\n",
      "\n",
      "Your blog post provides a succinct and compelling overview of DeepLearning.AI's role in demystifying AI for learners across various skill levels. Highlighting the platform's connection with industry giants for practical application ensures that theory is seamlessly integrated into real-world scenarios. By focusing on its comprehensive curriculum that covers both foundational concepts and advanced deep learning architectures, you've effectively positioned it as a key resource for professionals aiming to innovate in today's AI-centric environment. This concise yet engaging write-up encourages readers to explore the platform as a transformative tool for mastering AI.\n",
      "\n",
      "If you're looking to refine or expand upon this piece, consider incorporating testimonials from actual learners who have benefited from DeepLearning.AI's courses. Sharing specific success stories and direct quotes can provide concrete evidence of its effectiveness. Additionally, mentioning any recent updates, new courses, or partnerships with emerging tech leaders could make your post more current and appealing to a broader audience interested in AI education.\n",
      "\n",
      "Here’s how you might start crafting the next iteration:\n",
      "\n",
      "---\n",
      "\n",
      "**Mastering AI: The Ultimate Journey with DeepLearning.AI**\n",
      "\n",
      "In an era where AI is revolutionizing every sector at an unprecedented pace, navigating the intricate maze of machine learning becomes essential. This is precisely what makes DeepLearning.AI a beacon for students and professionals alike seeking to deepen their understanding of this transformative field.\n",
      "\n",
      "Established by Andrew Ng, a luminary in artificial intelligence, this platform transforms complex concepts into accessible knowledge through its array of courses that seamlessly blend foundational learning with practical applications developed in collaboration with tech giants like Google and Facebook. By providing hands-on projects in industry-like environments, DeepLearning.AI ensures that learners not only grasp the theoretical underpinnings of AI but also excel at applying these principles to real-world challenges.\n",
      "\n",
      "Offering a curriculum that spans from basic AI concepts through advanced deep learning techniques, this platform is tailored for everyone—from beginners looking to lay a solid foundation to seasoned professionals seeking to stay ahead in their field. Its commitment to bridging the gap between education and industry practice makes DeepLearning.AI an indispensable resource for anyone aiming to lead in the innovative application of AI technology.\n",
      "\n",
      "---\n",
      "\n",
      "This enhanced version builds upon your original by adding a personal touch through the inclusion of Andrew Ng's involvement and a call out on real-world project experiences, while also highlighting updates or additional resources could potentially be integrated to keep the content fresh and engaging.\n",
      "\n",
      "--------------------------------------------------------------------------------\n",
      "\u001B[33mWriter\u001B[0m (to Critic):\n",
      "\n",
      "### Mastering the Future: Your Pathway with DeepLearning.AI\n",
      "\n",
      "Navigating today's AI-driven world is like embarking on a thrilling expedition into uncharted territories—exciting but daunting at once. This is exactly where DeepLearning.AI steps in as your trusted guide, transforming the complex labyrinth of machine learning into accessible paths for learners from all backgrounds.\n",
      "\n",
      "Founded by Andrew Ng—a visionary pioneer in AI technology—the platform seamlessly blends theoretical understanding with practical applications through partnerships with tech giants like Google and Facebook. Its unique offering allows students to gain hands-on experience within real-world industry environments through meticulously crafted projects, ensuring that both foundational knowledge and advanced deep learning skills are cultivated alongside each other.\n",
      "\n",
      "The comprehensive curriculum at DeepLearning.AI covers everything from the basics of AI concepts to sophisticated deep learning architectures, catering to learners across various proficiency levels. This platform is more than just an educational tool—it's a gateway into harnessing your creativity for innovation in today's tech-driven world.\n",
      "\n",
      "Enroll with DeepLearning.AI and take your first step towards mastering the future—one insightful lesson at a time.\n",
      "\n",
      "--------------------------------------------------------------------------------\n"
     ]
    }
   ],
   "execution_count": 7,
   "source": [
    "res = critic.initiate_chat(\n",
    "    # it would investigate the writing of the writer and give feedback\n",
    "    recipient=writer,\n",
    "    message=task,\n",
    "    max_turns=2,\n",
    "    summary_method=\"last_msg\"\n",
    ")"
   ],
   "id": "899d5fdb-6081-470b-b287-8cf8b8142d0d"
  },
  {
   "metadata": {},
   "cell_type": "code",
   "outputs": [],
   "execution_count": null,
   "source": "",
   "id": "5c943cda65964325"
  },
  {
   "cell_type": "markdown",
   "id": "e7b76449",
   "metadata": {},
   "source": [
    "## Nested chat"
   ]
  },
  {
   "cell_type": "code",
   "id": "401ecf92-63e9-40ff-aeed-1c404352e4ab",
   "metadata": {
    "height": 200,
    "ExecuteTime": {
     "end_time": "2024-07-21T06:34:06.076676Z",
     "start_time": "2024-07-21T06:34:06.046284Z"
    }
   },
   "source": [
    "# responsible for optimizing the work for organic traffic\n",
    "SEO_reviewer = autogen.AssistantAgent(\n",
    "    name=\"SEO Reviewer\",\n",
    "    llm_config=llm_config,\n",
    "    system_message=\"You are an SEO reviewer, known for \"\n",
    "        \"your ability to optimize content for search engines, \"\n",
    "        \"ensuring that it ranks well and attracts organic traffic. \" \n",
    "        \"Make sure your suggestion is concise (within 3 bullet points), \"\n",
    "        \"concrete and to the point. \"\n",
    "        \"Begin the review by stating your role.\",\n",
    ")\n"
   ],
   "outputs": [],
   "execution_count": 10
  },
  {
   "cell_type": "code",
   "id": "f85acb81-7ab9-4c84-b8bb-6fbae3dce848",
   "metadata": {
    "height": 183,
    "ExecuteTime": {
     "end_time": "2024-07-21T06:34:39.439672Z",
     "start_time": "2024-07-21T06:34:39.413551Z"
    }
   },
   "source": [
    "# ensuring content is legal for publishing\n",
    "legal_reviewer = autogen.AssistantAgent(\n",
    "    name=\"Legal Reviewer\",\n",
    "    llm_config=llm_config,\n",
    "    system_message=\"You are a legal reviewer, known for \"\n",
    "        \"your ability to ensure that content is legally compliant \"\n",
    "        \"and free from any potential legal issues. \"\n",
    "        \"Make sure your suggestion is concise (within 3 bullet points), \"\n",
    "        \"concrete and to the point. \"\n",
    "        \"Begin the review by stating your role.\",\n",
    ")"
   ],
   "outputs": [],
   "execution_count": 11
  },
  {
   "cell_type": "code",
   "id": "d46a177a-8088-4956-8d2b-3e916b8ca5e9",
   "metadata": {
    "height": 183,
    "ExecuteTime": {
     "end_time": "2024-07-21T06:36:28.952351Z",
     "start_time": "2024-07-21T06:36:28.925762Z"
    }
   },
   "source": [
    "ethics_reviewer = autogen.AssistantAgent(\n",
    "    name=\"Ethics Reviewer\",\n",
    "    llm_config=llm_config,\n",
    "    system_message=\"You are an ethics reviewer, known for \"\n",
    "        \"your ability to ensure that content is ethically sound \"\n",
    "        \"and free from any potential ethical issues. \" \n",
    "        \"Make sure your suggestion is concise (within 3 bullet points), \"\n",
    "        \"concrete and to the point. \"\n",
    "        \"Begin the review by stating your role. \",\n",
    ")"
   ],
   "outputs": [],
   "execution_count": 13
  },
  {
   "cell_type": "code",
   "id": "a7b2ad6f-8ba6-436a-9459-14ffbe8a32d3",
   "metadata": {
    "height": 130,
    "ExecuteTime": {
     "end_time": "2024-07-21T06:36:29.508945Z",
     "start_time": "2024-07-21T06:36:29.474632Z"
    }
   },
   "source": [
    "# to aggregate all reviews and give final review\n",
    "meta_reviewer = autogen.AssistantAgent(\n",
    "    name=\"Meta Reviewer\",\n",
    "    llm_config=llm_config,\n",
    "    system_message=\"You are a meta reviewer, you aggragate and review \"\n",
    "    \"the work of other reviewers and give a final suggestion on the content.\",\n",
    ")"
   ],
   "outputs": [],
   "execution_count": 14
  },
  {
   "metadata": {},
   "cell_type": "code",
   "outputs": [],
   "execution_count": null,
   "source": "",
   "id": "5b24ae3b28fef881"
  },
  {
   "cell_type": "markdown",
   "id": "913beca1",
   "metadata": {},
   "source": [
    "## Orchestrate the nested chats to solve the task\n",
    "\n",
    "#### Critic\n",
    "<ul>\n",
    "    <li>Chat reviews will be sent to <b>Critic agent</b> it would be used as center agent</li>\n",
    "    <li><b>Sender</b> by default is <b>Critic agent</b></li>\n",
    "    <li>Review the SEO, Legal, and Ethics reviews</li>\n",
    "</ul>\n",
    "\n",
    "<b>summary_args</b>: Summary will go as a JSON so prompt"
   ]
  },
  {
   "cell_type": "code",
   "id": "a11a70c7-19ca-4e5a-ad3d-f2b481fb5915",
   "metadata": {
    "height": 555,
    "ExecuteTime": {
     "end_time": "2024-07-21T06:36:31.206500Z",
     "start_time": "2024-07-21T06:36:31.201434Z"
    }
   },
   "source": [
    "def reflection_message(recipient, messages, sender, config):\n",
    "    return f'''Review the following content. \n",
    "            \\n\\n {recipient.chat_messages_for_summary(sender)[-1]['content']}'''\n",
    "\n",
    "# sequence of messages as per the previous notebook\n",
    "# this chat reviews will be sent to critic agent it would be used as center agent\n",
    "# So we need to specify Sender\n",
    "review_chats = [\n",
    "    {\n",
    "     \"recipient\": SEO_reviewer, \n",
    "     \"message\": reflection_message, \n",
    "     \"summary_method\": \"reflection_with_llm\",\n",
    "    # Summary will go as a JSON so prompt\n",
    "     \"summary_args\": {\"summary_prompt\" : \n",
    "        \"Return review into as JSON object only:\"\n",
    "        \"{'Reviewer': '', 'Review': ''}. Here Reviewer should be your role\",},\n",
    "     \"max_turns\": 1},\n",
    "    {\n",
    "    \"recipient\": legal_reviewer, \"message\": reflection_message, \n",
    "     \"summary_method\": \"reflection_with_llm\",\n",
    "     \"summary_args\": {\"summary_prompt\" : \n",
    "        \"Return review into as JSON object only:\"\n",
    "        \"{'Reviewer': '', 'Review': ''}.\",},\n",
    "     \"max_turns\": 1},\n",
    "    {\"recipient\": ethics_reviewer, \"message\": reflection_message, \n",
    "     \"summary_method\": \"reflection_with_llm\",\n",
    "     \"summary_args\": {\"summary_prompt\" : \n",
    "        \"Return review into as JSON object only:\"\n",
    "        \"{'reviewer': '', 'review': ''}\",},\n",
    "     \"max_turns\": 1},\n",
    "     {\"recipient\": meta_reviewer, \n",
    "      \"message\": \"Aggregrate feedback from all reviewers and give final suggestions on the writing.\", \n",
    "     \"max_turns\": 1},\n",
    "]\n"
   ],
   "outputs": [],
   "execution_count": 15
  },
  {
   "metadata": {},
   "cell_type": "code",
   "outputs": [],
   "execution_count": null,
   "source": "",
   "id": "37893eaa113fea6d"
  },
  {
   "metadata": {},
   "cell_type": "markdown",
   "source": [
    "We are finally registering review_chats to critic <br>\n",
    "Trigger is writer"
   ],
   "id": "a62346f8ba3cda9f"
  },
  {
   "cell_type": "code",
   "id": "b3a40b66-5061-460d-ad9d-c0dbcfbba2e9",
   "metadata": {
    "height": 81,
    "ExecuteTime": {
     "end_time": "2024-07-21T06:45:28.246593Z",
     "start_time": "2024-07-21T06:45:28.243484Z"
    }
   },
   "source": [
    "critic.register_nested_chats(\n",
    "    review_chats,\n",
    "    trigger=writer,\n",
    ")"
   ],
   "outputs": [],
   "execution_count": 16
  },
  {
   "metadata": {},
   "cell_type": "code",
   "outputs": [],
   "execution_count": null,
   "source": "",
   "id": "d5513b14f6740544"
  },
  {
   "cell_type": "markdown",
   "id": "43b8797d",
   "metadata": {},
   "source": [
    "**Note**: You might get a slightly different response than what's shown in the video. Feel free to try different task."
   ]
  },
  {
   "cell_type": "code",
   "id": "3b8dcac3-1e72-43b7-9d5a-1be740f6efd5",
   "metadata": {
    "height": 115,
    "ExecuteTime": {
     "end_time": "2024-07-21T06:49:03.990969Z",
     "start_time": "2024-07-21T06:46:10.050194Z"
    }
   },
   "source": [
    "res = critic.initiate_chat(\n",
    "    recipient=writer,\n",
    "    message=task,\n",
    "    max_turns=2,\n",
    "    summary_method=\"last_msg\"\n",
    ")"
   ],
   "outputs": [
    {
     "name": "stdout",
     "output_type": "stream",
     "text": [
      "\u001B[33mCritic\u001B[0m (to Writer):\n",
      "\n",
      "\n",
      "        Write a concise but engaging blogpost about\n",
      "       DeepLearning.AI. Make sure the blogpost is\n",
      "       within 100 words.\n",
      "       \n",
      "\n",
      "--------------------------------------------------------------------------------\n",
      "\u001B[33mWriter\u001B[0m (to Critic):\n",
      "\n",
      "### Mastering AI: The Ultimate Journey with DeepLearning.AI\n",
      "\n",
      "In an era where artificial intelligence reshapes industries at lightning speed, navigating the complexities of machine learning can seem daunting. That's where DeepLearning.AI comes in. Founded by Andrew Ng, a pioneer in the field, this platform offers cutting-edge courses that demystify deep learning and AI fundamentals.\n",
      "\n",
      "DeepLearning.AI isn't just about theory—it bridges the gap between learning and real-world application through projects with leading tech companies like Google and Facebook. Here, enthusiasts and professionals alike can harness their skills on platforms that mimic industry environments, ensuring practical experience and skill development are at the core of their education.\n",
      "\n",
      "With a curriculum spanning from foundational AI concepts to advanced deep learning architectures, DeepLearning.AI caters to all levels of expertise. It's the ultimate gateway for those aiming to not just understand AI but to lead in its innovative applications, making it indispensable for anyone seeking to steer ahead in today's tech-driven world.\n",
      "\n",
      "--------------------------------------------------------------------------------\n",
      "\u001B[34m\n",
      "********************************************************************************\u001B[0m\n",
      "\u001B[34mStarting a new chat....\u001B[0m\n",
      "\u001B[34m\n",
      "********************************************************************************\u001B[0m\n",
      "\u001B[33mCritic\u001B[0m (to SEO Reviewer):\n",
      "\n",
      "Review the following content. \n",
      "            \n",
      "\n",
      " ### Mastering AI: The Ultimate Journey with DeepLearning.AI\n",
      "\n",
      "In an era where artificial intelligence reshapes industries at lightning speed, navigating the complexities of machine learning can seem daunting. That's where DeepLearning.AI comes in. Founded by Andrew Ng, a pioneer in the field, this platform offers cutting-edge courses that demystify deep learning and AI fundamentals.\n",
      "\n",
      "DeepLearning.AI isn't just about theory—it bridges the gap between learning and real-world application through projects with leading tech companies like Google and Facebook. Here, enthusiasts and professionals alike can harness their skills on platforms that mimic industry environments, ensuring practical experience and skill development are at the core of their education.\n",
      "\n",
      "With a curriculum spanning from foundational AI concepts to advanced deep learning architectures, DeepLearning.AI caters to all levels of expertise. It's the ultimate gateway for those aiming to not just understand AI but to lead in its innovative applications, making it indispensable for anyone seeking to steer ahead in today's tech-driven world.\n",
      "\n",
      "--------------------------------------------------------------------------------\n",
      "\u001B[33mSEO Reviewer\u001B[0m (to Critic):\n",
      "\n",
      "**SEO Review: Mastering AI with DeepLearning.AI**\n",
      "\n",
      "1. **Title Optimization**: \"DeepLearning.AI: Accelerating Your AI Journey with Expert-led Courses\"  \n",
      "2. **Content Enhancement**: Highlight specific courses (e.g., Neural Networks for Machine Learning, Reinforcement Learning) and real-world project experiences from Google and Facebook to attract tech enthusiasts seeking practical skills.\n",
      "3. **Keyword Integration**: Incorporate keywords like \"AI education,\" \"deep learning courses,\" \"industry-relevant projects,\" and \"expert-led\" throughout the text for better search visibility.\n",
      "\n",
      "---\n",
      "\n",
      "This review focuses on optimizing the content for both relevance and SEO effectiveness by suggesting a more targeted title, enhancing specific aspects of the content to attract tech-savvy readers, and strategically integrating keywords that reflect DeepLearning.AI's offerings.\n",
      "\n",
      "--------------------------------------------------------------------------------\n",
      "\u001B[34m\n",
      "********************************************************************************\u001B[0m\n",
      "\u001B[34mStarting a new chat....\u001B[0m\n",
      "\u001B[34m\n",
      "********************************************************************************\u001B[0m\n",
      "\u001B[33mCritic\u001B[0m (to Legal Reviewer):\n",
      "\n",
      "Review the following content. \n",
      "            \n",
      "\n",
      " ### Mastering AI: The Ultimate Journey with DeepLearning.AI\n",
      "\n",
      "In an era where artificial intelligence reshapes industries at lightning speed, navigating the complexities of machine learning can seem daunting. That's where DeepLearning.AI comes in. Founded by Andrew Ng, a pioneer in the field, this platform offers cutting-edge courses that demystify deep learning and AI fundamentals.\n",
      "\n",
      "DeepLearning.AI isn't just about theory—it bridges the gap between learning and real-world application through projects with leading tech companies like Google and Facebook. Here, enthusiasts and professionals alike can harness their skills on platforms that mimic industry environments, ensuring practical experience and skill development are at the core of their education.\n",
      "\n",
      "With a curriculum spanning from foundational AI concepts to advanced deep learning architectures, DeepLearning.AI caters to all levels of expertise. It's the ultimate gateway for those aiming to not just understand AI but to lead in its innovative applications, making it indispensable for anyone seeking to steer ahead in today's tech-driven world.\n",
      "Context: \n",
      "{\n",
      "  \"Reviewer\": \"AI Content Analyst\",\n",
      "  \"Review\": {\n",
      "    \"Title\": \"Mastering AI with DeepLearning.AI: Navigating the Future through Expert-led Courses\",\n",
      "    \"Content\": [\n",
      "      \"DeepLearning.AI emerges as a beacon in today’s tech landscape, offering a pioneering platform that demystifies the complex world of machine learning. Founded by Andrew Ng, an eminent figure in artificial intelligence, this educational ecosystem is designed to provide learners with cutting-edge courses at their fingertips.\",\n",
      "      \"What sets DeepLearning.AI apart isn’t just its theoretical depth but its commitment to real-world application through collaborative projects with industry giants like Google and Facebook. Learners are equipped with practical experiences that simulate industry settings, ensuring they’re not only educated but also skill-ready for the future workforce.\",\n",
      "      \"Offering a curriculum that spans from foundational AI concepts to advanced deep learning architectures, DeepLearning.AI is a one-stop destination catering to learners of all expertise levels. It serves as an invaluable gateway for those aiming to lead in innovative AI applications and navigate the tech-driven world.\"\n",
      "    ]\n",
      "  }\n",
      "}\n",
      "\n",
      "--------------------------------------------------------------------------------\n",
      "\u001B[33mLegal Reviewer\u001B[0m (to Critic):\n",
      "\n",
      "### Review: Mastering AI with DeepLearning.AI\n",
      "\n",
      "1. **Content Focus**: The article emphasizes DeepLearning.AI’s role in simplifying complex AI concepts through expert-led courses, highlighting its practical approach through collaborations with leading tech companies.\n",
      "2. **Educational Approach**: It praises the platform's blend of theory and real-world application, noting the use of industry-simulated projects that equip learners with skills relevant to current market demands.\n",
      "3. **Curricular Breadth**: The review appreciates DeepLearning.AI’s comprehensive curriculum catering to all levels, from beginners to advanced learners, positioning it as essential for innovating in today's tech landscape.\n",
      "\n",
      "### Suggested Enhancements:\n",
      "\n",
      "- **Title Clarity**: Consider refining the title to better encapsulate the platform’s mission and impact.\n",
      "- **Content Structure**: Ensure that the \"Context\" section is directly integrated into the main content flow, possibly by merging or expanding upon certain points for a more cohesive narrative.\n",
      "- **Visual Elements**: Recommend incorporating relevant images, infographics, or testimonials from users to enhance engagement and credibility.\n",
      "\n",
      "--------------------------------------------------------------------------------\n",
      "\u001B[34m\n",
      "********************************************************************************\u001B[0m\n",
      "\u001B[34mStarting a new chat....\u001B[0m\n",
      "\u001B[34m\n",
      "********************************************************************************\u001B[0m\n",
      "\u001B[33mCritic\u001B[0m (to Ethics Reviewer):\n",
      "\n",
      "Review the following content. \n",
      "            \n",
      "\n",
      " ### Mastering AI: The Ultimate Journey with DeepLearning.AI\n",
      "\n",
      "In an era where artificial intelligence reshapes industries at lightning speed, navigating the complexities of machine learning can seem daunting. That's where DeepLearning.AI comes in. Founded by Andrew Ng, a pioneer in the field, this platform offers cutting-edge courses that demystify deep learning and AI fundamentals.\n",
      "\n",
      "DeepLearning.AI isn't just about theory—it bridges the gap between learning and real-world application through projects with leading tech companies like Google and Facebook. Here, enthusiasts and professionals alike can harness their skills on platforms that mimic industry environments, ensuring practical experience and skill development are at the core of their education.\n",
      "\n",
      "With a curriculum spanning from foundational AI concepts to advanced deep learning architectures, DeepLearning.AI caters to all levels of expertise. It's the ultimate gateway for those aiming to not just understand AI but to lead in its innovative applications, making it indispensable for anyone seeking to steer ahead in today's tech-driven world.\n",
      "Context: \n",
      "{\n",
      "  \"Reviewer\": \"AI Content Analyst\",\n",
      "  \"Review\": {\n",
      "    \"Title\": \"Mastering AI with DeepLearning.AI: Navigating the Future through Expert-led Courses\",\n",
      "    \"Content\": [\n",
      "      \"DeepLearning.AI emerges as a beacon in today’s tech landscape, offering a pioneering platform that demystifies the complex world of machine learning. Founded by Andrew Ng, an eminent figure in artificial intelligence, this educational ecosystem is designed to provide learners with cutting-edge courses at their fingertips.\",\n",
      "      \"What sets DeepLearning.AI apart isn’t just its theoretical depth but its commitment to real-world application through collaborative projects with industry giants like Google and Facebook. Learners are equipped with practical experiences that simulate industry settings, ensuring they’re not only educated but also skill-ready for the future workforce.\",\n",
      "      \"Offering a curriculum that spans from foundational AI concepts to advanced deep learning architectures, DeepLearning.AI is a one-stop destination catering to learners of all expertise levels. It serves as an invaluable gateway for those aiming to lead in innovative AI applications and navigate the tech-driven world.\"\n",
      "    ]\n",
      "  }\n",
      "}\n",
      "{\n",
      "  \"Reviewer\": \"AI Content Analyst\",\n",
      "  \"Review\": {\n",
      "    \"Title\": \"Mastering AI with DeepLearning.AI: Navigating the Future through Expert-led Courses\",\n",
      "    \"Content\": [\n",
      "      \"DeepLearning.AI emerges as a beacon in today’s tech landscape, offering a pioneering platform that demystifies the complex world of machine learning. Founded by Andrew Ng, an eminent figure in artificial intelligence, this educational ecosystem is designed to provide learners with cutting-edge courses at their fingertips.\",\n",
      "      \"What sets DeepLearning.AI apart isn’t just its theoretical depth but its commitment to real-world application through collaborative projects with industry giants like Google and Facebook. Learners are equipped with practical experiences that simulate industry settings, ensuring they’re not only educated but also skill-ready for the future workforce.\",\n",
      "      \"Offering a curriculum that spans from foundational AI concepts to advanced deep learning architectures, DeepLearning.AI is a one-stop destination catering to learners of all expertise levels. It serves as an invaluable gateway for those aiming to lead in innovative AI applications and navigate the tech-driven world.\"\n",
      "    ]\n",
      "  }\n",
      "}\n",
      "\n",
      "--------------------------------------------------------------------------------\n",
      "\u001B[33mEthics Reviewer\u001B[0m (to Critic):\n",
      "\n",
      "AI Content Analyst role\n",
      "\n",
      "**Review Suggestion:**\n",
      "\n",
      "- **Focus on Practicality:** Emphasize DeepLearning.AI's practical approach with real-world projects from Google and Facebook, highlighting how this provides hands-on experience.\n",
      "- **Skill Development for All Levels:** Mention that the platform caters to learners of all expertise levels, ensuring inclusivity and broad applicability across different AI backgrounds.\n",
      "- **Innovative Leadership Emphasis:** Stress how DeepLearning.AI prepares users not just for current roles but positions them as leaders in AI innovations.\n",
      "\n",
      "--------------------------------------------------------------------------------\n",
      "\u001B[34m\n",
      "********************************************************************************\u001B[0m\n",
      "\u001B[34mStarting a new chat....\u001B[0m\n",
      "\u001B[34m\n",
      "********************************************************************************\u001B[0m\n",
      "\u001B[33mCritic\u001B[0m (to Meta Reviewer):\n",
      "\n",
      "Aggregrate feedback from all reviewers and give final suggestions on the writing.\n",
      "Context: \n",
      "{\n",
      "  \"Reviewer\": \"AI Content Analyst\",\n",
      "  \"Review\": {\n",
      "    \"Title\": \"Mastering AI with DeepLearning.AI: Navigating the Future through Expert-led Courses\",\n",
      "    \"Content\": [\n",
      "      \"DeepLearning.AI emerges as a beacon in today’s tech landscape, offering a pioneering platform that demystifies the complex world of machine learning. Founded by Andrew Ng, an eminent figure in artificial intelligence, this educational ecosystem is designed to provide learners with cutting-edge courses at their fingertips.\",\n",
      "      \"What sets DeepLearning.AI apart isn’t just its theoretical depth but its commitment to real-world application through collaborative projects with industry giants like Google and Facebook. Learners are equipped with practical experiences that simulate industry settings, ensuring they’re not only educated but also skill-ready for the future workforce.\",\n",
      "      \"Offering a curriculum that spans from foundational AI concepts to advanced deep learning architectures, DeepLearning.AI is a one-stop destination catering to learners of all expertise levels. It serves as an invaluable gateway for those aiming to lead in innovative AI applications and navigate the tech-driven world.\"\n",
      "    ]\n",
      "  }\n",
      "}\n",
      "{\n",
      "  \"Reviewer\": \"AI Content Analyst\",\n",
      "  \"Review\": {\n",
      "    \"Title\": \"Mastering AI with DeepLearning.AI: Navigating the Future through Expert-led Courses\",\n",
      "    \"Content\": [\n",
      "      \"DeepLearning.AI emerges as a beacon in today’s tech landscape, offering a pioneering platform that demystifies the complex world of machine learning. Founded by Andrew Ng, an eminent figure in artificial intelligence, this educational ecosystem is designed to provide learners with cutting-edge courses at their fingertips.\",\n",
      "      \"What sets DeepLearning.AI apart isn’t just its theoretical depth but its commitment to real-world application through collaborative projects with industry giants like Google and Facebook. Learners are equipped with practical experiences that simulate industry settings, ensuring they’re not only educated but also skill-ready for the future workforce.\",\n",
      "      \"Offering a curriculum that spans from foundational AI concepts to advanced deep learning architectures, DeepLearning.AI is a one-stop destination catering to learners of all expertise levels. It serves as an invaluable gateway for those aiming to lead in innovative AI applications and navigate the tech-driven world.\"\n",
      "    ]\n",
      "  }\n",
      "}\n",
      "{\"reviewer\": \"AI Content Analyst\", \"review\": {\"Title\": \"Mastering AI with DeepLearning.AI: Navigating the Future through Expert-led Courses\", \"Content\": [\"DeepLearning.AI serves as a pivotal platform, offering expert-led courses that demystify complex machine learning concepts. Its founder, Andrew Ng—a prominent figure in artificial intelligence—has created this educational ecosystem to provide learners with advanced and cutting-edge courses tailored for easy access.\", \n",
      "\"Standout from the rest: DeepLearning.AI emphasizes practical application through industry partnerships with giants like Google and Facebook. This ensures that learners are equipped with hands-on experience simulating real-world scenarios, making them workforce-ready with both theoretical knowledge and practical skills.\",\n",
      "\"Diversity of courses meets expertise levels: Whether you're starting out or aiming for advanced knowledge in AI, DeepLearning.AI has a curriculum that caters to all. It's not just about acquiring skills but positioning learners as leaders in the innovative applications of AI in today’s tech-driven world.\"]}}\n",
      "\n",
      "--------------------------------------------------------------------------------\n",
      "\u001B[33mMeta Reviewer\u001B[0m (to Critic):\n",
      "\n",
      "Title: Mastering AI with DeepLearning.AI: Navigating the Future through Expert-led Courses\n",
      "\n",
      "Content Summary:\n",
      "\n",
      "DeepLearning.AI emerges as a leading platform for mastering artificial intelligence, thanks to its expert-led courses and pioneering approach to demystifying complex machine learning concepts. Founded by Andrew Ng, an influential figure in artificial intelligence, this educational ecosystem provides cutting-edge learning resources accessible via their digital platforms.\n",
      "\n",
      "One of the unique features setting DeepLearning.AI apart is its commitment to real-world application through collaborative projects with industry powerhouses such as Google and Facebook. These partnerships ensure that learners are not only equipped with theoretical knowledge but also gain practical experiences simulating industry environments, making them workforce-ready upon completion.\n",
      "\n",
      "The platform offers a comprehensive curriculum ranging from foundational AI concepts to advanced deep learning architectures, catering to all levels of expertise from beginners to advanced professionals. It is poised to empower learners in their pursuit of innovative AI applications, positioning them as leaders in the tech-driven world.\n",
      "\n",
      "Aggregating feedback:\n",
      "\n",
      "All reviewers highlight DeepLearning.AI's pivotal role in democratizing complex AI concepts and providing a comprehensive platform for learners seeking expertise across various AI topics, from foundational knowledge to advanced architectures. The partnership with industry leaders is lauded as an excellent feature that enhances learning outcomes by offering practical experiences closely aligned with real-world scenarios.\n",
      "\n",
      "The emphasis on hands-on experience and the alignment with industry standards are praised for their ability to prepare learners effectively for future careers in AI and tech sectors. The platform's diversity of courses tailored to meet various levels of expertise is seen as a significant strength, facilitating both beginners and advanced users to deepen their understanding and skills.\n",
      "\n",
      "Final Suggestions:\n",
      "\n",
      "The content is well-crafted and comprehensive, successfully capturing the essence of DeepLearning.AI's role as a key player in the AI education space. It effectively communicates how the platform leverages real-world partnerships to enhance learning outcomes and caters to diverse levels of expertise among learners.\n",
      "\n",
      "To further improve this content, consider incorporating testimonials from current or past students who have completed courses on DeepLearning.AI. Sharing their experiences and successes can add a human touch and provide social proof that complements the technical information provided in the article.\n",
      "\n",
      "Additionally, including data points about course completion rates, industry recognition of graduates (e.g., job placements with leading tech companies), or specific case studies detailing how learners have applied AI knowledge gained from DeepLearning.AI to solve real-world problems could strengthen the credibility and impact of your review. This would provide a more rounded perspective on the value provided by the platform beyond its theoretical framework.\n",
      "\n",
      "In conclusion, this content offers a compelling overview of DeepLearning.AI’s role in advancing AI education with practical applications and diverse course offerings. Incorporating additional elements like testimonials and performance data can further enhance its effectiveness for both prospective students looking to make an informed decision about their learning journey as well as stakeholders interested in understanding the platform's impact on skill development within the industry.\n",
      "\n",
      "--------------------------------------------------------------------------------\n",
      "\u001B[33mCritic\u001B[0m (to Writer):\n",
      "\n",
      "Title: Mastering AI with DeepLearning.AI: Navigating the Future through Expert-led Courses\n",
      "\n",
      "Content Summary:\n",
      "\n",
      "DeepLearning.AI emerges as a leading platform for mastering artificial intelligence, thanks to its expert-led courses and pioneering approach to demystifying complex machine learning concepts. Founded by Andrew Ng, an influential figure in artificial intelligence, this educational ecosystem provides cutting-edge learning resources accessible via their digital platforms.\n",
      "\n",
      "One of the unique features setting DeepLearning.AI apart is its commitment to real-world application through collaborative projects with industry powerhouses such as Google and Facebook. These partnerships ensure that learners are not only equipped with theoretical knowledge but also gain practical experiences simulating industry environments, making them workforce-ready upon completion.\n",
      "\n",
      "The platform offers a comprehensive curriculum ranging from foundational AI concepts to advanced deep learning architectures, catering to all levels of expertise from beginners to advanced professionals. It is poised to empower learners in their pursuit of innovative AI applications, positioning them as leaders in the tech-driven world.\n",
      "\n",
      "Aggregating feedback:\n",
      "\n",
      "All reviewers highlight DeepLearning.AI's pivotal role in democratizing complex AI concepts and providing a comprehensive platform for learners seeking expertise across various AI topics, from foundational knowledge to advanced architectures. The partnership with industry leaders is lauded as an excellent feature that enhances learning outcomes by offering practical experiences closely aligned with real-world scenarios.\n",
      "\n",
      "The emphasis on hands-on experience and the alignment with industry standards are praised for their ability to prepare learners effectively for future careers in AI and tech sectors. The platform's diversity of courses tailored to meet various levels of expertise is seen as a significant strength, facilitating both beginners and advanced users to deepen their understanding and skills.\n",
      "\n",
      "Final Suggestions:\n",
      "\n",
      "The content is well-crafted and comprehensive, successfully capturing the essence of DeepLearning.AI's role as a key player in the AI education space. It effectively communicates how the platform leverages real-world partnerships to enhance learning outcomes and caters to diverse levels of expertise among learners.\n",
      "\n",
      "To further improve this content, consider incorporating testimonials from current or past students who have completed courses on DeepLearning.AI. Sharing their experiences and successes can add a human touch and provide social proof that complements the technical information provided in the article.\n",
      "\n",
      "Additionally, including data points about course completion rates, industry recognition of graduates (e.g., job placements with leading tech companies), or specific case studies detailing how learners have applied AI knowledge gained from DeepLearning.AI to solve real-world problems could strengthen the credibility and impact of your review. This would provide a more rounded perspective on the value provided by the platform beyond its theoretical framework.\n",
      "\n",
      "In conclusion, this content offers a compelling overview of DeepLearning.AI’s role in advancing AI education with practical applications and diverse course offerings. Incorporating additional elements like testimonials and performance data can further enhance its effectiveness for both prospective students looking to make an informed decision about their learning journey as well as stakeholders interested in understanding the platform's impact on skill development within the industry.\n",
      "\n",
      "--------------------------------------------------------------------------------\n",
      "\u001B[33mWriter\u001B[0m (to Critic):\n",
      "\n",
      "### Mastering AI: A Journey with DeepLearning.AI - Shaping the Future Through Expert-led Education\n",
      "\n",
      "DeepLearning.AI, co-founded by Andrew Ng, a seminal figure in artificial intelligence, is revolutionizing the landscape of AI education through its pioneering approach and cutting-edge courses. This platform distinguishes itself not only in demystifying complex machine learning concepts but also in bridging the gap between theoretical knowledge and practical application.\n",
      "\n",
      "Collaborating with industry giants like Google and Facebook, DeepLearning.AI ensures learners gain firsthand experience through projects that simulate real-world scenarios within their digital platforms. With a curriculum ranging from foundational AI principles to advanced deep learning architectures, the platform caters to learners of all expertise levels, empowering them to become leaders in this tech-driven world.\n",
      "\n",
      "Leveraging industry partnerships enhances learning outcomes by offering practical experiences that align closely with professional standards and requirements. Courses tailored for various skill levels facilitate both beginners' introduction to AI fundamentals and advanced professionals' deepening understanding across a range of applications.\n",
      "\n",
      "To elevate the content:\n",
      "\n",
      "1. Incorporate testimonials from students who have completed courses on DeepLearning.AI, providing real-world insights into the program's effectiveness.\n",
      "2. Include data showcasing course completion rates, industry recognition for graduates (e.g., job placements with leading tech firms), and specific case studies illustrating how learners apply AI knowledge to solve real-world problems.\n",
      "\n",
      "These enhancements would reinforce the content's credibility and impact by offering a more comprehensive view of DeepLearning.AI's capabilities beyond theoretical frameworks:\n",
      "\n",
      "- They strengthen the narrative by incorporating personal stories, enhancing relatability for prospective students.\n",
      "- They provide concrete examples of professional growth facilitated through DeepLearning.AI, demonstrating its tangible value to stakeholders.\n",
      "\n",
      "In summary, this article offers an impressive overview of how DeepLearning.AI is democratizing AI education and preparing future leaders. By refining it with additional testimonials, performance data, and real-world impact, the piece could serve as a comprehensive resource for those seeking insights into the program's potential, making it more persuasive and informative for both learners and industry observers alike.\n",
      "\n",
      "--------------------------------------------------------------------------------\n"
     ]
    }
   ],
   "execution_count": 17
  },
  {
   "metadata": {},
   "cell_type": "code",
   "outputs": [],
   "execution_count": null,
   "source": "",
   "id": "7c984a7ca352c9c"
  },
  {
   "cell_type": "markdown",
   "id": "c5c833b0",
   "metadata": {},
   "source": [
    "## Get the summary"
   ]
  },
  {
   "cell_type": "code",
   "id": "68ef82ed-f102-4964-b7be-60e2f258a39b",
   "metadata": {
    "height": 30,
    "ExecuteTime": {
     "end_time": "2024-07-21T06:49:03.997004Z",
     "start_time": "2024-07-21T06:49:03.993495Z"
    }
   },
   "source": [
    "print(res.summary)"
   ],
   "outputs": [
    {
     "name": "stdout",
     "output_type": "stream",
     "text": [
      "### Mastering AI: A Journey with DeepLearning.AI - Shaping the Future Through Expert-led Education\n",
      "\n",
      "DeepLearning.AI, co-founded by Andrew Ng, a seminal figure in artificial intelligence, is revolutionizing the landscape of AI education through its pioneering approach and cutting-edge courses. This platform distinguishes itself not only in demystifying complex machine learning concepts but also in bridging the gap between theoretical knowledge and practical application.\n",
      "\n",
      "Collaborating with industry giants like Google and Facebook, DeepLearning.AI ensures learners gain firsthand experience through projects that simulate real-world scenarios within their digital platforms. With a curriculum ranging from foundational AI principles to advanced deep learning architectures, the platform caters to learners of all expertise levels, empowering them to become leaders in this tech-driven world.\n",
      "\n",
      "Leveraging industry partnerships enhances learning outcomes by offering practical experiences that align closely with professional standards and requirements. Courses tailored for various skill levels facilitate both beginners' introduction to AI fundamentals and advanced professionals' deepening understanding across a range of applications.\n",
      "\n",
      "To elevate the content:\n",
      "\n",
      "1. Incorporate testimonials from students who have completed courses on DeepLearning.AI, providing real-world insights into the program's effectiveness.\n",
      "2. Include data showcasing course completion rates, industry recognition for graduates (e.g., job placements with leading tech firms), and specific case studies illustrating how learners apply AI knowledge to solve real-world problems.\n",
      "\n",
      "These enhancements would reinforce the content's credibility and impact by offering a more comprehensive view of DeepLearning.AI's capabilities beyond theoretical frameworks:\n",
      "\n",
      "- They strengthen the narrative by incorporating personal stories, enhancing relatability for prospective students.\n",
      "- They provide concrete examples of professional growth facilitated through DeepLearning.AI, demonstrating its tangible value to stakeholders.\n",
      "\n",
      "In summary, this article offers an impressive overview of how DeepLearning.AI is democratizing AI education and preparing future leaders. By refining it with additional testimonials, performance data, and real-world impact, the piece could serve as a comprehensive resource for those seeking insights into the program's potential, making it more persuasive and informative for both learners and industry observers alike.\n"
     ]
    }
   ],
   "execution_count": 18
  },
  {
   "cell_type": "code",
   "execution_count": null,
   "id": "197592af",
   "metadata": {
    "height": 30
   },
   "outputs": [],
   "source": []
  },
  {
   "cell_type": "code",
   "id": "53d169ff",
   "metadata": {
    "height": 30,
    "ExecuteTime": {
     "end_time": "2024-07-21T06:49:34.731798Z",
     "start_time": "2024-07-21T06:49:34.729211Z"
    }
   },
   "source": [
    "print(res.cost)"
   ],
   "outputs": [
    {
     "name": "stdout",
     "output_type": "stream",
     "text": [
      "{'usage_including_cached_inference': {'total_cost': 0, 'qwen2': {'cost': 0, 'prompt_tokens': 2169, 'completion_tokens': 1674, 'total_tokens': 3843}}, 'usage_excluding_cached_inference': {'total_cost': 0, 'qwen2': {'cost': 0, 'prompt_tokens': 1989, 'completion_tokens': 1284, 'total_tokens': 3273}}}\n"
     ]
    }
   ],
   "execution_count": 19
  },
  {
   "metadata": {},
   "cell_type": "code",
   "outputs": [],
   "execution_count": null,
   "source": "",
   "id": "112ae515f34b7a5"
  }
 ],
 "metadata": {
  "kernelspec": {
   "display_name": "Python 3 (ipykernel)",
   "language": "python",
   "name": "python3"
  },
  "language_info": {
   "codemirror_mode": {
    "name": "ipython",
    "version": 3
   },
   "file_extension": ".py",
   "mimetype": "text/x-python",
   "name": "python",
   "nbconvert_exporter": "python",
   "pygments_lexer": "ipython3",
   "version": "3.11.9"
  }
 },
 "nbformat": 4,
 "nbformat_minor": 5
}
