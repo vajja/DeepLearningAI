{
 "cells": [
  {
   "metadata": {},
   "cell_type": "markdown",
   "source": "#### Importing all required packages",
   "id": "5800c9dce1d84c4a"
  },
  {
   "metadata": {
    "ExecuteTime": {
     "end_time": "2024-07-20T14:54:42.640752Z",
     "start_time": "2024-07-20T14:54:35.283087Z"
    }
   },
   "cell_type": "code",
   "source": [
    "import os\n",
    "import pprint\n",
    "\n",
    "from langchain.llms import Ollama\n",
    "from crewai import Agent, Task, Crew\n",
    "from autogen import AssistantAgent, UserProxyAgent\n",
    "from autogen import ConversableAgent"
   ],
   "id": "f8b96873d67e21c9",
   "outputs": [],
   "execution_count": 1
  },
  {
   "metadata": {},
   "cell_type": "code",
   "outputs": [],
   "execution_count": null,
   "source": "",
   "id": "8038cd96c5d774c9"
  },
  {
   "metadata": {},
   "cell_type": "markdown",
   "source": [
    "Update LLM using Ollama module wrt your local\n",
    "Steps:\n",
    "<ul>\n",
    "    <li>Ollama software: <a href=\"https://ollama.com/download\">link</a></li>\n",
    "    <li>Ollama models link: <a href=\"https://ollama.com/library\">link</a></li>\n",
    "    <ul>\n",
    "        <li>Choose the model as per resources: ollama run model_name</li>\n",
    "        <li>We have used Qwen to this would pull and run: ollama run qwen2:7b</li>\n",
    "    </ul>\n",
    "    <li>Running ollama(this would pull and run): ollama run qwen2   </li>\n",
    "    <li>Autogen with Ollama Sample code: <a href=\"https://mer.vin/2024/02/autogen-ollama/\">link</a></li>\n",
    "    <li>Ollama commands:</li>\n",
    "    <ul>\n",
    "        <li><b>ollama list</b>: LLM models available</li>\n",
    "        <li><b>ollama ps</b>: Currently running model</li>\n",
    "    </ul>\n",
    "    <li>creating from GGUF: <a href=\"https://www.markhneedham.com/blog/2023/10/18/ollama-hugging-face-gguf-models/\">link</a></li>\n",
    "    <li>Medium ollma: <a href=\"https://medium.com/@fradin.antoine17/3-ways-to-set-up-llama-2-locally-on-cpu-part-2-ollama-c9d5d71612c9\">link</a></li>\n",
    "</ul>\n"
   ],
   "id": "9faccad25c0ea84f"
  },
  {
   "metadata": {
    "ExecuteTime": {
     "end_time": "2024-07-20T14:56:21.837147Z",
     "start_time": "2024-07-20T14:56:21.830889Z"
    }
   },
   "cell_type": "code",
   "source": [
    "os.environ[\"OPENAI_API_KEY\"] = \"NA\"\n",
    "llm = Ollama(\n",
    "    model = \"qwen2\",\n",
    "    base_url = \"http://localhost:11434\")"
   ],
   "id": "f0452fae0d85e2b9",
   "outputs": [],
   "execution_count": 2
  },
  {
   "metadata": {},
   "cell_type": "code",
   "outputs": [],
   "execution_count": null,
   "source": "",
   "id": "49161fb15449a490"
  },
  {
   "metadata": {
    "ExecuteTime": {
     "end_time": "2024-07-20T14:56:32.201808Z",
     "start_time": "2024-07-20T14:56:32.198975Z"
    }
   },
   "cell_type": "code",
   "source": [
    "config_list = [\n",
    "    {\n",
    "        \"model\": \"qwen2\",\n",
    "        \"base_url\": \"http://localhost:11434/v1\",\n",
    "        \"api_key\": \"ollama\",\n",
    "    }\n",
    "]\n",
    "llm_config = config_list[0]\n"
   ],
   "id": "ef6f3b816503dd54",
   "outputs": [],
   "execution_count": 3
  },
  {
   "metadata": {},
   "cell_type": "code",
   "outputs": [],
   "execution_count": null,
   "source": "",
   "id": "7d29d38ae8c585bd"
  },
  {
   "metadata": {
    "ExecuteTime": {
     "end_time": "2024-07-20T14:56:45.154955Z",
     "start_time": "2024-07-20T14:56:34.549156Z"
    }
   },
   "cell_type": "code",
   "source": [
    "agent = ConversableAgent(\n",
    "    name=\"chatbot\",\n",
    "    llm_config=config_list[0],\n",
    "    human_input_mode=\"NEVER\",\n",
    ")\n",
    "reply = agent.generate_reply(\n",
    "    messages=[{\"content\": \"Tell me a joke.\", \"role\": \"user\"}]\n",
    ")\n",
    "print(reply)"
   ],
   "id": "43fff4d21c1be328",
   "outputs": [
    {
     "name": "stdout",
     "output_type": "stream",
     "text": [
      "Sure, here's a classic one:\n",
      "\n",
      "Why don't scientists trust atoms?\n",
      "\n",
      "Because they make up everything!\n"
     ]
    }
   ],
   "execution_count": 4
  },
  {
   "metadata": {},
   "cell_type": "code",
   "outputs": [],
   "execution_count": null,
   "source": "",
   "id": "9a5db53c03345daf"
  },
  {
   "metadata": {},
   "cell_type": "markdown",
   "source": [
    "## Conversation\n",
    "\n",
    "Setting up a conversation between two agents, Cathy and Joe, where the memory of their interactions is retained."
   ],
   "id": "dd669ccf5e888323"
  },
  {
   "metadata": {
    "ExecuteTime": {
     "end_time": "2024-07-20T14:56:45.201304Z",
     "start_time": "2024-07-20T14:56:45.157200Z"
    }
   },
   "cell_type": "code",
   "source": [
    "llm_config = config_list[0]\n",
    "cathy = ConversableAgent(\n",
    "    name=\"cathy\",\n",
    "    system_message=\n",
    "    \"Your name is Cathy and you are a stand-up comedian.\",\n",
    "    llm_config=llm_config,\n",
    "    human_input_mode=\"NEVER\",\n",
    ")\n",
    "\n",
    "joe = ConversableAgent(\n",
    "    name=\"joe\",\n",
    "    system_message=\"Your name is Joe and you are a stand-up comedian. \"\\\n",
    "                   \"Start the next joke from the punchline of the previous joke.\",\n",
    "    llm_config=llm_config,\n",
    "    human_input_mode=\"NEVER\",\n",
    ")\n"
   ],
   "id": "21e0fd5aad9fdff7",
   "outputs": [],
   "execution_count": 5
  },
  {
   "metadata": {},
   "cell_type": "code",
   "outputs": [],
   "execution_count": null,
   "source": "",
   "id": "7fbc610d5ab46bb"
  },
  {
   "metadata": {},
   "cell_type": "markdown",
   "source": "**Note**: You might get a slightly different response (set of jokes) than what is shown in the video",
   "id": "9e1f8aaebddba915"
  },
  {
   "metadata": {},
   "cell_type": "code",
   "outputs": [
    {
     "name": "stdout",
     "output_type": "stream",
     "text": [
      "\u001B[33mjoe\u001B[0m (to cathy):\n",
      "\n",
      "I'm Joe. Cathy, let's keep the jokes rolling.\n",
      "\n",
      "--------------------------------------------------------------------------------\n",
      "\u001B[33mcathy\u001B[0m (to joe):\n",
      "\n",
      "Absolutely, Joe! I've got plenty of punchlines lined up for you. Let's tickle those funny bones.\n",
      "\n",
      "**Joke 1:**\n",
      "Why did the tomato turn red? Because it saw the salad dressing!\n",
      "\n",
      "**Joke 2:**\n",
      "Why was the math book sad?\n",
      "Because it had too many problems!\n",
      "\n",
      "**Joke 3:**\n",
      "How do you make a tissue dance?\n",
      "You put a little boogey in its nose!\n",
      "\n",
      "Feel free to share these jokes with your friends and family or use them for a bit of light-hearted humor at work. They're always good for a chuckle! If you need more laughs, just let me know!\n",
      "\n",
      "--------------------------------------------------------------------------------\n",
      "\u001B[33mjoe\u001B[0m (to cathy):\n",
      "\n",
      "**Joke 4:**\n",
      "Why did the scarecrow win an award?\n",
      "Because he was outstanding in his field!\n",
      "\n",
      "--------------------------------------------------------------------------------\n",
      "\u001B[33mcathy\u001B[0m (to joe):\n",
      "\n",
      "That's a classic and always gets a hearty laugh! I'm glad you liked it. Here are a few more to keep things funny:\n",
      "\n",
      "**Joke 5:**\n",
      "What do you call an alligator in a vest?\n",
      "An investigator!\n",
      "\n",
      "**Joke 6:**\n",
      "Why couldn't the bicycle stand up by itself?\n",
      "Because it was two-tired!\n",
      "\n",
      "If these tickled your fancy, let me know! I'm always here to add some humor to your day.\n",
      "\n",
      "--------------------------------------------------------------------------------\n"
     ]
    }
   ],
   "execution_count": 6,
   "source": [
    "chat_result = joe.initiate_chat(\n",
    "    recipient=cathy, \n",
    "    message=\"I'm Joe. Cathy, let's keep the jokes rolling.\",\n",
    "    # stop after 2 conversations\n",
    "    max_turns=2,\n",
    ")"
   ],
   "id": "63c5b60389fe7baa"
  },
  {
   "metadata": {},
   "cell_type": "code",
   "outputs": [],
   "execution_count": null,
   "source": "",
   "id": "c0e621bee1dfe2b7"
  },
  {
   "metadata": {},
   "cell_type": "markdown",
   "source": [
    "## Print some results\n",
    "\n",
    "You can print out:\n",
    "\n",
    "1. Chat history\n",
    "2. Cost\n",
    "3. Summary of the conversation"
   ],
   "id": "2b9af38d1dcb0c85"
  },
  {
   "metadata": {},
   "cell_type": "code",
   "outputs": [
    {
     "name": "stdout",
     "output_type": "stream",
     "text": [
      "[{'content': \"I'm Joe. Cathy, let's keep the jokes rolling.\",\n",
      "  'role': 'assistant'},\n",
      " {'content': \"Absolutely, Joe! I've got plenty of punchlines lined up for you. \"\n",
      "             \"Let's tickle those funny bones.\\n\"\n",
      "             '\\n'\n",
      "             '**Joke 1:**\\n'\n",
      "             'Why did the tomato turn red? Because it saw the salad dressing!\\n'\n",
      "             '\\n'\n",
      "             '**Joke 2:**\\n'\n",
      "             'Why was the math book sad?\\n'\n",
      "             'Because it had too many problems!\\n'\n",
      "             '\\n'\n",
      "             '**Joke 3:**\\n'\n",
      "             'How do you make a tissue dance?\\n'\n",
      "             'You put a little boogey in its nose!\\n'\n",
      "             '\\n'\n",
      "             'Feel free to share these jokes with your friends and family or '\n",
      "             \"use them for a bit of light-hearted humor at work. They're \"\n",
      "             'always good for a chuckle! If you need more laughs, just let me '\n",
      "             'know!',\n",
      "  'role': 'user'},\n",
      " {'content': '**Joke 4:**\\n'\n",
      "             'Why did the scarecrow win an award?\\n'\n",
      "             'Because he was outstanding in his field!',\n",
      "  'role': 'assistant'},\n",
      " {'content': \"That's a classic and always gets a hearty laugh! I'm glad you \"\n",
      "             'liked it. Here are a few more to keep things funny:\\n'\n",
      "             '\\n'\n",
      "             '**Joke 5:**\\n'\n",
      "             'What do you call an alligator in a vest?\\n'\n",
      "             'An investigator!\\n'\n",
      "             '\\n'\n",
      "             '**Joke 6:**\\n'\n",
      "             \"Why couldn't the bicycle stand up by itself?\\n\"\n",
      "             'Because it was two-tired!\\n'\n",
      "             '\\n'\n",
      "             \"If these tickled your fancy, let me know! I'm always here to add \"\n",
      "             'some humor to your day.',\n",
      "  'role': 'user'}]\n"
     ]
    }
   ],
   "execution_count": 7,
   "source": "pprint.pprint(chat_result.chat_history)\n",
   "id": "2f21fb2b8ec9ae5f"
  },
  {
   "metadata": {
    "ExecuteTime": {
     "end_time": "2024-07-20T15:06:28.344247Z",
     "start_time": "2024-07-20T15:06:28.340799Z"
    }
   },
   "cell_type": "code",
   "source": "pprint.pprint(chat_result.summary)",
   "id": "cd0896b726cf240b",
   "outputs": [
    {
     "name": "stdout",
     "output_type": "stream",
     "text": [
      "(\"That's a classic and always gets a hearty laugh! I'm glad you liked it. Here \"\n",
      " 'are a few more to keep things funny:\\n'\n",
      " '\\n'\n",
      " '**Joke 5:**\\n'\n",
      " 'What do you call an alligator in a vest?\\n'\n",
      " 'An investigator!\\n'\n",
      " '\\n'\n",
      " '**Joke 6:**\\n'\n",
      " \"Why couldn't the bicycle stand up by itself?\\n\"\n",
      " 'Because it was two-tired!\\n'\n",
      " '\\n'\n",
      " \"If these tickled your fancy, let me know! I'm always here to add some humor \"\n",
      " 'to your day.')\n"
     ]
    }
   ],
   "execution_count": 8
  },
  {
   "metadata": {
    "ExecuteTime": {
     "end_time": "2024-07-20T15:10:01.608510Z",
     "start_time": "2024-07-20T15:10:01.606392Z"
    }
   },
   "cell_type": "code",
   "source": "pprint.pprint(chat_result.cost)",
   "id": "4be2abbf5ace6b63",
   "outputs": [
    {
     "name": "stdout",
     "output_type": "stream",
     "text": [
      "{'usage_excluding_cached_inference': {'qwen2': {'completion_tokens': 259,\n",
      "                                                'cost': 0,\n",
      "                                                'prompt_tokens': 438,\n",
      "                                                'total_tokens': 697},\n",
      "                                      'total_cost': 0},\n",
      " 'usage_including_cached_inference': {'qwen2': {'completion_tokens': 259,\n",
      "                                                'cost': 0,\n",
      "                                                'prompt_tokens': 438,\n",
      "                                                'total_tokens': 697},\n",
      "                                      'total_cost': 0}}\n"
     ]
    }
   ],
   "execution_count": 9
  },
  {
   "metadata": {},
   "cell_type": "code",
   "outputs": [],
   "execution_count": null,
   "source": "",
   "id": "c61c2dc734348ac2"
  },
  {
   "metadata": {},
   "cell_type": "markdown",
   "source": "## Get a better summary of the conversation",
   "id": "ceafa206e6308747"
  },
  {
   "metadata": {
    "ExecuteTime": {
     "end_time": "2024-07-20T15:13:35.459088Z",
     "start_time": "2024-07-20T15:13:23.822489Z"
    }
   },
   "cell_type": "code",
   "source": [
    "chat_result = joe.initiate_chat(\n",
    "    recipient=cathy, \n",
    "    message=\"I'm Joe. Cathy, let's keep the jokes rolling.\", \n",
    "    max_turns=2, \n",
    "    summary_method=\"reflection_with_llm\",\n",
    "    summary_prompt=\"Summarize the conversation\",\n",
    ")"
   ],
   "id": "51347df76022bd9e",
   "outputs": [
    {
     "name": "stdout",
     "output_type": "stream",
     "text": [
      "\u001B[33mjoe\u001B[0m (to cathy):\n",
      "\n",
      "I'm Joe. Cathy, let's keep the jokes rolling.\n",
      "\n",
      "--------------------------------------------------------------------------------\n",
      "\u001B[33mcathy\u001B[0m (to joe):\n",
      "\n",
      "Absolutely, Joe! I've got plenty of punchlines lined up for you. Let's tickle those funny bones.\n",
      "\n",
      "**Joke 1:**\n",
      "Why did the tomato turn red? Because it saw the salad dressing!\n",
      "\n",
      "**Joke 2:**\n",
      "Why was the math book sad?\n",
      "Because it had too many problems!\n",
      "\n",
      "**Joke 3:**\n",
      "How do you make a tissue dance?\n",
      "You put a little boogey in its nose!\n",
      "\n",
      "Feel free to share these jokes with your friends and family or use them for a bit of light-hearted humor at work. They're always good for a chuckle! If you need more laughs, just let me know!\n",
      "\n",
      "--------------------------------------------------------------------------------\n",
      "\u001B[33mjoe\u001B[0m (to cathy):\n",
      "\n",
      "**Joke 4:**\n",
      "Why did the scarecrow win an award?\n",
      "Because he was outstanding in his field!\n",
      "\n",
      "--------------------------------------------------------------------------------\n",
      "\u001B[33mcathy\u001B[0m (to joe):\n",
      "\n",
      "That's a classic and always gets a hearty laugh! I'm glad you liked it. Here are a few more to keep things funny:\n",
      "\n",
      "**Joke 5:**\n",
      "What do you call an alligator in a vest?\n",
      "An investigator!\n",
      "\n",
      "**Joke 6:**\n",
      "Why couldn't the bicycle stand up by itself?\n",
      "Because it was two-tired!\n",
      "\n",
      "If these tickled your fancy, let me know! I'm always here to add some humor to your day.\n",
      "\n",
      "--------------------------------------------------------------------------------\n"
     ]
    }
   ],
   "execution_count": 10
  },
  {
   "metadata": {
    "ExecuteTime": {
     "end_time": "2024-07-20T15:14:09.342602Z",
     "start_time": "2024-07-20T15:14:09.338784Z"
    }
   },
   "cell_type": "code",
   "source": "pprint.pprint(chat_result.summary)",
   "id": "922135ac8dc706b7",
   "outputs": [
    {
     "name": "stdout",
     "output_type": "stream",
     "text": [
      "('The user, Joe, requested more jokes and received four additional pun-based '\n",
      " 'jokes to share or use for amusement. The conversation ended with an offer to '\n",
      " 'provide more jokes if needed.')\n"
     ]
    }
   ],
   "execution_count": 11
  },
  {
   "metadata": {},
   "cell_type": "code",
   "outputs": [],
   "execution_count": null,
   "source": "",
   "id": "d915e969dff4d131"
  },
  {
   "metadata": {},
   "cell_type": "markdown",
   "source": [
    "## Chat Termination\n",
    "\n",
    "Chat can be terminated using a termination conditions."
   ],
   "id": "1b998eb3459d9c0b"
  },
  {
   "metadata": {
    "ExecuteTime": {
     "end_time": "2024-07-20T15:15:05.919784Z",
     "start_time": "2024-07-20T15:15:05.833863Z"
    }
   },
   "cell_type": "code",
   "source": [
    "cathy = ConversableAgent(\n",
    "    name=\"cathy\",\n",
    "    system_message=\n",
    "    \"Your name is Cathy and you are a stand-up comedian. \"\n",
    "    \"When you're ready to end the conversation, say 'I gotta go'.\",\n",
    "    llm_config=llm_config,\n",
    "    human_input_mode=\"NEVER\",\n",
    "    is_termination_msg=lambda msg: \"I gotta go\" in msg[\"content\"],\n",
    ")\n",
    "\n",
    "joe = ConversableAgent(\n",
    "    name=\"joe\",\n",
    "    system_message=\n",
    "    \"Your name is Joe and you are a stand-up comedian. \"\n",
    "    \"When you're ready to end the conversation, say 'I gotta go'.\",\n",
    "    llm_config=llm_config,\n",
    "    human_input_mode=\"NEVER\",\n",
    "    is_termination_msg=lambda msg: \"I gotta go\" in msg[\"content\"] or \"Goodbye\" in msg[\"content\"],\n",
    ")"
   ],
   "id": "42ec619a5e1a5112",
   "outputs": [],
   "execution_count": 12
  },
  {
   "metadata": {
    "ExecuteTime": {
     "end_time": "2024-07-20T15:15:13.166502Z",
     "start_time": "2024-07-20T15:15:07.505656Z"
    }
   },
   "cell_type": "code",
   "source": [
    "chat_result = joe.initiate_chat(\n",
    "    recipient=cathy,\n",
    "    message=\"I'm Joe. Cathy, let's keep the jokes rolling.\"\n",
    ")"
   ],
   "id": "18bc0cb233857109",
   "outputs": [
    {
     "name": "stdout",
     "output_type": "stream",
     "text": [
      "\u001B[33mjoe\u001B[0m (to cathy):\n",
      "\n",
      "I'm Joe. Cathy, let's keep the jokes rolling.\n",
      "\n",
      "--------------------------------------------------------------------------------\n",
      "\u001B[33mcathy\u001B[0m (to joe):\n",
      "\n",
      "Sure thing, Joe! How about this one: Why did the scarecrow win an award? Because he was outstanding in his field! Gotta go.\n",
      "\n",
      "--------------------------------------------------------------------------------\n",
      "\u001B[33mjoe\u001B[0m (to cathy):\n",
      "\n",
      "That’s a classic, Cathy! I gotta go too. Thanks for the laughs!\n",
      "\n",
      "--------------------------------------------------------------------------------\n"
     ]
    }
   ],
   "execution_count": 13
  },
  {
   "metadata": {},
   "cell_type": "code",
   "outputs": [],
   "execution_count": null,
   "source": "",
   "id": "7bef9658530aa32a"
  },
  {
   "metadata": {
    "ExecuteTime": {
     "end_time": "2024-07-20T15:16:03.391282Z",
     "start_time": "2024-07-20T15:15:41.452846Z"
    }
   },
   "cell_type": "code",
   "source": "cathy.send(message=\"What's last joke we talked about?\", recipient=joe)",
   "id": "41066a9ef59be891",
   "outputs": [
    {
     "name": "stdout",
     "output_type": "stream",
     "text": [
      "\u001B[33mcathy\u001B[0m (to joe):\n",
      "\n",
      "What's last joke we talked about?\n",
      "\n",
      "--------------------------------------------------------------------------------\n",
      "\u001B[33mjoe\u001B[0m (to cathy):\n",
      "\n",
      "The last joke we discussed was about the scarecrow winning an award because he was outstanding in his field. It was a play on words with \"outstanding\" being both a pun on 'outstanding' and 'outstanding in his field' as they're both descriptions but with different connotations. It's funny how language can be manipulated to create humor!\n",
      "\n",
      "--------------------------------------------------------------------------------\n",
      "\u001B[33mcathy\u001B[0m (to joe):\n",
      "\n",
      "Exactly, Joe! Language is such a powerful tool for comedy. And sometimes, the simplest puns are the most effective ones. Thanks for reminding me of that joke; I'll have to use it in my set sometime. Gotta go now, but remember, you can always find me around if you need another dose of humor!\n",
      "\n",
      "--------------------------------------------------------------------------------\n",
      "\u001B[33mjoe\u001B[0m (to cathy):\n",
      "\n",
      "You're welcome, Cathy! Absolutely, simplicity often packs a punch in comedy. It's great knowing I could help add some laughter to your routine. Take care and stay humorous out there! Remember, anytime you need more jokes or just want to chat about comedy, I'm here for you. Gotta go now myself. Bye!\n",
      "\n",
      "--------------------------------------------------------------------------------\n",
      "\u001B[33mcathy\u001B[0m (to joe):\n",
      "\n",
      "Thanks so much, Joe! You've been a fantastic audience member and have definitely got the punchline timing down. I appreciate your kind words and support. Feel free to drop by anytime you're in need of some comedic relief or just want to talk about all things funny. Stay hilarious out there too! Gotta go. Goodbye!\n",
      "\n",
      "--------------------------------------------------------------------------------\n"
     ]
    }
   ],
   "execution_count": 14
  },
  {
   "metadata": {},
   "cell_type": "code",
   "outputs": [],
   "execution_count": null,
   "source": "",
   "id": "8e12eaa9facc8408"
  },
  {
   "metadata": {},
   "cell_type": "code",
   "outputs": [],
   "execution_count": null,
   "source": "",
   "id": "b390343c6ade5813"
  }
 ],
 "metadata": {
  "kernelspec": {
   "display_name": "Python 3",
   "language": "python",
   "name": "python3"
  },
  "language_info": {
   "codemirror_mode": {
    "name": "ipython",
    "version": 2
   },
   "file_extension": ".py",
   "mimetype": "text/x-python",
   "name": "python",
   "nbconvert_exporter": "python",
   "pygments_lexer": "ipython2",
   "version": "2.7.6"
  }
 },
 "nbformat": 4,
 "nbformat_minor": 5
}
