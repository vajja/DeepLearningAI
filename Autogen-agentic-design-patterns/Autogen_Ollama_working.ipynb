{
 "cells": [
  {
   "cell_type": "code",
   "execution_count": null,
   "id": "initial_id",
   "metadata": {
    "collapsed": true
   },
   "outputs": [],
   "source": [
    ""
   ]
  },
  {
   "metadata": {},
   "cell_type": "markdown",
   "source": [
    "Steps:\n",
    "<ul>\n",
    "    <li>Ollama software: <a href=\"https://ollama.com/download\">link</a></li>\n",
    "    <li>Ollama models link: <a href=\"https://ollama.com/library\">link</a></li>\n",
    "    <ul>\n",
    "        <li>Choose the model as per resources: ollama run model_name</li>\n",
    "        <li>We have used Qwen to this would pull and run: ollama run qwen2:1.5b</li>\n",
    "    </ul>\n",
    "    <li>Running ollama(this would pull and run): ollama run qwen2:1.5b</li>\n",
    "    <li>Autogen with Ollama Sample code: <a href=\"https://mer.vin/2024/02/autogen-ollama/\">link</a></li>\n",
    "    \n",
    "</ul>\n"
   ],
   "id": "6bdbdb0636515e29"
  },
  {
   "metadata": {
    "ExecuteTime": {
     "end_time": "2024-07-17T12:04:25.473993Z",
     "start_time": "2024-07-17T12:04:13.158035Z"
    }
   },
   "cell_type": "code",
   "source": [
    "import os\n",
    "import pprint\n",
    "\n",
    "from langchain.llms import Ollama\n",
    "from crewai import Agent, Task, Crew\n",
    "from autogen import AssistantAgent, UserProxyAgent\n",
    "from autogen import ConversableAgent\n",
    "\n"
   ],
   "id": "5c57e91947588420",
   "outputs": [],
   "execution_count": 1
  },
  {
   "metadata": {},
   "cell_type": "code",
   "outputs": [],
   "execution_count": null,
   "source": "",
   "id": "294fe6716f9bbac0"
  },
  {
   "metadata": {},
   "cell_type": "markdown",
   "source": [
    "<ul>\n",
    "    <li>Updating OpenAI to None</li>\n",
    "    <li>Using Qwen2 endpoint</li>\n",
    "    <li>Qwen2 should be running as ollama verifies</li>\n",
    "</ul>"
   ],
   "id": "449ccc0ff21f89c2"
  },
  {
   "metadata": {
    "ExecuteTime": {
     "end_time": "2024-07-17T12:04:25.482537Z",
     "start_time": "2024-07-17T12:04:25.473993Z"
    }
   },
   "cell_type": "code",
   "source": [
    "os.environ[\"OPENAI_API_KEY\"] = \"NA\"\n",
    "llm = Ollama(\n",
    "    model = \"qwen2:1.5b\",\n",
    "    base_url = \"http://localhost:11434\")"
   ],
   "id": "ca49bcd7d96894b8",
   "outputs": [],
   "execution_count": 2
  },
  {
   "metadata": {},
   "cell_type": "code",
   "outputs": [],
   "execution_count": null,
   "source": "",
   "id": "365fba7e06e5b790"
  },
  {
   "metadata": {},
   "cell_type": "code",
   "outputs": [],
   "execution_count": null,
   "source": "",
   "id": "dd6071488bf22ec6"
  },
  {
   "metadata": {
    "ExecuteTime": {
     "end_time": "2024-07-17T12:04:25.493516Z",
     "start_time": "2024-07-17T12:04:25.484062Z"
    }
   },
   "cell_type": "code",
   "source": [
    "config_list = [\n",
    "    {\n",
    "        \"model\": \"qwen2:1.5b\",\n",
    "        \"base_url\": \"http://localhost:11434/v1\",\n",
    "        \"api_key\": \"ollama\",\n",
    "    }\n",
    "]\n",
    "llm_config = config_list[0]"
   ],
   "id": "fa183f361988a84b",
   "outputs": [],
   "execution_count": 3
  },
  {
   "metadata": {},
   "cell_type": "code",
   "outputs": [],
   "execution_count": null,
   "source": "",
   "id": "3da0bab50605a8d2"
  },
  {
   "metadata": {},
   "cell_type": "markdown",
   "source": "##### Checking if it works with Autogen",
   "id": "b82b1ea56d2046bd"
  },
  {
   "metadata": {
    "ExecuteTime": {
     "end_time": "2024-07-17T12:04:25.778792Z",
     "start_time": "2024-07-17T12:04:25.495069Z"
    }
   },
   "cell_type": "code",
   "source": [
    "agent = ConversableAgent(\n",
    "    name=\"chatbot\",\n",
    "    llm_config=config_list[0],\n",
    "    human_input_mode=\"NEVER\",\n",
    ")\n",
    "reply = agent.generate_reply(\n",
    "    messages=[{\"content\": \"Tell me a joke.\", \"role\": \"user\"}]\n",
    ")\n",
    "print(reply)"
   ],
   "id": "672817b354fb7077",
   "outputs": [
    {
     "name": "stdout",
     "output_type": "stream",
     "text": [
      "Sure, here you go:\n",
      "Why don't scientists trust atoms?\n",
      "\n",
      "Because they make up everything.\n"
     ]
    }
   ],
   "execution_count": 4
  },
  {
   "metadata": {},
   "cell_type": "code",
   "outputs": [],
   "execution_count": null,
   "source": "",
   "id": "366cd1279d238d1d"
  },
  {
   "metadata": {},
   "cell_type": "markdown",
   "source": "##### Creating a conversation to check if the model is good",
   "id": "def1e4965b4a76e0"
  },
  {
   "metadata": {
    "ExecuteTime": {
     "end_time": "2024-07-17T12:04:26.402779Z",
     "start_time": "2024-07-17T12:04:25.779422Z"
    }
   },
   "cell_type": "code",
   "source": [
    "llm_config = config_list[0]\n",
    "cathy = ConversableAgent(\n",
    "    name=\"cathy\",\n",
    "    system_message=\n",
    "    \"Your name is Cathy and you are a stand-up comedian.\",\n",
    "    llm_config=llm_config,\n",
    "    human_input_mode=\"NEVER\",\n",
    ")\n",
    "\n",
    "joe = ConversableAgent(\n",
    "    name=\"joe\",\n",
    "    system_message=\"Your name is Joe and you are a stand-up comedian. \"\\\n",
    "                   \"Start the next joke from the punchline of the previous joke.\",\n",
    "    llm_config=llm_config,\n",
    "    human_input_mode=\"NEVER\",\n",
    ")\n"
   ],
   "id": "b13ca0275da933e0",
   "outputs": [],
   "execution_count": 5
  },
  {
   "metadata": {},
   "cell_type": "code",
   "outputs": [],
   "execution_count": null,
   "source": "",
   "id": "4e5519e778ef7ba2"
  },
  {
   "metadata": {},
   "cell_type": "markdown",
   "source": "#### Starting a conversation",
   "id": "6c4b1b4b168d7e1e"
  },
  {
   "metadata": {
    "ExecuteTime": {
     "end_time": "2024-07-17T12:04:37.892832Z",
     "start_time": "2024-07-17T12:04:37.775393Z"
    }
   },
   "cell_type": "code",
   "source": [
    "chat_result = joe.initiate_chat(\n",
    "    recipient=cathy, \n",
    "    message=\"I'm Joe. Cathy, let's keep the jokes rolling.\",\n",
    "    # stop after 2 conversations\n",
    "    max_turns=2,\n",
    ")"
   ],
   "id": "7e9cf2ce9137acc4",
   "outputs": [
    {
     "name": "stdout",
     "output_type": "stream",
     "text": [
      "\u001B[33mjoe\u001B[0m (to cathy):\n",
      "\n",
      "I'm Joe. Cathy, let's keep the jokes rolling.\n",
      "\n",
      "--------------------------------------------------------------------------------\n",
      "\u001B[33mcathy\u001B[0m (to joe):\n",
      "\n",
      "Great! I'm here to get a good laugh with everyone, regardless of who they might be or what they're doing at the moment. Let me know if there are any specific topics you'd like us to tackle. We'll get going!\n",
      "\n",
      "--------------------------------------------------------------------------------\n",
      "\u001B[33mjoe\u001B[0m (to cathy):\n",
      "\n",
      "Sure thing! As Joe, my sense is humor has no boundaries. So, whether it's about sports, politics, love life... or even how the world feels these days, I'm ready for a laugh or two. Let's do this!\n",
      "\n",
      "--------------------------------------------------------------------------------\n",
      "\u001B[33mcathy\u001B[0m (to joe):\n",
      "\n",
      "Great, I'll be here to lend a hand with that! Just remember, there are always some things that make everyone smile, and today is one of them! If you have any jokes, stories, or just anything funny going on in your life, feel free to share it! Let's get this party started.\n",
      "\n",
      "--------------------------------------------------------------------------------\n"
     ]
    }
   ],
   "execution_count": 6
  },
  {
   "metadata": {
    "ExecuteTime": {
     "end_time": "2024-07-17T12:04:39.425181Z",
     "start_time": "2024-07-17T12:04:39.419599Z"
    }
   },
   "cell_type": "code",
   "source": [
    "\n",
    "pprint.pprint(chat_result.chat_history)\n"
   ],
   "id": "5af49565006be431",
   "outputs": [
    {
     "name": "stdout",
     "output_type": "stream",
     "text": [
      "[{'content': \"I'm Joe. Cathy, let's keep the jokes rolling.\",\n",
      "  'role': 'assistant'},\n",
      " {'content': \"Great! I'm here to get a good laugh with everyone, regardless of \"\n",
      "             \"who they might be or what they're doing at the moment. Let me \"\n",
      "             \"know if there are any specific topics you'd like us to tackle. \"\n",
      "             \"We'll get going!\",\n",
      "  'role': 'user'},\n",
      " {'content': 'Sure thing! As Joe, my sense is humor has no boundaries. So, '\n",
      "             \"whether it's about sports, politics, love life... or even how \"\n",
      "             \"the world feels these days, I'm ready for a laugh or two. Let's \"\n",
      "             'do this!',\n",
      "  'role': 'assistant'},\n",
      " {'content': \"Great, I'll be here to lend a hand with that! Just remember, \"\n",
      "             'there are always some things that make everyone smile, and today '\n",
      "             'is one of them! If you have any jokes, stories, or just anything '\n",
      "             \"funny going on in your life, feel free to share it! Let's get \"\n",
      "             'this party started.',\n",
      "  'role': 'user'}]\n"
     ]
    }
   ],
   "execution_count": 7
  },
  {
   "metadata": {},
   "cell_type": "code",
   "outputs": [],
   "execution_count": null,
   "source": "",
   "id": "5aa4fe344fb2443e"
  },
  {
   "metadata": {},
   "cell_type": "code",
   "outputs": [],
   "execution_count": null,
   "source": "",
   "id": "c0bc9ce7fabea069"
  },
  {
   "metadata": {},
   "cell_type": "code",
   "outputs": [],
   "execution_count": null,
   "source": "",
   "id": "39d7b9edba5f1a7e"
  },
  {
   "metadata": {
    "ExecuteTime": {
     "end_time": "2024-07-17T12:04:50.511399Z",
     "start_time": "2024-07-17T12:04:45.682873Z"
    }
   },
   "cell_type": "code",
   "source": [
    "assistant = AssistantAgent(\"assistant\", llm_config={\"config_list\": config_list})\n",
    "\n",
    "# Create a UserProxyAgent that can execute code\n",
    "user_proxy = UserProxyAgent(\"user_proxy\", code_execution_config={\"work_dir\": \"coding\", \"use_docker\": False})\n",
    "\n",
    "# Initiate a chat between the user proxy and the assistant\n",
    "user_proxy.initiate_chat(assistant, message=\"Plot a chart of TSLA stock price change YTD and save in a file. Get information using yfinance.\")"
   ],
   "id": "c0f289b159b5bcc6",
   "outputs": [
    {
     "name": "stdout",
     "output_type": "stream",
     "text": [
      "\u001B[33muser_proxy\u001B[0m (to assistant):\n",
      "\n",
      "Plot a chart of TSLA stock price change YTD and save in a file. Get information using yfinance.\n",
      "\n",
      "--------------------------------------------------------------------------------\n",
      "\u001B[33massistant\u001B[0m (to user_proxy):\n",
      "\n",
      "You need to use Python, which should be able to plot charts and download data from Yahoo Finance using its API.\n",
      "\n",
      "First, I will install the required library by executing these commands:\n",
      "\n",
      "```python\n",
      "!pip install pyyf\n",
      "```\n",
      "\n",
      "Now we can begin with downloading historical stock price data for TSLA from Yahoo Finance:\n",
      "\n",
      "```python\n",
      "import yfinance as yf\n",
      "# Download TSLA stock data YTD\n",
      "tsla = yf.Ticker('TSLA')\n",
      "data_ytd = tsla.history(period='YTD')\n",
      "print(data_ytd)\n",
      "```\n",
      "\n",
      "Next, let's plot the stock price change for each year. This will give us a clear visualization of the stock price change over time.\n",
      "\n",
      "```python\n",
      "import matplotlib.pyplot as plt\n",
      "\n",
      "# Plot stock price change over time\n",
      "years = [i for i in range(2019, 2023)]  # Year range from 2019 to 2023\n",
      "plt.plot(years, data_ytd['Close'].dropna())  # Drop the NaN values if any exist\n",
      "\n",
      "# Set title and labels\n",
      "plt.title('TSLA Stock Price Change YTD')\n",
      "plt.xlabel('Year')\n",
      "plt.ylabel('Stock Price')\n",
      "\n",
      "# Show the plot\n",
      "plt.show()\n",
      "```\n",
      "\n",
      "Now let's save this chart as a file. We'll use `savefig` from matplotlib.pyplot:\n",
      "\n",
      "```python\n",
      "plt.savefig('tlaa_ytd_chart.png', dpi=100)\n",
      "print(\"Chart saved successfully!\")\n",
      "```\n",
      "\n",
      "This completes the task, and you can find the chart in your local directory named 'tlaa_ytd_chart.png'\n",
      "\n",
      "If there are any errors or issues during this process, I will provide an appropriate error message for you to fix. However, since these steps don't involve user interaction or external data download that might be subject to limitations like space, rate, etc., it seems the code above can run without any specific exception.\n",
      "\n",
      "Please let me know if there is anything else I can assist with!\n",
      "\n",
      "--------------------------------------------------------------------------------\n"
     ]
    },
    {
     "data": {
      "text/plain": [
       "ChatResult(chat_id=None, chat_history=[{'content': 'Plot a chart of TSLA stock price change YTD and save in a file. Get information using yfinance.', 'role': 'assistant'}, {'content': 'You need to use Python, which should be able to plot charts and download data from Yahoo Finance using its API.\\n\\nFirst, I will install the required library by executing these commands:\\n\\n```python\\n!pip install pyyf\\n```\\n\\nNow we can begin with downloading historical stock price data for TSLA from Yahoo Finance:\\n\\n```python\\nimport yfinance as yf\\n# Download TSLA stock data YTD\\ntsla = yf.Ticker(\\'TSLA\\')\\ndata_ytd = tsla.history(period=\\'YTD\\')\\nprint(data_ytd)\\n```\\n\\nNext, let\\'s plot the stock price change for each year. This will give us a clear visualization of the stock price change over time.\\n\\n```python\\nimport matplotlib.pyplot as plt\\n\\n# Plot stock price change over time\\nyears = [i for i in range(2019, 2023)]  # Year range from 2019 to 2023\\nplt.plot(years, data_ytd[\\'Close\\'].dropna())  # Drop the NaN values if any exist\\n\\n# Set title and labels\\nplt.title(\\'TSLA Stock Price Change YTD\\')\\nplt.xlabel(\\'Year\\')\\nplt.ylabel(\\'Stock Price\\')\\n\\n# Show the plot\\nplt.show()\\n```\\n\\nNow let\\'s save this chart as a file. We\\'ll use `savefig` from matplotlib.pyplot:\\n\\n```python\\nplt.savefig(\\'tlaa_ytd_chart.png\\', dpi=100)\\nprint(\"Chart saved successfully!\")\\n```\\n\\nThis completes the task, and you can find the chart in your local directory named \\'tlaa_ytd_chart.png\\'\\n\\nIf there are any errors or issues during this process, I will provide an appropriate error message for you to fix. However, since these steps don\\'t involve user interaction or external data download that might be subject to limitations like space, rate, etc., it seems the code above can run without any specific exception.\\n\\nPlease let me know if there is anything else I can assist with!', 'role': 'user'}], summary='You need to use Python, which should be able to plot charts and download data from Yahoo Finance using its API.\\n\\nFirst, I will install the required library by executing these commands:\\n\\n```python\\n!pip install pyyf\\n```\\n\\nNow we can begin with downloading historical stock price data for TSLA from Yahoo Finance:\\n\\n```python\\nimport yfinance as yf\\n# Download TSLA stock data YTD\\ntsla = yf.Ticker(\\'TSLA\\')\\ndata_ytd = tsla.history(period=\\'YTD\\')\\nprint(data_ytd)\\n```\\n\\nNext, let\\'s plot the stock price change for each year. This will give us a clear visualization of the stock price change over time.\\n\\n```python\\nimport matplotlib.pyplot as plt\\n\\n# Plot stock price change over time\\nyears = [i for i in range(2019, 2023)]  # Year range from 2019 to 2023\\nplt.plot(years, data_ytd[\\'Close\\'].dropna())  # Drop the NaN values if any exist\\n\\n# Set title and labels\\nplt.title(\\'TSLA Stock Price Change YTD\\')\\nplt.xlabel(\\'Year\\')\\nplt.ylabel(\\'Stock Price\\')\\n\\n# Show the plot\\nplt.show()\\n```\\n\\nNow let\\'s save this chart as a file. We\\'ll use `savefig` from matplotlib.pyplot:\\n\\n```python\\nplt.savefig(\\'tlaa_ytd_chart.png\\', dpi=100)\\nprint(\"Chart saved successfully!\")\\n```\\n\\nThis completes the task, and you can find the chart in your local directory named \\'tlaa_ytd_chart.png\\'\\n\\nIf there are any errors or issues during this process, I will provide an appropriate error message for you to fix. However, since these steps don\\'t involve user interaction or external data download that might be subject to limitations like space, rate, etc., it seems the code above can run without any specific exception.\\n\\nPlease let me know if there is anything else I can assist with!', cost={'usage_including_cached_inference': {'total_cost': 0, 'qwen2:1.5b': {'cost': 0, 'prompt_tokens': 498, 'completion_tokens': 413, 'total_tokens': 911}}, 'usage_excluding_cached_inference': {'total_cost': 0}}, human_input=['exit'])"
      ]
     },
     "execution_count": 8,
     "metadata": {},
     "output_type": "execute_result"
    }
   ],
   "execution_count": 8
  },
  {
   "metadata": {},
   "cell_type": "code",
   "outputs": [],
   "execution_count": null,
   "source": "",
   "id": "ccc52c2ba9e340f1"
  },
  {
   "metadata": {},
   "cell_type": "code",
   "outputs": [],
   "execution_count": null,
   "source": "",
   "id": "15565cbd215168b6"
  },
  {
   "metadata": {},
   "cell_type": "markdown",
   "source": "##### Checking if CrewAI works",
   "id": "197630a794d1294b"
  },
  {
   "metadata": {
    "ExecuteTime": {
     "end_time": "2024-07-17T12:05:14.263974Z",
     "start_time": "2024-07-17T12:04:56.725984Z"
    }
   },
   "cell_type": "code",
   "source": [
    "general_agent = Agent(role = \"Math Professor\",\n",
    "                      goal = \"\"\"Provide the solution to the students that are asking mathematical questions and give them the answer.\"\"\",\n",
    "                      backstory = \"\"\"You are an excellent math professor that likes to solve math questions in a way that everyone can understand your solution\"\"\",\n",
    "                      allow_delegation = False,\n",
    "                      verbose = True,\n",
    "                      llm = llm)\n",
    "\n",
    "task = Task(description=\"\"\"what is 3 + 5\"\"\",\n",
    "             agent = general_agent,\n",
    "             expected_output=\"A numerical answer.\")\n",
    "\n",
    "crew = Crew(\n",
    "            agents=[general_agent],\n",
    "            tasks=[task],\n",
    "            verbose=2\n",
    "        )\n",
    "\n",
    "result = crew.kickoff()\n",
    "\n",
    "print(result)"
   ],
   "id": "8ecfbf39fdee8536",
   "outputs": [
    {
     "name": "stdout",
     "output_type": "stream",
     "text": [
      "\u001B[1m\u001B[95m [2024-07-17 17:34:57][DEBUG]: == Working Agent: Math Professor\u001B[00m\n",
      "\u001B[1m\u001B[95m [2024-07-17 17:34:57][INFO]: == Starting Task: what is 3 + 5\u001B[00m\n",
      "\n",
      "\n",
      "\u001B[1m> Entering new CrewAgentExecutor chain...\u001B[0m\n",
      "\u001B[32;1m\u001B[1;3mI understand that my task is to provide a solution for the problem of adding 3 + 5. As a math professor, I am well-versed in how to solve this arithmetic addition.\n",
      "Final Answer: The answer to 3 + 5 is 8.\u001B[0m\n",
      "\n",
      "\u001B[1m> Finished chain.\u001B[0m\n",
      "\u001B[1m\u001B[92m [2024-07-17 17:35:14][DEBUG]: == [Math Professor] Task output: The answer to 3 + 5 is 8.\n",
      "\n",
      "\u001B[00m\n",
      "The answer to 3 + 5 is 8.\n"
     ]
    }
   ],
   "execution_count": 9
  },
  {
   "metadata": {},
   "cell_type": "code",
   "outputs": [],
   "execution_count": null,
   "source": "",
   "id": "9bfca184cfb798c9"
  }
 ],
 "metadata": {
  "kernelspec": {
   "display_name": "Python 3",
   "language": "python",
   "name": "python3"
  },
  "language_info": {
   "codemirror_mode": {
    "name": "ipython",
    "version": 2
   },
   "file_extension": ".py",
   "mimetype": "text/x-python",
   "name": "python",
   "nbconvert_exporter": "python",
   "pygments_lexer": "ipython2",
   "version": "2.7.6"
  }
 },
 "nbformat": 4,
 "nbformat_minor": 5
}
