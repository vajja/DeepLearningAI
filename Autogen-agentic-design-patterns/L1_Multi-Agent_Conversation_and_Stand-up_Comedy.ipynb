{
 "cells": [
  {
   "cell_type": "markdown",
   "id": "a81456dd",
   "metadata": {},
   "source": [
    "# Lesson 1: Multi-Agent Conversation and Stand-up Comedy"
   ]
  },
  {
   "cell_type": "markdown",
   "id": "4693467e",
   "metadata": {},
   "source": [
    "Welcome to Lesson 1.\n",
    "\n",
    "To access the `requirements.txt` file and the`utils` modules, please go to the `File` menu and select`Open...`.\n",
    "\n",
    "I hope you enjoy this course!"
   ]
  },
  {
   "cell_type": "markdown",
   "id": "742cf649",
   "metadata": {},
   "source": [
    "## Setup"
   ]
  },
  {
   "cell_type": "code",
   "execution_count": 1,
   "id": "04d006c1-22fa-40ea-b3e0-d543142e0788",
   "metadata": {
    "height": 64
   },
   "outputs": [],
   "source": [
    "from utils import get_openai_api_key\n",
    "OPENAI_API_KEY = get_openai_api_key()\n",
    "llm_config = {\"model\": \"gpt-3.5-turbo\"}"
   ]
  },
  {
   "cell_type": "markdown",
   "id": "116a1c4d",
   "metadata": {},
   "source": [
    "## Define an AutoGen agent"
   ]
  },
  {
   "cell_type": "code",
   "execution_count": 2,
   "id": "6fb8c441-c58c-41a8-a54b-5c387afceac5",
   "metadata": {
    "height": 132
   },
   "outputs": [],
   "source": [
    "from autogen import ConversableAgent\n",
    "\n",
    "agent = ConversableAgent(\n",
    "    name=\"chatbot\",\n",
    "    llm_config=llm_config,\n",
    "    human_input_mode=\"NEVER\",\n",
    ")"
   ]
  },
  {
   "cell_type": "code",
   "execution_count": 3,
   "id": "47886b5f-fc7c-431a-8036-cff6e88f85c6",
   "metadata": {
    "height": 81
   },
   "outputs": [
    {
     "name": "stdout",
     "output_type": "stream",
     "text": [
      "Sure, here's a joke for you:\n",
      "\n",
      "Why did the coffee file a police report? It got mugged!\n"
     ]
    }
   ],
   "source": [
    "reply = agent.generate_reply(\n",
    "    messages=[{\"content\": \"Tell me a joke.\", \"role\": \"user\"}]\n",
    ")\n",
    "print(reply)"
   ]
  },
  {
   "cell_type": "code",
   "execution_count": 4,
   "id": "67f626e9-4cec-40c1-abde-2eff1252b848",
   "metadata": {
    "height": 81
   },
   "outputs": [
    {
     "name": "stdout",
     "output_type": "stream",
     "text": [
      "Sure, which joke would you like me to repeat for you?\n"
     ]
    }
   ],
   "source": [
    "reply = agent.generate_reply(\n",
    "    messages=[{\"content\": \"Repeat the joke.\", \"role\": \"user\"}]\n",
    ")\n",
    "print(reply)"
   ]
  },
  {
   "cell_type": "markdown",
   "id": "8c98a301",
   "metadata": {},
   "source": [
    "## Conversation\n",
    "\n",
    "Setting up a conversation between two agents, Cathy and Joe, where the memory of their interactions is retained."
   ]
  },
  {
   "cell_type": "code",
   "execution_count": 5,
   "id": "8f109dcb-824e-40d7-8e86-efee42b75f3c",
   "metadata": {
    "height": 285
   },
   "outputs": [],
   "source": [
    "cathy = ConversableAgent(\n",
    "    name=\"cathy\",\n",
    "    system_message=\n",
    "    \"Your name is Cathy and you are a stand-up comedian.\",\n",
    "    llm_config=llm_config,\n",
    "    human_input_mode=\"NEVER\",\n",
    ")\n",
    "\n",
    "joe = ConversableAgent(\n",
    "    name=\"joe\",\n",
    "    system_message=\n",
    "    \"Your name is Joe and you are a stand-up comedian. \"\n",
    "    \"Start the next joke from the punchline of the previous joke.\",\n",
    "    llm_config=llm_config,\n",
    "    human_input_mode=\"NEVER\",\n",
    ")"
   ]
  },
  {
   "cell_type": "markdown",
   "id": "43f71a61",
   "metadata": {},
   "source": [
    "**Note**: You might get a slightly different response (set of jokes) than what is shown in the video"
   ]
  },
  {
   "cell_type": "code",
   "execution_count": 6,
   "id": "46a1c6f6-687e-40de-8819-374201cfed9f",
   "metadata": {
    "height": 98
   },
   "outputs": [
    {
     "name": "stdout",
     "output_type": "stream",
     "text": [
      "\u001b[33mjoe\u001b[0m (to cathy):\n",
      "\n",
      "I'm Joe. Cathy, let's keep the jokes rolling.\n",
      "\n",
      "--------------------------------------------------------------------------------\n",
      "\u001b[33mcathy\u001b[0m (to joe):\n",
      "\n",
      "Hey Joe! Ready for some laughs? Let's do this!\n",
      "\n",
      "---\n",
      "\n",
      "You ever notice how during a job interview they always ask if you're a team player? Like, of course I'm a team player. I played on a soccer team when I was 8 years old - trust me, I know how to pass the ball and not hog the spotlight...most of the time.\n",
      "\n",
      "---\n",
      "\n",
      "Speaking of job interviews, they always want you to list your strengths and weaknesses. My strength? I'm a great multitasker. My weakness? Well, I once tried to microwave a burrito while blow-drying my hair...let's just say it didn't end well for the burrito.\n",
      "\n",
      "---\n",
      "\n",
      "You know what's weird? People who make a big deal out of saying they're a \"dog person\" or a \"cat person.\" Like, can't we all just agree that pets are awesome and leave it at that? I mean, I'm just waiting for the day when someone proudly declares themselves a \"goldfish person\" - now that's a true rebel.\n",
      "\n",
      "---\n",
      "\n",
      "Relationships are tough, aren't they? My ex once told me I was too controlling. I was like, \"Excuse me, but I asked you nicely to put the toilet seat down for the tenth time this week - that's not controlling, that's just common courtesy!\"\n",
      "\n",
      "---\n",
      "\n",
      "And finally, have you ever been so tired that you start making weird decisions? Like, the other day, I was so exhausted that I asked my cat for fashion advice. Let me tell you, she was not impressed with my outfit choices...turns out stripes and polka dots don't mix, who knew?\n",
      "\n",
      "---\n",
      "\n",
      "Thanks for joining in on the fun, Joe! Hope these jokes brought a smile to your face.\n",
      "\n",
      "--------------------------------------------------------------------------------\n",
      "\u001b[33mjoe\u001b[0m (to cathy):\n",
      "\n",
      "Haha, those were great! Thanks for sharing, Cathy. It's always fun to find humor in the everyday moments. Speaking of odd decisions, remind me never to take fashion advice from my dog - she thinks socks and sandals are the next big trend!\n",
      "\n",
      "--------------------------------------------------------------------------------\n",
      "\u001b[33mcathy\u001b[0m (to joe):\n",
      "\n",
      "Haha, that's hilarious, Joe! Socks and sandals - the ultimate fashion faux pas according to our furry friends. Who knew they had such strong opinions on our wardrobe choices? Thanks for sharing that, and glad you enjoyed the jokes! Feel free to share more of your pet's interesting fashion tips anytime.\n",
      "\n",
      "--------------------------------------------------------------------------------\n"
     ]
    }
   ],
   "source": [
    "chat_result = joe.initiate_chat(\n",
    "    recipient=cathy, \n",
    "    message=\"I'm Joe. Cathy, let's keep the jokes rolling.\",\n",
    "    max_turns=2,\n",
    ")"
   ]
  },
  {
   "cell_type": "markdown",
   "id": "78edc810",
   "metadata": {},
   "source": [
    "## Print some results\n",
    "\n",
    "You can print out:\n",
    "\n",
    "1. Chat history\n",
    "2. Cost\n",
    "3. Summary of the conversation"
   ]
  },
  {
   "cell_type": "code",
   "execution_count": 7,
   "id": "1169ea24-eadd-4909-8d56-9b7ec5677c66",
   "metadata": {
    "height": 64
   },
   "outputs": [
    {
     "name": "stdout",
     "output_type": "stream",
     "text": [
      "[{'content': \"I'm Joe. Cathy, let's keep the jokes rolling.\",\n",
      "  'role': 'assistant'},\n",
      " {'content': \"Hey Joe! Ready for some laughs? Let's do this!\\n\"\n",
      "             '\\n'\n",
      "             '---\\n'\n",
      "             '\\n'\n",
      "             'You ever notice how during a job interview they always ask if '\n",
      "             \"you're a team player? Like, of course I'm a team player. I \"\n",
      "             'played on a soccer team when I was 8 years old - trust me, I '\n",
      "             'know how to pass the ball and not hog the spotlight...most of '\n",
      "             'the time.\\n'\n",
      "             '\\n'\n",
      "             '---\\n'\n",
      "             '\\n'\n",
      "             'Speaking of job interviews, they always want you to list your '\n",
      "             \"strengths and weaknesses. My strength? I'm a great multitasker. \"\n",
      "             'My weakness? Well, I once tried to microwave a burrito while '\n",
      "             \"blow-drying my hair...let's just say it didn't end well for the \"\n",
      "             'burrito.\\n'\n",
      "             '\\n'\n",
      "             '---\\n'\n",
      "             '\\n'\n",
      "             \"You know what's weird? People who make a big deal out of saying \"\n",
      "             'they\\'re a \"dog person\" or a \"cat person.\" Like, can\\'t we all '\n",
      "             'just agree that pets are awesome and leave it at that? I mean, '\n",
      "             \"I'm just waiting for the day when someone proudly declares \"\n",
      "             'themselves a \"goldfish person\" - now that\\'s a true rebel.\\n'\n",
      "             '\\n'\n",
      "             '---\\n'\n",
      "             '\\n'\n",
      "             \"Relationships are tough, aren't they? My ex once told me I was \"\n",
      "             'too controlling. I was like, \"Excuse me, but I asked you nicely '\n",
      "             'to put the toilet seat down for the tenth time this week - '\n",
      "             'that\\'s not controlling, that\\'s just common courtesy!\"\\n'\n",
      "             '\\n'\n",
      "             '---\\n'\n",
      "             '\\n'\n",
      "             'And finally, have you ever been so tired that you start making '\n",
      "             'weird decisions? Like, the other day, I was so exhausted that I '\n",
      "             'asked my cat for fashion advice. Let me tell you, she was not '\n",
      "             'impressed with my outfit choices...turns out stripes and polka '\n",
      "             \"dots don't mix, who knew?\\n\"\n",
      "             '\\n'\n",
      "             '---\\n'\n",
      "             '\\n'\n",
      "             'Thanks for joining in on the fun, Joe! Hope these jokes brought '\n",
      "             'a smile to your face.',\n",
      "  'role': 'user'},\n",
      " {'content': \"Haha, those were great! Thanks for sharing, Cathy. It's always \"\n",
      "             'fun to find humor in the everyday moments. Speaking of odd '\n",
      "             'decisions, remind me never to take fashion advice from my dog - '\n",
      "             'she thinks socks and sandals are the next big trend!',\n",
      "  'role': 'assistant'},\n",
      " {'content': \"Haha, that's hilarious, Joe! Socks and sandals - the ultimate \"\n",
      "             'fashion faux pas according to our furry friends. Who knew they '\n",
      "             'had such strong opinions on our wardrobe choices? Thanks for '\n",
      "             'sharing that, and glad you enjoyed the jokes! Feel free to share '\n",
      "             \"more of your pet's interesting fashion tips anytime.\",\n",
      "  'role': 'user'}]\n"
     ]
    }
   ],
   "source": [
    "import pprint\n",
    "\n",
    "pprint.pprint(chat_result.chat_history)"
   ]
  },
  {
   "cell_type": "code",
   "execution_count": 8,
   "id": "550267b6-3652-40dc-9997-c5401f6d4c47",
   "metadata": {
    "height": 30
   },
   "outputs": [
    {
     "name": "stdout",
     "output_type": "stream",
     "text": [
      "{'usage_excluding_cached_inference': {'gpt-3.5-turbo-0125': {'completion_tokens': 474,\n",
      "                                                             'cost': 0.0011625000000000001,\n",
      "                                                             'prompt_tokens': 903,\n",
      "                                                             'total_tokens': 1377},\n",
      "                                      'total_cost': 0.0011625000000000001},\n",
      " 'usage_including_cached_inference': {'gpt-3.5-turbo-0125': {'completion_tokens': 474,\n",
      "                                                             'cost': 0.0011625000000000001,\n",
      "                                                             'prompt_tokens': 903,\n",
      "                                                             'total_tokens': 1377},\n",
      "                                      'total_cost': 0.0011625000000000001}}\n"
     ]
    }
   ],
   "source": [
    "pprint.pprint(chat_result.cost)"
   ]
  },
  {
   "cell_type": "code",
   "execution_count": 9,
   "id": "dfcf468e-d217-4731-8cb4-3485377230f1",
   "metadata": {
    "height": 30
   },
   "outputs": [
    {
     "name": "stdout",
     "output_type": "stream",
     "text": [
      "(\"Haha, that's hilarious, Joe! Socks and sandals - the ultimate fashion faux \"\n",
      " 'pas according to our furry friends. Who knew they had such strong opinions '\n",
      " 'on our wardrobe choices? Thanks for sharing that, and glad you enjoyed the '\n",
      " \"jokes! Feel free to share more of your pet's interesting fashion tips \"\n",
      " 'anytime.')\n"
     ]
    }
   ],
   "source": [
    "pprint.pprint(chat_result.summary)"
   ]
  },
  {
   "cell_type": "markdown",
   "id": "ba8c6cf8",
   "metadata": {},
   "source": [
    "## Get a better summary of the conversation"
   ]
  },
  {
   "cell_type": "code",
   "execution_count": 10,
   "id": "c1a8fef1-8030-4652-a2d2-1648834f62c2",
   "metadata": {
    "height": 132
   },
   "outputs": [
    {
     "name": "stdout",
     "output_type": "stream",
     "text": [
      "\u001b[33mjoe\u001b[0m (to cathy):\n",
      "\n",
      "I'm Joe. Cathy, let's keep the jokes rolling.\n",
      "\n",
      "--------------------------------------------------------------------------------\n",
      "\u001b[33mcathy\u001b[0m (to joe):\n",
      "\n",
      "Hey Joe! Ready for some laughs? Let's do this!\n",
      "\n",
      "---\n",
      "\n",
      "You ever notice how during a job interview they always ask if you're a team player? Like, of course I'm a team player. I played on a soccer team when I was 8 years old - trust me, I know how to pass the ball and not hog the spotlight...most of the time.\n",
      "\n",
      "---\n",
      "\n",
      "Speaking of job interviews, they always want you to list your strengths and weaknesses. My strength? I'm a great multitasker. My weakness? Well, I once tried to microwave a burrito while blow-drying my hair...let's just say it didn't end well for the burrito.\n",
      "\n",
      "---\n",
      "\n",
      "You know what's weird? People who make a big deal out of saying they're a \"dog person\" or a \"cat person.\" Like, can't we all just agree that pets are awesome and leave it at that? I mean, I'm just waiting for the day when someone proudly declares themselves a \"goldfish person\" - now that's a true rebel.\n",
      "\n",
      "---\n",
      "\n",
      "Relationships are tough, aren't they? My ex once told me I was too controlling. I was like, \"Excuse me, but I asked you nicely to put the toilet seat down for the tenth time this week - that's not controlling, that's just common courtesy!\"\n",
      "\n",
      "---\n",
      "\n",
      "And finally, have you ever been so tired that you start making weird decisions? Like, the other day, I was so exhausted that I asked my cat for fashion advice. Let me tell you, she was not impressed with my outfit choices...turns out stripes and polka dots don't mix, who knew?\n",
      "\n",
      "---\n",
      "\n",
      "Thanks for joining in on the fun, Joe! Hope these jokes brought a smile to your face.\n",
      "\n",
      "--------------------------------------------------------------------------------\n",
      "\u001b[33mjoe\u001b[0m (to cathy):\n",
      "\n",
      "Haha, those were great! Thanks for sharing, Cathy. It's always fun to find humor in the everyday moments. Speaking of odd decisions, remind me never to take fashion advice from my dog - she thinks socks and sandals are the next big trend!\n",
      "\n",
      "--------------------------------------------------------------------------------\n",
      "\u001b[33mcathy\u001b[0m (to joe):\n",
      "\n",
      "Haha, that's hilarious, Joe! Socks and sandals - the ultimate fashion faux pas according to our furry friends. Who knew they had such strong opinions on our wardrobe choices? Thanks for sharing that, and glad you enjoyed the jokes! Feel free to share more of your pet's interesting fashion tips anytime.\n",
      "\n",
      "--------------------------------------------------------------------------------\n"
     ]
    }
   ],
   "source": [
    "chat_result = joe.initiate_chat(\n",
    "    cathy, \n",
    "    message=\"I'm Joe. Cathy, let's keep the jokes rolling.\", \n",
    "    max_turns=2, \n",
    "    summary_method=\"reflection_with_llm\",\n",
    "    summary_prompt=\"Summarize the conversation\",\n",
    ")"
   ]
  },
  {
   "cell_type": "code",
   "execution_count": 11,
   "id": "b042de62-bc49-49ee-99f2-4f972e23670b",
   "metadata": {
    "height": 30
   },
   "outputs": [
    {
     "name": "stdout",
     "output_type": "stream",
     "text": [
      "('Finding humor in everyday moments and sharing jokes can bring smiles and '\n",
      " 'laughter. Pets may have strong opinions on fashion choices, like the trend '\n",
      " \"of socks and sandals according to Joe's dog.\")\n"
     ]
    }
   ],
   "source": [
    "pprint.pprint(chat_result.summary)"
   ]
  },
  {
   "cell_type": "markdown",
   "id": "300525bd",
   "metadata": {},
   "source": [
    "## Chat Termination\n",
    "\n",
    "Chat can be terminated using a termination conditions."
   ]
  },
  {
   "cell_type": "code",
   "execution_count": 12,
   "id": "044dfd61-7f1d-46d8-9e28-4b2601b43d70",
   "metadata": {
    "height": 336
   },
   "outputs": [],
   "source": [
    "cathy = ConversableAgent(\n",
    "    name=\"cathy\",\n",
    "    system_message=\n",
    "    \"Your name is Cathy and you are a stand-up comedian. \"\n",
    "    \"When you're ready to end the conversation, say 'I gotta go'.\",\n",
    "    llm_config=llm_config,\n",
    "    human_input_mode=\"NEVER\",\n",
    "    is_termination_msg=lambda msg: \"I gotta go\" in msg[\"content\"],\n",
    ")\n",
    "\n",
    "joe = ConversableAgent(\n",
    "    name=\"joe\",\n",
    "    system_message=\n",
    "    \"Your name is Joe and you are a stand-up comedian. \"\n",
    "    \"When you're ready to end the conversation, say 'I gotta go'.\",\n",
    "    llm_config=llm_config,\n",
    "    human_input_mode=\"NEVER\",\n",
    "    is_termination_msg=lambda msg: \"I gotta go\" in msg[\"content\"] or \"Goodbye\" in msg[\"content\"],\n",
    ")"
   ]
  },
  {
   "cell_type": "code",
   "execution_count": 13,
   "id": "bc49d959-1025-4709-8866-9d4035eaeae7",
   "metadata": {
    "height": 81
   },
   "outputs": [
    {
     "name": "stdout",
     "output_type": "stream",
     "text": [
      "\u001b[33mjoe\u001b[0m (to cathy):\n",
      "\n",
      "I'm Joe. Cathy, let's keep the jokes rolling.\n",
      "\n",
      "--------------------------------------------------------------------------------\n",
      "\u001b[33mcathy\u001b[0m (to joe):\n",
      "\n",
      "Hey Joe! Why did the scarecrow win an award? Because he was outstanding in his field!\n",
      "\n",
      "--------------------------------------------------------------------------------\n",
      "\u001b[33mjoe\u001b[0m (to cathy):\n",
      "\n",
      "Haha, that's a good one, Cathy! Those scarecrows sure know how to stand out, right?\n",
      "\n",
      "--------------------------------------------------------------------------------\n",
      "\u001b[33mcathy\u001b[0m (to joe):\n",
      "\n",
      "Absolutely! They never fail to make an outstanding impression in the field. What's your favorite kind of joke, Joe?\n",
      "\n",
      "--------------------------------------------------------------------------------\n",
      "\u001b[33mjoe\u001b[0m (to cathy):\n",
      "\n",
      "I love all kinds of jokes, but I think I have a soft spot for puns. They always crack me up. What about you, Cathy? What kind of jokes do you enjoy the most?\n",
      "\n",
      "--------------------------------------------------------------------------------\n",
      "\u001b[33mcathy\u001b[0m (to joe):\n",
      "\n",
      "I'm a big fan of puns too! There's just something so satisfying about a clever play on words that can make people groan and laugh at the same time. Puns are like the dessert of the joke world - sweet and satisfying!\n",
      "\n",
      "--------------------------------------------------------------------------------\n",
      "\u001b[33mjoe\u001b[0m (to cathy):\n",
      "\n",
      "I couldn't agree more, Cathy! Puns are definitely like the icing on the cake of humor. They never fail to bring a smile to my face. If only every joke could be as punny and delicious!\n",
      "\n",
      "--------------------------------------------------------------------------------\n",
      "\u001b[33mcathy\u001b[0m (to joe):\n",
      "\n",
      "I gotta go. It was great chatting with you, Joe! Keep spreading those puns and laughs!\n",
      "\n",
      "--------------------------------------------------------------------------------\n"
     ]
    }
   ],
   "source": [
    "chat_result = joe.initiate_chat(\n",
    "    recipient=cathy,\n",
    "    message=\"I'm Joe. Cathy, let's keep the jokes rolling.\"\n",
    ")"
   ]
  },
  {
   "cell_type": "code",
   "execution_count": 14,
   "id": "bf58b25e",
   "metadata": {
    "height": 30
   },
   "outputs": [
    {
     "name": "stdout",
     "output_type": "stream",
     "text": [
      "('I gotta go. It was great chatting with you, Joe! Keep spreading those puns '\n",
      " 'and laughs!')\n"
     ]
    }
   ],
   "source": [
    "pprint.pprint(chat_result.summary)"
   ]
  },
  {
   "cell_type": "code",
   "execution_count": 15,
   "id": "846eccbd-efd1-464b-9385-279c19b17c1d",
   "metadata": {
    "height": 30
   },
   "outputs": [
    {
     "name": "stdout",
     "output_type": "stream",
     "text": [
      "\u001b[33mcathy\u001b[0m (to joe):\n",
      "\n",
      "What's last joke we talked about?\n",
      "\n",
      "--------------------------------------------------------------------------------\n",
      "\u001b[33mjoe\u001b[0m (to cathy):\n",
      "\n",
      "We were talking about how puns are like the icing on the cake of humor, and how they never fail to bring a smile to our faces.\n",
      "\n",
      "--------------------------------------------------------------------------------\n",
      "\u001b[33mcathy\u001b[0m (to joe):\n",
      "\n",
      "I gotta go. It was great chatting with you! Keep enjoying those puns!\n",
      "\n",
      "--------------------------------------------------------------------------------\n"
     ]
    }
   ],
   "source": [
    "cathy.send(message=\"What's last joke we talked about?\", recipient=joe)"
   ]
  }
 ],
 "metadata": {
  "kernelspec": {
   "display_name": "Python 3 (ipykernel)",
   "language": "python",
   "name": "python3"
  },
  "language_info": {
   "codemirror_mode": {
    "name": "ipython",
    "version": 3
   },
   "file_extension": ".py",
   "mimetype": "text/x-python",
   "name": "python",
   "nbconvert_exporter": "python",
   "pygments_lexer": "ipython3",
   "version": "3.11.9"
  }
 },
 "nbformat": 4,
 "nbformat_minor": 5
}
