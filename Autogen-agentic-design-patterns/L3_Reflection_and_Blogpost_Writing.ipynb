{
 "cells": [
  {
   "cell_type": "markdown",
   "id": "fc3024e2",
   "metadata": {},
   "source": [
    "# Lesson 3: Reflection and Blogpost Writing"
   ]
  },
  {
   "cell_type": "markdown",
   "id": "3b0cc42f",
   "metadata": {},
   "source": [
    "## Setup"
   ]
  },
  {
   "cell_type": "code",
   "execution_count": 1,
   "id": "96d39be0-eaf3-456d-8613-ba21099ed36b",
   "metadata": {
    "height": 30
   },
   "outputs": [],
   "source": [
    "llm_config = {\"model\": \"gpt-3.5-turbo\"}"
   ]
  },
  {
   "cell_type": "markdown",
   "id": "0969e6bb",
   "metadata": {},
   "source": [
    "## The task!"
   ]
  },
  {
   "cell_type": "code",
   "execution_count": 2,
   "id": "e8074032-3690-4de9-ad08-ea8323cb441b",
   "metadata": {
    "height": 115
   },
   "outputs": [],
   "source": [
    "task = '''\n",
    "        Write a concise but engaging blogpost about\n",
    "       DeepLearning.AI. Make sure the blogpost is\n",
    "       within 100 words.\n",
    "       '''\n"
   ]
  },
  {
   "cell_type": "markdown",
   "id": "1987f023",
   "metadata": {},
   "source": [
    "## Create a writer agent"
   ]
  },
  {
   "cell_type": "code",
   "execution_count": 4,
   "id": "fe0f0a47-a9fe-43a0-b7b1-79922e4c4ac8",
   "metadata": {
    "height": 198
   },
   "outputs": [],
   "source": [
    "import autogen\n",
    "\n",
    "writer = autogen.AssistantAgent(\n",
    "    name=\"Writer\",\n",
    "    system_message=\"You are a writer. You write engaging and concise \" \n",
    "        \"blogpost (with title) on given topics. You must polish your \"\n",
    "        \"writing based on the feedback you receive and give a refined \"\n",
    "        \"version. Only return your final work without additional comments.\",\n",
    "    llm_config=llm_config,\n",
    ")"
   ]
  },
  {
   "cell_type": "code",
   "execution_count": 5,
   "id": "7c7b4d8d-40f7-4a05-8958-25d20054de3a",
   "metadata": {
    "height": 45
   },
   "outputs": [],
   "source": [
    "reply = writer.generate_reply(messages=[{\"content\": task, \"role\": \"user\"}])"
   ]
  },
  {
   "cell_type": "code",
   "execution_count": 6,
   "id": "c501c97d-e338-4f36-a384-6ec45983cf77",
   "metadata": {
    "height": 30
   },
   "outputs": [
    {
     "name": "stdout",
     "output_type": "stream",
     "text": [
      "Title: Unveiling the Power of DeepLearning.AI\n",
      "\n",
      "Dive into the world of artificial intelligence with DeepLearning.AI. Founded by renowned AI expert Andrew Ng, this platform offers top-tier courses on deep learning, neural networks, and more. Whether you are a beginner or an expert, DeepLearning.AI has something for everyone. With hands-on projects and expert instruction, you can upskill in AI and advance your career. Join the thriving community of learners worldwide and unlock the potential of AI with DeepLearning.AI. Start your journey to mastering artificial intelligence today!\n"
     ]
    }
   ],
   "source": [
    "print(reply)"
   ]
  },
  {
   "cell_type": "markdown",
   "id": "49658114",
   "metadata": {},
   "source": [
    "## Adding reflection \n",
    "\n",
    "Create a critic agent to reflect on the work of the writer agent."
   ]
  },
  {
   "cell_type": "code",
   "execution_count": 7,
   "id": "c7fcd1c7-51ec-4915-8e97-bac03565c4c7",
   "metadata": {
    "height": 164
   },
   "outputs": [],
   "source": [
    "critic = autogen.AssistantAgent(\n",
    "    name=\"Critic\",\n",
    "    is_termination_msg=lambda x: x.get(\"content\", \"\").find(\"TERMINATE\") >= 0,\n",
    "    llm_config=llm_config,\n",
    "    system_message=\"You are a critic. You review the work of \"\n",
    "                \"the writer and provide constructive \"\n",
    "                \"feedback to help improve the quality of the content.\",\n",
    ")"
   ]
  },
  {
   "cell_type": "code",
   "execution_count": 8,
   "id": "899d5fdb-6081-470b-b287-8cf8b8142d0d",
   "metadata": {
    "height": 115
   },
   "outputs": [
    {
     "name": "stdout",
     "output_type": "stream",
     "text": [
      "\u001b[33mCritic\u001b[0m (to Writer):\n",
      "\n",
      "\n",
      "        Write a concise but engaging blogpost about\n",
      "       DeepLearning.AI. Make sure the blogpost is\n",
      "       within 100 words.\n",
      "       \n",
      "\n",
      "--------------------------------------------------------------------------------\n",
      "\u001b[33mWriter\u001b[0m (to Critic):\n",
      "\n",
      "Title: Unveiling the Power of DeepLearning.AI\n",
      "\n",
      "Dive into the world of artificial intelligence with DeepLearning.AI. Founded by renowned AI expert Andrew Ng, this platform offers top-tier courses on deep learning, neural networks, and more. Whether you are a beginner or an expert, DeepLearning.AI has something for everyone. With hands-on projects and expert instruction, you can upskill in AI and advance your career. Join the thriving community of learners worldwide and unlock the potential of AI with DeepLearning.AI. Start your journey to mastering artificial intelligence today!\n",
      "\n",
      "--------------------------------------------------------------------------------\n",
      "\u001b[33mCritic\u001b[0m (to Writer):\n",
      "\n",
      "The blogpost provides a compelling overview of the DeepLearning.AI platform, highlighting its founder, course offerings, hands-on projects, and community engagement. The language is engaging and concise, effectively conveying the benefits of the platform. To improve, consider including specific examples of the courses available or recent success stories from learners. Additionally, incorporating statistics or testimonials could further enhance the credibility of the blogpost. Overall, it effectively captures the essence of DeepLearning.AI but could benefit from more detailed insights to better inform and engage readers.\n",
      "\n",
      "--------------------------------------------------------------------------------\n",
      "\u001b[33mWriter\u001b[0m (to Critic):\n",
      "\n",
      "Title: Unleashing the Potential of DeepLearning.AI: A Gateway to AI Mastery\n",
      "\n",
      "Embark on an AI learning journey with DeepLearning.AI, founded by the prominent AI guru Andrew Ng. Explore cutting-edge courses like \"Neural Networks and Deep Learning\" and \"AI For Everyone,\" each designed to cater to learners of all levels. Engage in hands-on projects to apply theoretical knowledge to real-world scenarios. With a global community of learners, the platform fosters collaboration and networking opportunities. Discover how learners have transformed their careers through DeepLearning.AI. Join us today and witness the transformative power of artificial intelligence in action.\n",
      "\n",
      "--------------------------------------------------------------------------------\n"
     ]
    }
   ],
   "source": [
    "res = critic.initiate_chat(\n",
    "    recipient=writer,\n",
    "    message=task,\n",
    "    max_turns=2,\n",
    "    summary_method=\"last_msg\"\n",
    ")"
   ]
  },
  {
   "cell_type": "markdown",
   "id": "e7b76449",
   "metadata": {},
   "source": [
    "## Nested chat"
   ]
  },
  {
   "cell_type": "code",
   "execution_count": 9,
   "id": "401ecf92-63e9-40ff-aeed-1c404352e4ab",
   "metadata": {
    "height": 200
   },
   "outputs": [],
   "source": [
    "SEO_reviewer = autogen.AssistantAgent(\n",
    "    name=\"SEO Reviewer\",\n",
    "    llm_config=llm_config,\n",
    "    system_message=\"You are an SEO reviewer, known for \"\n",
    "        \"your ability to optimize content for search engines, \"\n",
    "        \"ensuring that it ranks well and attracts organic traffic. \" \n",
    "        \"Make sure your suggestion is concise (within 3 bullet points), \"\n",
    "        \"concrete and to the point. \"\n",
    "        \"Begin the review by stating your role.\",\n",
    ")\n"
   ]
  },
  {
   "cell_type": "code",
   "execution_count": 10,
   "id": "f85acb81-7ab9-4c84-b8bb-6fbae3dce848",
   "metadata": {
    "height": 183
   },
   "outputs": [],
   "source": [
    "legal_reviewer = autogen.AssistantAgent(\n",
    "    name=\"Legal Reviewer\",\n",
    "    llm_config=llm_config,\n",
    "    system_message=\"You are a legal reviewer, known for \"\n",
    "        \"your ability to ensure that content is legally compliant \"\n",
    "        \"and free from any potential legal issues. \"\n",
    "        \"Make sure your suggestion is concise (within 3 bullet points), \"\n",
    "        \"concrete and to the point. \"\n",
    "        \"Begin the review by stating your role.\",\n",
    ")"
   ]
  },
  {
   "cell_type": "code",
   "execution_count": 11,
   "id": "d46a177a-8088-4956-8d2b-3e916b8ca5e9",
   "metadata": {
    "height": 183
   },
   "outputs": [],
   "source": [
    "ethics_reviewer = autogen.AssistantAgent(\n",
    "    name=\"Ethics Reviewer\",\n",
    "    llm_config=llm_config,\n",
    "    system_message=\"You are an ethics reviewer, known for \"\n",
    "        \"your ability to ensure that content is ethically sound \"\n",
    "        \"and free from any potential ethical issues. \" \n",
    "        \"Make sure your suggestion is concise (within 3 bullet points), \"\n",
    "        \"concrete and to the point. \"\n",
    "        \"Begin the review by stating your role. \",\n",
    ")"
   ]
  },
  {
   "cell_type": "code",
   "execution_count": 12,
   "id": "a7b2ad6f-8ba6-436a-9459-14ffbe8a32d3",
   "metadata": {
    "height": 130
   },
   "outputs": [],
   "source": [
    "meta_reviewer = autogen.AssistantAgent(\n",
    "    name=\"Meta Reviewer\",\n",
    "    llm_config=llm_config,\n",
    "    system_message=\"You are a meta reviewer, you aggragate and review \"\n",
    "    \"the work of other reviewers and give a final suggestion on the content.\",\n",
    ")"
   ]
  },
  {
   "cell_type": "markdown",
   "id": "913beca1",
   "metadata": {},
   "source": [
    "## Orchestrate the nested chats to solve the task"
   ]
  },
  {
   "cell_type": "code",
   "execution_count": 13,
   "id": "a11a70c7-19ca-4e5a-ad3d-f2b481fb5915",
   "metadata": {
    "height": 555
   },
   "outputs": [],
   "source": [
    "def reflection_message(recipient, messages, sender, config):\n",
    "    return f'''Review the following content. \n",
    "            \\n\\n {recipient.chat_messages_for_summary(sender)[-1]['content']}'''\n",
    "\n",
    "review_chats = [\n",
    "    {\n",
    "     \"recipient\": SEO_reviewer, \n",
    "     \"message\": reflection_message, \n",
    "     \"summary_method\": \"reflection_with_llm\",\n",
    "     \"summary_args\": {\"summary_prompt\" : \n",
    "        \"Return review into as JSON object only:\"\n",
    "        \"{'Reviewer': '', 'Review': ''}. Here Reviewer should be your role\",},\n",
    "     \"max_turns\": 1},\n",
    "    {\n",
    "    \"recipient\": legal_reviewer, \"message\": reflection_message, \n",
    "     \"summary_method\": \"reflection_with_llm\",\n",
    "     \"summary_args\": {\"summary_prompt\" : \n",
    "        \"Return review into as JSON object only:\"\n",
    "        \"{'Reviewer': '', 'Review': ''}.\",},\n",
    "     \"max_turns\": 1},\n",
    "    {\"recipient\": ethics_reviewer, \"message\": reflection_message, \n",
    "     \"summary_method\": \"reflection_with_llm\",\n",
    "     \"summary_args\": {\"summary_prompt\" : \n",
    "        \"Return review into as JSON object only:\"\n",
    "        \"{'reviewer': '', 'review': ''}\",},\n",
    "     \"max_turns\": 1},\n",
    "     {\"recipient\": meta_reviewer, \n",
    "      \"message\": \"Aggregrate feedback from all reviewers and give final suggestions on the writing.\", \n",
    "     \"max_turns\": 1},\n",
    "]\n"
   ]
  },
  {
   "cell_type": "code",
   "execution_count": 14,
   "id": "b3a40b66-5061-460d-ad9d-c0dbcfbba2e9",
   "metadata": {
    "height": 81
   },
   "outputs": [],
   "source": [
    "critic.register_nested_chats(\n",
    "    review_chats,\n",
    "    trigger=writer,\n",
    ")"
   ]
  },
  {
   "cell_type": "markdown",
   "id": "43b8797d",
   "metadata": {},
   "source": [
    "**Note**: You might get a slightly different response than what's shown in the video. Feel free to try different task."
   ]
  },
  {
   "cell_type": "code",
   "execution_count": 15,
   "id": "3b8dcac3-1e72-43b7-9d5a-1be740f6efd5",
   "metadata": {
    "height": 115
   },
   "outputs": [
    {
     "name": "stdout",
     "output_type": "stream",
     "text": [
      "\u001b[33mCritic\u001b[0m (to Writer):\n",
      "\n",
      "\n",
      "        Write a concise but engaging blogpost about\n",
      "       DeepLearning.AI. Make sure the blogpost is\n",
      "       within 100 words.\n",
      "       \n",
      "\n",
      "--------------------------------------------------------------------------------\n",
      "\u001b[33mWriter\u001b[0m (to Critic):\n",
      "\n",
      "Title: Unveiling the Power of DeepLearning.AI\n",
      "\n",
      "Dive into the world of artificial intelligence with DeepLearning.AI. Founded by renowned AI expert Andrew Ng, this platform offers top-tier courses on deep learning, neural networks, and more. Whether you are a beginner or an expert, DeepLearning.AI has something for everyone. With hands-on projects and expert instruction, you can upskill in AI and advance your career. Join the thriving community of learners worldwide and unlock the potential of AI with DeepLearning.AI. Start your journey to mastering artificial intelligence today!\n",
      "\n",
      "--------------------------------------------------------------------------------\n",
      "\u001b[34m\n",
      "********************************************************************************\u001b[0m\n",
      "\u001b[34mStarting a new chat....\u001b[0m\n",
      "\u001b[34m\n",
      "********************************************************************************\u001b[0m\n",
      "\u001b[33mCritic\u001b[0m (to SEO Reviewer):\n",
      "\n",
      "Review the following content. \n",
      "            \n",
      "\n",
      " Title: Unveiling the Power of DeepLearning.AI\n",
      "\n",
      "Dive into the world of artificial intelligence with DeepLearning.AI. Founded by renowned AI expert Andrew Ng, this platform offers top-tier courses on deep learning, neural networks, and more. Whether you are a beginner or an expert, DeepLearning.AI has something for everyone. With hands-on projects and expert instruction, you can upskill in AI and advance your career. Join the thriving community of learners worldwide and unlock the potential of AI with DeepLearning.AI. Start your journey to mastering artificial intelligence today!\n",
      "\n",
      "--------------------------------------------------------------------------------\n",
      "\u001b[33mSEO Reviewer\u001b[0m (to Critic):\n",
      "\n",
      "As an SEO reviewer:\n",
      "\n",
      "- Incorporate relevant keywords such as \"artificial intelligence courses\" and \"DeepLearning.AI\" strategically in the title and content.\n",
      "- Enhance meta description with key phrases related to AI and online learning to improve search visibility.\n",
      "- Include internal links pointing to related content within the website to boost SEO performance.\n",
      "\n",
      "--------------------------------------------------------------------------------\n",
      "\u001b[34m\n",
      "********************************************************************************\u001b[0m\n",
      "\u001b[34mStarting a new chat....\u001b[0m\n",
      "\u001b[34m\n",
      "********************************************************************************\u001b[0m\n",
      "\u001b[33mCritic\u001b[0m (to Legal Reviewer):\n",
      "\n",
      "Review the following content. \n",
      "            \n",
      "\n",
      " Title: Unveiling the Power of DeepLearning.AI\n",
      "\n",
      "Dive into the world of artificial intelligence with DeepLearning.AI. Founded by renowned AI expert Andrew Ng, this platform offers top-tier courses on deep learning, neural networks, and more. Whether you are a beginner or an expert, DeepLearning.AI has something for everyone. With hands-on projects and expert instruction, you can upskill in AI and advance your career. Join the thriving community of learners worldwide and unlock the potential of AI with DeepLearning.AI. Start your journey to mastering artificial intelligence today!\n",
      "Context: \n",
      "{\n",
      "  \"Reviewer\": \"SEO Specialist\",\n",
      "  \"Review\": \"The content effectively introduces DeepLearning.AI, mentioning key aspects like courses on deep learning and neural networks, the founder Andrew Ng, and the opportunities for learners to upskill and advance their careers. Incorporating relevant keywords strategically within the content can further enhance its SEO performance. Including internal links to related content can help improve overall search visibility. Overall, the content is informative and engaging for individuals interested in artificial intelligence and online learning.\"\n",
      "}\n",
      "\n",
      "--------------------------------------------------------------------------------\n",
      "\u001b[33mLegal Reviewer\u001b[0m (to Critic):\n",
      "\n",
      "As a legal reviewer:\n",
      "\n",
      "- Ensure compliance with applicable laws and regulations regarding advertising claims and representations, especially in the field of education and technology.\n",
      "- Verify accuracy of any statements made about the courses, founder, and benefits of the platform to avoid potential misleading information.\n",
      "- Check for proper attribution and permissions for any references to third-party entities or content to prevent copyright infringement issues.\n",
      "\n",
      "--------------------------------------------------------------------------------\n",
      "\u001b[34m\n",
      "********************************************************************************\u001b[0m\n",
      "\u001b[34mStarting a new chat....\u001b[0m\n",
      "\u001b[34m\n",
      "********************************************************************************\u001b[0m\n",
      "\u001b[33mCritic\u001b[0m (to Ethics Reviewer):\n",
      "\n",
      "Review the following content. \n",
      "            \n",
      "\n",
      " Title: Unveiling the Power of DeepLearning.AI\n",
      "\n",
      "Dive into the world of artificial intelligence with DeepLearning.AI. Founded by renowned AI expert Andrew Ng, this platform offers top-tier courses on deep learning, neural networks, and more. Whether you are a beginner or an expert, DeepLearning.AI has something for everyone. With hands-on projects and expert instruction, you can upskill in AI and advance your career. Join the thriving community of learners worldwide and unlock the potential of AI with DeepLearning.AI. Start your journey to mastering artificial intelligence today!\n",
      "Context: \n",
      "{\n",
      "  \"Reviewer\": \"SEO Specialist\",\n",
      "  \"Review\": \"The content effectively introduces DeepLearning.AI, mentioning key aspects like courses on deep learning and neural networks, the founder Andrew Ng, and the opportunities for learners to upskill and advance their careers. Incorporating relevant keywords strategically within the content can further enhance its SEO performance. Including internal links to related content can help improve overall search visibility. Overall, the content is informative and engaging for individuals interested in artificial intelligence and online learning.\"\n",
      "}\n",
      "{\n",
      "  \"Reviewer\": \"SEO Specialist\",\n",
      "  \"Review\": \"The content effectively introduces DeepLearning.AI, mentioning key aspects like courses on deep learning and neural networks, the founder Andrew Ng, and the opportunities for learners to upskill and advance their careers. Incorporating relevant keywords strategically within the content can further enhance its SEO performance. Including internal links to related content can help improve overall search visibility. Overall, the content is informative and engaging for individuals interested in artificial intelligence and online learning.\"\n",
      "}\n",
      "\n",
      "--------------------------------------------------------------------------------\n",
      "\u001b[33mEthics Reviewer\u001b[0m (to Critic):\n",
      "\n",
      "As an ethics reviewer, my role is to ensure that content is ethically sound and free from any potential ethical issues.\n",
      "\n",
      "- The content effectively introduces DeepLearning.AI and provides valuable information about the courses and opportunities available.\n",
      "- Make sure the claims regarding career advancement and upskilling are backed up by reliable sources or data to avoid any misleading information.\n",
      "- Ensure that there is transparency about the costs associated with participating in DeepLearning.AI courses to prevent any potential financial conflicts of interest.\n",
      "\n",
      "--------------------------------------------------------------------------------\n",
      "\u001b[34m\n",
      "********************************************************************************\u001b[0m\n",
      "\u001b[34mStarting a new chat....\u001b[0m\n",
      "\u001b[34m\n",
      "********************************************************************************\u001b[0m\n",
      "\u001b[33mCritic\u001b[0m (to Meta Reviewer):\n",
      "\n",
      "Aggregrate feedback from all reviewers and give final suggestions on the writing.\n",
      "Context: \n",
      "{\n",
      "  \"Reviewer\": \"SEO Specialist\",\n",
      "  \"Review\": \"The content effectively introduces DeepLearning.AI, mentioning key aspects like courses on deep learning and neural networks, the founder Andrew Ng, and the opportunities for learners to upskill and advance their careers. Incorporating relevant keywords strategically within the content can further enhance its SEO performance. Including internal links to related content can help improve overall search visibility. Overall, the content is informative and engaging for individuals interested in artificial intelligence and online learning.\"\n",
      "}\n",
      "{\n",
      "  \"Reviewer\": \"SEO Specialist\",\n",
      "  \"Review\": \"The content effectively introduces DeepLearning.AI, mentioning key aspects like courses on deep learning and neural networks, the founder Andrew Ng, and the opportunities for learners to upskill and advance their careers. Incorporating relevant keywords strategically within the content can further enhance its SEO performance. Including internal links to related content can help improve overall search visibility. Overall, the content is informative and engaging for individuals interested in artificial intelligence and online learning.\"\n",
      "}\n",
      "{'reviewer': 'Ethics Reviewer', 'review': '- The content effectively introduces DeepLearning.AI and provides valuable information about the courses and opportunities available.\\n- Make sure the claims regarding career advancement and upskilling are backed up by reliable sources or data to avoid any misleading information.\\n- Ensure that there is transparency about the costs associated with participating in DeepLearning.AI courses to prevent any potential financial conflicts of interest.'}\n"
     ]
    },
    {
     "name": "stdout",
     "output_type": "stream",
     "text": [
      "\n",
      "--------------------------------------------------------------------------------\n",
      "\u001b[33mMeta Reviewer\u001b[0m (to Critic):\n",
      "\n",
      "Aggregated feedback from all reviewers:\n",
      "\n",
      "1. The content effectively introduces DeepLearning.AI, mentioning key aspects like courses on deep learning and neural networks, the founder Andrew Ng, and the opportunities for learners to upskill and advance their careers.\n",
      "2. Incorporating relevant keywords strategically within the content can further enhance its SEO performance.\n",
      "3. Including internal links to related content can help improve overall search visibility.\n",
      "4. Ensure that claims regarding career advancement and upskilling are backed up by reliable sources or data to avoid misleading information.\n",
      "5. Ensure transparency about the costs associated with participating in DeepLearning.AI courses to prevent potential financial conflicts of interest.\n",
      "\n",
      "Final Suggestions:\n",
      "- Consider integrating more keywords related to AI and online learning for better SEO performance.\n",
      "- Provide verifiable sources or data to support claims about career advancement and upskilling opportunities.\n",
      "- Clearly disclose the costs associated with DeepLearning.AI courses to maintain transparency and trust with the audience.\n",
      "\n",
      "Overall, the content is informative and engaging for individuals interested in artificial intelligence and online learning, but enhancing these aspects can further improve its quality and credibility.\n",
      "\n",
      "--------------------------------------------------------------------------------\n",
      "\u001b[33mCritic\u001b[0m (to Writer):\n",
      "\n",
      "Aggregated feedback from all reviewers:\n",
      "\n",
      "1. The content effectively introduces DeepLearning.AI, mentioning key aspects like courses on deep learning and neural networks, the founder Andrew Ng, and the opportunities for learners to upskill and advance their careers.\n",
      "2. Incorporating relevant keywords strategically within the content can further enhance its SEO performance.\n",
      "3. Including internal links to related content can help improve overall search visibility.\n",
      "4. Ensure that claims regarding career advancement and upskilling are backed up by reliable sources or data to avoid misleading information.\n",
      "5. Ensure transparency about the costs associated with participating in DeepLearning.AI courses to prevent potential financial conflicts of interest.\n",
      "\n",
      "Final Suggestions:\n",
      "- Consider integrating more keywords related to AI and online learning for better SEO performance.\n",
      "- Provide verifiable sources or data to support claims about career advancement and upskilling opportunities.\n",
      "- Clearly disclose the costs associated with DeepLearning.AI courses to maintain transparency and trust with the audience.\n",
      "\n",
      "Overall, the content is informative and engaging for individuals interested in artificial intelligence and online learning, but enhancing these aspects can further improve its quality and credibility.\n",
      "\n",
      "--------------------------------------------------------------------------------\n",
      "\u001b[33mWriter\u001b[0m (to Critic):\n",
      "\n",
      "Title: Unveiling the Power of DeepLearning.AI\n",
      "\n",
      "Embark on a transformative journey into artificial intelligence with DeepLearning.AI, a leading platform founded by AI luminary Andrew Ng. Access cutting-edge courses on deep learning and neural networks designed for learners at all levels. Through practical projects and expert guidance, you can hone your AI skills and propel your career forward. Join a global community of AI enthusiasts and unlock endless possibilities with DeepLearning.AI. Begin your path to AI mastery today! Find out more about DeepLearning.AI's courses and opportunities for career growth while exploring the exciting realm of artificial intelligence.\n",
      "\n",
      "--------------------------------------------------------------------------------\n"
     ]
    }
   ],
   "source": [
    "res = critic.initiate_chat(\n",
    "    recipient=writer,\n",
    "    message=task,\n",
    "    max_turns=2,\n",
    "    summary_method=\"last_msg\"\n",
    ")"
   ]
  },
  {
   "cell_type": "markdown",
   "id": "c5c833b0",
   "metadata": {},
   "source": [
    "## Get the summary"
   ]
  },
  {
   "cell_type": "code",
   "execution_count": 16,
   "id": "68ef82ed-f102-4964-b7be-60e2f258a39b",
   "metadata": {
    "height": 30
   },
   "outputs": [
    {
     "name": "stdout",
     "output_type": "stream",
     "text": [
      "Title: Unveiling the Power of DeepLearning.AI\n",
      "\n",
      "Embark on a transformative journey into artificial intelligence with DeepLearning.AI, a leading platform founded by AI luminary Andrew Ng. Access cutting-edge courses on deep learning and neural networks designed for learners at all levels. Through practical projects and expert guidance, you can hone your AI skills and propel your career forward. Join a global community of AI enthusiasts and unlock endless possibilities with DeepLearning.AI. Begin your path to AI mastery today! Find out more about DeepLearning.AI's courses and opportunities for career growth while exploring the exciting realm of artificial intelligence.\n"
     ]
    }
   ],
   "source": [
    "print(res.summary)"
   ]
  },
  {
   "cell_type": "code",
   "execution_count": null,
   "id": "197592af",
   "metadata": {
    "height": 30
   },
   "outputs": [],
   "source": []
  },
  {
   "cell_type": "code",
   "execution_count": 17,
   "id": "53d169ff",
   "metadata": {
    "height": 30
   },
   "outputs": [
    {
     "name": "stdout",
     "output_type": "stream",
     "text": [
      "{'usage_including_cached_inference': {'total_cost': 0.0016135000000000004, 'gpt-3.5-turbo-0125': {'cost': 0.0016135000000000004, 'prompt_tokens': 1175, 'completion_tokens': 684, 'total_tokens': 1859}}, 'usage_excluding_cached_inference': {'total_cost': 0.0011905000000000002, 'gpt-3.5-turbo-0125': {'cost': 0.0011905000000000002, 'prompt_tokens': 1001, 'completion_tokens': 460, 'total_tokens': 1461}}}\n"
     ]
    }
   ],
   "source": [
    "print(res.cost)"
   ]
  }
 ],
 "metadata": {
  "kernelspec": {
   "display_name": "Python 3 (ipykernel)",
   "language": "python",
   "name": "python3"
  },
  "language_info": {
   "codemirror_mode": {
    "name": "ipython",
    "version": 3
   },
   "file_extension": ".py",
   "mimetype": "text/x-python",
   "name": "python",
   "nbconvert_exporter": "python",
   "pygments_lexer": "ipython3",
   "version": "3.11.9"
  }
 },
 "nbformat": 4,
 "nbformat_minor": 5
}
